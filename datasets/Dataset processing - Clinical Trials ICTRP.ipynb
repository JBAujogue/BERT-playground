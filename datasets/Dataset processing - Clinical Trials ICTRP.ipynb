{
 "cells": [
  {
   "cell_type": "markdown",
   "metadata": {},
   "source": [
    "<div style=\"font-variant: small-caps; \n",
    "      font-weight: normal; \n",
    "      font-size: 35px; \n",
    "      text-align: center; \n",
    "      padding: 15px; \n",
    "      margin: 10px;\">\n",
    "      Dataset processing\n",
    "  </div> \n",
    "  \n",
    "<div style=\"\n",
    "      font-weight: normal; \n",
    "      font-size: 25px; \n",
    "      text-align: center; \n",
    "      padding: 15px; \n",
    "      margin: 10px;\">\n",
    "      Clinical trials ICTRP\n",
    "  </div>\n",
    "\n",
    "\n",
    "  <div style=\" float:left; \n",
    "      font-size: 12px; \n",
    "      line-height: 12px; \n",
    "  padding: 10px 15px 8px;\">\n",
    "  Jean-baptiste AUJOGUE -  Hybrid Intelligence\n",
    "  </div> \n",
    "  \n",
    "  <div style=\" float:right; \n",
    "      font-size: 12px; \n",
    "      line-height: 12px; \n",
    "  padding: 10px 15px 8px;\">\n",
    "  December 2022\n",
    "  </div>"
   ]
  },
  {
   "cell_type": "markdown",
   "metadata": {},
   "source": [
    "<a id=\"TOC\"></a>"
   ]
  },
  {
   "cell_type": "markdown",
   "metadata": {},
   "source": [
    "#### Table Of Content\n",
    "\n",
    "1. [Clinical trials](#texts) <br>\n",
    "\n",
    "\n",
    "#### Useful links\n",
    "\n",
    "- [Clinical Trials ICTRP dataset download](https://www.who.int/clinical-trials-registry-platform)"
   ]
  },
  {
   "cell_type": "code",
   "execution_count": 1,
   "metadata": {},
   "outputs": [],
   "source": [
    "%load_ext autoreload\n",
    "%autoreload 2"
   ]
  },
  {
   "cell_type": "code",
   "execution_count": 2,
   "metadata": {},
   "outputs": [],
   "source": [
    "import os\n",
    "import re\n",
    "import copy\n",
    "import json\n",
    "import zipfile\n",
    "\n",
    "# data\n",
    "import pandas as pd\n",
    "\n",
    "# viz\n",
    "# from tqdm import tnrange"
   ]
  },
  {
   "cell_type": "markdown",
   "metadata": {},
   "source": [
    "#### Custom variables"
   ]
  },
  {
   "cell_type": "code",
   "execution_count": 3,
   "metadata": {},
   "outputs": [
    {
     "data": {
      "text/plain": [
       "'C:\\\\Users\\\\jb\\\\Desktop\\\\NLP\\\\Internal - Transformers for NLP\\\\datasets'"
      ]
     },
     "execution_count": 3,
     "metadata": {},
     "output_type": "execute_result"
    }
   ],
   "source": [
    "path_to_data = os.path.join(os.getcwd(), 'clinical trials ICTRP')\n",
    "path_to_data"
   ]
  },
  {
   "cell_type": "code",
   "execution_count": null,
   "metadata": {},
   "outputs": [],
   "source": [
    "base_dataset_name  = 'ICTRPFullExport-774632-24-03-2022.zip'\n",
    "final_dataset_name = 'clinical-trials-ictrp.tsv'"
   ]
  },
  {
   "cell_type": "markdown",
   "metadata": {},
   "source": [
    "<a id=\"texts\"></a>"
   ]
  },
  {
   "cell_type": "markdown",
   "metadata": {},
   "source": [
    "# 1. Clinical trials\n",
    "\n",
    "[Table of content](#TOC)"
   ]
  },
  {
   "cell_type": "code",
   "execution_count": 42,
   "metadata": {},
   "outputs": [],
   "source": [
    "def clean_text(s):\n",
    "    s = (s if s else '')\n",
    "    s = re.sub('<br>', '\\n', s)\n",
    "    s = re.sub('\\n\\n(\\s)*-(\\s)+', ', ', s)\n",
    "    s = re.sub('(\\s)+', ' ', s)\n",
    "    s = (s[1: -1] if len(s.split(' '))>1 else s)\n",
    "    s = s.strip()\n",
    "    return s\n",
    "\n",
    "\n",
    "\n",
    "def process_zipfile(zip_file):\n",
    "    all_content = []\n",
    "    archive = zipfile.ZipFile(zip_file, 'r')\n",
    "    file = archive.namelist()[0]\n",
    "    with archive.open(file, 'r') as f:\n",
    "        return pd.read_csv(f)\n",
    "    \n",
    "\n",
    "    \n",
    "def clean_dataframe(df):\n",
    "    columns = [\n",
    "        'public_title', 'Scientific_title',\n",
    "        'Inclusion_Criteria', 'Exclusion_Criteria',\n",
    "           'Primary_Outcome', 'Secondary_Outcomes',\n",
    "    ]\n",
    "    df = df[columns].fillna('').applymap(clean_text)\n",
    "    df['Inclusion_Criteria'] = df.Inclusion_Criteria.apply(lambda s: re.sub('Inclusion Criteria(\\s)*:(\\s|,)*', '', s).strip())\n",
    "    df['Exclusion_Criteria'] = df.Exclusion_Criteria.apply(lambda s: re.sub('Exclusion Criteria(\\s)*:(\\s|,)*', '', s).strip())\n",
    "    return df"
   ]
  },
  {
   "cell_type": "code",
   "execution_count": 6,
   "metadata": {},
   "outputs": [
    {
     "name": "stderr",
     "output_type": "stream",
     "text": [
      "C:\\Users\\jb\\AppData\\Local\\Temp\\ipykernel_26060\\2897665713.py:40: DtypeWarning: Columns (41,43,45,47,48,49,50,51,52,55,57,58,59,60,61,62) have mixed types. Specify dtype option on import or set low_memory=False.\n",
      "  return pd.read_csv(f)\n"
     ]
    }
   ],
   "source": [
    "df = process_zipfile(os.path.join(path_to_data, base_dataset_name))"
   ]
  },
  {
   "cell_type": "code",
   "execution_count": 7,
   "metadata": {},
   "outputs": [
    {
     "data": {
      "text/plain": [
       "(774632, 63)"
      ]
     },
     "execution_count": 7,
     "metadata": {},
     "output_type": "execute_result"
    }
   ],
   "source": [
    "df.shape"
   ]
  },
  {
   "cell_type": "code",
   "execution_count": 8,
   "metadata": {},
   "outputs": [
    {
     "data": {
      "text/plain": [
       "Index(['TrialID', '(No column name)', 'SecondaryIDs', 'public_title',\n",
       "       'Scientific_title', 'url', 'Public_Contact_Firstname',\n",
       "       'Public_Contact_Lastname', 'Public_Contact_Address',\n",
       "       'Public_Contact_Email', 'Public_Contact_Tel',\n",
       "       'Public_Contact_Affiliation', 'Scientific_Contact_Firstname',\n",
       "       'Scientific_Contact_Lastname', 'Scientific_Contact_Address',\n",
       "       'Scientific_Contact_Email', 'Scientific_Contact_Tel',\n",
       "       'Scientific_Contact_Affiliation', 'study_type', 'study_design', 'phase',\n",
       "       'Date_registration', 'Date_enrollement', 'Target_size',\n",
       "       'Recruitment_status', 'Primary_sponsor', 'Secondary_sponsors',\n",
       "       'Source_Support', 'Countries', 'Conditions', 'Interventions', 'Age_min',\n",
       "       'Age_max', 'Gender', 'Inclusion_Criteria', 'Exclusion_Criteria',\n",
       "       'Primary_Outcome', 'Secondary_Outcomes', 'Bridging_flag',\n",
       "       'Bridged_type', 'Childs', 'type_enrolment', 'Retrospective_flag',\n",
       "       'results_actual_enrollment', 'results_url_link', 'results_summary',\n",
       "       'results_date_posted', 'results_date_first_publication',\n",
       "       'results_baseline_char', 'results_participant_flow',\n",
       "       'results_adverse_events', 'results_outcome_measures',\n",
       "       'results_url_protocol', 'results_IPD_plan', 'results_IPD_description',\n",
       "       'results_date_completed', 'results_yes_no', 'Ethics_Status',\n",
       "       'Ethics_Approval_Date', 'Ethics_Contact_Name', 'Ethics_Contact_Address',\n",
       "       'Ethics_Contact_Phone', 'Ethics_Contact_Email'],\n",
       "      dtype='object')"
      ]
     },
     "execution_count": 8,
     "metadata": {},
     "output_type": "execute_result"
    }
   ],
   "source": [
    "df.columns"
   ]
  },
  {
   "cell_type": "code",
   "execution_count": 35,
   "metadata": {},
   "outputs": [],
   "source": [
    "df = clean_dataframe(df)"
   ]
  },
  {
   "cell_type": "code",
   "execution_count": 50,
   "metadata": {},
   "outputs": [
    {
     "data": {
      "text/html": [
       "<div>\n",
       "<style scoped>\n",
       "    .dataframe tbody tr th:only-of-type {\n",
       "        vertical-align: middle;\n",
       "    }\n",
       "\n",
       "    .dataframe tbody tr th {\n",
       "        vertical-align: top;\n",
       "    }\n",
       "\n",
       "    .dataframe thead th {\n",
       "        text-align: right;\n",
       "    }\n",
       "</style>\n",
       "<table border=\"1\" class=\"dataframe\">\n",
       "  <thead>\n",
       "    <tr style=\"text-align: right;\">\n",
       "      <th></th>\n",
       "      <th>TrialID</th>\n",
       "      <th>public_title</th>\n",
       "      <th>Scientific_title</th>\n",
       "      <th>Inclusion_Criteria</th>\n",
       "      <th>Exclusion_Criteria</th>\n",
       "      <th>Primary_Outcome</th>\n",
       "      <th>Secondary_Outcomes</th>\n",
       "    </tr>\n",
       "  </thead>\n",
       "  <tbody>\n",
       "    <tr>\n",
       "      <th>0</th>\n",
       "      <td>T0504072</td>\n",
       "      <td>valuation of the Impact of the Administration ...</td>\n",
       "      <td>valuation of the Impact of the Administration ...</td>\n",
       "      <td>patient = 18 years old,, symptomatic COVID-19 ...</td>\n",
       "      <td></td>\n",
       "      <td>egativation of the RT-PCR test on nasopharynge...</td>\n",
       "      <td></td>\n",
       "    </tr>\n",
       "    <tr>\n",
       "      <th>1</th>\n",
       "      <td>T0504075</td>\n",
       "      <td>orrelation Between Cardiac Markers and Severit...</td>\n",
       "      <td>orrelation Between Cardiac Markers and Severit...</td>\n",
       "      <td>all moderate to severe COVID 19 patients who w...</td>\n",
       "      <td></td>\n",
       "      <td>elation between cardiac markers and mortality ...</td>\n",
       "      <td>elation ship between cardiac and inflammatory ...</td>\n",
       "    </tr>\n",
       "    <tr>\n",
       "      <th>2</th>\n",
       "      <td>T0504219</td>\n",
       "      <td>Prospective Virtual Study to Evaluate the Long...</td>\n",
       "      <td>Prospective Cohort Study of Immunoglobulin G (...</td>\n",
       "      <td>Age = 18 years, Willing to provide informed co...</td>\n",
       "      <td></td>\n",
       "      <td>o describe the longevity and seroprevalence of...</td>\n",
       "      <td>o compare the off-kinetics of IgG positivity a...</td>\n",
       "    </tr>\n",
       "    <tr>\n",
       "      <th>3</th>\n",
       "      <td>T0504223</td>\n",
       "      <td>Prospective Virtual Study of Patient Reported ...</td>\n",
       "      <td>ssessing Behavioral, Functional, and Clinical ...</td>\n",
       "      <td>Age &gt;=18 years, Individuals with a valid diagn...</td>\n",
       "      <td></td>\n",
       "      <td>o identify and describe patient behaviors and ...</td>\n",
       "      <td>o describe recovery in patients with test-conf...</td>\n",
       "    </tr>\n",
       "    <tr>\n",
       "      <th>4</th>\n",
       "      <td>T0504454</td>\n",
       "      <td>Behavioral Activation Prenatal and Postpartum ...</td>\n",
       "      <td>ilot Study to Evaluate a Behavioral Activation...</td>\n",
       "      <td>INCLUSION CRITERIA FOR AIMS 1, 3 AND 4, Pregna...</td>\n",
       "      <td></td>\n",
       "      <td>ocus group</td>\n",
       "      <td></td>\n",
       "    </tr>\n",
       "  </tbody>\n",
       "</table>\n",
       "</div>"
      ],
      "text/plain": [
       "    TrialID                                       public_title  \\\n",
       "0  T0504072  valuation of the Impact of the Administration ...   \n",
       "1  T0504075  orrelation Between Cardiac Markers and Severit...   \n",
       "2  T0504219  Prospective Virtual Study to Evaluate the Long...   \n",
       "3  T0504223  Prospective Virtual Study of Patient Reported ...   \n",
       "4  T0504454  Behavioral Activation Prenatal and Postpartum ...   \n",
       "\n",
       "                                    Scientific_title  \\\n",
       "0  valuation of the Impact of the Administration ...   \n",
       "1  orrelation Between Cardiac Markers and Severit...   \n",
       "2  Prospective Cohort Study of Immunoglobulin G (...   \n",
       "3  ssessing Behavioral, Functional, and Clinical ...   \n",
       "4  ilot Study to Evaluate a Behavioral Activation...   \n",
       "\n",
       "                                  Inclusion_Criteria Exclusion_Criteria  \\\n",
       "0  patient = 18 years old,, symptomatic COVID-19 ...                      \n",
       "1  all moderate to severe COVID 19 patients who w...                      \n",
       "2  Age = 18 years, Willing to provide informed co...                      \n",
       "3  Age >=18 years, Individuals with a valid diagn...                      \n",
       "4  INCLUSION CRITERIA FOR AIMS 1, 3 AND 4, Pregna...                      \n",
       "\n",
       "                                     Primary_Outcome  \\\n",
       "0  egativation of the RT-PCR test on nasopharynge...   \n",
       "1  elation between cardiac markers and mortality ...   \n",
       "2  o describe the longevity and seroprevalence of...   \n",
       "3  o identify and describe patient behaviors and ...   \n",
       "4                                         ocus group   \n",
       "\n",
       "                                  Secondary_Outcomes  \n",
       "0                                                     \n",
       "1  elation ship between cardiac and inflammatory ...  \n",
       "2  o compare the off-kinetics of IgG positivity a...  \n",
       "3  o describe recovery in patients with test-conf...  \n",
       "4                                                     "
      ]
     },
     "execution_count": 50,
     "metadata": {},
     "output_type": "execute_result"
    }
   ],
   "source": [
    "df.head()"
   ]
  },
  {
   "cell_type": "code",
   "execution_count": 57,
   "metadata": {},
   "outputs": [],
   "source": [
    "df.to_csv(os.path.join(path_to_data, final_dataset_name), sep = \"\\t\", index = False)"
   ]
  },
  {
   "cell_type": "markdown",
   "metadata": {},
   "source": [
    "[Table of content](#TOC)"
   ]
  }
 ],
 "metadata": {
  "kernelspec": {
   "display_name": "Python 3 (ipykernel)",
   "language": "python",
   "name": "python3"
  },
  "language_info": {
   "codemirror_mode": {
    "name": "ipython",
    "version": 3
   },
   "file_extension": ".py",
   "mimetype": "text/x-python",
   "name": "python",
   "nbconvert_exporter": "python",
   "pygments_lexer": "ipython3",
   "version": "3.8.13"
  }
 },
 "nbformat": 4,
 "nbformat_minor": 2
}
