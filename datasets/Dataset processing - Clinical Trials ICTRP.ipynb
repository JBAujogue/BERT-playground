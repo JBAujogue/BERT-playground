{
 "cells": [
  {
   "cell_type": "markdown",
   "metadata": {},
   "source": [
    "<div style=\"font-variant: small-caps; \n",
    "      font-weight: normal; \n",
    "      font-size: 35px; \n",
    "      text-align: center; \n",
    "      padding: 15px; \n",
    "      margin: 10px;\">\n",
    "      Dataset processing\n",
    "  </div> \n",
    "  \n",
    "<div style=\"\n",
    "      font-weight: normal; \n",
    "      font-size: 25px; \n",
    "      text-align: center; \n",
    "      padding: 15px; \n",
    "      margin: 10px;\">\n",
    "      Clinical trials ICTRP\n",
    "  </div>\n",
    "\n",
    "\n",
    "  <div style=\" float:left; \n",
    "      font-size: 12px; \n",
    "      line-height: 12px; \n",
    "  padding: 10px 15px 8px;\">\n",
    "  Jean-baptiste AUJOGUE -  Hybrid Intelligence\n",
    "  </div> \n",
    "  \n",
    "  <div style=\" float:right; \n",
    "      font-size: 12px; \n",
    "      line-height: 12px; \n",
    "  padding: 10px 15px 8px;\">\n",
    "  December 2022\n",
    "  </div>"
   ]
  },
  {
   "cell_type": "markdown",
   "metadata": {},
   "source": [
    "<a id=\"TOC\"></a>"
   ]
  },
  {
   "cell_type": "markdown",
   "metadata": {},
   "source": [
    "#### Table Of Content\n",
    "\n",
    "1. [Clinical trials](#texts) <br>\n",
    "\n",
    "\n",
    "#### Useful links\n",
    "\n",
    "- [Clinical Trials ICTRP dataset download](https://www.who.int/clinical-trials-registry-platform)"
   ]
  },
  {
   "cell_type": "code",
   "execution_count": 1,
   "metadata": {},
   "outputs": [],
   "source": [
    "%load_ext autoreload\n",
    "%autoreload 2"
   ]
  },
  {
   "cell_type": "code",
   "execution_count": 2,
   "metadata": {},
   "outputs": [],
   "source": [
    "import os\n",
    "import re\n",
    "import copy\n",
    "import json\n",
    "import zipfile\n",
    "\n",
    "# data\n",
    "import numpy as np\n",
    "import pandas as pd\n",
    "\n",
    "# viz\n",
    "# from tqdm import tnrange"
   ]
  },
  {
   "cell_type": "markdown",
   "metadata": {},
   "source": [
    "#### Custom variables"
   ]
  },
  {
   "cell_type": "code",
   "execution_count": 3,
   "metadata": {},
   "outputs": [
    {
     "data": {
      "text/plain": [
       "'C:\\\\Users\\\\jb\\\\Desktop\\\\NLP\\\\perso - Transformers for NLP\\\\datasets\\\\clinical trials ICTRP'"
      ]
     },
     "execution_count": 3,
     "metadata": {},
     "output_type": "execute_result"
    }
   ],
   "source": [
    "path_to_data = os.path.join(os.getcwd(), 'clinical trials ICTRP')\n",
    "path_to_data"
   ]
  },
  {
   "cell_type": "code",
   "execution_count": 4,
   "metadata": {},
   "outputs": [],
   "source": [
    "base_dataset_name  = 'ICTRPFullExport-774632-24-03-2022.zip'\n",
    "final_dataset_name = 'clinical-trials-ictrp'"
   ]
  },
  {
   "cell_type": "markdown",
   "metadata": {},
   "source": [
    "<a id=\"texts\"></a>"
   ]
  },
  {
   "cell_type": "markdown",
   "metadata": {},
   "source": [
    "# 1. Clinical trials\n",
    "\n",
    "[Table of content](#TOC)"
   ]
  },
  {
   "cell_type": "code",
   "execution_count": 5,
   "metadata": {},
   "outputs": [],
   "source": [
    "def clean_text(s):\n",
    "    s = (s if s else '')\n",
    "    s = re.sub('<br>', '\\n', s)\n",
    "    s = re.sub('\\n\\n(\\s)*-(\\s)+', ', ', s)\n",
    "    s = re.sub('(\\s)+', ' ', s)\n",
    "    s = (s[1: -1] if len(s.split(' '))>1 else s)\n",
    "    s = s.strip()\n",
    "    return s\n",
    "\n",
    "\n",
    "\n",
    "def process_zipfile(zip_file):\n",
    "    all_content = []\n",
    "    archive = zipfile.ZipFile(zip_file, 'r')\n",
    "    file = archive.namelist()[0]\n",
    "    with archive.open(file, 'r') as f:\n",
    "        return pd.read_csv(f)\n",
    "    \n",
    "\n",
    "    \n",
    "def clean_dataframe(df):\n",
    "    columns = [\n",
    "        'public_title', 'Scientific_title',\n",
    "        'Inclusion_Criteria', 'Exclusion_Criteria',\n",
    "        'Primary_Outcome', 'Secondary_Outcomes',\n",
    "        'results_summary',\n",
    "        \n",
    "    ]\n",
    "    df = df[columns].fillna('').applymap(clean_text)\n",
    "    df['Inclusion_Criteria'] = df.Inclusion_Criteria.apply(lambda s: re.sub('Inclusion [Cc]riteria(\\s)*:(\\s|,)*', '', s).strip())\n",
    "    df['Exclusion_Criteria'] = df.Exclusion_Criteria.apply(lambda s: re.sub('Exclusion [Cc]riteria(\\s)*:(\\s|,)*', '', s).strip())\n",
    "    return df\n",
    "\n",
    "\n",
    "\n",
    "def get_character_count(texts):\n",
    "    text = ' '.join(texts)\n",
    "    return np.unique(list(text), return_counts = True)"
   ]
  },
  {
   "cell_type": "code",
   "execution_count": 18,
   "metadata": {},
   "outputs": [
    {
     "name": "stderr",
     "output_type": "stream",
     "text": [
      "C:\\Users\\jb\\AppData\\Local\\Temp\\ipykernel_8516\\4137710174.py:17: DtypeWarning: Columns (41,43,45,47,48,49,50,51,52,55,57,58,59,60,61,62) have mixed types. Specify dtype option on import or set low_memory=False.\n",
      "  return pd.read_csv(f)\n"
     ]
    }
   ],
   "source": [
    "df_trials = process_zipfile(os.path.join(path_to_data, base_dataset_name))"
   ]
  },
  {
   "cell_type": "code",
   "execution_count": 19,
   "metadata": {},
   "outputs": [
    {
     "data": {
      "text/plain": [
       "(774632, 63)"
      ]
     },
     "execution_count": 19,
     "metadata": {},
     "output_type": "execute_result"
    }
   ],
   "source": [
    "df_trials.shape"
   ]
  },
  {
   "cell_type": "code",
   "execution_count": 20,
   "metadata": {},
   "outputs": [
    {
     "data": {
      "text/plain": [
       "Index(['TrialID', '(No column name)', 'SecondaryIDs', 'public_title',\n",
       "       'Scientific_title', 'url', 'Public_Contact_Firstname',\n",
       "       'Public_Contact_Lastname', 'Public_Contact_Address',\n",
       "       'Public_Contact_Email', 'Public_Contact_Tel',\n",
       "       'Public_Contact_Affiliation', 'Scientific_Contact_Firstname',\n",
       "       'Scientific_Contact_Lastname', 'Scientific_Contact_Address',\n",
       "       'Scientific_Contact_Email', 'Scientific_Contact_Tel',\n",
       "       'Scientific_Contact_Affiliation', 'study_type', 'study_design', 'phase',\n",
       "       'Date_registration', 'Date_enrollement', 'Target_size',\n",
       "       'Recruitment_status', 'Primary_sponsor', 'Secondary_sponsors',\n",
       "       'Source_Support', 'Countries', 'Conditions', 'Interventions', 'Age_min',\n",
       "       'Age_max', 'Gender', 'Inclusion_Criteria', 'Exclusion_Criteria',\n",
       "       'Primary_Outcome', 'Secondary_Outcomes', 'Bridging_flag',\n",
       "       'Bridged_type', 'Childs', 'type_enrolment', 'Retrospective_flag',\n",
       "       'results_actual_enrollment', 'results_url_link', 'results_summary',\n",
       "       'results_date_posted', 'results_date_first_publication',\n",
       "       'results_baseline_char', 'results_participant_flow',\n",
       "       'results_adverse_events', 'results_outcome_measures',\n",
       "       'results_url_protocol', 'results_IPD_plan', 'results_IPD_description',\n",
       "       'results_date_completed', 'results_yes_no', 'Ethics_Status',\n",
       "       'Ethics_Approval_Date', 'Ethics_Contact_Name', 'Ethics_Contact_Address',\n",
       "       'Ethics_Contact_Phone', 'Ethics_Contact_Email'],\n",
       "      dtype='object')"
      ]
     },
     "execution_count": 20,
     "metadata": {},
     "output_type": "execute_result"
    }
   ],
   "source": [
    "df_trials.columns"
   ]
  },
  {
   "cell_type": "code",
   "execution_count": 21,
   "metadata": {},
   "outputs": [],
   "source": [
    "df_trials = clean_dataframe(df_trials)"
   ]
  },
  {
   "cell_type": "code",
   "execution_count": 22,
   "metadata": {},
   "outputs": [
    {
     "data": {
      "text/html": [
       "<div>\n",
       "<style scoped>\n",
       "    .dataframe tbody tr th:only-of-type {\n",
       "        vertical-align: middle;\n",
       "    }\n",
       "\n",
       "    .dataframe tbody tr th {\n",
       "        vertical-align: top;\n",
       "    }\n",
       "\n",
       "    .dataframe thead th {\n",
       "        text-align: right;\n",
       "    }\n",
       "</style>\n",
       "<table border=\"1\" class=\"dataframe\">\n",
       "  <thead>\n",
       "    <tr style=\"text-align: right;\">\n",
       "      <th></th>\n",
       "      <th>public_title</th>\n",
       "      <th>Scientific_title</th>\n",
       "      <th>Inclusion_Criteria</th>\n",
       "      <th>Exclusion_Criteria</th>\n",
       "      <th>Primary_Outcome</th>\n",
       "      <th>Secondary_Outcomes</th>\n",
       "      <th>results_summary</th>\n",
       "    </tr>\n",
       "  </thead>\n",
       "  <tbody>\n",
       "    <tr>\n",
       "      <th>0</th>\n",
       "      <td>Evaluation of the Impact of the Administration...</td>\n",
       "      <td>Evaluation of the Impact of the Administration...</td>\n",
       "      <td>patient = 18 years old,, symptomatic COVID-19 ...</td>\n",
       "      <td></td>\n",
       "      <td>negativation of the RT-PCR test on nasopharyng...</td>\n",
       "      <td></td>\n",
       "      <td></td>\n",
       "    </tr>\n",
       "    <tr>\n",
       "      <th>1</th>\n",
       "      <td>Correlation Between Cardiac Markers and Severi...</td>\n",
       "      <td>Correlation Between Cardiac Markers and Severi...</td>\n",
       "      <td>all moderate to severe COVID 19 patients who w...</td>\n",
       "      <td></td>\n",
       "      <td>relation between cardiac markers and mortality...</td>\n",
       "      <td>relation ship between cardiac and inflammatory...</td>\n",
       "      <td></td>\n",
       "    </tr>\n",
       "    <tr>\n",
       "      <th>2</th>\n",
       "      <td>A Prospective Virtual Study to Evaluate the Lo...</td>\n",
       "      <td>A Prospective Cohort Study of Immunoglobulin G...</td>\n",
       "      <td>Age = 18 years, Willing to provide informed co...</td>\n",
       "      <td></td>\n",
       "      <td>To describe the longevity and seroprevalence o...</td>\n",
       "      <td>To compare the off-kinetics of IgG positivity ...</td>\n",
       "      <td></td>\n",
       "    </tr>\n",
       "    <tr>\n",
       "      <th>3</th>\n",
       "      <td>A Prospective Virtual Study of Patient Reporte...</td>\n",
       "      <td>Assessing Behavioral, Functional, and Clinical...</td>\n",
       "      <td>Age &gt;=18 years, Individuals with a valid diagn...</td>\n",
       "      <td></td>\n",
       "      <td>To identify and describe patient behaviors and...</td>\n",
       "      <td>To describe recovery in patients with test-con...</td>\n",
       "      <td></td>\n",
       "    </tr>\n",
       "    <tr>\n",
       "      <th>4</th>\n",
       "      <td>A Behavioral Activation Prenatal and Postpartu...</td>\n",
       "      <td>Pilot Study to Evaluate a Behavioral Activatio...</td>\n",
       "      <td>INCLUSION CRITERIA FOR AIMS 1, 3 AND 4, Pregna...</td>\n",
       "      <td></td>\n",
       "      <td>Focus group</td>\n",
       "      <td></td>\n",
       "      <td></td>\n",
       "    </tr>\n",
       "  </tbody>\n",
       "</table>\n",
       "</div>"
      ],
      "text/plain": [
       "                                        public_title  \\\n",
       "0  Evaluation of the Impact of the Administration...   \n",
       "1  Correlation Between Cardiac Markers and Severi...   \n",
       "2  A Prospective Virtual Study to Evaluate the Lo...   \n",
       "3  A Prospective Virtual Study of Patient Reporte...   \n",
       "4  A Behavioral Activation Prenatal and Postpartu...   \n",
       "\n",
       "                                    Scientific_title  \\\n",
       "0  Evaluation of the Impact of the Administration...   \n",
       "1  Correlation Between Cardiac Markers and Severi...   \n",
       "2  A Prospective Cohort Study of Immunoglobulin G...   \n",
       "3  Assessing Behavioral, Functional, and Clinical...   \n",
       "4  Pilot Study to Evaluate a Behavioral Activatio...   \n",
       "\n",
       "                                  Inclusion_Criteria Exclusion_Criteria  \\\n",
       "0  patient = 18 years old,, symptomatic COVID-19 ...                      \n",
       "1  all moderate to severe COVID 19 patients who w...                      \n",
       "2  Age = 18 years, Willing to provide informed co...                      \n",
       "3  Age >=18 years, Individuals with a valid diagn...                      \n",
       "4  INCLUSION CRITERIA FOR AIMS 1, 3 AND 4, Pregna...                      \n",
       "\n",
       "                                     Primary_Outcome  \\\n",
       "0  negativation of the RT-PCR test on nasopharyng...   \n",
       "1  relation between cardiac markers and mortality...   \n",
       "2  To describe the longevity and seroprevalence o...   \n",
       "3  To identify and describe patient behaviors and...   \n",
       "4                                        Focus group   \n",
       "\n",
       "                                  Secondary_Outcomes results_summary  \n",
       "0                                                                     \n",
       "1  relation ship between cardiac and inflammatory...                  \n",
       "2  To compare the off-kinetics of IgG positivity ...                  \n",
       "3  To describe recovery in patients with test-con...                  \n",
       "4                                                                     "
      ]
     },
     "execution_count": 22,
     "metadata": {},
     "output_type": "execute_result"
    }
   ],
   "source": [
    "df_trials.head()"
   ]
  },
  {
   "cell_type": "code",
   "execution_count": 23,
   "metadata": {},
   "outputs": [
    {
     "data": {
      "text/plain": [
       "['Exclusion Criteria 1.Potential participants with comorbidities which would preclude them from participating in the book club for seven weeks will be excluded; this will be assessed by the facility manager or his/her surrogate. 2.Potential participants who score 3 or 4 on any parts of Section D: Communication and vision of the InterRAI Long-Term Care Facility (LTCF) Assessment Form Version 9.1, copyrighted will be excluded from the trial. 3.All potential participants with dementia who are recorded as exhibiting any verbal abuse, physical abuse or socially disruptive behaviour in their InterRAI (Section E.3, parts b, c, or d) will be excluded from the study.',\n",
       " '1. Previous total knee replacement surgery to same knee 2. Bilateral knee replacement surgery 3. previously enrolled in study 4. Chronic opioid use; defined as > 20mg oral morphine equivalent per day on average, in the 4 weeks prior to surgery',\n",
       " 'Under 18 years of age. History of major systemic or ocular disease. History of ocular surgery. Current use of topical or systemic medications known to affect the eye.',\n",
       " '- Current smokers - Schedule to undergo bilateral arthroplasty surgery. - Have a documented history of drug or alcohol addiction, or drug-seeking behaviour. - Have a documented history of any psychiatric condition, including depression.',\n",
       " 'Concurrent medical issues including coeliac disease and gastroparesis, food allergies, intolerances or eating disorders or use of other medication that may influence blood glucose levels, pregnancy or lactation.',\n",
       " \"1.Have been treated with immunosuppressant therapies or chemotherapeutic agents within 3 months of study screening, or expected to receive these agents or systemic steroids during the study (e.g, corticosteroids, immunoglobulins, and other immune- or cytokine-based therapies). 2.Current alcohol or substance use judged by the Investigator to potentially interfere with subject study compliance. 3.A history of or ongoing malignancy (including untreated carcinoma in-situ) other than cutaneous Kaposi's sarcoma (KS), basal cell carcinoma, or resected, non-invasive cutaneous squamous carcinoma. Subjects with biopsy-confirmed cutaneous KS are eligible, but must not have received any systemic therapy for KS within 30 days of Day 1 and are not anticipated to require systemic therapy during the study. 4.Active, serious infections (other than HIV-1 infection) requiring parenteral antibiotic or antifungal therapy within 30 days prior to Day 1. 5.Any other clinical condition or prior therapy that, in the opinion of the Investigator, would make the subject unsuitable for the study or unable to comply with the dosing requirements. 6.Any known allergies to the excipients of BIC/TAF/FTC. 7.Females who are pregnant (as confirmed by positive serum pregnancy test). 8.Females who are breastfeeding. 9. Administration of any Prohibited Medication eg. Dofetilide, Phenobarbital, Phenytoin, Carbamazepine, Oxcarbazepine, Rifabutin, Rifampin, Rifapentine and St. John’s Wort must be discontinues at least 30 days prior to the Day 1 Visit and the duration of the study. 10.Severe hepatic impairment and unstable liver disease.\",\n",
       " '- presence of general danger signs in children aged under 5 years or signs of severe falciparum or vivax malaria according to the definitions of WHO ; - Children less than 7 years old and less than 20 kg body weight - mixed or mono-infection with another Plasmodium species detected by microscopy; - presence of severe malnutrition (defined as a child whose growth standard is below –3 z-score, has symmetrical oedema involving at least the feet or has a mid-upper arm circumference less than 110 mm; - presence of febrile conditions due to diseases other than malaria (e.g. measles, acute lower respiratory tract infection, severe diarrhea with dehydration) or other known underlying chronic or severe diseases (e.g. cardiac, renal and hepatic diseases, HIV/AIDS); - regular medication, which may interfere with antimalarial pharmacokinetics; - history of hypersensitivity reactions or contraindications to any of the medicine(s) being tested or used as alternative treatment(s); - glucose-6-phosphate dehydrogenase deficiency for patient treated with 14-day primaquine - unmarried women 12 to 18 years old; - a positive pregnancy test or breastfeeding; - unable to or unwilling to take a pregnancy test or unwilling to take pregnancy test or contraceptives (for women of child-bearing age).',\n",
       " '-presence of general danger signs in children aged under 12 years or signs of severe falciparum malaria according to the definitions of WHO - female aged from 12 years and age of majority - weight under 5 kg; - haemoglobin less than 8 g per dl -mixed or mono-infection with another Plasmodium species detected by microscopy; - presence of severe malnutrition defined as a child aged between 6to 60 months whose weight-for-high is below –3 z-score - presence of febrile conditions due to diseases other than malaria (e.g. measles, acute lower respiratory tract infection, severe diarrhea with dehydration) or other known underlying chronic or severe diseases (e.g. cardiac, renal and hepatic diseases, HIV/AIDS); - regular medication, which may interfere with antimalarial pharmacokinetics; - history of hypersensitivity reactions or contraindications to any of the medicine(s) being tested or used as alternative treatment(s); - glucose-6-phosphate dehydrogenase deficiency for patient treated with 14 day primaquine; - unmarried women 12 to 18 years old; - a positive pregnancy test or breastfeeding; and - unable to or unwilling to take pregnancy test or to use contraception for women of child-bearing age (defined as age more than 12 years and sexually active).',\n",
       " '•Patients undergoing the third cycle of chemotherapy onwards •patients with diagnosed psychiatric disorders who are on treatment and follow-up •patients with psychotic features •patients with severe communication problems such as speech or hearing difficulties',\n",
       " '•History of epileptic/seizure diagnoses and associated symptoms (characterised colloquially to participants as fits, faints and funny turns”) •Existing structural and/or functional brain diseases •Existing headaches, migraines or eyesore',\n",
       " '1. Term or preterm infants who are exclusively breastfed 2. Preterm infants <34 weeks corrected gestational age 3. Infants who do not demonstrate feeding readiness signs 4. Congenital anomalies affecting aerodigestive anatomy predisposing infants to oropharyngeal aspiration (e.g. choanal atresia, tracheoesophageal fistula, laryngeal cleft, oesophageal atresia, tumour) 5. Congenital anomalies impacting on sucking ability (e.g. cleft palate) 6. Absent swallow reflex or high risk of aspiration 7. Infants on high flow nasal cannula therapy 8. Children under the care of the department of child safety',\n",
       " 'Age >90 years Pre-existing diabetes Estimated glomerular filtration rate (eGFR) < 60ml/min/1.73m2 Hepatic insufficiency (liver function tests >2x upper limit of normal) Active drug or heavy alcohol use Metastatic cancer Pregnancy or breastfeeding Weight less than 50kg Use of hypoglycaemic agents, opioids, corticosteroids Patients unlikely to survive for more than 6 months Patients unavailable for repeated follow up and unlikely of participate in trial requirements, participation in other interventional trials',\n",
       " 'Next-of-kin not contactable at time of death',\n",
       " 'if parental consent in not present ASA III or worst physical status Emergency procedures',\n",
       " 'Participants in both groups will be excluded if they can not Be able to cover 6min walk test without Aaids, Walk 8m test over or equal to 1m per second velocity Have high fall risk determined by quick screen (4 or more fall risk factors), Have cognitve impairment determined by MMSE <24, Terminal disease Unestable medical conditions involving neuromuscular skeletal or cardiovascular system Neurodegenerative disease Absolute or relative contraindicaciones for exercise, Participants enrolled previously in dance activities, or with music involvement (i.e. Aerobic, step,...), also those in the control group that become participats of dance activities during intervention period or follow up.',\n",
       " \"•Individuals who doesn't provide American Society of Anesthesia I and II criteria •Individuals with antibiotic or antiherpetic medication use in the last two months •Devital teeth •Radiographically visible periapical diseases •Teeth with a probing depth of more than 4 mm and periodontal problems •Teeth with pulp exposure due to caries or trauma\",\n",
       " 'Patients discontinued or withheld NOAC treatment, re-switched to warfarin or other anticoagulants at the time of enrolment due to various reasons, and participants not willing to participate in the study or declined to answer the survey were excluded from the study.',\n",
       " 'Smoking, food allergy or intolerance, diagnosed diabetes, taking medications known to influence glucose metabolism',\n",
       " 'Study and control group 1. Age below 40 and above 65 years 2. 30 < BMI <19 3. Identified coexisting diseases such. neurological, cardiac, advanced diabetes, uncontrolled high blood pressure and other diseases that may affect the gait pattern, 3. acute injuries and inflammation within the motor organs, 4. the overall poor health of the test,',\n",
       " 'Autistic Spectrum Disorder, intellectual disability, patients unwilling to address their NSSI, engagement in another group therapy, engagement in another research trial, active psychosis, undergoing changes in medication, parents/caregiver unable to support them to attend therapy, actively suicidal requiring inpatient or residential care.',\n",
       " 'Women with previous pelvic surgeries, body mass index over 30 kg/m2, diabetes, smoking, chronic lung diseases, neurological problems, and urinary tract infection will be excluded from the study.',\n",
       " 'Patients in whom a difficult airway was anticipated (e.g., Mallampati score IV, limited mouth opening, history of difficult intubation), who were at increased risk of regurgitation (gastric reflux, hiatal hernia, body mass index > 40 kg m-2), who had asthma or known allergies to the study’s medications, who were pregnant, or who had a Glasgow Coma Scale (GCS) score of <15 upon neurological examination were excluded from the study.',\n",
       " '1.presence of general danger signs in children aged under 5 years or signs of severe falciparum malaria according to the definitions of WHO; 2.weight under 5 kg; 3.mixed or mono-infection with another Plasmodium species detected by microscopy; 4.Presence of severe malnutrition (who has a Mid Upper Arm Circumference [MUAC] below110 mm); 5.presence of febrile conditions due to diseases other than malaria (e.g. measles, acute lower respiratory tract infection, severe diarrhea with dehydration) or other known underlying chronic or severe diseases (e.g. cardiac, renal and hepatic diseases, HIV/AIDS); 6.regular medication, which may interfere with antimalarial pharmacokinetics; 7.history of hypersensitivity reactions or contraindications to any of the medicine(s) being tested or used as alternative treatment(s);',\n",
       " '- Pregnancy - No cognitive capacity to complete the assessment and the treatment protocol; - EDSS score more than 6.5 - MS relapse during treatment (defined as any change in symptoms according to the EDSS evaluation).',\n",
       " 'Patients with a history of a psychological illness or condition such as to interfere with the patient’s ability to understand the requirements of the study or to consent.',\n",
       " 'Clients will be excluded by MSD if they are known to have significant co-occurring physical health problems or disabilities, have bipolar disorder or schizophrenia, if they are pregnant, or if there is a trespass order against them. Clients who after referral by MSD are assessed by CYMHS as having a severe mental health condition will also be excluded.',\n",
       " 'Pregnancies with severe maternal or fetal pathology',\n",
       " 'Any history of recent recurrent attacks of bronchitis, asthma, migraine headaches Concomitant drug therapy of any kind Sensitivity to the study drug History of any conditions that might interfere with the absorption, distribution, metabolism or excretion of the drug Females who are pregnant and/or are breastfeeding Smoker (anyone who has smoked in the last 6 months) History of alcohol or drug abuse or dependency Participation in a drug study within 60 days of the start of the study or donated blood in the 60 days preceding the study. Volunteers for whom the Clinical Investigator believes, for any reason, that participation would not be an acceptable risk',\n",
       " '-Pacemaker patients that are Pacemaker dependent -Implantable Cardiac Defibrillator (ICD) patients',\n",
       " '1. Pregnancy 2. BMI > 35 kg/m2 3. Unstable Angina/ Heart Failure (NYHA Class III or IV)/ Stroke 4. Recent (<6months) AMI or Revascularization Procedure. 5. Significant Arrhythmia or Atrial Fibrillation. 6. Recent (<3 months) exposure to OSA therapy with MAS. 7. Severe OSA who are excessively sleepy ( ESS> 16)with increased risk for driving-related accidents. 8. Regular use of sedatives, narcotics, or psychoactive drugs. 9. Contraindications to oral appliance therapy (periodontal disease or dental caries, less than 10 teeth per dental arch, and exaggerated gag reflex).',\n",
       " 'Participants will be excluded if they are under 18 years of age, have symptoms of an overt infection including cellulitis, underlying osteomyelitis or atypical pathophysiology; their leg ulcer has been present for more than 5 years and is greater than 200 x 200mm in dimensions; they are currently receiving chemotherapy or radiation therapy or have an underlying bleeding disorder, end-stage co-morbidity, internal defibrillator or unstable International Normalised Ratio (INR); or the ulcer has undergone previous LFUD.',\n",
       " 'Pregnancy Hypercalcaemia (ionized calcium>1.3mmol/L) Conditions associated with pathological 1 alpha-hydroxylase activity such as sarcoidosis, lymphoma and multiple myeloma. Chronic Kidney Disease with eGFR<30ml/min Severe coagulopathy (Platelets <30,000/cubic mm or INR>3) contraindicating intramuscular injection. Death is likely in the next 24 hours or active treatment not deemed appropriate.',\n",
       " '1- Major congenital anomalies and known syndromes. 2-Hemodynamically significant patent ductus arteriosus PDA. 3- Congenital or acquired hydrocephalus. 4- infants on inotropic support.',\n",
       " 'Exclusion criteria Neurological and radicular dysfunctions Steroid injection into the elbow (previous 1 month) History of fracture/surgery in the forequarter (past 2 yr) Contraindications to cold application Inability to communicate in English History of generalized arthritis Present or chronic use of anti-depressants',\n",
       " 'Karnofsky 40% or less Cardiac Ejection fraction less than 40% mPAP greater than 50mmHg DLCO/VA less than 30% Unstable coronary artery disease Prior history of malignancy or other current medical condition which in the opinion of the investigators would restrict the ability of the patient to tolerate the procedure. Unable to provide informed consent and/or the diagnosis of mental and cognitive deficits which can interfere with the capability of providing the informed consent. Major bone marrow failure or condition which results in significant neutropenia (less than 1000/ul) or thrombocytopenia (less than 100,000/ul). Severe renal (serum creatinine greater than 200hmol/l) or liver disease (Bilirubin greater than 50umol/l or known cirrhosis) Uncontrolled infection.',\n",
       " 'Exclusion criteria are (a) current diagnosis of a severe psychiatric disorder or (b) intent to harm self or others or (c) impaired decision making capacity.',\n",
       " 'Schools outside of the territorial authority boundaries of Wellington, Lower Hutt, Upper Hutt, Porirua, Kapiti Coast and the Whanganui districts. Schools which do not enrol students who are primarily aged between 5-13 years old (e.g. secondary schools and secondary schools which incorporate intermediate school aged students). Schools with less than 50 Maori pupils on the school role (as listed in the Ministry of Education Directory of Schools). (For the purposes of feasibility in deploying the intervention.) Schools which were involved in piloting the intervention and phase one of the intervention.',\n",
       " 'Too unwell to participate, or in the terminal stage of any illness; active cancer diagnosis; taking a combination statin;',\n",
       " 'The subject must be excluded from participating in the trial if the subject: 1.Is currently participating and receiving study therapy or has participated in a study of an investigational agent and received study therapy or used an investigation device within 4 weeks of the first dose of treatment. 2.Has received prior systemic cytotoxic chemotherapy, biological therapy, radiation therapy, OR major surgery within 3 weeks or 5 half-lives (whichever is longer) of the first dose of trial treatment. 3.Has received prior therapy with any antibody/drug targeting T-cell co-regulatory proteins (immune checkpoints) such as anti–PD-1, anti–PD-L1, or anti–cytotoxic T-lymphocyte antigen 4 (CTLA-4) antibodies. Note: In Phase 1, prior treatment with a CTLA-4 antibody is permissible for subjects with metastatic melanoma. 4.Has persisting toxicity related to prior therapy of National Cancer Institute Common Terminology Criteria for Adverse Events version 4.03 (NCI-CTCAE) greater than Grade 1 severity. Note: Sensory neuropathy of equal to Grade 2 is acceptable. 5.Is expected to require any other form of systemic or localized antineoplastic therapy while on trial (including maintenance therapy with another agent, radiation therapy, and/or surgical resection). 6.Has known severe hypersensitivity reactions to monoclonal antibodies (NCI-CTCAE Grade is equal to 3), any history of anaphylaxis, or uncontrolled asthma (i.e., is equal to 3 features of partly controlled asthma). 7.Is receiving systemic corticosteroid therapy equal to 3 days prior to the first dose of trial treatment or receiving any other form of systemic immunosuppressive medication (corticosteroid use on study for management of immune-related adverse events, and/or a premedication for IV contrast allergies/reactions is allowed). Subjects who are receiving daily corticosteroid replacement therapy are an exception to this rule. Daily prednisone at doses of 5-7.5 mg or equivalent hydrocortisone dose are examples of permitted replacement therapy. 8.Has a central nervous system (CNS) tumor, metastasis(es), and/or carcinomatous meningitis identified either on the baseline brain imaging obtained during the screening period OR identified prior to consent. Note: Subjects with history of brain metastases that have been treated may participate provided they show no evidence of intracranial disease at screening (defined as 2 brain images, both of which are obtained after treatment to the brain metastases. These imaging scans should both be obtained at least four weeks apart and show no evidence of intracranial disease). In addition, any neurologic symptoms that developed either as a result of the brain metastases or their treatment must have returned to baseline or resolved. Any steroids administered as part of this therapy must be completed at least three days prior to study medication. 9.Has active or history of autoimmune disease that has required systemic treatment within 2 years of the start of trial treatment (i.e. with use of disease modifying agents, corticosteroids or immunosuppressive drugs). Replacement therapy (i.e., thyroxine, insulin, or physiologic corticosteroid replacement therapy for adrenal or pituitary insufficiency, etc.) is not considered a form of systemic treatment. Note: Subjects with diabetes type 1, vitiligo, psoriasis, hypo-, or hyperthyroid disease not requiring immunosuppressive treatment are eligible. 10.Has had an allogeneic tissue/solid organ transplant. 11.Has or had interstitial lung disease (ILD) OR has had a history of pneumonitis that has required oral or IV corticosteroids. 12.Has an active infection requiring intravenous systemic therapy. 13.Has known history of Human Immunodeficiency Virus (HIV) (HIV 1/2 antibodies). 14.Has known active Hepatitis B, Hepatitis C or tuberculosis. Active Hepatitis B is defined as a known p',\n",
       " '1. Currently have any active AIDS defining illness (according to the CDC Surveillance Case Definition for HIV infection, AIDS-Defining Conditions, revised April 11, 2014, Appendix 1). 2. Patients who have received an investigational drug for HIV-1, HIV-1 vaccine, immunomodulators (e.g. interleukins, interferons, cyclosporine), systemic cytotoxic chemotherapy, or other investigational therapy within 45 days prior to study entry (Day 1). 3. Acute or chronic viral hepatitis as defined by the presence of: 1) anti-HAV IgM Ab (acute hepatitis A), 2) HCV Ab with a detectable HCV RNA by PCR (acute or chronic hepatitis C) or 3) hepatitis B surface antigen or HBV DNA in subjects with isolated HBcAb, defined as negative HBsAg, negative HBsAb and positive HBcAb (acute or chronic hepatitis B) 4. Confirmed or suspected active TB disease (confirmation determined by chest X-ray and if necessary, sputum smear) 5. History or other evidence of clinically significant renal disease. 6. Pregnancy or breast feeding, male partners of pregnant females. 7. Abnormal haematological and biochemical parameters within 45 days of Entry (Day 1): a. Absolute neutrophil count <1000/mm3 b. Haemoglobin <12 g/dL in females or 13 g/dL in males c. Platelet count <150,000/mm3 d. International normalised ratio (INR) >1.5 e. Aspartate aminotransferase (AST), alanine aminotransferase (ALT), and alkaline phosphatase >/=2.5 times upper limit of normal f. Total bilirubin > 1.5 times the normal reference range g. Creatinine > 1.5 mg/dL Estimated creatinine clearance < 60 mL/minute at Screening. Value will be calculated using the Cockcroft-Gault formula. 8. Screening ECG QTcB value >/=450 ms. 9. The consumption / administration of concomitant medication (prescribed, over-the-counter or complementary) at the time of the Screening visit listed in Appendix 4. This list is not exhaustive and any medication taken from 30 days prior to first dose through to the end of the participation in the study must be approved by the Biotron Medical Monitor in consultation with the Investigator. 10. Active drug or alcohol use or dependence that, in the opinion of the site Investigator, would interfere with adherence to study requirements. 11. A positive result on urine screen for drugs of abuse at Screening or Day 1 which in the opinion of the Investigator should preclude them from participation in the study. 12. Any prior suicide attempt. 13. History of immunologically mediated disease (e.g., inflammatory bowel disease, idiopathic thrombocytopenic purpura, lupus erythematosus, autoimmune haemolytic anaemia, scleroderma, severe psoriasis, rheumatoid arthritis requiring more than intermittent non-steroidal anti-inflammatory medications for management, etc.) 14. History of documented or presumed coronary artery disease or cardiovascular disease, clinically significant arrhythmia. 15. History of a severe seizure disorder or current anticonvulsant use. 16. Evidence of an active or suspected cancer or a history of malignancy within 2 years of the study. 17. History of having received any systemic anti-neoplastic or immunomodulatory treatment (including supraphysiologic doses of steroids and radiation) within 6 months prior to the first dose of study drug or the expectation that such treatment will be needed at any time during the study. 18. Active thyroid disease (use of thyroid hormone replacement therapy permitted by TSH or free T4 must be in normal range.) 19. Serious illness requiring systemic treatment and/or hospitalization until the participant either completes therapy or is clinically stable on therapy, in the opinion of the site Investigator, or at least 7 days prior to study entry. 20. Known allergy/sensitivity or any hypersensitivity to components of study drug or its formulation. 21. Unable to refrain from',\n",
       " '- Patients who are for palliation - Patients already recruited who are readmitted - Patients less than 18 years of age - Patients transferred from other units (including the Acute Medical and Short Stay Units) and who have already had Physiotherapy intervention will not be included. - Patients under General Medical unit who are admitted under a different ward (outliers”). This study requires the use of devices that may be unfamiliar to nursing staff which may reduce compliance. Staff working on the Medical Wards will receive basic training on these devices. - Similarly, patients who have had their initial Physiotherapy contact on the weekend or public holidays will not be included (including those patients transferred from ICU and seen on the ward on the weekend or public holiday). Patients admitted on the weekend or public holiday who have not had any physiotherapy intervention will remain appropriate to be included.',\n",
       " '1. History of a major organ transplant (e.g., heart, lung, kidney, liver) or hematopoietic stem cell/marrow transplant 2. Patients who will have received another investigational agent within 30 days or 5 half-lives of the investigational agent, whichever is greater, before Day 1 of Study ACH471-100. 3. Patients who will have received eculizumab at any dose or interval within the past 75 days before Day 1 of Study ACH471-100 4. Patients with known or suspected complement deficiency 5. History of meningococcal infection, or a first-degree relative or household contact with a history of meningococcal infection 6. History of hypersensitivity reactions to commonly used antibacterial agents, including beta-lactams, penicillin, aminopenicillins, fluoroquinolones (specifically including ciprofloxacin), cephalosporins, and carbapenems, which in the opinion of the Investigator would make it difficult to properly provide either empiric antibiotic therapy or treat an active infection 7. History or presence of any clinically relevant co-morbidities that, in the opinion of the PI, would make the patient inappropriate for the study (for example, is likely to result in deterioration of the patient’s condition, affect the patient’s safety during the study, or confound the results of the study) 8. Laboratory abnormalities at screening, including: * Alkaline phosphatase > ULN * Absolute neutrophil counts <1,000/micro L * Alanine aminotransferase (ALT) > ULN * Aspartate aminotransferase (AST) > ULN * Any other clinically significant laboratory abnormality that, in the opinion of the PI, would make the patient inappropriate for the study or put the patient at undue risk 9. Females of childbearing potential who have a positive serum pregnancy (human chorionic gonadotropin [HCG]) test at the Eligibility visit, or nursing mothers 10. Prior history or current evidence of biliary cholestasis 11. Patients diagnosed with Gilbert’s syndrome. Patients with history or family history suggestive of Gilbert’s syndrome should be tested and excluded from study if positive for UGT1A1 genotyping polymorphism or missense change. 12. Patients with evidence of HIV, hepatitis B or hepatitis C infection (positive serology for HIV-1, positive hepatitis B surface antigen, or positive anti-HCV antibody at Screening or historically)',\n",
       " 'Participants whom do not meet criteria for a principal diagnosis of SAD, according to the Anxiety Disorder Interview Schedule for DSM-5 interview, will beexcluded.',\n",
       " 'i.Age less than 18 years ii.Patient declines to be recruited as a participant in the trial iii.Patient has a past history of upper gastrointestinal surgery including but not limited to : total or partial gastrectomy, operations involving gastroenterostomy (eg Whipples procedure), gastric lap band, laparoscopic sleeve gastrectomy, Nissen fundoplication, gastric pyeloplasty iv.Past history of achalasia, severe oesophageal stricture, oesophageal carcinoma or other swallowing disorder v.Past history of scleroderma or other disease causing gastroparesis vi.Chronic oral opioid use or other medication causing delayed gastric emptying vii.Patient deemed not competent to consent to the trial or competent to follow instructions required by the trial',\n",
       " '< 18 years of age Group 1: Diseased sinuses Group 2: Does not have chronic sinusitis',\n",
       " 'Students who do not live at a residential college.',\n",
       " 'The patients can not have uncompensated heart failure, chronic lung disease or change of medication during the intervention.',\n",
       " '(1) organ failure (heart function four, or liver function Child Pugh grading above grade C, brain metastases with disturbance of consciousness, or severe respiratory failure); (2) at the same time to accept other anti-tumor therapy (3) severe coagulation dysfunction; (4) patients with allergic to interleukin-2 or biologics; (5) a history of organ transplantation, the use of immunosuppressive agents or organ transplantation after long-term use of immunosuppressive agents; (6) patients with definite infection or unexplained fever (7) Pregnant and lactating women; (8) T lymphoma patients, infectious diseases, autoimmune diseases or other malignancies; (9) HIV-positive, drug addiction.',\n",
       " 'Subjects will be excluded from this study, if they have any family history of epilepsy as it is a contraindication for the use of TMS.',\n",
       " 'The exclusion criteria included co-operation, orientation and cognitive impairment.',\n",
       " '1.Females who are or intend to become pregnant, or are lactating. 2.Participants who, in the opinion of the investigator, do not understand the information and procedures of the study, or would not be compliant with them (in particular the study restrictions and risks involved). 3.Any participant for whom the investigator believes, for any reason, that participation would not be an acceptable risk. 4.Alcohol abuse, or regular use of cannabis or other recreational drugs. 5.Patients established on diuretics or regularly taking NSAIDs.',\n",
       " 'Are allergic to tape or adhesives Have an inflammatory skin disorder Are taking medication that affects the immune system (e.g. antibiotics or corticosteroids) Are pregnant Cannot write or read in English fluently Are under 16 years of age',\n",
       " 'The exclusion criteria were 1) Severe depression or suicidality as indicated by 30 or more on the MADRS, 4 or more on item 9 on the MADRS or discovered through clinical interview with the Mini International Neuropsychiatric Interview (MINI), 2) Not fulfilling diagnostic criteria for insomnia (DSISD), 3) Not fulfilling diagnostic criteria for social anxiety (MINI). 4) Currently receiving other psychological treatments, 5) changes in medication over the last three months.',\n",
       " '. Patients who were known to be allergic to the drugs used in the study; patients with bleeding disorders or liver, kidney, cardiac, or lung diseases; patients more than 35 kg (potentially obese or having sleep apnea); patients who used antiemetics, analgesics, steroids, or antihistamines 24 hours before the operation; patients for whom the drugs used in the study were contraindicated; patients who returned for treatment of bleeding or any other complication after the operation; or patients whose parents did not consent to their participation in the study were excluded.',\n",
       " 'Persons with median and greater NIH toolbox composite cognition scores will be excluded from the trial. Current hearing aid users will not be recruited. Persons with fluctuating hearing loss or fast-progressing ongoing otologic disease or requiring referrals to psychiatric or mental health services will be excluded. Persons with severe-profound hearing loss sufficient to make auditory cognition test materials inaudible will not be included. Persons unable to manually adjust aids using controls on the aid or remote control will be excluded.',\n",
       " 'Not willing to participate in the study. Not able to exhale through the breath sampler. Complicated malaria cases. Consciousness impairment. Unable to be located during the following week in case of need. Participants with Sulphur-containing drug intake for the last 30 days will be excluded due to the possible presence of drug-related volatile compounds in the exhaled breath.',\n",
       " '(i) No longer meet criteria for GGE or TLE, as their epilepsy has been classified as ‘resolved’ by their treating neurologists. Epilepsy is considered resolved for individuals who had an age-dependent epilepsy syndrome but are now past the applicable age or those who have remained seizure-free for the last 10 years, with no seizure medicines for the last 5 years (Fisher et al. 2014) (ii) Have had a neurological procedure/surgery in the past 3 months. Fisher RS, Acevedo C, Arzimanoglou A, Bogacz A, Cross JH, Elger CE, et al. ILAE official report: a practical clinical definition of epilepsy. Epilepsia. 2014;55(4):475-82.',\n",
       " 'Known or suspected serious spinal pathology (e.g. metastatic disease of the spine). Spinal surgery in the past 12 months. History of any mental health conditions such as bipolar disorder, psychosis, schizophrenia Score of 10 or more on the Patient Health Questionnaire (PHQ-9). Not fluent in English.',\n",
       " 'patient refusal, age outside of 18-24 years, ASA scores of III or IV, renal or hepatic failure, allergy to the study medication or related drugs, immune compromised status, psychological disorders, bleeding disorders, gastrointestinal system complaints, epilepsy or other neurological disorders, pregnancy or those breastfeeding, medication use less than 10 days before the surgery, preoperative inflammation, and lactose intolerance. Patients whose impacted teeth were exposed to the oral cavity before surgery and those, in which the duration of the surgical procedure exceeded 30 minutes, were also excluded.',\n",
       " 'All drivers who meet initial eligibility criteria will enter the baseline stage of the study, and attend our university exercise laboratory for clinical screening prior to entering the next phases of the study. This will include a cycle ergometer exercise stress test, supervised by a medical doctor, who will apply clinical exclusion criteria (cardiac arrhythmias, or systolic BP> 200 mm Hg and/or diastolic BP > 110 mm Hg at rest). Those who may be excluded from further participation will receive feedback on their results and be referred to their medical practitioner for ongoing care and support.',\n",
       " 'Inability to understand the requirements of the study. This may include but is not limited to, a history of dementia, memory impairment secondary to stoke or brain injury or developmental cognitive impairment. Inability to read English. Inability to perform an exercise programme without hands on support or supervision from another person. Inability to complete 52 weeks follow up (eg. moving interstate) Pregnancy The need for restricted weight-bearing through the operated limb.',\n",
       " 'Previous coronary or cardiac valvular intervention. On insulin therapy. Cardiogenic shock. Malignant life-threatening illness.',\n",
       " '1. Complex congenital abnormalities 2. Known genetic abnormalities 3. Poor skin integrity 4. Significant hydrops fetalis 5. Palliation due to extreme condition at birth',\n",
       " 'Presence of acute/chronic Eye disease, Hypertension,Pulmonary disease,Obesity',\n",
       " 'If the clinicians caring for the baby consider that participation in the trial would be detrimental to the neonate or compromise the care being provided to the neonate then the patient would not be considered eligible.',\n",
       " 'AKPS: 50 or below, 80 and above RUG-ADL: transfer score between 3-5 MoCA score of equal to or less than 17.',\n",
       " '1.Use of anticoagulants or high dose aspirin (krill oil is contra–indicated in such people). 2.Unwillingness to stop taking krill oil and fish oil medications during the trial. 3.Other forms of inflammatory arthritis (especially rheumatoid arthritis and gout). 4.eGRF <50 5.Moderate to severe hepatic impairment 6.Seafood allergy. 7.Injections of corticosteroids (last 3 months) 8.Pregnancy or breastfeeding. 9.Presence of any serious medical illness that may preclude 12 week follow up. 10.Inability to provide informed consent',\n",
       " '1) patients who are cognitively impaired (defined as a clinical diagnosis of dementia or mild cognitive impairment and/or not communicable and do not have care-givers, 2)patients who had received pharmacist medication review within six months prior to randomization.',\n",
       " 'Exclusion criteria for pregnant women prior to and during the study 1.Severe depression with or without suicidal ideation. 2.PHQ 9 score more than 14. 3.Diagnosed with any acute medical complications during pregnancy or develops complications during participation in the study. 4. Currently receiving treatment for an acute episode of mental disorder or develops an acute episode during participation in the study.',\n",
       " 'Severe Hematological disorder Patients who receive anticoagulants and antiplateletswithin 14 days prior to operation Severe cardiac disease (Aortic stenosis or cardiac ejection fraction <40%; Myocardial infarction in the previous 6 months; myocardial ischemia on resting Electrocardiogram) Severe pulmonary disease (FEV1 < 50% predicted, PaO2 < 9 kPa on air) Preoperative creatinine >200 mmol/L Serum Aspartate aminotransferase (AST)>100 IU/L',\n",
       " 'Pain (NRS) < 4 points Change in dosage of non-steroidal anti-inflammatory drugs and corticosteroids for 2 weeks before the beginning of the study and for the duration of the study Change in dosage of the disease-modifying antirheumatic drugs (methotrexate, sulfasalazine) for 3 months before the beginning of the study and for the duration of the study Injection of a local anesthetic, steroids Patients after surgical procedures around spine or in the abdominal area Neurological signs present Compression of spinal nerve root confirmed by specific imaging techniques: computed tomography, myelography, or magnetic resonance imaging',\n",
       " '1.presence of general danger signs in children aged under 5 years or signs of severe falciparum malaria according to the definitions of WHO; 2.weight under 5 kg; 3.haemoglobin < 8 g/dl; 4.mixed or mono-infection with another Plasmodium species detected by microscopy; 5.presence of severe malnutrition defined as a child aged 6-60 months who has a mid-upper arm circumference <115mm. 6.presence of febrile conditions due to diseases other than malaria (e.g. measles, acute lower respiratory tract infection, severe diarrhea with dehydration) or other known underlying chronic or severe diseases (e.g. cardiac, renal and hepatic diseases, HIV/AIDS); 7.regular medication, which may interfere with antimalarial pharmacokinetics; 8.history of hypersensitivity reactions or contraindications to any of the medicine(s) being tested or used as alternative treatment(s); 9.a positive pregnancy test or breastfeeding; and 10.unable to or unwilling to take pregnancy test or to use contraception for women of child-bearing age and who are sexually active.',\n",
       " '1.presence of general danger signs in children aged under 5 years or signs of severe falciparum malaria according to the definitions of WHO ; 2.weight under 5 kg; 3.mixed or mono-infection with another Plasmodium species detected by microscopy; 4.presence of severe malnutrition defined as a child aged 6-60 months who has a mid-upper arm circumference < 115 mm); 5.presence of febrile conditions due to diseases other than malaria (e.g. measles, acute lower respiratory tract infection, severe diarrhea with dehydration) or other known underlying chronic or severe diseases (e.g. cardiac, renal and hepatic diseases, HIV/AIDS); 6.regular medication, which may interfere with antimalarial pharmacokinetics; 7.history of hypersensitivity reactions or contraindications to any of the medicine(s) being tested or used as alternative treatment(s); 8.a positive pregnancy test or breastfeeding; and 9.unable to or unwilling to take pregnancy test or to use contraception for women of child-bearing age and who are sexually active.',\n",
       " 'Any cardiac arrhythmia Consent denied Instable intracranial pressure or emergency surgical treatment Spinal shock',\n",
       " '1. History of any moderate or severe hypersensitivity or allergic reaction to any beta-lactam antimicrobial (e.g; penicillin or cephalosporin). 2. History of hypersensitivity or severe allergic reaction of any type to medications, bee stings, food, or environmental factors. A severe allergic reaction is defined as any of the following : anaphylaxis, urticarial, or angioedema. 3. Use of prescription or over-the-counter medications within 7 days of IP administration, with the exception of contraceptive medications, paracetamol, oral non-steroid anti-inflammatory agents, topical over-the-counter preparations, and routine vitamins (if they do not exceed an intake of 20 to 600 times the recommended daily dose), unless agreed as non-clinically relevant by the Principle Investigator and Sponsor. 4. Participation in an investigational drug or device study within 30 days before study drug dosing. i.e., there was at least 30 days between the last dose in a prior study and dose administration in this study. 5. Current smoker or difficulty abstaining from smoking for the duration of study confinement. 6. History of major organ dysfunction. 7. Infection or any serious underlying medical condition that would impair the subject from receiving study drug. 8. History of excessive alcohol intake (more than 4 standard drinks daily, on average) or use of recreational drugs within the last 3 months. 9 Standard donation of blood within 30 days of the study. 10. Concomitant disease or condition, including laboratory abnormality, which could interfere with the conduct of the study or which would, in the opinion of the Investigator, pose an unacceptable risk to the subject in this study. 11. Anticipated need for surgery or hospitalization during the study. 12. Surgery within 30 days before study enrollment.. 13. Unwillingness or inability to comply with the study protocol for any other reason.',\n",
       " 'Absence of somatosensory impairment fMRI safety exclusion criteria (metal implants and implantable devices; significant anxiety or behavioural problems; claustraphobia)',\n",
       " 'Sepsis with traumatic, oncology or burn injury background; - requiring palliative care; - who are psychiatric or with intellectual disability, unable to cooperate.',\n",
       " 'Exclusion criteria (both ID and carer program- option A): Extreme risk- physical health: aortic aneurysm (dissecting), aortic stenosis (severe), congestive heart failure, crescendo angina, myocardial infarction (acute), myocarditis (active or recent), current pulmonary or systemic embolism-acute, thrombophlebitis, acute infectious disease (regardless of etiology). Extreme risk- mental health: acute psychosis, displays current challenging behavior that poses unacceptable risk of harm to self or others in the program * Any participant who requires a medical clearance for participation, and is unable to provide one, is excluded from the study. Mobility restrictions: Wheelchair bound, or unable to walk for at least 10 minutes for other reasons Medication: Currently taking prescribed over the counter medication for weight loss. Currently taking beta-blocking agents Pregnancy: Anyone who is pregnant during trial enrollment or who becomes pregnant during the course of the trial is excluded. Non-English speaking: due to lack of translation resources participants who are unable to understand basic English are not able to participate.',\n",
       " '* Keloid scar * Atrophic scar * Current Pregnancy * Currently receiving physical scar treatment (massage, acupuncture, injection therapy) * Unstable Medical conditions (uncontrolled blood pressure, uncontrolled epilepsy) * Loss of sensation in area to be treated (nerve injury, stroke, diabetic neuropathy) * Lymphoedema in affected limb * Allergy to stainless steel * Needle Phobic * Not consenting to receive acupuncture * Individuals who are trained in providing acupuncture',\n",
       " 'Patients will be excluded if they are not able or willing to complete the Pittsburgh Sleep Quality Index due to medical or behavioural instability (such as agitated and aggressive) or severe cognitive communication deficits.',\n",
       " '-Non-English speaking -Risk of aspiration -BMI > 35 -Known or anticipated difficult airway -Patients require awake fibre-optic intubation, gas induction or rapid sequence induction -Known allergy to propofol or rocuronium -Raised intracranial pressure (clinically or radiologically) -Known basal skull fracture -Active nasal bleed',\n",
       " \"1. Patients with a history of a psychological illness or condition that interferes with the patient's ability to understand the requirements of the study. 2. Patients with a history of a psychological illness or condition that requires continuous anti-psychotic medication. 3. Adverse reactions to or inability to digest starch in their diet. 4. Need to have gluten free diet. 5. Women lactating, pregnant or of childbearing potential who are not willing to avoid becoming pregnant during the study. 6. Patients with a history of advanced heart, liver and kidney diseases that is likely to interfere with the metabolism or excretion of the test medication. 7. Patients who had received an investigational new drug within the last 2 weeks. 8. Taking other herbal supplements that may interfere with the herbs in our formulas within the last 2 weeks. 9. Regular alcohol consumption. Consuming > 1 standard drink daily (30ml of spirits, 100ml of wine, or 375ml of strength beer). 10. Need to take over-night shift or early morning shift that requires get up before 6am during the study period. 11. Circumstances or work which forces the participant which prevent them from being in bed by 23:00. 12. Need to travel out of Sydney during the study period.\",\n",
       " '1. A history or presence of drug or alcohol dependence (excluding caffeine), including subjects who have ever been in a drug rehabilitation program based on medical history of the past 10 years. 2. Clinically significant abnormalities as judged by the investigator or designee and determined by physical examination , medical history, 12-lead electrocardiogram , vital signs, laboratory values, including serum kidney and liver function tests. 3. Presence and/or history of postural hypotension (determined through examination by the investigator or designee), or recent history of severe dizziness or fainting on standing. 4. Subjects with a history of seizures, asthma (except for childhood asthma which has been asymptomatic for greater than or equal to 10 years), or obstructive pulmonary disease. 5. Presence or history of any of the following disorders that are deemed clinically significant by the investigator or designee: a psychiatric disorder (including suicidal ideation and behaviour), organic brain disorder, or seizure disorder. 6. Presence or history of clinically significant cardiovascular, pulmonary, hepatic, renal, hematologic, gastrointestinal (including ulcers or gastrointestinal bleeding), endocrine, immunologic, dermatologic, neurologic, oncologic, psychiatric disease, or any other condition, which, in the opinion of the investigator, would jeopardize the safety of the subject or the validity of the study results. 7. Abnormality (for example, scar, tattoo) or unhealthy skin (for example, burns, wounds) at the application site, according to examination by the investigator at screening, admission to the clinic, or prior treatment period of the study. 8. An existing chronic skin disease or history of skin disease at the application site within the 30 days prior to screening. 9. Use of any drugs containing estrogens within 30 days prior to study drug administration and throughout the study. 10. Use of any prescription drug (except acceptable forms of birth control) within 14 days prior to study drug administration and throughout the study. 11. Use of any prescription or non-prescription product containing any sympathomimetic amine (for example, pseudoephedrine, phenylephrine, and others commonly found in cold preparations) within 14 days prior to study drug administration and throughout the study. 12. Use of any natural health products (except vitamin or mineral supplements) within 14 days prior to study drug administration and throughout the study, unless in the opinion of the investigator or designee, the product will not interfere with the study procedures or data integrity, or compromise the safety of the subject. 13. Use of a non-prescription drug within 7 days prior to study drug administration; subjects who have taken over-the-counter medications, other than those described above, may still be entered into the study, if in the opinion of the investigator or designee, the medication received will not interfere with the study procedures or data integrity, or compromise the safety of the subject. 14. Positive test result for drugs of abuse at screening or prior to study drug dosing. 15. Positive alcohol test at screening or prior to study drug dosing. 16. Female subjects who are currently pregnant or lactating or who are planning to become pregnant within 30 days of last study drug administration. 17. History of allergy or hypersensitivity to dexmedetomidine or dexmedetomidine hydrochloride. 18. Positive for hepatitis B, hepatitis C, or the human immunodeficiency virus (HIV). 19. Donation of blood or loss of blood (greater than 100 mL) within 30 days prior to study drug administration. 20. Subject has a personal responsibility or already confirmed appointment(s) or court date(s) that would in any way prevent him/her from meeting the time commitments and visits required by the study. 21. Treatment with',\n",
       " \"- Currently or recently (last 4 weeks) been taking antibiotics, probiotics or prebiotics as supplements or added into food types - Being treated with medication known to affect intestinal transit (such as laxatives or hypomotility agents) - They have any gastrointestinal disease (e.g. Irritable bowel syndrome, coeliac disease, Crohn's disease or Ulcerative colitis) - They suffer from an eating disorder - Are pregnant or planning a pregnancy - Vegetarian\",\n",
       " '- Unable to provide informed consent, Significant asthma contributing to presentation, Ongoing severe respiratory distress at 24 hours of hospitalisation with one or more of: - Bed/chair bound due to dyspnoea - Respiratory rate > 30 - PaCO2 >50mmHg - Arterial pH <7.35 - Systolic BP <90mmHg - Altered conscious state/delirium - Medical co-morbidity precluding discharge - Requirement for intravenous therapy - Outside HITH catchment, Homelessness, No telephone contact',\n",
       " 'Outborn infants birthed in a non-tertiary institution subsequently transferred to KEMH NICU will be excluded from the study given lower rates of complete antenatal steroid coverage and optimal conditions for resuscitation, early stabilisation and documented poorer outcomes. Exclusion will also apply to major congenital abnormalities affecting the thoracic organs, or control of breathing.',\n",
       " \"1) Parents of children with a developmental or intellectual disability (rationale: the Triple P Discussion Groups are designed for children with behavioural problems that are otherwise normally developing. A modified version of Triple P, Stepping Stones Triple P, has been specifically designed to meet the unique needs of parents who have children with a developmental, intellectual, or health disability). 2) The target child is currently having regular contact with another mental health professional for behavioural problems (rationale: if the target child is currently receiving support from another service, then it will be difficult to disentangle potential benefits gained from the provided programme from those gained by this external support). 3) The parent/s is currently seeing a mental health professional for emotional or psychological problems, or for their child's behavioural problems (rationale: if parents are receiving support from another service, then it will be difficult to disentangle potential benefits gained from the provided programme from those gained by this external support).\",\n",
       " '1) Known intolerance of colchicine 2) Pre-existing or planned peri-operative colchicine treatment 3) Known myopathy (or elevated creatine kinase> 3 x upper limit of normal) 4) Severe liver disease (or aminotransferase level >1.5 upper limit of normal) 5) Severe blood dyscrasia (white cell count or platelet count < lower limit of normal) 6) Inflammatory bowel disease 7) Estimated glomerular filtration rate <45mL/min per 1.73m2 8) Women of childbearing potential 9) Scheduled for valve and/or aortic surgery in addition to CABG. 10) Therapy with a strong CYP3A4 inhibitor (e.g. cyclosporine, ritonavir, clarithromycin or ketoconazole) or inducer (eg rifampicin)',\n",
       " '• Known sensitivity to silver • Known sensitivity to collagen • Known sensitivity to Organic Regenerated Cellulose • Unable to consent due to cognitive impairment or language limitations preventing understanding of provided information and hence capacity for informed consent. • Uncontrolled systemic infection at time of recruitment as defined as the infection affecting the entire body with microorganisms spreading via the lymphatic and vascular systems in the body • Patients with a life expectancy of less than six months in the opinion of the treating investigator • Patients where the Care Objective for the wound is palliative with no expectation that the wound will heal • Active vasculitis • Full thickness burn injuries',\n",
       " '• Daily disposable or rigid gas permeable lens wearer (including ortho-keratology); • Non-contact lens wearer; • Self-reported metal/silver sensitivity/allergy; • Any active corneal infection, ocular disease or systemic disease that would affect wearing of contact lenses; • Use of or need for any systemic or topical medications which may alter normal ocular findings/are known to affect a participant’s ocular health/physiology or contact lens performance either in an adverse manner or risk providing a false positive; • Eye surgery within 12 weeks immediately prior to enrolment for this trial; • Contraindications to contact lens wear; • Currently enrolled in another clinical trial.',\n",
       " 'Displaced distal radius fractures that require manipulation or surgery. Unable to give informed consent. Under the age of 65 years old.',\n",
       " '1. known neurological condition 2. known history of psychosis 3. Unstable and fluctuating mental health condition that would interfere with taking part in a group program 4. severe learning impairment 5. non-English speaking',\n",
       " '- Clinically relevant history of hepatic, renal, pulmonary, psychiatric, or infectious disorders that would interfere with study procedures - History of stomach banding or other surgery, Crohn’s disease, ulcerative colitis, (diabetic) gastroparesis, irritable bowel syndrome, irregular bowel habit, GI stoma, colostomy - Pregnant or nursing - febrile illness within 7 days of the planned first dose of study drug. - Participation in a clinical trial with an Investigational Product within 30 days prior to Day 1. - Current use of tobacco, or use within 3 months of screening. - History of substance abuse or alcohol consumption exceeding 14 drinks/week. - Clinical laboratory abnormalities: • ALT or AST > Grade 1 • Total Bilirubin > Grade 1 • Serum Creatinine > Grade 1 • Hematology values > upper limit of normal - Clinically significant ECG abnormalities - Use of medications that increase gastric pH or affect gastric motility - Body mass index > 38.',\n",
       " 'Inability to consent Severe language impairments',\n",
       " '1. Subject is unable to tolerate tape adhesive in the area of sensor placement 2. Subject has any unresolved adverse skin condition in the area of sensor or device placement (e.g., psoriasis, rash, Staphylococcus infection) 3. Subject is actively participating in an investigational study (drug or device) wherein they have received treatment from an investigational study drug or device in the last 2 weeks 4. Subject has a positive pregnancy screening test 5. Subject is female, sexually active without the use of contraception, and plans/able to become pregnant during the course of the study and is not using an acceptable method of contraception 6. Subject has had a hypoglycemic seizure within the past 6 months prior to screening visit 7. Subject has had hypoglycemia resulting in loss of consciousness within the past 6 months prior to screening visit 8. Subject has had an episode of diabetic ketoacidosis (DKA) within the past 6 months prior to screening visit 9. Subject has a history of a seizure disorder 10. Subject has central nervous system or cardiac disorder resulting in syncope',\n",
       " '<18 years age, admissions for psychiatric illness, obstetrics, gynaecology, specific management of blood glucose eg diabetic ketoacidosis, overdose, poisoning, dialysis, non-acute admissions for respite, chemotherapy, patients requiring routine post-op care in ICU.',\n",
       " 'A dissection flap limited to the aortic arch or to the proximal descending aorta',\n",
       " 'Previous bereavement by suicide. Distressed by topic of suicide. Having participated in previous study to this overall project. Personal suicide ideation. Aged under 18 years.',\n",
       " 'Previous bereavement by suicide. Distressed by topic of suicide. Personal suicide ideation. Aged under 18 years.',\n",
       " 'patients of ASA physical status IV, at high risk of regurgitation or aspiration for example those with symptomatic gastro-esophageal reflux, hiatus hernia, respiratory tract pathology eg. preoperative sore throat, patients with previous head and neck surgery with deformity or radiotherapy to the neck with hypopharyngeal involvement, and patients with inadequate mouth opening to permit insertion of device.']"
      ]
     },
     "execution_count": 23,
     "metadata": {},
     "output_type": "execute_result"
    }
   ],
   "source": [
    "df_trials.Exclusion_Criteria[df_trials.Exclusion_Criteria.apply(lambda s: len(s.split(' ')))>5].tolist()[:100]"
   ]
  },
  {
   "cell_type": "markdown",
   "metadata": {},
   "source": [
    "#### Export to tsv"
   ]
  },
  {
   "cell_type": "code",
   "execution_count": 24,
   "metadata": {},
   "outputs": [],
   "source": [
    "df_trials.to_csv(os.path.join(path_to_data, '{}.tsv'.format(final_dataset_name)), sep = \"\\t\", index = False)"
   ]
  },
  {
   "cell_type": "markdown",
   "metadata": {},
   "source": [
    "#### Export to txt"
   ]
  },
  {
   "cell_type": "code",
   "execution_count": 6,
   "metadata": {},
   "outputs": [],
   "source": [
    "def clean_txt(t):\n",
    "    # replace linebreaks with comas\n",
    "    t = re.sub('(\\n)+', ', ', t)\n",
    "    \n",
    "    # shrink consecutive punctuation\n",
    "    t = re.sub('(?P<name>[,;:.!?])[,;:.!?]+', '\\g<name>', t)\n",
    "    \n",
    "    # shrink space\n",
    "    t = re.sub('(\\s)+', ' ', t).strip()\n",
    "    return t"
   ]
  },
  {
   "cell_type": "code",
   "execution_count": 7,
   "metadata": {},
   "outputs": [],
   "source": [
    "df_trials = pd.read_csv(os.path.join(path_to_data, '{}.tsv'.format(final_dataset_name)), sep = \"\\t\")\n",
    "df_trials = df_trials[[\n",
    "    # 'Scientific_title',\n",
    "    'Inclusion_Criteria',\n",
    "    'Exclusion_Criteria',\n",
    "    # 'Primary_Outcome',\n",
    "    # 'Secondary_Outcomes',\n",
    "    # 'results_summary',\n",
    "]].fillna('')"
   ]
  },
  {
   "cell_type": "code",
   "execution_count": 8,
   "metadata": {},
   "outputs": [],
   "source": [
    "texts = df_trials.apply(func = lambda row: '\\n'.join([t for t in row if len(t.split()) > 5]), axis = 1)\n",
    "texts = [clean_txt(t) for t in texts]"
   ]
  },
  {
   "cell_type": "code",
   "execution_count": 9,
   "metadata": {},
   "outputs": [
    {
     "data": {
      "text/plain": [
       "774632"
      ]
     },
     "execution_count": 9,
     "metadata": {},
     "output_type": "execute_result"
    }
   ],
   "source": [
    "len(texts)"
   ]
  },
  {
   "cell_type": "code",
   "execution_count": 10,
   "metadata": {},
   "outputs": [],
   "source": [
    "chars, counts = get_character_count(texts[:100000])"
   ]
  },
  {
   "cell_type": "code",
   "execution_count": 11,
   "metadata": {},
   "outputs": [
    {
     "data": {
      "text/plain": [
       "47"
      ]
     },
     "execution_count": 11,
     "metadata": {},
     "output_type": "execute_result"
    }
   ],
   "source": [
    "chars_to_hide = [char for char, count in zip(chars, counts) if count < 40]\n",
    "len(chars_to_hide)"
   ]
  },
  {
   "cell_type": "code",
   "execution_count": 12,
   "metadata": {
    "scrolled": true
   },
   "outputs": [
    {
     "data": {
      "text/plain": [
       "['\\x81',\n",
       " '\\x9d',\n",
       " '¦',\n",
       " '©',\n",
       " 'ª',\n",
       " '«',\n",
       " '\\xad',\n",
       " '¯',\n",
       " '¶',\n",
       " '¸',\n",
       " '¹',\n",
       " '»',\n",
       " '¼',\n",
       " '¾',\n",
       " 'Ä',\n",
       " 'É',\n",
       " 'Ê',\n",
       " 'Ë',\n",
       " 'Í',\n",
       " 'Î',\n",
       " 'Ï',\n",
       " 'Ò',\n",
       " 'Ó',\n",
       " 'Ö',\n",
       " 'Ü',\n",
       " 'Ý',\n",
       " 'ã',\n",
       " 'æ',\n",
       " 'ê',\n",
       " 'ë',\n",
       " 'ì',\n",
       " 'î',\n",
       " '÷',\n",
       " 'ù',\n",
       " 'û',\n",
       " 'ý',\n",
       " 'œ',\n",
       " 'š',\n",
       " 'Ž',\n",
       " 'ž',\n",
       " 'ƒ',\n",
       " 'ˆ',\n",
       " '˜',\n",
       " '‚',\n",
       " '„',\n",
       " '‡',\n",
       " '‰']"
      ]
     },
     "execution_count": 12,
     "metadata": {},
     "output_type": "execute_result"
    }
   ],
   "source": [
    "chars_to_hide"
   ]
  },
  {
   "cell_type": "code",
   "execution_count": 13,
   "metadata": {},
   "outputs": [],
   "source": [
    "# We choose to hide all characters appearing less than 40 times\n",
    "texts = [re.sub('( )+', ' ', re.sub('[{}]'.format(''.join(chars_to_hide)), ' ', t)) for t in texts]"
   ]
  },
  {
   "cell_type": "code",
   "execution_count": 14,
   "metadata": {},
   "outputs": [
    {
     "data": {
      "text/plain": [
       "774632"
      ]
     },
     "execution_count": 14,
     "metadata": {},
     "output_type": "execute_result"
    }
   ],
   "source": [
    "len(texts)"
   ]
  },
  {
   "cell_type": "code",
   "execution_count": 15,
   "metadata": {},
   "outputs": [
    {
     "data": {
      "text/plain": [
       "\"Diagnosis of NSCLC, Advanced disease (stage III-IV) according to the TNM 7th /8th edition classification at the beginning of first ICP, Patients must have received at least two lines of ICP during their history of disease, Patients with EGFR mutation and/or ALK translocation must have received all specific target agents regularly reimbursed (during the reporting period) prior to the first PCI Exclusion Criteria: • Opposition form signed by the living patient or opposition clearly indicated in the deceased patient's medical records\""
      ]
     },
     "execution_count": 15,
     "metadata": {},
     "output_type": "execute_result"
    }
   ],
   "source": [
    "texts[257837]"
   ]
  },
  {
   "cell_type": "code",
   "execution_count": 16,
   "metadata": {},
   "outputs": [],
   "source": [
    "with open(os.path.join(path_to_data, '{}.txt'.format(final_dataset_name)), 'w', encoding = 'utf-8') as f:\n",
    "    f.write('\\n'.join(texts))"
   ]
  },
  {
   "cell_type": "code",
   "execution_count": null,
   "metadata": {},
   "outputs": [],
   "source": [
    "# with open(os.path.join(path_to_data, '{}.txt'.format(final_dataset_name)), 'r', encoding = 'utf-8') as f:\n",
    "#     texts = f.readlines()"
   ]
  },
  {
   "cell_type": "markdown",
   "metadata": {},
   "source": [
    "[Table of content](#TOC)"
   ]
  }
 ],
 "metadata": {
  "kernelspec": {
   "display_name": "Python 3 (ipykernel)",
   "language": "python",
   "name": "python3"
  },
  "language_info": {
   "codemirror_mode": {
    "name": "ipython",
    "version": 3
   },
   "file_extension": ".py",
   "mimetype": "text/x-python",
   "name": "python",
   "nbconvert_exporter": "python",
   "pygments_lexer": "ipython3",
   "version": "3.8.13"
  }
 },
 "nbformat": 4,
 "nbformat_minor": 2
}
