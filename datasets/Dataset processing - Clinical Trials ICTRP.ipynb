{
 "cells": [
  {
   "cell_type": "markdown",
   "metadata": {},
   "source": [
    "<div style=\"font-variant: small-caps; \n",
    "      font-weight: normal; \n",
    "      font-size: 35px; \n",
    "      text-align: center; \n",
    "      padding: 15px; \n",
    "      margin: 10px;\">\n",
    "      Dataset processing\n",
    "  </div> \n",
    "  \n",
    "<div style=\"\n",
    "      font-weight: normal; \n",
    "      font-size: 25px; \n",
    "      text-align: center; \n",
    "      padding: 15px; \n",
    "      margin: 10px;\">\n",
    "      Clinical trials ICTRP\n",
    "  </div>\n",
    "\n",
    "\n",
    "  <div style=\" float:left; \n",
    "      font-size: 12px; \n",
    "      line-height: 12px; \n",
    "  padding: 10px 15px 8px;\">\n",
    "  Jean-baptiste AUJOGUE\n",
    "  </div> \n",
    "  \n",
    "  <div style=\" float:right; \n",
    "      font-size: 12px; \n",
    "      line-height: 12px; \n",
    "  padding: 10px 15px 8px;\">\n",
    "  December 2022\n",
    "  </div>"
   ]
  },
  {
   "cell_type": "markdown",
   "metadata": {},
   "source": [
    "<a id=\"TOC\"></a>"
   ]
  },
  {
   "cell_type": "markdown",
   "metadata": {},
   "source": [
    "#### Table Of Content\n",
    "\n",
    "1. [Clinical trials](#texts) <br>\n",
    "\n",
    "\n",
    "#### Useful links\n",
    "\n",
    "- [Clinical Trials ICTRP dataset download](https://www.who.int/clinical-trials-registry-platform)"
   ]
  },
  {
   "cell_type": "code",
   "execution_count": 1,
   "metadata": {},
   "outputs": [],
   "source": [
    "%load_ext autoreload\n",
    "%autoreload 2"
   ]
  },
  {
   "cell_type": "code",
   "execution_count": 2,
   "metadata": {},
   "outputs": [],
   "source": [
    "import os\n",
    "import re\n",
    "import copy\n",
    "import json\n",
    "import zipfile\n",
    "import unicodedata\n",
    "\n",
    "# data\n",
    "import numpy as np\n",
    "import pandas as pd\n",
    "\n",
    "# viz\n",
    "# from tqdm import tnrange"
   ]
  },
  {
   "cell_type": "markdown",
   "metadata": {},
   "source": [
    "#### Custom variables"
   ]
  },
  {
   "cell_type": "code",
   "execution_count": 3,
   "metadata": {},
   "outputs": [
    {
     "data": {
      "text/plain": [
       "'C:\\\\Users\\\\jb\\\\Desktop\\\\NLP\\\\perso - Transformers for NLP\\\\datasets\\\\ictrp'"
      ]
     },
     "execution_count": 3,
     "metadata": {},
     "output_type": "execute_result"
    }
   ],
   "source": [
    "path_to_data = os.path.join(os.getcwd(), 'ictrp')\n",
    "path_to_data"
   ]
  },
  {
   "cell_type": "code",
   "execution_count": 15,
   "metadata": {},
   "outputs": [],
   "source": [
    "# base_dataset_name  = 'ICTRPFullExport-774632-24-03-2022.zip'\n",
    "base_dataset_name  = 'ICTRPFullExport-824884-18-11-2022.zip'\n",
    "final_dataset_name = 'ictrp-dataset'\n",
    "text_dataset_name  = 'ictrp-corpus'"
   ]
  },
  {
   "cell_type": "markdown",
   "metadata": {},
   "source": [
    "<a id=\"texts\"></a>"
   ]
  },
  {
   "cell_type": "markdown",
   "metadata": {},
   "source": [
    "# 1. Clinical trials\n",
    "\n",
    "[Table of content](#TOC)"
   ]
  },
  {
   "cell_type": "markdown",
   "metadata": {},
   "source": [
    "## 1.1 Load corpus\n",
    "\n",
    "[Table of content](#TOC)"
   ]
  },
  {
   "cell_type": "code",
   "execution_count": 16,
   "metadata": {},
   "outputs": [],
   "source": [
    "def strip_accents(s):\n",
    "    return ''.join(\n",
    "        c for c in unicodedata.normalize('NFKD', s)\n",
    "        if unicodedata.category(c) != 'Mn'\n",
    "    )\n",
    "\n",
    "\n",
    "def clean_text(s):\n",
    "    s = (s if s else '')\n",
    "    s = (s[1: -1] if len(s.split(' '))>1 else s)\n",
    "    s = strip_accents(s)\n",
    "    s = re.sub('<br[^>]*>', '\\n', s).strip()\n",
    "    s = re.sub('\\n(\\s)*[\\W]+(\\s)+', ', ', s)\n",
    "    s = re.sub('(?:^)(\\s)*[\\W]+(\\s)+', ' ', s)\n",
    "    s = re.sub('(\\s)+', ' ', s)\n",
    "    s = s.strip()\n",
    "    return s\n",
    "\n",
    "\n",
    "\n",
    "def process_zipfile(zip_file, header = None, names = None):\n",
    "    all_content = []\n",
    "    archive = zipfile.ZipFile(zip_file, 'r')\n",
    "    file = archive.namelist()[0]\n",
    "    with archive.open(file, 'r') as f:\n",
    "        df = pd.read_csv(f, header = header, names = names)\n",
    "    return df\n",
    "    \n",
    "\n",
    "    \n",
    "def clean_dataframe(df):\n",
    "    columns = [\n",
    "        'public_title', 'Scientific_title',\n",
    "        'Inclusion_Criteria', 'Exclusion_Criteria',\n",
    "        'Primary_Outcome', 'Secondary_Outcomes',\n",
    "        'results_summary',\n",
    "        \n",
    "    ]\n",
    "    df = df[columns].fillna('').applymap(clean_text)\n",
    "    df['Inclusion_Criteria'] = df.Inclusion_Criteria.apply(lambda s: re.sub('([Ii]n|[eE]x)clusion [Cc]riteri[a|on](\\s)*:', '', s).strip())\n",
    "    df['Exclusion_Criteria'] = df.Exclusion_Criteria.apply(lambda s: re.sub('([Ii]n|[eE]x)clusion [Cc]riteri[a|on](\\s)*:', '', s).strip())\n",
    "    return df\n",
    "\n",
    "\n",
    "\n",
    "def remove_weird(df, weird = ['a¢a', '¬a¢', '\\x8d', 'a?¥', 'a€¢', 'AA¢AA¥', 'AA¢AA¤', 'a?¢', 'a€tm', '°a¥', '\\\\', 'a??s']):\n",
    "    return df[(\n",
    "        df.Inclusion_Criteria.apply(lambda s: sum([w in str(s).lower() for w in weird]) == 0) &\n",
    "        df.Exclusion_Criteria.apply(lambda s: sum([w in str(s).lower() for w in weird]) == 0)\n",
    "    )]\n",
    "\n",
    "\n",
    "\n",
    "def get_character_count(texts):\n",
    "    text = ' '.join(texts)\n",
    "    return np.unique(list(text), return_counts = True)"
   ]
  },
  {
   "cell_type": "code",
   "execution_count": 17,
   "metadata": {},
   "outputs": [],
   "source": [
    "# df_trials = process_zipfile(os.path.join(path_to_data, 'ICTRPFullExport-774632-24-03-2022.zip'), header = 0)\n",
    "\n",
    "# df_trials.shape # (774632, 63)\n",
    "\n",
    "# columns = df_trials.columns.tolist()\n",
    "columns = [\n",
    "    'TrialID',\n",
    "    '(No column name)',\n",
    "    'SecondaryIDs',\n",
    "    'public_title',\n",
    "    'Scientific_title',\n",
    "    'url',\n",
    "    'Public_Contact_Firstname',\n",
    "    'Public_Contact_Lastname',\n",
    "    'Public_Contact_Address',\n",
    "    'Public_Contact_Email',\n",
    "    'Public_Contact_Tel',\n",
    "    'Public_Contact_Affiliation',\n",
    "    'Scientific_Contact_Firstname',\n",
    "    'Scientific_Contact_Lastname',\n",
    "    'Scientific_Contact_Address',\n",
    "    'Scientific_Contact_Email',\n",
    "    'Scientific_Contact_Tel',\n",
    "    'Scientific_Contact_Affiliation',\n",
    "    'study_type',\n",
    "    'study_design',\n",
    "    'phase',\n",
    "    'Date_registration',\n",
    "    'Date_enrollement',\n",
    "    'Target_size',\n",
    "    'Recruitment_status',\n",
    "    'Primary_sponsor',\n",
    "    'Secondary_sponsors',\n",
    "    'Source_Support',\n",
    "    'Countries',\n",
    "    'Conditions',\n",
    "    'Interventions',\n",
    "    'Age_min',\n",
    "    'Age_max',\n",
    "    'Gender',\n",
    "    'Inclusion_Criteria',\n",
    "    'Exclusion_Criteria',\n",
    "    'Primary_Outcome',\n",
    "    'Secondary_Outcomes',\n",
    "    'Bridging_flag',\n",
    "    'Bridged_type',\n",
    "    'Childs',\n",
    "    'type_enrolment',\n",
    "    'Retrospective_flag',\n",
    "    'results_actual_enrollment',\n",
    "    'results_url_link',\n",
    "    'results_summary',\n",
    "    'results_date_posted',\n",
    "    'results_date_first_publication',\n",
    "    'results_baseline_char',\n",
    "    'results_participant_flow',\n",
    "    'results_adverse_events',\n",
    "    'results_outcome_measures',\n",
    "    'results_url_protocol',\n",
    "    'results_IPD_plan',\n",
    "    'results_IPD_description',\n",
    "    'results_date_completed',\n",
    "    'results_yes_no',\n",
    "    'Ethics_Status',\n",
    "    'Ethics_Approval_Date',\n",
    "    'Ethics_Contact_Name',\n",
    "    'Ethics_Contact_Address',\n",
    "    'Ethics_Contact_Phone',\n",
    "    'Ethics_Contact_Email',\n",
    "]"
   ]
  },
  {
   "cell_type": "code",
   "execution_count": 18,
   "metadata": {},
   "outputs": [
    {
     "name": "stderr",
     "output_type": "stream",
     "text": [
      "C:\\Users\\jb\\AppData\\Local\\Temp\\ipykernel_21712\\3649653668.py:26: DtypeWarning: Columns (8,14,35,40,41,43,45,47,48,49,50,51,52,55,57,58,59,60,61,62) have mixed types. Specify dtype option on import or set low_memory=False.\n",
      "  df = pd.read_csv(f, header = header, names = names)\n"
     ]
    }
   ],
   "source": [
    "df_trials = process_zipfile(os.path.join(path_to_data, base_dataset_name), names = columns)\n",
    "df_trials = remove_weird(df_trials)"
   ]
  },
  {
   "cell_type": "code",
   "execution_count": 19,
   "metadata": {},
   "outputs": [
    {
     "data": {
      "text/plain": [
       "(824502, 63)"
      ]
     },
     "execution_count": 19,
     "metadata": {},
     "output_type": "execute_result"
    }
   ],
   "source": [
    "df_trials.shape"
   ]
  },
  {
   "cell_type": "code",
   "execution_count": 20,
   "metadata": {},
   "outputs": [
    {
     "data": {
      "text/html": [
       "<div>\n",
       "<style scoped>\n",
       "    .dataframe tbody tr th:only-of-type {\n",
       "        vertical-align: middle;\n",
       "    }\n",
       "\n",
       "    .dataframe tbody tr th {\n",
       "        vertical-align: top;\n",
       "    }\n",
       "\n",
       "    .dataframe thead th {\n",
       "        text-align: right;\n",
       "    }\n",
       "</style>\n",
       "<table border=\"1\" class=\"dataframe\">\n",
       "  <thead>\n",
       "    <tr style=\"text-align: right;\">\n",
       "      <th></th>\n",
       "      <th>TrialID</th>\n",
       "      <th>(No column name)</th>\n",
       "      <th>SecondaryIDs</th>\n",
       "      <th>public_title</th>\n",
       "      <th>Scientific_title</th>\n",
       "      <th>url</th>\n",
       "      <th>Public_Contact_Firstname</th>\n",
       "      <th>Public_Contact_Lastname</th>\n",
       "      <th>Public_Contact_Address</th>\n",
       "      <th>Public_Contact_Email</th>\n",
       "      <th>...</th>\n",
       "      <th>results_IPD_plan</th>\n",
       "      <th>results_IPD_description</th>\n",
       "      <th>results_date_completed</th>\n",
       "      <th>results_yes_no</th>\n",
       "      <th>Ethics_Status</th>\n",
       "      <th>Ethics_Approval_Date</th>\n",
       "      <th>Ethics_Contact_Name</th>\n",
       "      <th>Ethics_Contact_Address</th>\n",
       "      <th>Ethics_Contact_Phone</th>\n",
       "      <th>Ethics_Contact_Email</th>\n",
       "    </tr>\n",
       "  </thead>\n",
       "  <tbody>\n",
       "    <tr>\n",
       "      <th>0</th>\n",
       "      <td>NCT05537740</td>\n",
       "      <td>\"24 October 2022\"</td>\n",
       "      <td>\"21820\"</td>\n",
       "      <td>\"A First-in-human Study to Learn How Safe the ...</td>\n",
       "      <td>\"First-in-human Dose-escalation and Expansion ...</td>\n",
       "      <td>\"https://clinicaltrials.gov/show/NCT05537740\"</td>\n",
       "      <td>\" \"</td>\n",
       "      <td>\"Bayer Clinical Trials Contact\"</td>\n",
       "      <td>NaN</td>\n",
       "      <td>\"clinical-trials-contact@bayer.com\"</td>\n",
       "      <td>...</td>\n",
       "      <td>NaN</td>\n",
       "      <td>NaN</td>\n",
       "      <td>NaN</td>\n",
       "      <td>NaN</td>\n",
       "      <td>NaN</td>\n",
       "      <td>NaN</td>\n",
       "      <td>NaN</td>\n",
       "      <td>NaN</td>\n",
       "      <td>NaN</td>\n",
       "      <td>NaN</td>\n",
       "    </tr>\n",
       "    <tr>\n",
       "      <th>1</th>\n",
       "      <td>NCT05544864</td>\n",
       "      <td>\"24 October 2022\"</td>\n",
       "      <td>\"GE IDE no. BA00219\"</td>\n",
       "      <td>\"Intracoronary Stenting and Restenosis - Rando...</td>\n",
       "      <td>\"Intracoronary Stenting and Restenosis - Rando...</td>\n",
       "      <td>\"https://clinicaltrials.gov/show/NCT05544864\"</td>\n",
       "      <td>\" ; \"</td>\n",
       "      <td>\"Jens Wiebe, MD;Jens Wiebe, MD\"</td>\n",
       "      <td>NaN</td>\n",
       "      <td>\"wiebe@dhm.mhn.de;wiebe@dhm.mhn.de\"</td>\n",
       "      <td>...</td>\n",
       "      <td>NaN</td>\n",
       "      <td>NaN</td>\n",
       "      <td>NaN</td>\n",
       "      <td>NaN</td>\n",
       "      <td>NaN</td>\n",
       "      <td>NaN</td>\n",
       "      <td>NaN</td>\n",
       "      <td>NaN</td>\n",
       "      <td>NaN</td>\n",
       "      <td>NaN</td>\n",
       "    </tr>\n",
       "    <tr>\n",
       "      <th>2</th>\n",
       "      <td>NCT05573529</td>\n",
       "      <td>\"24 October 2022\"</td>\n",
       "      <td>\"1163/2020\"</td>\n",
       "      <td>\"EDOF and Multifocal IOL Study\"</td>\n",
       "      <td>\"Comparison of Visual Outcomes and Patient Sat...</td>\n",
       "      <td>\"https://clinicaltrials.gov/show/NCT05573529\"</td>\n",
       "      <td>\" ; \"</td>\n",
       "      <td>\"Christina Leydolt, MD;Christina Leydolt, MD\"</td>\n",
       "      <td>NaN</td>\n",
       "      <td>\"christina.leydolt@meduniwien.ac.at;christina....</td>\n",
       "      <td>...</td>\n",
       "      <td>NaN</td>\n",
       "      <td>NaN</td>\n",
       "      <td>NaN</td>\n",
       "      <td>NaN</td>\n",
       "      <td>NaN</td>\n",
       "      <td>NaN</td>\n",
       "      <td>NaN</td>\n",
       "      <td>NaN</td>\n",
       "      <td>NaN</td>\n",
       "      <td>NaN</td>\n",
       "    </tr>\n",
       "    <tr>\n",
       "      <th>3</th>\n",
       "      <td>NCT05536791</td>\n",
       "      <td>\"31 October 2022\"</td>\n",
       "      <td>\"1160-0307\"</td>\n",
       "      <td>\"A Study in Europe Based on Medical Records Th...</td>\n",
       "      <td>\"Safety of Dabigatran Etexilate (DE) for Treat...</td>\n",
       "      <td>\"https://clinicaltrials.gov/show/NCT05536791\"</td>\n",
       "      <td>\" \"</td>\n",
       "      <td>\"Boehringer Ingelheim\"</td>\n",
       "      <td>NaN</td>\n",
       "      <td>\"clintriage.rdg@boehringer-ingelheim.com\"</td>\n",
       "      <td>...</td>\n",
       "      <td>NaN</td>\n",
       "      <td>NaN</td>\n",
       "      <td>NaN</td>\n",
       "      <td>NaN</td>\n",
       "      <td>NaN</td>\n",
       "      <td>NaN</td>\n",
       "      <td>NaN</td>\n",
       "      <td>NaN</td>\n",
       "      <td>NaN</td>\n",
       "      <td>NaN</td>\n",
       "    </tr>\n",
       "    <tr>\n",
       "      <th>4</th>\n",
       "      <td>NCT05536804</td>\n",
       "      <td>\"31 October 2022\"</td>\n",
       "      <td>\"I8F-MC-GPIG;2021-005273-47;17217\"</td>\n",
       "      <td>\"A Study of Tirzepatide (LY3298176) in Partici...</td>\n",
       "      <td>\"Tirzepatide Study of Renal Function in People...</td>\n",
       "      <td>\"https://clinicaltrials.gov/show/NCT05536804\"</td>\n",
       "      <td>\" ; \"</td>\n",
       "      <td>\"Call 1-877-CTLILLY (1-877-285-4559) or 1-317-...</td>\n",
       "      <td>NaN</td>\n",
       "      <td>\";ClinicalTrials.gov@lilly.com\"</td>\n",
       "      <td>...</td>\n",
       "      <td>NaN</td>\n",
       "      <td>NaN</td>\n",
       "      <td>NaN</td>\n",
       "      <td>NaN</td>\n",
       "      <td>NaN</td>\n",
       "      <td>NaN</td>\n",
       "      <td>NaN</td>\n",
       "      <td>NaN</td>\n",
       "      <td>NaN</td>\n",
       "      <td>NaN</td>\n",
       "    </tr>\n",
       "  </tbody>\n",
       "</table>\n",
       "<p>5 rows × 63 columns</p>\n",
       "</div>"
      ],
      "text/plain": [
       "       TrialID   (No column name)                        SecondaryIDs  \\\n",
       "0  NCT05537740  \"24 October 2022\"                             \"21820\"   \n",
       "1  NCT05544864  \"24 October 2022\"                \"GE IDE no. BA00219\"   \n",
       "2  NCT05573529  \"24 October 2022\"                         \"1163/2020\"   \n",
       "3  NCT05536791  \"31 October 2022\"                         \"1160-0307\"   \n",
       "4  NCT05536804  \"31 October 2022\"  \"I8F-MC-GPIG;2021-005273-47;17217\"   \n",
       "\n",
       "                                        public_title  \\\n",
       "0  \"A First-in-human Study to Learn How Safe the ...   \n",
       "1  \"Intracoronary Stenting and Restenosis - Rando...   \n",
       "2                    \"EDOF and Multifocal IOL Study\"   \n",
       "3  \"A Study in Europe Based on Medical Records Th...   \n",
       "4  \"A Study of Tirzepatide (LY3298176) in Partici...   \n",
       "\n",
       "                                    Scientific_title  \\\n",
       "0  \"First-in-human Dose-escalation and Expansion ...   \n",
       "1  \"Intracoronary Stenting and Restenosis - Rando...   \n",
       "2  \"Comparison of Visual Outcomes and Patient Sat...   \n",
       "3  \"Safety of Dabigatran Etexilate (DE) for Treat...   \n",
       "4  \"Tirzepatide Study of Renal Function in People...   \n",
       "\n",
       "                                             url Public_Contact_Firstname  \\\n",
       "0  \"https://clinicaltrials.gov/show/NCT05537740\"                      \" \"   \n",
       "1  \"https://clinicaltrials.gov/show/NCT05544864\"                    \" ; \"   \n",
       "2  \"https://clinicaltrials.gov/show/NCT05573529\"                    \" ; \"   \n",
       "3  \"https://clinicaltrials.gov/show/NCT05536791\"                      \" \"   \n",
       "4  \"https://clinicaltrials.gov/show/NCT05536804\"                    \" ; \"   \n",
       "\n",
       "                             Public_Contact_Lastname Public_Contact_Address  \\\n",
       "0                    \"Bayer Clinical Trials Contact\"                    NaN   \n",
       "1                    \"Jens Wiebe, MD;Jens Wiebe, MD\"                    NaN   \n",
       "2      \"Christina Leydolt, MD;Christina Leydolt, MD\"                    NaN   \n",
       "3                             \"Boehringer Ingelheim\"                    NaN   \n",
       "4  \"Call 1-877-CTLILLY (1-877-285-4559) or 1-317-...                    NaN   \n",
       "\n",
       "                                Public_Contact_Email  ... results_IPD_plan  \\\n",
       "0                \"clinical-trials-contact@bayer.com\"  ...              NaN   \n",
       "1                \"wiebe@dhm.mhn.de;wiebe@dhm.mhn.de\"  ...              NaN   \n",
       "2  \"christina.leydolt@meduniwien.ac.at;christina....  ...              NaN   \n",
       "3          \"clintriage.rdg@boehringer-ingelheim.com\"  ...              NaN   \n",
       "4                    \";ClinicalTrials.gov@lilly.com\"  ...              NaN   \n",
       "\n",
       "  results_IPD_description results_date_completed results_yes_no Ethics_Status  \\\n",
       "0                     NaN                    NaN            NaN           NaN   \n",
       "1                     NaN                    NaN            NaN           NaN   \n",
       "2                     NaN                    NaN            NaN           NaN   \n",
       "3                     NaN                    NaN            NaN           NaN   \n",
       "4                     NaN                    NaN            NaN           NaN   \n",
       "\n",
       "  Ethics_Approval_Date Ethics_Contact_Name Ethics_Contact_Address  \\\n",
       "0                  NaN                 NaN                    NaN   \n",
       "1                  NaN                 NaN                    NaN   \n",
       "2                  NaN                 NaN                    NaN   \n",
       "3                  NaN                 NaN                    NaN   \n",
       "4                  NaN                 NaN                    NaN   \n",
       "\n",
       "  Ethics_Contact_Phone Ethics_Contact_Email  \n",
       "0                  NaN                  NaN  \n",
       "1                  NaN                  NaN  \n",
       "2                  NaN                  NaN  \n",
       "3                  NaN                  NaN  \n",
       "4                  NaN                  NaN  \n",
       "\n",
       "[5 rows x 63 columns]"
      ]
     },
     "execution_count": 20,
     "metadata": {},
     "output_type": "execute_result"
    }
   ],
   "source": [
    "df_trials.head()"
   ]
  },
  {
   "cell_type": "markdown",
   "metadata": {},
   "source": [
    "## 1.2 Clean corpus\n",
    "\n",
    "[Table of content](#TOC)"
   ]
  },
  {
   "cell_type": "code",
   "execution_count": 21,
   "metadata": {},
   "outputs": [],
   "source": [
    "df_trials = clean_dataframe(df_trials)\n",
    "df_trials = remove_weird(df_trials) # a lot of texts are removed because they contain badly encoded latin-1 characters"
   ]
  },
  {
   "cell_type": "code",
   "execution_count": 22,
   "metadata": {},
   "outputs": [
    {
     "data": {
      "text/plain": [
       "(814391, 7)"
      ]
     },
     "execution_count": 22,
     "metadata": {},
     "output_type": "execute_result"
    }
   ],
   "source": [
    "df_trials.shape"
   ]
  },
  {
   "cell_type": "code",
   "execution_count": 23,
   "metadata": {},
   "outputs": [
    {
     "data": {
      "text/html": [
       "<div>\n",
       "<style scoped>\n",
       "    .dataframe tbody tr th:only-of-type {\n",
       "        vertical-align: middle;\n",
       "    }\n",
       "\n",
       "    .dataframe tbody tr th {\n",
       "        vertical-align: top;\n",
       "    }\n",
       "\n",
       "    .dataframe thead th {\n",
       "        text-align: right;\n",
       "    }\n",
       "</style>\n",
       "<table border=\"1\" class=\"dataframe\">\n",
       "  <thead>\n",
       "    <tr style=\"text-align: right;\">\n",
       "      <th></th>\n",
       "      <th>public_title</th>\n",
       "      <th>Scientific_title</th>\n",
       "      <th>Inclusion_Criteria</th>\n",
       "      <th>Exclusion_Criteria</th>\n",
       "      <th>Primary_Outcome</th>\n",
       "      <th>Secondary_Outcomes</th>\n",
       "      <th>results_summary</th>\n",
       "    </tr>\n",
       "  </thead>\n",
       "  <tbody>\n",
       "    <tr>\n",
       "      <th>0</th>\n",
       "      <td>A First-in-human Study to Learn How Safe the S...</td>\n",
       "      <td>First-in-human Dose-escalation and Expansion S...</td>\n",
       "      <td>, Capable of giving signed informed consent., ...</td>\n",
       "      <td></td>\n",
       "      <td>Number of participants with treatment-emergent...</td>\n",
       "      <td>Objective response rate (ORR);Fold change in s...</td>\n",
       "      <td></td>\n",
       "    </tr>\n",
       "    <tr>\n",
       "      <th>1</th>\n",
       "      <td>Intracoronary Stenting and Restenosis - Random...</td>\n",
       "      <td>Intracoronary Stenting and Restenosis - Random...</td>\n",
       "      <td>, 1. Patients with ischemic symptoms and/or ev...</td>\n",
       "      <td></td>\n",
       "      <td>Composite endpoint of major adverse cardiac ev...</td>\n",
       "      <td>Target lesion failure (TLF): a composite of ca...</td>\n",
       "      <td></td>\n",
       "    </tr>\n",
       "    <tr>\n",
       "      <th>2</th>\n",
       "      <td>EDOF and Multifocal IOL Study</td>\n",
       "      <td>Comparison of Visual Outcomes and Patient Sati...</td>\n",
       "      <td>, Bilateral age-related cataract for which pha...</td>\n",
       "      <td></td>\n",
       "      <td>distant corrected near visual acuity</td>\n",
       "      <td></td>\n",
       "      <td></td>\n",
       "    </tr>\n",
       "    <tr>\n",
       "      <th>3</th>\n",
       "      <td>A Study in Europe Based on Medical Records Tha...</td>\n",
       "      <td>Safety of Dabigatran Etexilate (DE) for Treatm...</td>\n",
       "      <td>, Written informed consent from parents/care g...</td>\n",
       "      <td></td>\n",
       "      <td>Incidence of any bleeding events defined as Ma...</td>\n",
       "      <td>Incidence of Adverse Events (AEs);Incidence of...</td>\n",
       "      <td></td>\n",
       "    </tr>\n",
       "    <tr>\n",
       "      <th>4</th>\n",
       "      <td>A Study of Tirzepatide (LY3298176) in Particip...</td>\n",
       "      <td>Tirzepatide Study of Renal Function in People ...</td>\n",
       "      <td>, All participants with or without diabetes:, ...</td>\n",
       "      <td></td>\n",
       "      <td>Change from Baseline in Kidney Oxygenation in ...</td>\n",
       "      <td>Change from Baseline in Kidney Oxygenation in ...</td>\n",
       "      <td></td>\n",
       "    </tr>\n",
       "  </tbody>\n",
       "</table>\n",
       "</div>"
      ],
      "text/plain": [
       "                                        public_title  \\\n",
       "0  A First-in-human Study to Learn How Safe the S...   \n",
       "1  Intracoronary Stenting and Restenosis - Random...   \n",
       "2                      EDOF and Multifocal IOL Study   \n",
       "3  A Study in Europe Based on Medical Records Tha...   \n",
       "4  A Study of Tirzepatide (LY3298176) in Particip...   \n",
       "\n",
       "                                    Scientific_title  \\\n",
       "0  First-in-human Dose-escalation and Expansion S...   \n",
       "1  Intracoronary Stenting and Restenosis - Random...   \n",
       "2  Comparison of Visual Outcomes and Patient Sati...   \n",
       "3  Safety of Dabigatran Etexilate (DE) for Treatm...   \n",
       "4  Tirzepatide Study of Renal Function in People ...   \n",
       "\n",
       "                                  Inclusion_Criteria Exclusion_Criteria  \\\n",
       "0  , Capable of giving signed informed consent., ...                      \n",
       "1  , 1. Patients with ischemic symptoms and/or ev...                      \n",
       "2  , Bilateral age-related cataract for which pha...                      \n",
       "3  , Written informed consent from parents/care g...                      \n",
       "4  , All participants with or without diabetes:, ...                      \n",
       "\n",
       "                                     Primary_Outcome  \\\n",
       "0  Number of participants with treatment-emergent...   \n",
       "1  Composite endpoint of major adverse cardiac ev...   \n",
       "2               distant corrected near visual acuity   \n",
       "3  Incidence of any bleeding events defined as Ma...   \n",
       "4  Change from Baseline in Kidney Oxygenation in ...   \n",
       "\n",
       "                                  Secondary_Outcomes results_summary  \n",
       "0  Objective response rate (ORR);Fold change in s...                  \n",
       "1  Target lesion failure (TLF): a composite of ca...                  \n",
       "2                                                                     \n",
       "3  Incidence of Adverse Events (AEs);Incidence of...                  \n",
       "4  Change from Baseline in Kidney Oxygenation in ...                  "
      ]
     },
     "execution_count": 23,
     "metadata": {},
     "output_type": "execute_result"
    }
   ],
   "source": [
    "df_trials.head()"
   ]
  },
  {
   "cell_type": "code",
   "execution_count": 24,
   "metadata": {},
   "outputs": [],
   "source": [
    "# # weird_idx = [\n",
    "#  86252,\n",
    "#  86318,\n",
    "#  86320,\n",
    "#  86322,\n",
    "#  86323,\n",
    "#  86324,\n",
    "#  86333,\n",
    "#  86335,\n",
    "#  86407,\n",
    "#  86408,\n",
    "#  86409,\n",
    "#  86412,\n",
    "#  86417,\n",
    "# ..."
   ]
  },
  {
   "cell_type": "code",
   "execution_count": 25,
   "metadata": {},
   "outputs": [
    {
     "data": {
      "text/plain": [
       "['Septicemia 2. Active malignancy or patient on immunosuppressive therapy within last 3 months 2.Uncontrolled hyperglycaemia 3.Clinically important gastrointestinal bleed 4.Pregnancy 5.History of hypersensitivity to steroid preparations',\n",
       " 'Ophthalmological criteria: 1) Corrected visual acuity &lt; 0.5 2) Refractive Error with a spherical equivalent &gt; +6 or smaller - 6 D 3) Elevated intraocular pressure (higher than 22 mmHg) 4) Relevant anisocoria or pupil deformation 5) History of eye surgery apart from laser trabeculoplasty less than three months previously or extraocular surgery such as strabismus surgery 6) Topical ocular medication influencing IOP (intraocular pressure) or pupil size within 3 months prior to study-start 7) Combined surgery Non-surgical conditions in the eye to be operated 8) Iatrogenic or traumatic or congenital cataract 9) Pupillary abnormalities (irregular) 10) Very dark iris - Iris synechiae 11) Eye movement disorder (Nystagmus) 12) Dacryocystitis and all others pathologies of tears drainage system 13) History of Inflammatory ocular disease (Iritis, uveitis, herpetic keratitis) 14) Corneal, epithelial, stromal or endothelial, residual or evolutionary disease (including corneal ulceration and superficial punctuate keratitis 15)s - Pseudoexfoliation, exfoliative syndrome',\n",
       " 'Children associated with Congenital disease Inborn errors of metabolism Secondary malnutrition Systemic disease Children who are stunted and wasted',\n",
       " 'Exclusion criteria adapted for our study were patients with known allergy to study drugs, patient refusal of local anaesthetic block, patients suffering from neurological disorders, psychiatric disorders, mental retardation, uncontrolled hypertension and diabetes mellitus, coagulation or bleeding abnormalities,pregnant women and lactating mothers, patients on adrenergic agonist/antagonist medications and infection at the site of the block.',\n",
       " 'patients with known allergy to study drugs, patient refusal of local anaesthetic block, patients suffering from neurological disorders, psychiatric disorders, mental retardation, uncontrolled hypertension and diabetes mellitus, coagulation or bleeding abnormalities, severe spinal deformity, history of preeclampsia, twin gestations, infection at spinal injection site or any contraindication to spinal anaesthesia and cases posted for emergency caesarean section',\n",
       " '1, Any recent injury which makes them unable to practice / play. 2, Not involved in the game from the last 6-8 week',\n",
       " 'Grade I & Grade II internal haemorrhoids HIV, HbsAg & AntiHCV patients External haemorrhoids Rectal polyp Cardiac diseased patients Hypertrophied anal papilla',\n",
       " 'current moderate to severe depression, substance dependence, and CBT exposure in the preceding six months. Participants will be randomized to bCBGT or waitlisted control groups.',\n",
       " 'Presence of physical impairment. Those who self-identify as having undergone psychiatric/ psychological intervention within the past 6 months.',\n",
       " '1. Fractures followed by road traffic accidents (RTA) 2. Pathological fractures other than osteoporosis',\n",
       " 'Neonates with congenital malformations and neonates who are enrolled in any other study.',\n",
       " 'cases contra-indicated for MRI for e.g. pregnant ladies etc, cases with congenital structural deformity of shoulder region, cases with highly immuno-compromised patients like HIV',\n",
       " '1. Parturient refusal 2. Local infection 3. Coagulopathy 4. Allergy to the study drugs 5. Any neurological deficit 6. Multifoetal gestation',\n",
       " '1. Patients presenting severe multisystemic symptoms compatible with advanced Covid-19 and intercurrent acute or severe chronic diseases (i.e. active cancer). 2. Presence of acute hypoxic respiratory failure 3. Requires Intensive care unit (ICU) care for management of ongoing clinical status 4. Severe infection, defined as need for invasive or non-invasive ventilator support 5. Inability to intake or tolerate oral medication 6. Category 6 or 5 based on modified 7-category ordinal scale of clinical status 7. Clinical prognostic non-survival, palliative care, and have no response to supportive treatment within three hours of admission 8. Pregnant or lactating subjects 9. With any secondary complication such as diabetes, cancer, HIV or hypertension.',\n",
       " '1.Acute infection or any recent illness 2. Presence of any major musculoskeletal, cardiovascular or neurological condition limiting cognition and mobility',\n",
       " '1. Presence of Consultant obstetrician/ Consultant Anaesthetist 2. Elective cases',\n",
       " '1.Receipt within the 4 weeks prior to Day a.Cyclosporine (except eye drops) b.Tacrolimus (except topical) c.Methotrexate 2.Current use of: a.Prednisone > 40 mg/day or > 80 mg over a 2-day period (or equivalent dose of other corticosteroids)',\n",
       " '1 Pregnant women 2 Known cases of Tuberculosis cervical carcinoma HIV VDRL HbsAg positive patient 3 Women with second and third degree of uterine prolapse 4 Women with coagulation disorders 5 Women using IUCD 6 High risk of cautery like patient with metallic implant or heart disease',\n",
       " '1. patients of leukoderma. (leukoderma will strictly occur following a physical trauma such as cut, burn / ulceration) 2. patients with personal and familial mental illness, any other major systemic disorder and congenital brain / spinal cord anamolies.',\n",
       " '1 Subjects with history of fracture or dislocation or external wound of shoulder joint. 2 Subjects with history of any anatomical deformity of nose. 3 Woman who is pregnant and lactating.',\n",
       " 'Exclusion criteria (For Probands) 1.Patient already on medication for suspected glaucoma or review patients 2.Glaucoma suspects 3.Patients with secondary glaucoma apart from pseudo-exfoliation glaucoma 4.Ocular hypertension (OHT) 5.Primary angle closure suspect (PACS)',\n",
       " '1. Cardiac failure 2. Critical cases 3. Congenital heart disease',\n",
       " '1. Inoperable patients 2. Refusal of consent',\n",
       " 'Neonates on invasive ventilator (non cpap) Clinically evident abnormal neurological signs have received analgesic or sedative in last 24 hours',\n",
       " 'Patients with associated respiratory or cardiovascular system disease or hemodynamically unstable patients. Patients with less than 18 year of age or more than 60 years of age',\n",
       " '5.Sero-positive for HIV virus antibodies either by ELISA or by rapid test 6.Is pregnant or lactating 7.Known case of diabetes mellitus/RBS > 200mg /FBS >126 mg/dl 8.Poor general condition or has any condition (social or medical) which in the opinion of the investigator would make trial participation unreliable or unsafe. 9.Is allergic to the constituents of EDNS such as peanut etc.',\n",
       " 'Pregnant patients,those with history of upper gastrointestinal morbidity or upper abdominal surgery and patients with liver and kidney disease will be excluded from the study.',\n",
       " 'Patients with known mutation diagnosed tumour syndromes of pre confirmed familial cancer syndromes will be excluded as their molecular progression is already established. Patients not consenting for the study will also be excluded.',\n",
       " '1. Individuals with chronic hepatitis (more than 3 months), Patients with malignant jaundice, patient with acute hepatitis (Other than infective). 2. Individuals with known hypersensitivity to ingredients of study products; individuals with immediate life threatening diseases such as preexisting cardiovascular, liver, or neoplastic diseases or who received any immunosuppressant, sedative, hypnotic or tranquilizer within 14 days prior to enrollment; 3. Individuals with any psychiatric illness which may impair the ability to provide written ICF. 4. Individuals participating in any other clinical trial. 5. Pregnant or lactating females. 6. Alcohol, smoke, and drug abusers will be excluded from study',\n",
       " 'Pre existing neurologic deficit. Coagulation disorders. Local infection at the site of procedure. Allergic to local anaesthetic agent. Patients with rheumatoid and osteoarthritis causing shoulder pain.',\n",
       " '1.Patients having fully dilated pupil on table (Femto/ Non- Femto cases) 2.A patient with a known pathology that may affect visual acuity (as determined by the Investigator); particularly retinal changes that affect vision (macular degeneration, cystoid macular edema, proliferative diabetic retinopathy, etc.) in either eye 3.A patient with amblyopia or strabismus 4.A patient with capsule or zonular abnormalities that may affect postoperative centration or tilt of the lens (e.g. pseudoexfoliation syndrome) in either eye 5.A patient has a history of significant ocular trauma or prior ocular surgery in either eye 6.A patient with cornea guttata, corneal scarring, keratoplasty, irregular astigmatism (e.g. Keratoconus) 7.A patient that may or is expected to undergo surgical intervention and/or ocular laser treatment prior to or during the study period in either eye 8.Need for a dioptre out of the range of +16.0D to +26.0D 9.A patient with any uncontrolled systemic disease. A potential patient in whom therapy for a systemic disease is not yet stabilized will not be considered for entry into the study 10.A patient currently participating or has participated within 30 days prior to the start of this study in a drug or other investigational research study',\n",
       " '1.Pregnant women 2.Women with ongoing vaginal bleeding 3.Patients with acute cervicitis 4.Patients with an obvious growth in cervix',\n",
       " 'Subjects previously treated for spasticity associated with cerebral palsy',\n",
       " 'Patients who have under gone any type of thyroid surgery. Patients suffering from systemic diseases like Ischemic Heart Disease, Diabetes mellitus, carcinomas etc. Patients suffering from congenital hypothyroidism Pregnancy and lactation Rapid progressive case of myxedema Hypothyroidism due to drug therapy and infiltrative diseases like sarcoidosis, scleroderma, haemochromatosis.',\n",
       " '1.Distorted endometrial cavity because of recurrent adhesions 2.Patients not willing to participate in study',\n",
       " 'Children who are not willing to participate, with any history of / diagnosed case of- Diabetes, acute or chronic respiratory disorder, cardio-vascular disorder, neurophysiological disorder, musculoskeletal disorder, any other known medical/systemic condition, on any regular medication and children who are currently engaged on a regular basis in sports, parents who answered a??YES to one or more questionsa?? on PARQ (physical activity readiness questionnaire) and the one diagnosed with any physical problem in annual physical examination conducted by school authorities',\n",
       " 'patient with diabetes mellitus type 1 patient of gestational diabetes and juvenile diabetes known case of type 2 diabetes mellitus associated with complication such as ischemic heart disease',\n",
       " '1) Patients who have undergone radiotherapy or any other treatment for the same illness 2) Patients with previous history of any malignancy in upper aero-digestive tract 3) Patients with malignancy extending beyond oral tongue- buccal mucosa or mandible 4) Patients lost to follow up or develop recurrence during follow up period 5) Patients with pre-existing speech or swallowing disorders',\n",
       " 'PATIENTS WHO ARE CONTRAINDICATED FOR VAMANA KARMA. PATIENTS BELOW 18 YEARS AND ABOVE 50 YEARS OF AGE.',\n",
       " 'Vamana and Virechana Ayogya as per classical text will be excluded for study. Patients suffering from severe systemic illnesses like uncontrolled diabetes mellitus,uncontrolled hypertension,tuberculosis,carcinoma etc will also be excluded.',\n",
       " 'PATIENTS WITH ISCHEMIC HEART DISEASE, UNCONTROLLED HYPERTENSION, MYOCARDIAL INFARCTION, CEREBROVASCULAR PATHOLOGY; PREGNANCY; ACTIVE MALIGNANT DISEASE; PATIENTS CONTRAINDICATED FOR VIRECHANA AND BASTI KARMA',\n",
       " 'ASA III and above, Obese, underweight subjects(BMI) , pregnant women, patients with bleeding and clotting disorders, allergic to local anesthetic agents,inadequate spinal blockade supplemented by other drugs and complicated surgeries will be excluded from the study.',\n",
       " 'Patients suffering from severe systemic illnesses like uncontrolled DM,and/or with the pathology of trauma,infections, demyelinated diseases,reactions to surgery and anesthesia, brain cancers, congenital anomalies or any psychological illness.',\n",
       " 'Those who are not willing to give consent will be excluded from the study.',\n",
       " 'People who are from the non-medical background other than hospital administrators and directors are excluded from the study',\n",
       " 'Children with any known cognitive disabilities, or differently abled children and children who are irregular / discontinuing the program mid-way will be excluded.',\n",
       " 'No specific exclusion criteria can be defined for the registry enrollment.',\n",
       " 'ASA III and above, Obese, underweight subjects(BMI) , pregnant women, patients with bleeding and clotting disorders, allergic to local anesthetic agents and complicated surgeries were excluded from the study.',\n",
       " '1. Patients with pure ductal carcinomas in situ (in patients undergoing upfront surgery). 2. Patients with non-epithelial malignant conditions of the breast viz. Sarcomas, lymphomas, phyllodes tumors 3. Patients with metaplastic breast cancers 4. Presence of pathologically proven residual supraclavicular nodal metastases or residual internal mammary lymphadenopathy at time of radiotherapy. 5. Prior radiotherapy to the ipsilateral breast/chest wall or the mediastinum. Patients with synchronous / metachronous contralateral breast malignancies will be eligible for inclusion. Patients requiring bilateral breast radiotherapy are also eligible for inclusion. Concurrent illness, including severe infection that may jeopardize the ability of the patient to undergo the procedures outlined in this protocol with reasonable safety 7. Serious medical or psychiatric conditions that might limit the ability of the patient to comply with the protocol. 8. Patients planned for concurrent chemotherapy during radiation therapy. Concurrent hormonal therapy or targeted therapy using anti-HER2 agents is allowed.',\n",
       " '- Patients who are critically ill and bedridden. , Those who are not willing to participate.',\n",
       " '1. Patients who are not willing for trial. 2. Patients with poorly controlled Hypertension (B.P. > 160/100 mm Hg). 3. Patients with the evidence of malignancy. 4. Pregnant or lactating ladies 5. Patient with chronicity more than >3 years. 6. Patients of Aamvata having Niraam- Avastha. 7. Patients on prolonged medication ( > 6 weeks) with corticosteroids, or any other drugs , that may have an influence on the outcome of the study. 8. Patients who are currently participating in any other clinical trials (since last 6 months). 9. Any other conditions which the researcher thinks may jeopardize the study. 10. Patients with poorly controlled Diabetes Mellitus (HBA1C 6.5 to 10 mmol/dl) 11. Patients having gouty arthritis, syphilitic arthritis, psoriatic arthritis, rheumatic arthritis, , tubercular arthritis, gonococcal arthritis etc. 12. Patient with contracture and having deformity in the joints. 13. Patients having gross disability in performing daily normal routine i.e. bed ridden patients or confined to a wheelchair or have to take help to perform daily routine activity.',\n",
       " 'Patients with hydroureteronephrosis Patient with other systematic disorders interfering with the study Size of stone more than 10mm',\n",
       " '1. Subjects who refuse to sign the informed consent 2. Pregnant or lactating mothers 3. Corneal disease that precludes application of the cornea or transmission of laser light at 1030 nanometer (nm)wavelength 4. Descemetocele with impending corneal rupture 5. Corneal opacity that would interfere with the laser beam 6. Presence of blood or other material in the anterior chamber 7. Hypotony or presence of corneal implant 8. Poorly dilating pupils, such that the iris is not peripheral to the intended diameter for the capsulotomy 9. Condition which would cause inadequate clearance between the intended capsulotomy depth and the endothelium 10. Residual, recurrent, active ocular or eye lid disease, including any corneal abnormality (for example, recurrent corneal erosion, severe basement membrane disease) 11. A history of lens or zonular instability 12. Any contraindication to cataract surgery 13. Corneal thickness requirements that are beyond the range of the LenSx Laser system (More than 1200 I1⁄4) 14. Subjects who in the opinion of the investigator are not good candidates for the trial 15. Subjects whose postoperative best corrected visual potential is expected to be worse than 20/40 Snellen (0.3 logMAR) at the final study visit',\n",
       " '1.Subjects with compromised renal and liver function. 2. Subjects with any chronic infection or significant systemic disease. 3. Subjects with known history of food allergies. 4. Subjects with inflammatory conditions of oral cavity i.e. ulcers, or neuromuscular dysfunction affecting swallowing. 5. Subjects not willing to sign informed consent 6. Subjects not willing to come for follow-up as and when required',\n",
       " 'hemodynamic instability (MAP < 60 mm Hg), Polytrauma including head and thoracic injuries, Suspected/ known coagulation abnormalities, sepsis, fever, and anatomically distorted spines',\n",
       " '1.Documented non-coronary cardiac condition that is known to cause cardiac arrest (hypertrophic cardiomyopathy, arrhythmogenic right ventricular cardiomyopathy, long QT syndrome, etc > , 2.Undiagnosed congenital heart defects',\n",
       " '1. Children suffering simultaneously from other chronic infections like tuberculosis or HIV disease. 2. Children presenting with very severe autism as diagnosed by CARS with history of severe and frequent violent exacerbations, which required continuous allopathic medications and/or hospitalization. 3. Children undertaking pharmacological treatment or any recent history of such treatment to treat autism within 30 days of participation into the study.',\n",
       " '1. A known history or present condition of allergic response to any cosmetic products. 2.Skin disease (e.g. psoriasis, atopic dermatitis or other cutaneous manifestations on the scalp), which would interfere with the test readings. 3. Medications (e.g. steroids or antihistamines), which would compromise the study.',\n",
       " '1. Participants involved in other wellness programs, , self-reported and newly diagnosed diabetes , 2. Those who have undergone any major surgery , (esp. cardiovascular or bariatric) within past 3 , years , 3. Pregnancy , 4. Type 1 diabetes , 5. Cardiovascular (CVD) disorders (unstable , angina pectoris, heart failure, life-threatening , arrhythmia), Advanced stage cancer, kidney , failure and/or on dialysis)',\n",
       " '. Inpatients. , Co-morbid neurological conditions, history of head injury. .Co-morbid Axis I diagnosis of substance dependence syndrome, or current psychoactive substance abuse (except nicotine dependence), severe depression with psychotic symptoms. .Mental retardation on clinical assessment. .Patients who have undergone neuropsychological assessment in the six months prior to entry into the study. Patients who have received cognitive remediation or structured psychological therapy or social skills training in the past one year. , Patients who have received electro-convulsive treatment (ECT) in the six months prior to being recruited for the present study.',\n",
       " '1) Pregnant patients 2) Medically compromised patients 3) Metabolic diseases affecting bone regeneration- Diabetics, Thyroid. 4)Not willing for regular followup visits',\n",
       " 'Multiple pregnancy, GDM on insulin, medical complications',\n",
       " '1.Female subjects, who are pregnant, breast feeding or planning to become pregnant. 2.Subject has known allergy to non-steroidal anti-inflammatory drugs (NSAIDs) (including aspirin) or has a suspected hypersensitivity, allergy or other contraindication to any compound present in the study medication 3.History of underlying inflammatory arthropathy or severe RA or OA (VAS score greater than 70) 4.Subjects scheduled for any surgery within 3 months of completing the study 5.Recent injury in the area affected by OA of the knee (past 4 months) 6.History of Gout 7.History of congestive heart failure 8.Evidence or history of clinically significant (in the judgment of the Investigator) hematological, renal, endocrine, pulmonary, gastrointestinal, cardiovascular, hepatic, neurologic diseases, or malignancies 9.History of Systemic Lupus Erythematosus (SLE) 10.High alcohol intake ( >2 standard drinks per day) or use of recreational drugs (such as cocaine, methamphetamine, marijuana, etc) 11.History of psychiatric disorder that may impair the ability of subjects to provide written informed consent 12.Participation in any other trials involving investigational or marketed products within 30 days prior to the Screening Visit 13.Have taken any corticosteroid, indomethacin, glucosamine + chondroitin, within 3 months prior to the Treatment Period, Day 0 (Visit 1) or intra-articular treatment / injections with corticosteroid or hyaluronic acid or Omega-3 Fatty acids dietary supplements within 6 months preceding the treatment period.',\n",
       " '1. Subjects who had major protocol violation (as determined by the Sponsor) in the A3921083 study. 2. Subjects likely to require any type of surgery during the study period. 3. Fecal culture/toxin assay indicating presence of pathogenic infection.',\n",
       " 'Signs of severe malaria, history of previous antimalarial intake within &lt; 1 week, children &lt;1 year, and G6PD deficient patients will be excluded from the study.',\n",
       " '1. Resting blood pressure greater than or equal to 160/100 mm Hg 2. Factors that may limit adherence to intervention or affect conduct of the trial such as lack of time, amount of travel, and/or work or family stressors 3. Unable or willing to communicate with staff, to provide written informed consent, or accept the randomized assignment 4. Failure to complete behavioral run-in and baseline testing 5. Not physically capable of performing the exercise required of the study protocols 6. Plans to be away in the next 6 weeks 7. Significant weight loss in the past year ( >20 kg) or current use of weight loss medications 8. Current diagnosis of schizophrenia, or other psychotic disorders, or bipolar disorder 9. History of bariatric surgery within last 3 years 10. Other temporary intervening event, such as sick spouse, bereavement, or recent move 11. Underlying diseases or conditions likely to limit lifespan and/or affect the safety of the intervention 12. Self-report HIV or tuberculosis 13. History or evidence of serious arrhythmias, cardiomyopathy, congestive heart failure, aortic aneurysm, or heart transplantation 14. Renal disease: currently receiving dialysis 15. Type I diabetes mellitus 16. Type 2 diabetes mellitus, defined as: Fasting plasma glucose levels greater than or equal to 126 mg/dL 2-hour postprandial Oral Glucose Tolerance Test results greater than or equal to 200 mg/dL 17. Any other medical condition or disease that is life threatening or that can interfere with or be aggravated by exercise 18. Chronic obstructive lung disease, peripheral vascular disease or angina that limits ability to follow exercise protocol 19. Advanced neuropathy or retinopathy 20. Consuming alcoholic beverages, Smoker or have used nicotine/tobacco products within the last 12 months',\n",
       " 'Current medical treatments or Homeopathic drugs in the preliminary observation period or during the Proving. Consumption of prescribed drugs (including Homeopathic) in the past four weeks. Contraceptive pills in the past three months. Surgical treatment within past two months. Pregnancy, breast feeding Persons suffering from allergic manifestations particularly pertaining to respiratory system and skin should not be included in proving. volunteers with history of diabetes, hypertension and hypothyroid should not be included in proving Volunteers who are drug addicts should not be included in proving Volunteers who are HCV positive should not be included in proving.',\n",
       " 'The patients meeting with any of the following criteria should be excluded: 1. Adult patients with ALL on maintenance therapy with olsalazine, mesalazine, or sulphasalazine, warfarin, allopurinol, thioguanine, and drugs whose primary or secondary toxicity is myelosuppression (for example trimethoprim-sulfamethoxazole). 2. Patients with inherited deficiency of the TPMT enzyme. 3. Pregnancy, expected pregnancy or lactation within 6 months. 4. Patients who have a history of a known allergy/sensitivity to study drug or its excipients; 5. Patients who have current signs and symptoms of systemic lupus erythematosus, or severe, progressive, or uncontrolled renal, hepatic, hematologic(other than ALL), endocrine, pulmonary, cardiac, neurologic, or cerebral diseases; 6. Patients who have poor tolerability of venipuncture or lack of adequate venous access for required blood sampling during the study period; 7. Patients who have had a known substance abuse or dependency (drug or alcohol) within 3 years of screening; 8. Patients who are participating in any other clinical study or who have received treatment with any investigational drug or device within 1month prior screening; Note: If the patient has participated in a study in which blood loss is more than 200 mL, patient can be dosed only after completion of 60 days from the previous study. 9. Patient who is part of the staff or a family member of the staff personnel directly involved with this study. 10. Any other condition that, in the investigator?s judgment, might increase the risk to the patient or decrease the chance of obtaining satisfactory information needed to achieve the objectives of the study. 11. Abnormal baseline findings considered by the investigator to indicate conditions that might affect study endpoints. 12. Patients who have a known infection with human immunodeficiency virus (HIV) and/or hepatitis B or hepatitis C.',\n",
       " 'i) Patients with hypersensitivity to any of the ingredients of the investigational product. ii) Patients already on analgesics, muscle relaxants, and tranquilizers 24 hours before first dose of investigational drug. iii) Pregnant/lactating women. iv) Women of child bearing potential who do not agree to remain abstinent or use medically acceptable methods of contraception and 2 weeks following the end of the study therapy. v) Patients unavailable on phone for follow-up. vi) Any specific condition which does not justify patient?s inclusion in the study in the opinion of the investigator.',\n",
       " 'Patients not able to read or to complete self-rating questionnaire Patients unlikely to co-operate in the study Hospitalised patients Patients with an anticipated poor compliance Shift workers Pregnancy, breastfeeding or possibility of becoming pregnant duirng the study period without an effective contraception Participation in another study at the same time or within 3 months prior to the selection or patient having already been selected in the study patients known to be non-responders to sertraline or agomelatine treatment or resistant to sertraline or agomelatine for the current episode patient stabilised by an antidepressant for the current episode Patient under acupuncture or following traditional Indian medicine for the current episode. All types of depression other than the MDD such as Bipolar disorder I and II, Dysthymic Disorder, Double Depression, Chronic depression, Schizoaffective Disorder of depressive type, depression with psychotic features, resistant depression, marked suicidal intent and/or known suicidal tendencies for the current episode defined as score 4 at the item 3 of the HAM-D 17 or the investigator&#039;s opinion based on the patient&#039;s medical history, previous suicide attempts, quality of social and familial support Patient treated with ECT or TMS within the last three months before selection or requiring ECT at present Insight-oriented and structured psychotherapy started within the 3 months before selection light therapy received within 2 weeks before selection Patients meeting DSM-IV-TRdiagnosis of current Panic Disorder, Obsessive Compulsive Disorder, Posttraumatic Stress Disorder, Acute Stress Disorder Patients with acute or chronic psychosis, patients with personality disorders, Alcohol or drug abuse or dependence within past 12 months before selection Delirium or dementia according to DSM-IV-TR Current diagnosis of neurological disorders e.g. stroke, seizures, migraine etc. Severe or uncontrolled organic disease likely to interfere with the conduct of the study Hypo or hyprethyroidism except if the treatment has been stabilized for at least 3 months Patients with hepatic impairment Known clinically significant abnormality of biological tests likely to interfere with the conduct of the study Known blood ALAT, ASAT or total bilirubin values greater than or equal to 2 times the upper limit Known alkaline phosphatase values greater than or eqal to 3 times the upper normal limit Positive hepatitis A, B, C, screening not explained by vaccination or by a past resolved infection Known hypersensitivity to agomelatine or sertraline or any of the excipients Inability to tolerate lactose',\n",
       " '1. Patients who have had a respiratory tract infection within 4 weeks prior to Visit 1 2. Patients with concomitant pulmonary disease 3. Patients with a history of asthma 4. Any patient with lung cancer or a history of lung cancer 5. Patients with a history of certain cardiovascular co-morbid conditions 6. Patients with a known history and diagnosis of alpha-1 antitrypsin deficiency 7. Patients in the active phase of a supervised pulmonary rehabilitation program 8. Patients contraindicated for inhaled anticholinergic agents and beta 2 agonists 9. Other protocol-defined inclusion/exclusion criteria may apply',\n",
       " 'Subjects with any of the following criteria at study entry will not be eligible for participation:1.Previous vaccination against Neisseria meningitidis2.Known exposure to Neisseria meningitidis during the three previous months3.History of allergic disease or known hypersensitivity to any component of the two study vaccines and/or following administration of vaccines included in the local program of immunization4.Administration of any other vaccine within 60 days prior to administration of study vaccines or planned vaccination during the first 28 days after the study vaccination 5.Use of any investigational or non-registered drug within 90 days prior to the administration of study vaccines6.Administration of immunoglobulins and/or any blood products within 90 days prior to the administration of study vaccines or planned administration during the vaccine period7.Chronic administration (defined as more than 14 days) of immunosuppressants or other immune-modifying agents since birth (including systemic corticosteroids, this means prednisone, or equivalent, &sup3; 0.5 mg/kg/day; topical steroids including inhaled steroids are allowed.)8.A family history of congenital or hereditary immunodeficiency9.History of meningitis or seizures or any neurological disorder10.Major congenital defects or serious chronic illness (as per investigator?s judgment)11.Acute disease at the time of enrollment (acute disease is defined as the presence of a moderate or severe illness with or without fever) is a temporary exclusion.12.Acute or chronic, clinically significant pulmonary, cardiovascular, hepatic, or renal functional abnormality, as determined by medical history, physical examination or laboratory tests, which in the opinion of the investigator, might interfere with the study objectives13.Any condition or criteria that in the opinion of the investigator might compromise the well being of the subject or the compliance with study procedures or interfere with the outcome of the study14.Non residence in the study area or intent to move out within 3 months',\n",
       " ', Patient who has previously received either a TNFalpha inhibitor or biological agent within 5 half-lives Patient who has previously demonstrated inadequate response or intolerance to TNFalpha inhibitors for the treatment of CD.',\n",
       " '1. Known depressed left ventricular function (ejection fraction < 30%) 2. Life expectancy < 1 year 3.Contraindication to contrast media 4.Creatinine level > 2.0 mg/dL or end-stage kidney disease 5.Serious liver dysfunction 6.Patients with hemodynamic or electrical instability (including shock) 7.Any contraindication against the use of ticagrelor, tirofiban, aspirin, or heparin 8.Investigator considers the patient is not suitable',\n",
       " 'Pregnant females Non consenting adults Non residents of village',\n",
       " 'Mammalian bites and other poisoning including plant and chemical poisoning.',\n",
       " 'Patients below the age of 20 years and above the 50 years. Patients undergoing other treatment for sthaulya (obesity). Known cases of Diabetes mellitus (Madhumeha),Hyperthyroidism, Thyrotoxicosis, Nephrotic syndrome, Hypertension, Cardiac patients, Gouty arthritis, Infectious diseases, Endocrinal and CNS disorders. Hepatic Disorders',\n",
       " 'a) Patients with pre-existing lung diseases b) BMI > 30 Kg/m2 c) Surgery lasting for more than 6 hours',\n",
       " '1. Patients suffering from any Organic brain disorder. 2.Patients suffering from major complications of Alcohol related disorders like Hepatitis, , Cirrhosis of the liver etc. defined as 5 times increase in liver enzymes i.e. AST and ALT 3.Patients having the H/O concomitant other substance abuse except Nicotine/Caffeine 4.Patients suffering with other significant Systemic illness including Hyper Tension / Suicidal tendency 5.All psychiatry illness will be excluded by screening with MSE (Mental Status Examination)',\n",
       " '1.Pregnant and lactating women and women in post-partum period of up to 6 weeks. a? 2.Subjects with a history of permanent anal prolapse and/or anal fissures and/or infective anal pathology. a? 3.Subjects with previous history of surgery for anorectal disease (within 5 years) or any other procedures (including but not limited to injection sclerotherapy, rubber band ligation, photocoagulation, cryotherapy etc) within 2 years of enrolment into the trial. a? 4.Subjects who, in the opinion of the investigator, are mentally incapacitated such that informed consent cannot be obtained. a? 5.Subjects with clinically significant co-morbid condition that in the opinion of the investigator could affect the efficacy and safety outcome of the study. a? 6.Patients under treatment with other topical therapy for haemorrhoidal syndrome. 7.Patients under treatment with plebotonic drugs or phlebotonic dietary supplements (i.e. diosmin etc.). 8.Subjects participating in any other clinical trial currently or if he/she has completed the trial participation less than 3 months from screening for the current study. 9.Presence of disease states that could affect safety and efficacy a? evaluation, such as hepatic (e.g., cirrhosis with Child-Pugh Class B or C or MELD score > 9), renal (e.g., requiring dialysis), gastrointestinal (e.g., acute or chronic diverticulitis, irritable bowel syndrome with epigastric pain as a predominant symptom or active inflammatory bowel disease), hematologic, neurologic or brain disorders (e.g., strokes, and brain injury), psychiatric (e.g., bipolar disorder, severe active depression, severe active anxiety), or any other significant condition which, in the opinion of the Investigator, could confound or interfere with evaluation of efficacy, safety, or tolerability of the investigational drug, or prevent compliance with the study protocol.a? 10.Subjects unwilling to sign the inform consent document. 11.Any condition that in the opinion of the investigator does not justify the subjectsa? inclusion for the study. 12.Known hypersensitivity to, or intolerance of, investigational product or any excipient. 13.During the course of the study no other medications should be consumed. Only rescue medications to be used with the recommendatuons from the Pricipal Investigtor and this should be recorded in the CRF.',\n",
       " 'Insulin dependent diabetes mellitus Hba1c >10% Thyroid dysfunctions gestational diabetes other endocrine abnormalities existing renal, hepatic, cardiac disease and major illness womens who are planning for pregnancy subjects who are not willing to give informed consent',\n",
       " '1.Preexisting neurological and neuropsychiatric disorders. 2.Preexisting cardiovascular diseases. 3.Conditions interfering with gastric emptying. 4.Asthma or reactive airway diseases. 5.Known liver and kidney diseases. 6.Previous history suggestive of OSA. 7.Patients on opioids, with drug or alcohol abuse 8.Contraindication or previous adverse response to any of the study drugs.',\n",
       " '1. Subjects with known hypersensitivity to Minoxidil or Adenosine or any of the ingredients of the test drugs or tattoo ink. 2. Females who are pregnant, breast feeding, or planning a pregnancy during the proposed study period. 3. Any dermatological disorders of the scalp with the possibility of interfering with the clinical study related evaluation methods, such as fungal or bacterial infections, seborrheic dermatitis, psoriasis, eczema, folliculitis, scars or scalp atrophy. 4. Active hair loss or history within the past 3 months including diffuse telogen effluvium, alopecia areata, scarring alopecia. 5. Any severe, acute or chronic medical condition that may lead to hair loss or interfere with the interpretation of trial results. 6. Subjects who had hair transplant surgery, hair weaves or non-breathable wigs and hair bonding. 7. Use of any anti-hair loss treatment within the last 6 months prior to the screening visit including Minoxidil, Finasteride, Dutasteride or similar products. 8. Current use or history of use of systemic treatment (drugs or dietary supplement) taken for more than 2 consecutive weeks interfering with the study product or evaluations (Beta blockers, Cimetidine, Diazoxid, Isotretinoin, corticosteroids, Vitamin A intake above 10000 IU per day) within past 3 months. 9. Current use or history of use of local treatment (drug or cosmetically) on scalp interfering with the study product or evaluation (topical corticosteroids, Aminexil, Minoxidil, medicated shampoos, topical estrogen, topical Ketoconazole) within past 4 weeks. 10. Enrolled in any other investigational medication study currently, or within the last 6 months. 11. History of undergoing chemotherapy or receiving cytotoxic agents or radiation and/or laser/surgical therapy of the scalp within past 6 months. 12. Subjects with clinically significant cardiovascular, liver, lung, neurologic, renal or psychiatric disorder, or clinically significant laboratory abnormalities (if laboratory values exceed the threshold limits set out for this study, the approval of Medical Monitor should be taken into consideration before randomizing the subject). 13. Subjects with a history or examination findings of alcohol dependence, alcohol or drug abuse or suspected abuse.',\n",
       " '1 Fever suspected to be due to neurological infection or any cancer 2 Patient receiving any IM injection for the co morbid condition and where the IM injection are expected to continue 3 High grade fever more than 104 F or suspected septicemia 4 Hypotension inferred from systolic blood pressure more than 90 mmHg 5 Admission in intensive care unit or intensive cardiac care unit 6 Severe kidney creatinine more than 2 mg per dl or liver disease SGOT and SGPT more than 3 times ULN and based on discretion of the investigator 7 Patients with serum CPK levels more than 5 times the ULN for that gender',\n",
       " '1. Patient already on medication for suspected glaucoma 2. Glaucoma suspects 3. Review patients 4. Ocular hypertension 5. Patients with secondary glaucoma 6. Patients who are not willing to participate in the study',\n",
       " '1. Intracranial implants (cochlear implants, aneurysmal clips) 2. Acute emergencies like high suicidal risk and catatonia where ECT is considered as a first line treatment 3. Current/Past history / family history of epilepsy 4. Adolescents on Methylphenidate , Bupropion , Clozapine, Tricyclic antidepressants 5. Active Neurological illness / head injury 6. Autism spectrum disorder , Intellectual developmental disorder 7. Organic mood disorders 8. Chronic physical illness',\n",
       " '1. Thoracic-abdominal minimal invasive surgeries like VATS TTE, THE 2. Paediatric surgery 3.Emergency surgery',\n",
       " 'Recurrence of wrist ganglion Known history of allergy to corticosteroids Known history of wrist injury',\n",
       " 'Laypeople and paramedical personnel who have already attended workshop at study institute or other institute before the start of study',\n",
       " '1) chronicity of silicosis more than above 5 years . 2)patiens having severe other chronic disease, eg. Heart disease, Epilepsy,Hypertension, Diabetes. 3)patients who were drug addict 4) Age < 20 years and >50 years. 5) Pregnant women & lactating mother. 6) Physically / mentally challenged individual. 7) past history of occupational exposure to silica dusts other then flour mill.',\n",
       " 'Patients with history of seizures , Patients with systemic diseases (allergic, hematological, renal, endocrine, pulmonary, gastrointestinal, cardiovascular, hepatic, psychiatric or neurological disease, or any condition possibly affecting drug absorption) , Patients with psychological disorders or other mental health problems , Juvenile population less than 18 years , Those who have reported hypersensitivity reaction to the drug. , Pregnant and lactating ladies , Patients who are already under medication for tobacco cessation',\n",
       " '1.Subjects with grossly decayed teeth, full crown or extensively restored teeth or undergoing orthodontic treatment. 2.Subjects allergic to coffee and CHX mouthwash 3.Subjects undergoing antibiotic treatment or using antimicrobial mouth rinses in last one month 4.Subjects having history of periodontal treatment within last 3 months.',\n",
       " '1. Age less than 18 years 2. Patients who refuse to give consent 3. MDR, XDR tuberculosis 4. Patients who are already on ATT for more than 1 month',\n",
       " '1)Patients with history of ovulation induction, 2)Patients with any systemic illness. 3)Evidence of pelvic pathologies like PCOD,CA cervix, cervical polyps,tubercular endometritis.',\n",
       " 'Recieving concomitant Lithium and Carbamazepine therapy, Substance abuse, organic mood disorder, seizure disorder',\n",
       " '1. Presence of peritonsillar abscess or acute or chronic respiratory disease, occlusion of pharynx due to enlargement of tonsils 2. Severe co-morbidity including previous malignant disease during the past 5 years prior to enrolment 3. Previous surgery in the past 6 month or need for surgery of the nose, para-nasal sinuses, adenoid of tonsils. 4. Presence of neurological or psychiatric diseases affecting quality of life 5. Cases already undergoing homeopathic treatment for any chronic diseases 6. Treatment with systemic antibiotics, gluco-corticoids or immune modulators during the week prior to inclusion 7. Substance abuse and/or dependence 8. Patients not willing to give the consent 9. Pregnant and lactating women 10. Self-reported immune-compromised state',\n",
       " 'Patients undergoing emergency procedures Other abdominal surgeries (oesophagectomies and colorectal surgeries)',\n",
       " '1.Participants with rheumatoid arthritis; fibromyalgia; recurrent or active pseudogout, cancer, or other serious medical conditions 2.Single or married subjects who are pregnant or have borne children in past one year. 3.Participants with a history of signs or history of kidney or liver failure OR asthma requiring use of corticosteroids OR use of oral corticosteroids within the past 4 weeks 4.Participants with a history of intra-articular knee depo corticosteroids within the previous 3 months, or intra-articular hyaluronate within the previous 6 months. 5.Participants with evidence or history of medical or surgical event in the past year that may significantly affect the study outcome such as arthroscopy of the knee within the previous year; significant injury to the knee within the previous 6 months; or a rash or open wound over the knee. 6Patients reporting use of prescription or non-prescription drugs that has not been pre-approved by the study physician. 7.Participant with known allergies to the main components of the test product or placebo. 8.Participation in another clinical trial or taking an investigational product in the past three months 9.Any participant who is not able to give informed consent.',\n",
       " 'Those who do not wish to participate',\n",
       " '1.Diagnosed case of MCI and dementia; 2.Moderate Depression(10-19). 3.Impaired ADL & or IADL. 4.Severe Obstructive pulmonary disease (FEV1 <30%)']"
      ]
     },
     "execution_count": 25,
     "metadata": {},
     "output_type": "execute_result"
    }
   ],
   "source": [
    "df_trials.Exclusion_Criteria[df_trials.Exclusion_Criteria.apply(lambda s: len(s.split(' ')))>5].tolist()[:100]"
   ]
  },
  {
   "cell_type": "markdown",
   "metadata": {},
   "source": [
    "#### Export to tsv"
   ]
  },
  {
   "cell_type": "code",
   "execution_count": 26,
   "metadata": {},
   "outputs": [],
   "source": [
    "df_trials.to_csv(os.path.join(path_to_data, '{}.tsv'.format(final_dataset_name)), sep = \"\\t\", index = False)"
   ]
  },
  {
   "cell_type": "markdown",
   "metadata": {},
   "source": [
    "#### Export to txt"
   ]
  },
  {
   "cell_type": "code",
   "execution_count": 27,
   "metadata": {},
   "outputs": [],
   "source": [
    "def clean_txt(t):\n",
    "    t = t.strip()\n",
    "    \n",
    "    # replace linebreaks with comas\n",
    "    t = re.sub('(\\n)+', ', ', t)\n",
    "    \n",
    "    # remove non-alphanumeric preffix\n",
    "    t = re.sub('(?:^)(\\s)*[\\W]+', ' ', t)\n",
    "    \n",
    "    # shrink consecutive punctuation\n",
    "    t = re.sub('(?P<name>[,;:\\.!?])(\\s)*[,;:\\.!?]+', '\\g<name>', t)\n",
    "    \n",
    "    # shrink space\n",
    "    t = re.sub('(\\s)+', ' ', t).strip()\n",
    "    return t"
   ]
  },
  {
   "cell_type": "code",
   "execution_count": 28,
   "metadata": {},
   "outputs": [],
   "source": [
    "df_trials = pd.read_csv(os.path.join(path_to_data, '{}.tsv'.format(final_dataset_name)), sep = \"\\t\")\n",
    "df_trials = df_trials[[\n",
    "    # 'Scientific_title',\n",
    "    'Inclusion_Criteria',\n",
    "    'Exclusion_Criteria',\n",
    "    # 'Primary_Outcome',\n",
    "    # 'Secondary_Outcomes',\n",
    "    # 'results_summary',\n",
    "]].fillna('')"
   ]
  },
  {
   "cell_type": "code",
   "execution_count": 29,
   "metadata": {},
   "outputs": [],
   "source": [
    "texts = df_trials.apply(func = lambda row: [t for t in row if len(t.split()) > 5], axis = 1)\n",
    "texts = [clean_txt(t) for ts in texts for t in ts]"
   ]
  },
  {
   "cell_type": "code",
   "execution_count": 30,
   "metadata": {},
   "outputs": [
    {
     "data": {
      "text/plain": [
       "1081670"
      ]
     },
     "execution_count": 30,
     "metadata": {},
     "output_type": "execute_result"
    }
   ],
   "source": [
    "len(texts)"
   ]
  },
  {
   "cell_type": "code",
   "execution_count": 31,
   "metadata": {},
   "outputs": [],
   "source": [
    "chars, counts = get_character_count(texts[:100000])"
   ]
  },
  {
   "cell_type": "code",
   "execution_count": 32,
   "metadata": {},
   "outputs": [
    {
     "data": {
      "text/plain": [
       "25"
      ]
     },
     "execution_count": 32,
     "metadata": {},
     "output_type": "execute_result"
    }
   ],
   "source": [
    "chars_to_hide = [char for char, count in zip(chars, counts) if count < 40]\n",
    "len(chars_to_hide)"
   ]
  },
  {
   "cell_type": "code",
   "execution_count": 33,
   "metadata": {
    "scrolled": true
   },
   "outputs": [
    {
     "data": {
      "text/plain": [
       "['!',\n",
       " '$',\n",
       " '|',\n",
       " '\\x81',\n",
       " '\\x9d',\n",
       " '¢',\n",
       " '¤',\n",
       " '¥',\n",
       " '¦',\n",
       " '©',\n",
       " '«',\n",
       " '\\xad',\n",
       " '¶',\n",
       " '»',\n",
       " 'Æ',\n",
       " 'æ',\n",
       " '÷',\n",
       " 'œ',\n",
       " 'ƒ',\n",
       " 'ˆ',\n",
       " '‚',\n",
       " '„',\n",
       " '‡',\n",
       " '‰',\n",
       " '€']"
      ]
     },
     "execution_count": 33,
     "metadata": {},
     "output_type": "execute_result"
    }
   ],
   "source": [
    "chars_to_hide"
   ]
  },
  {
   "cell_type": "code",
   "execution_count": 34,
   "metadata": {},
   "outputs": [],
   "source": [
    "# We choose to hide all characters appearing less than 40 times\n",
    "texts = [re.sub('( )+', ' ', re.sub('[{}]'.format(''.join(chars_to_hide)), ' ', t)) for t in texts]\n",
    "texts = [clean_txt(t) for t in texts]"
   ]
  },
  {
   "cell_type": "code",
   "execution_count": 35,
   "metadata": {},
   "outputs": [
    {
     "data": {
      "text/plain": [
       "1081670"
      ]
     },
     "execution_count": 35,
     "metadata": {},
     "output_type": "execute_result"
    }
   ],
   "source": [
    "len(texts)"
   ]
  },
  {
   "cell_type": "code",
   "execution_count": 36,
   "metadata": {},
   "outputs": [
    {
     "data": {
      "text/plain": [
       "'Patient aged 18 and over, Patient with homonymous lateral hemianopia with brain injury acquired for at least 3, months and at most 5 years after ischemic stroke, cerebral hematoma, Patient able to understand French both orally and in writing, Patient giving free, informed and written consent, Absence of a neurological disease interfering with the passing of tests, Non-, Patients subject to a legal protection measure (safeguarding of justice, guardianship, and trusteeship, protected adults), Pre-existing severe ophthalmological disorders (ophthalmic consultation before, inclusion) pre-existing visual field defects, monocular visual acuity less than 5/10, severe oculomotor disorders, Contraindication of tACS and / or magnetic resonance imaging (pacemaker or implantable, defibrillator, intracranial electrodes or other intracranial implant, cranial vault, anomalies facing stimulation electrodes (plates, prostheses, uncovered skull), Pregnant women and nursing mothers, Recruitment in other interventional studies for the duration of the participation. Non-affiliation to a social security scheme (excluding AME) or non-beneficiary of such, a scheme, Healthy participants inclusion criteria are the following: Healthy Subject 18 years and older, Healthy subject able to understand French both orally and in writing, Healthy subject who has given free and informed consent and writes, Healthy participants non-inclusion criteria are the following: Severe neurological, psychiatric, physical, or ophthalmological disorders that, interfere with the normal performance of tests and study tasks, Contraindication to magnetic resonance imaging (pacemaker or implantable, defibrillator, intracranial electrodes or other intracranial implant, abnormalities of, the cranial vault opposite stimulation electrodes (plates, prostheses, uncovered, skull), Recruitment in other interventional studies for the duration of the participation. Pregnant women and nursing mothers, Non-affiliation to a social security scheme (excluding AME) or non-beneficiary of such, a scheme'"
      ]
     },
     "execution_count": 36,
     "metadata": {},
     "output_type": "execute_result"
    }
   ],
   "source": [
    "texts[257835]"
   ]
  },
  {
   "cell_type": "code",
   "execution_count": 37,
   "metadata": {},
   "outputs": [],
   "source": [
    "with open(os.path.join(path_to_data, '{}.txt'.format(text_dataset_name)), 'w', encoding = 'utf-8') as f:\n",
    "    f.write('\\n'.join(texts))"
   ]
  },
  {
   "cell_type": "code",
   "execution_count": 38,
   "metadata": {},
   "outputs": [],
   "source": [
    "# with open(os.path.join(path_to_data, '{}.txt'.format(text_dataset_name)), 'r', encoding = 'utf-8') as f:\n",
    "#     texts = f.readlines()"
   ]
  },
  {
   "cell_type": "code",
   "execution_count": 39,
   "metadata": {},
   "outputs": [],
   "source": [
    "# w = '¥'\n",
    "\n",
    "# #for w in ['a¢a', '¬a¢', '\\x8d', 'a?¥', 'a€¢', 'AA¢AA¥', 'AA¢AA¤', 'a?¢', 'a€tm', '°a¥', '\\\\', 'a??s']:\n",
    "# [t.replace(w, 'XXXXX'+ w + 'XXXXX') for t in texts if w in t]"
   ]
  },
  {
   "cell_type": "markdown",
   "metadata": {},
   "source": [
    "[Table of content](#TOC)"
   ]
  }
 ],
 "metadata": {
  "kernelspec": {
   "display_name": "Python 3 (ipykernel)",
   "language": "python",
   "name": "python3"
  },
  "language_info": {
   "codemirror_mode": {
    "name": "ipython",
    "version": 3
   },
   "file_extension": ".py",
   "mimetype": "text/x-python",
   "name": "python",
   "nbconvert_exporter": "python",
   "pygments_lexer": "ipython3",
   "version": "3.10.9"
  }
 },
 "nbformat": 4,
 "nbformat_minor": 2
}
