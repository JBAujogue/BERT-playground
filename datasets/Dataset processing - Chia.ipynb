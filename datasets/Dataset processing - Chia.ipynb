{
 "cells": [
  {
   "cell_type": "markdown",
   "metadata": {},
   "source": [
    "<div style=\"font-variant: small-caps; \n",
    "      font-weight: normal; \n",
    "      font-size: 35px; \n",
    "      text-align: center; \n",
    "      padding: 15px; \n",
    "      margin: 10px;\">\n",
    "      Dataset processing\n",
    "  </div> \n",
    "  \n",
    "<div style=\"\n",
    "      font-weight: normal; \n",
    "      font-size: 25px; \n",
    "      text-align: center; \n",
    "      padding: 15px; \n",
    "      margin: 10px;\">\n",
    "      CHIA\n",
    "  </div>\n",
    "\n",
    "\n",
    "  <div style=\" float:left; \n",
    "      font-size: 12px; \n",
    "      line-height: 12px; \n",
    "  padding: 10px 15px 8px;\">\n",
    "  Jean-baptiste AUJOGUE -  Hybrid Intelligence\n",
    "  </div> \n"
   ]
  },
  {
   "cell_type": "markdown",
   "metadata": {},
   "source": [
    "<a id=\"TOC\"></a>"
   ]
  },
  {
   "cell_type": "markdown",
   "metadata": {},
   "source": [
    "#### Table Of Content\n",
    "\n",
    "1. [CHIA Texts](#texts) <br>\n",
    "2. [CHIA Entities](#ents) <br>\n",
    "\n",
    "\n",
    "#### Useful links\n",
    "\n",
    "- [CHIA a large annotated corpus of clinical trial eligibility criteria](https://www.ncbi.nlm.nih.gov/pmc/articles/PMC7452886/pdf/41597_2020_Article_620.pdf) (paper)\n",
    "- https://github.com/uf-hobi-informatics-lab/ClinicalTransformerNER/blob/master/tutorial/brat2bio.ipynb\n",
    "- https://github.com/ctgatecci/Clinical-trial-eligibility-criteria-NER/blob/main/NER%20Preprocessing%20and%20Performance%20Analysis.ipynb"
   ]
  },
  {
   "cell_type": "code",
   "execution_count": 1,
   "metadata": {},
   "outputs": [],
   "source": [
    "%load_ext autoreload\n",
    "%autoreload 2"
   ]
  },
  {
   "cell_type": "code",
   "execution_count": 2,
   "metadata": {},
   "outputs": [
    {
     "name": "stderr",
     "output_type": "stream",
     "text": [
      "C:\\Users\\jb\\miniconda3\\envs\\transformers_nlp\\lib\\site-packages\\tqdm\\auto.py:22: TqdmWarning: IProgress not found. Please update jupyter and ipywidgets. See https://ipywidgets.readthedocs.io/en/stable/user_install.html\n",
      "  from .autonotebook import tqdm as notebook_tqdm\n"
     ]
    }
   ],
   "source": [
    "import os\n",
    "import sys\n",
    "import re\n",
    "import copy\n",
    "import json\n",
    "import zipfile\n",
    "\n",
    "# data\n",
    "import pandas as pd\n",
    "\n",
    "# text\n",
    "from spacy.lang.en import English"
   ]
  },
  {
   "cell_type": "markdown",
   "metadata": {},
   "source": [
    "#### Custom variables"
   ]
  },
  {
   "cell_type": "code",
   "execution_count": 3,
   "metadata": {},
   "outputs": [
    {
     "data": {
      "text/plain": [
       "'C:\\\\Users\\\\jb\\\\Desktop\\\\NLP\\\\perso - Transformers for NLP\\\\src'"
      ]
     },
     "execution_count": 3,
     "metadata": {},
     "output_type": "execute_result"
    }
   ],
   "source": [
    "path_to_repo = os.path.dirname(os.getcwd())\n",
    "path_to_data = os.path.join(path_to_repo, 'datasets', 'chia')\n",
    "path_to_src  = os.path.join(path_to_repo, 'src')\n",
    "path_to_src"
   ]
  },
  {
   "cell_type": "code",
   "execution_count": 4,
   "metadata": {},
   "outputs": [],
   "source": [
    "base_dataset_name  = 'chia.zip'\n",
    "final_dataset_name = 'chia-ner'"
   ]
  },
  {
   "cell_type": "markdown",
   "metadata": {},
   "source": [
    "#### Custom imports"
   ]
  },
  {
   "cell_type": "code",
   "execution_count": 5,
   "metadata": {},
   "outputs": [],
   "source": [
    "sys.path.insert(0, path_to_src)"
   ]
  },
  {
   "cell_type": "code",
   "execution_count": 6,
   "metadata": {},
   "outputs": [],
   "source": [
    "from nlptools.dataset.chia.io import load_texts_from_zipfile, load_entities_from_zipfile\n",
    "from nlptools.dataset.chia.preprocessing import get_ner_entities, convert_to_bio"
   ]
  },
  {
   "cell_type": "markdown",
   "metadata": {},
   "source": [
    "<a id=\"texts\"></a>"
   ]
  },
  {
   "cell_type": "markdown",
   "metadata": {},
   "source": [
    "# 1. CHIA Texts\n",
    "\n",
    "[Table of content](#TOC)"
   ]
  },
  {
   "cell_type": "code",
   "execution_count": 7,
   "metadata": {},
   "outputs": [],
   "source": [
    "def load_texts_from_zipfile(zip_file):\n",
    "    archive = zipfile.ZipFile(zip_file, 'r')\n",
    "    text_files = [f for f in archive.namelist() if f.endswith('.txt')]\n",
    "    texts = []\n",
    "    for text_file in text_files:\n",
    "        with archive.open(text_file, 'r') as f:\n",
    "            _id = text_file.split('/')[-1][:-4]\n",
    "            text = f.read().decode('utf-8').replace('⁄', '/')\n",
    "            texts.append([_id, text])\n",
    "            \n",
    "    df_texts = pd.DataFrame(texts, columns = ['Id', 'Text'])\n",
    "    return df_texts"
   ]
  },
  {
   "cell_type": "code",
   "execution_count": 8,
   "metadata": {},
   "outputs": [],
   "source": [
    "folder = os.path.join(path_to_data, final_dataset_name)\n",
    "if not os.path.isdir(folder):\n",
    "    os.makedirs(folder)"
   ]
  },
  {
   "cell_type": "code",
   "execution_count": 9,
   "metadata": {},
   "outputs": [],
   "source": [
    "df_texts = load_texts_from_zipfile(os.path.join(path_to_data, base_dataset_name))"
   ]
  },
  {
   "cell_type": "code",
   "execution_count": 10,
   "metadata": {},
   "outputs": [
    {
     "data": {
      "text/html": [
       "<div>\n",
       "<style scoped>\n",
       "    .dataframe tbody tr th:only-of-type {\n",
       "        vertical-align: middle;\n",
       "    }\n",
       "\n",
       "    .dataframe tbody tr th {\n",
       "        vertical-align: top;\n",
       "    }\n",
       "\n",
       "    .dataframe thead th {\n",
       "        text-align: right;\n",
       "    }\n",
       "</style>\n",
       "<table border=\"1\" class=\"dataframe\">\n",
       "  <thead>\n",
       "    <tr style=\"text-align: right;\">\n",
       "      <th></th>\n",
       "      <th>Id</th>\n",
       "      <th>Text</th>\n",
       "    </tr>\n",
       "  </thead>\n",
       "  <tbody>\n",
       "    <tr>\n",
       "      <th>0</th>\n",
       "      <td>NCT00050349_exc</td>\n",
       "      <td>Patients with symptomatic CNS metastases or le...</td>\n",
       "    </tr>\n",
       "    <tr>\n",
       "      <th>1</th>\n",
       "      <td>NCT00050349_inc</td>\n",
       "      <td>Patients with biopsy-proven metastatic carcino...</td>\n",
       "    </tr>\n",
       "    <tr>\n",
       "      <th>2</th>\n",
       "      <td>NCT00061308_exc</td>\n",
       "      <td>Women of child-bearing potential that do not p...</td>\n",
       "    </tr>\n",
       "    <tr>\n",
       "      <th>3</th>\n",
       "      <td>NCT00061308_inc</td>\n",
       "      <td>Have had one prior platinum-based chemotherapy...</td>\n",
       "    </tr>\n",
       "    <tr>\n",
       "      <th>4</th>\n",
       "      <td>NCT00094861_exc</td>\n",
       "      <td>Metastatic disease (M1)/stage 4 NSCLC \\nPleura...</td>\n",
       "    </tr>\n",
       "  </tbody>\n",
       "</table>\n",
       "</div>"
      ],
      "text/plain": [
       "                Id                                               Text\n",
       "0  NCT00050349_exc  Patients with symptomatic CNS metastases or le...\n",
       "1  NCT00050349_inc  Patients with biopsy-proven metastatic carcino...\n",
       "2  NCT00061308_exc  Women of child-bearing potential that do not p...\n",
       "3  NCT00061308_inc  Have had one prior platinum-based chemotherapy...\n",
       "4  NCT00094861_exc  Metastatic disease (M1)/stage 4 NSCLC \\nPleura..."
      ]
     },
     "execution_count": 10,
     "metadata": {},
     "output_type": "execute_result"
    }
   ],
   "source": [
    "df_texts.head()"
   ]
  },
  {
   "cell_type": "code",
   "execution_count": 11,
   "metadata": {},
   "outputs": [],
   "source": [
    "df_texts.to_csv(os.path.join(path_to_data, final_dataset_name, 'chia_texts.tsv'), sep = \"\\t\", index = False)"
   ]
  },
  {
   "cell_type": "markdown",
   "metadata": {},
   "source": [
    "<a id=\"ents\"></a>"
   ]
  },
  {
   "cell_type": "markdown",
   "metadata": {},
   "source": [
    "# 2. CHIA Entities\n",
    "\n",
    "[Table of content](#TOC)"
   ]
  },
  {
   "cell_type": "markdown",
   "metadata": {},
   "source": [
    "## 2.1 Load entities\n",
    "\n",
    "[Table of content](#TOC)"
   ]
  },
  {
   "cell_type": "code",
   "execution_count": 12,
   "metadata": {},
   "outputs": [],
   "source": [
    "def load_entities_from_zipfile(zip_file):\n",
    "    archive = zipfile.ZipFile(zip_file, 'r')\n",
    "    ann_files = [f for f in archive.namelist() if f.endswith('.ann')]\n",
    "    ent_list = []\n",
    "    for ann_file in ann_files:\n",
    "        with archive.open(ann_file, 'r') as f:\n",
    "            lines = [l.decode('utf-8').replace('⁄', '/').strip() for l in f.readlines()]\n",
    "            ents = [l.split('\\t') for l in lines if l.startswith('T')]\n",
    "            ents = [\n",
    "                [ann_file.split('/')[-1][:-4], ent[0], ent[2], ent[1]]\n",
    "                for ent in ents\n",
    "            ]\n",
    "            ents = [\n",
    "                ent[:-1] + [\n",
    "                    ent[-1].replace(';', ' ').split(' ')[0], \n",
    "                    tuple([int(v) for v in ent[-1].replace(';', ' ').split(' ')[1:]]),\n",
    "                ]\n",
    "                for ent in ents\n",
    "            ]\n",
    "            ents = [\n",
    "                ent[:-1] + [min(ent[-1]), max(ent[-1]), ent[-1]]\n",
    "                for ent in ents\n",
    "            ]\n",
    "            ent_list += ents\n",
    "            \n",
    "    df_ents = pd.DataFrame(ent_list, columns = [\n",
    "        'Id', 'Entity_id', 'Mention', 'Category', 'Start_char', 'End_char', 'Char_spans',\n",
    "    ])\n",
    "    return df_ents"
   ]
  },
  {
   "cell_type": "code",
   "execution_count": 13,
   "metadata": {},
   "outputs": [
    {
     "data": {
      "text/plain": [
       "(44616, 7)"
      ]
     },
     "execution_count": 13,
     "metadata": {},
     "output_type": "execute_result"
    }
   ],
   "source": [
    "df_ents = load_entities_from_zipfile(os.path.join(path_to_data, base_dataset_name))\n",
    "df_ents.shape"
   ]
  },
  {
   "cell_type": "code",
   "execution_count": 14,
   "metadata": {},
   "outputs": [
    {
     "data": {
      "text/html": [
       "<div>\n",
       "<style scoped>\n",
       "    .dataframe tbody tr th:only-of-type {\n",
       "        vertical-align: middle;\n",
       "    }\n",
       "\n",
       "    .dataframe tbody tr th {\n",
       "        vertical-align: top;\n",
       "    }\n",
       "\n",
       "    .dataframe thead th {\n",
       "        text-align: right;\n",
       "    }\n",
       "</style>\n",
       "<table border=\"1\" class=\"dataframe\">\n",
       "  <thead>\n",
       "    <tr style=\"text-align: right;\">\n",
       "      <th></th>\n",
       "      <th>Id</th>\n",
       "      <th>Entity_id</th>\n",
       "      <th>Mention</th>\n",
       "      <th>Category</th>\n",
       "      <th>Start_char</th>\n",
       "      <th>End_char</th>\n",
       "      <th>Char_spans</th>\n",
       "    </tr>\n",
       "  </thead>\n",
       "  <tbody>\n",
       "    <tr>\n",
       "      <th>0</th>\n",
       "      <td>NCT00050349_exc</td>\n",
       "      <td>T1</td>\n",
       "      <td>CNS metastases</td>\n",
       "      <td>Condition</td>\n",
       "      <td>26</td>\n",
       "      <td>40</td>\n",
       "      <td>(26, 40)</td>\n",
       "    </tr>\n",
       "    <tr>\n",
       "      <th>1</th>\n",
       "      <td>NCT00050349_exc</td>\n",
       "      <td>T2</td>\n",
       "      <td>leptomeningeal involvement</td>\n",
       "      <td>Condition</td>\n",
       "      <td>44</td>\n",
       "      <td>70</td>\n",
       "      <td>(44, 70)</td>\n",
       "    </tr>\n",
       "    <tr>\n",
       "      <th>2</th>\n",
       "      <td>NCT00050349_exc</td>\n",
       "      <td>T5</td>\n",
       "      <td>treated</td>\n",
       "      <td>Procedure</td>\n",
       "      <td>144</td>\n",
       "      <td>151</td>\n",
       "      <td>(144, 151)</td>\n",
       "    </tr>\n",
       "    <tr>\n",
       "      <th>3</th>\n",
       "      <td>NCT00050349_exc</td>\n",
       "      <td>T6</td>\n",
       "      <td>been stable for</td>\n",
       "      <td>Qualifier</td>\n",
       "      <td>164</td>\n",
       "      <td>179</td>\n",
       "      <td>(164, 179)</td>\n",
       "    </tr>\n",
       "    <tr>\n",
       "      <th>4</th>\n",
       "      <td>NCT00050349_exc</td>\n",
       "      <td>T7</td>\n",
       "      <td>at least six months prior to study start</td>\n",
       "      <td>Temporal</td>\n",
       "      <td>180</td>\n",
       "      <td>220</td>\n",
       "      <td>(180, 220)</td>\n",
       "    </tr>\n",
       "  </tbody>\n",
       "</table>\n",
       "</div>"
      ],
      "text/plain": [
       "                Id Entity_id                                   Mention  \\\n",
       "0  NCT00050349_exc        T1                            CNS metastases   \n",
       "1  NCT00050349_exc        T2                leptomeningeal involvement   \n",
       "2  NCT00050349_exc        T5                                   treated   \n",
       "3  NCT00050349_exc        T6                           been stable for   \n",
       "4  NCT00050349_exc        T7  at least six months prior to study start   \n",
       "\n",
       "    Category  Start_char  End_char  Char_spans  \n",
       "0  Condition          26        40    (26, 40)  \n",
       "1  Condition          44        70    (44, 70)  \n",
       "2  Procedure         144       151  (144, 151)  \n",
       "3  Qualifier         164       179  (164, 179)  \n",
       "4   Temporal         180       220  (180, 220)  "
      ]
     },
     "execution_count": 14,
     "metadata": {},
     "output_type": "execute_result"
    }
   ],
   "source": [
    "df_ents.head()"
   ]
  },
  {
   "cell_type": "code",
   "execution_count": 15,
   "metadata": {},
   "outputs": [],
   "source": [
    "# A sanity check:\n",
    "check = []\n",
    "for _id, text in df_texts.values.tolist():\n",
    "    df_tmp = df_ents[df_ents.Id == _id]\n",
    "    check_tmp = df_tmp.apply(\n",
    "        func = lambda r: [_id, r.Mention, text[r.Start_char: r.End_char], r.Char_spans],\n",
    "        axis = 1,\n",
    "    ).values.tolist()\n",
    "    check += check_tmp\n",
    "    \n",
    "df_check = pd.DataFrame(check, columns = ['Id', 'Mention', 'Span', 'Char_spans'])"
   ]
  },
  {
   "cell_type": "code",
   "execution_count": 16,
   "metadata": {},
   "outputs": [
    {
     "name": "stdout",
     "output_type": "stream",
     "text": [
      "(1800, 4)\n",
      "(13, 4)\n"
     ]
    },
    {
     "data": {
      "text/html": [
       "<div>\n",
       "<style scoped>\n",
       "    .dataframe tbody tr th:only-of-type {\n",
       "        vertical-align: middle;\n",
       "    }\n",
       "\n",
       "    .dataframe tbody tr th {\n",
       "        vertical-align: top;\n",
       "    }\n",
       "\n",
       "    .dataframe thead th {\n",
       "        text-align: right;\n",
       "    }\n",
       "</style>\n",
       "<table border=\"1\" class=\"dataframe\">\n",
       "  <thead>\n",
       "    <tr style=\"text-align: right;\">\n",
       "      <th></th>\n",
       "      <th>Id</th>\n",
       "      <th>Mention</th>\n",
       "      <th>Span</th>\n",
       "      <th>Char_spans</th>\n",
       "    </tr>\n",
       "  </thead>\n",
       "  <tbody>\n",
       "    <tr>\n",
       "      <th>6361</th>\n",
       "      <td>NCT01352598_inc</td>\n",
       "      <td>prostate cancer</td>\n",
       "      <td>prostate cancer\\r</td>\n",
       "      <td>(383, 399)</td>\n",
       "    </tr>\n",
       "    <tr>\n",
       "      <th>10279</th>\n",
       "      <td>NCT01980680_exc</td>\n",
       "      <td>OHSS development</td>\n",
       "      <td>OHSS development\\r</td>\n",
       "      <td>(75, 92)</td>\n",
       "    </tr>\n",
       "    <tr>\n",
       "      <th>17492</th>\n",
       "      <td>NCT02425774_exc</td>\n",
       "      <td>chronic pancreatitis</td>\n",
       "      <td>chronic pancreatitis\\r</td>\n",
       "      <td>(149, 170)</td>\n",
       "    </tr>\n",
       "    <tr>\n",
       "      <th>21757</th>\n",
       "      <td>NCT02590822_inc</td>\n",
       "      <td>Capacity to provide informed consent before an...</td>\n",
       "      <td>Capacity to provide informed consent before an...</td>\n",
       "      <td>(0, 110)</td>\n",
       "    </tr>\n",
       "    <tr>\n",
       "      <th>23477</th>\n",
       "      <td>NCT02654912_exc</td>\n",
       "      <td>first trimester</td>\n",
       "      <td>first trimester\\r</td>\n",
       "      <td>(398, 414)</td>\n",
       "    </tr>\n",
       "    <tr>\n",
       "      <th>23859</th>\n",
       "      <td>NCT02668978_exc</td>\n",
       "      <td>Brilliant Blue FCF (E133)</td>\n",
       "      <td>Brilliant Blue FCF (E133)\\r</td>\n",
       "      <td>(198, 224)</td>\n",
       "    </tr>\n",
       "    <tr>\n",
       "      <th>25371</th>\n",
       "      <td>NCT02744976_exc</td>\n",
       "      <td>target vessel</td>\n",
       "      <td>target vessel\\r</td>\n",
       "      <td>(269, 283)</td>\n",
       "    </tr>\n",
       "    <tr>\n",
       "      <th>37184</th>\n",
       "      <td>NCT03217409_inc</td>\n",
       "      <td>at the randomization visit</td>\n",
       "      <td>at the randomization visit\\r</td>\n",
       "      <td>(239, 266)</td>\n",
       "    </tr>\n",
       "    <tr>\n",
       "      <th>37307</th>\n",
       "      <td>NCT03223909_exc</td>\n",
       "      <td>3 months before the protocol inclusion</td>\n",
       "      <td>3 months before the protocol inclusion\\r</td>\n",
       "      <td>(1428, 1467)</td>\n",
       "    </tr>\n",
       "    <tr>\n",
       "      <th>37342</th>\n",
       "      <td>NCT03223909_inc</td>\n",
       "      <td>Oxford scale</td>\n",
       "      <td>Oxford scale\\r</td>\n",
       "      <td>(206, 219)</td>\n",
       "    </tr>\n",
       "    <tr>\n",
       "      <th>40879</th>\n",
       "      <td>NCT03366779_exc</td>\n",
       "      <td>Subject is currently involved in another inves...</td>\n",
       "      <td>Subject is currently involved in another inves...</td>\n",
       "      <td>(3001, 3065)</td>\n",
       "    </tr>\n",
       "    <tr>\n",
       "      <th>41349</th>\n",
       "      <td>NCT03387059_exc</td>\n",
       "      <td>Known hypersensitivity to any of the component...</td>\n",
       "      <td>Known hypersensitivity to any of the component...</td>\n",
       "      <td>(820, 884)</td>\n",
       "    </tr>\n",
       "    <tr>\n",
       "      <th>42047</th>\n",
       "      <td>NCT03460002_inc</td>\n",
       "      <td>Person Surveillance Site</td>\n",
       "      <td>Demographic Surveillance Site</td>\n",
       "      <td>(104, 133)</td>\n",
       "    </tr>\n",
       "  </tbody>\n",
       "</table>\n",
       "</div>"
      ],
      "text/plain": [
       "                    Id                                            Mention  \\\n",
       "6361   NCT01352598_inc                                    prostate cancer   \n",
       "10279  NCT01980680_exc                                   OHSS development   \n",
       "17492  NCT02425774_exc                               chronic pancreatitis   \n",
       "21757  NCT02590822_inc  Capacity to provide informed consent before an...   \n",
       "23477  NCT02654912_exc                                    first trimester   \n",
       "23859  NCT02668978_exc                          Brilliant Blue FCF (E133)   \n",
       "25371  NCT02744976_exc                                      target vessel   \n",
       "37184  NCT03217409_inc                         at the randomization visit   \n",
       "37307  NCT03223909_exc             3 months before the protocol inclusion   \n",
       "37342  NCT03223909_inc                                       Oxford scale   \n",
       "40879  NCT03366779_exc  Subject is currently involved in another inves...   \n",
       "41349  NCT03387059_exc  Known hypersensitivity to any of the component...   \n",
       "42047  NCT03460002_inc                           Person Surveillance Site   \n",
       "\n",
       "                                                    Span    Char_spans  \n",
       "6361                                   prostate cancer\\r    (383, 399)  \n",
       "10279                                 OHSS development\\r      (75, 92)  \n",
       "17492                             chronic pancreatitis\\r    (149, 170)  \n",
       "21757  Capacity to provide informed consent before an...      (0, 110)  \n",
       "23477                                  first trimester\\r    (398, 414)  \n",
       "23859                        Brilliant Blue FCF (E133)\\r    (198, 224)  \n",
       "25371                                    target vessel\\r    (269, 283)  \n",
       "37184                       at the randomization visit\\r    (239, 266)  \n",
       "37307           3 months before the protocol inclusion\\r  (1428, 1467)  \n",
       "37342                                     Oxford scale\\r    (206, 219)  \n",
       "40879  Subject is currently involved in another inves...  (3001, 3065)  \n",
       "41349  Known hypersensitivity to any of the component...    (820, 884)  \n",
       "42047                      Demographic Surveillance Site    (104, 133)  "
      ]
     },
     "execution_count": 16,
     "metadata": {},
     "output_type": "execute_result"
    }
   ],
   "source": [
    "# Mention and Span are the same for *almost* all entities:\n",
    "print(df_check[df_check.Mention != df_check.Span].shape)\n",
    "print(df_check[(df_check.Mention != df_check.Span) & (df_check.Char_spans.apply(len) == 2)].shape)\n",
    "\n",
    "df_check[(df_check.Mention != df_check.Span) & (df_check.Char_spans.apply(len) == 2)]"
   ]
  },
  {
   "cell_type": "markdown",
   "metadata": {},
   "source": [
    "## 2.2 Get flattened non-overlapping entities\n",
    "\n",
    "[Table of content](#TOC)"
   ]
  },
  {
   "cell_type": "code",
   "execution_count": 17,
   "metadata": {},
   "outputs": [],
   "source": [
    "categories = [\n",
    "    # domain\n",
    "    'Condition',                     # - in C2Q\n",
    "    'Device',                        # present in OMOP CDM, can be precise ('Pacemaker') or broad ('barrier method of birth control)\n",
    "    'Drug',                          # - in C2Q\n",
    "    'Measurement',                   # - in C2Q\n",
    "    'Person',                        # Demographic (sex, age), but also contains mislabeled Condition ('Premenopausal', drug users'), mislabeled Measurement ('body mass index') and irrelevant terms ('Incarcerated')\n",
    "    'Procedure',                     # - in C2Q\n",
    "    # 'Visit',                         # codable ?\n",
    "    \n",
    "    # field\n",
    "    'Value',                         # - in C2Q\n",
    "    'Temporal',                      # - in C2Q\n",
    "    'Qualifier',                     # Originaly a Construct entity. Modifier terms similar to Observation\n",
    "    'Observation',                   # - in C2Q # greatly overlaps Qualifier, and the delta seems useless\n",
    "    # 'Reference_point',             # reference point in time, absolute (\"3 times the agent's half-life\") or relative ('initiation of treatment')\n",
    "    # 'Mood',                        # useless\n",
    "\n",
    "    # construct\n",
    "    # 'Negation',                    # negation expressed as a NER + RelEx problem to be complete\n",
    "    # 'Multiplier',                  # CAUTION here, as it covers Value ('> 500 mg/m^2') and Logical label ('3 or more')\n",
    "]"
   ]
  },
  {
   "cell_type": "code",
   "execution_count": 18,
   "metadata": {},
   "outputs": [],
   "source": [
    "df_ents = get_ner_entities(df_texts, df_ents, categories)"
   ]
  },
  {
   "cell_type": "code",
   "execution_count": 19,
   "metadata": {
    "scrolled": true
   },
   "outputs": [
    {
     "data": {
      "text/html": [
       "<div>\n",
       "<style scoped>\n",
       "    .dataframe tbody tr th:only-of-type {\n",
       "        vertical-align: middle;\n",
       "    }\n",
       "\n",
       "    .dataframe tbody tr th {\n",
       "        vertical-align: top;\n",
       "    }\n",
       "\n",
       "    .dataframe thead th {\n",
       "        text-align: right;\n",
       "    }\n",
       "</style>\n",
       "<table border=\"1\" class=\"dataframe\">\n",
       "  <thead>\n",
       "    <tr style=\"text-align: right;\">\n",
       "      <th></th>\n",
       "      <th>Id</th>\n",
       "      <th>Mention</th>\n",
       "      <th>Start_char</th>\n",
       "      <th>End_char</th>\n",
       "      <th>Entity_id</th>\n",
       "      <th>Category</th>\n",
       "    </tr>\n",
       "  </thead>\n",
       "  <tbody>\n",
       "    <tr>\n",
       "      <th>0</th>\n",
       "      <td>NCT00050349_exc</td>\n",
       "      <td>symptomatic</td>\n",
       "      <td>14</td>\n",
       "      <td>25</td>\n",
       "      <td>(T65,)</td>\n",
       "      <td>Qualifier</td>\n",
       "    </tr>\n",
       "    <tr>\n",
       "      <th>1</th>\n",
       "      <td>NCT00050349_exc</td>\n",
       "      <td>CNS metastases</td>\n",
       "      <td>26</td>\n",
       "      <td>40</td>\n",
       "      <td>(T1,)</td>\n",
       "      <td>Condition</td>\n",
       "    </tr>\n",
       "    <tr>\n",
       "      <th>2</th>\n",
       "      <td>NCT00050349_exc</td>\n",
       "      <td>leptomeningeal involvement</td>\n",
       "      <td>44</td>\n",
       "      <td>70</td>\n",
       "      <td>(T2,)</td>\n",
       "      <td>Condition</td>\n",
       "    </tr>\n",
       "    <tr>\n",
       "      <th>3</th>\n",
       "      <td>NCT00050349_exc</td>\n",
       "      <td>brain metastases</td>\n",
       "      <td>92</td>\n",
       "      <td>108</td>\n",
       "      <td>(T4,)</td>\n",
       "      <td>Condition</td>\n",
       "    </tr>\n",
       "    <tr>\n",
       "      <th>4</th>\n",
       "      <td>NCT00050349_exc</td>\n",
       "      <td>treated</td>\n",
       "      <td>144</td>\n",
       "      <td>151</td>\n",
       "      <td>(T5,)</td>\n",
       "      <td>Procedure</td>\n",
       "    </tr>\n",
       "  </tbody>\n",
       "</table>\n",
       "</div>"
      ],
      "text/plain": [
       "                Id                     Mention  Start_char  End_char  \\\n",
       "0  NCT00050349_exc                 symptomatic          14        25   \n",
       "1  NCT00050349_exc              CNS metastases          26        40   \n",
       "2  NCT00050349_exc  leptomeningeal involvement          44        70   \n",
       "3  NCT00050349_exc            brain metastases          92       108   \n",
       "4  NCT00050349_exc                     treated         144       151   \n",
       "\n",
       "  Entity_id   Category  \n",
       "0    (T65,)  Qualifier  \n",
       "1     (T1,)  Condition  \n",
       "2     (T2,)  Condition  \n",
       "3     (T4,)  Condition  \n",
       "4     (T5,)  Procedure  "
      ]
     },
     "execution_count": 19,
     "metadata": {},
     "output_type": "execute_result"
    }
   ],
   "source": [
    "df_ents.head()"
   ]
  },
  {
   "cell_type": "code",
   "execution_count": 20,
   "metadata": {},
   "outputs": [],
   "source": [
    "df_ents.to_csv(os.path.join(path_to_data, final_dataset_name, 'chia_ents.tsv'), sep = \"\\t\", index = False)"
   ]
  },
  {
   "cell_type": "markdown",
   "metadata": {},
   "source": [
    "<a id=\"bio\"></a>"
   ]
  },
  {
   "cell_type": "markdown",
   "metadata": {},
   "source": [
    "## 2.3 Convert entities to BIO format\n",
    "\n",
    "[Table of content](#TOC)\n"
   ]
  },
  {
   "cell_type": "code",
   "execution_count": 21,
   "metadata": {},
   "outputs": [
    {
     "data": {
      "text/plain": [
       "(76755, 4)"
      ]
     },
     "execution_count": 21,
     "metadata": {},
     "output_type": "execute_result"
    }
   ],
   "source": [
    "df_spans = convert_to_bio(df_texts, df_ents)\n",
    "df_spans.shape"
   ]
  },
  {
   "cell_type": "code",
   "execution_count": 22,
   "metadata": {},
   "outputs": [
    {
     "data": {
      "text/html": [
       "<div>\n",
       "<style scoped>\n",
       "    .dataframe tbody tr th:only-of-type {\n",
       "        vertical-align: middle;\n",
       "    }\n",
       "\n",
       "    .dataframe tbody tr th {\n",
       "        vertical-align: top;\n",
       "    }\n",
       "\n",
       "    .dataframe thead th {\n",
       "        text-align: right;\n",
       "    }\n",
       "</style>\n",
       "<table border=\"1\" class=\"dataframe\">\n",
       "  <thead>\n",
       "    <tr style=\"text-align: right;\">\n",
       "      <th></th>\n",
       "      <th>Id</th>\n",
       "      <th>Sequence_id</th>\n",
       "      <th>Mention</th>\n",
       "      <th>Category</th>\n",
       "    </tr>\n",
       "  </thead>\n",
       "  <tbody>\n",
       "    <tr>\n",
       "      <th>0</th>\n",
       "      <td>NCT00050349_exc</td>\n",
       "      <td>NCT00050349_exc_0</td>\n",
       "      <td>Patients with</td>\n",
       "      <td>O</td>\n",
       "    </tr>\n",
       "    <tr>\n",
       "      <th>1</th>\n",
       "      <td>NCT00050349_exc</td>\n",
       "      <td>NCT00050349_exc_0</td>\n",
       "      <td>symptomatic</td>\n",
       "      <td>Qualifier</td>\n",
       "    </tr>\n",
       "    <tr>\n",
       "      <th>2</th>\n",
       "      <td>NCT00050349_exc</td>\n",
       "      <td>NCT00050349_exc_0</td>\n",
       "      <td></td>\n",
       "      <td>O</td>\n",
       "    </tr>\n",
       "    <tr>\n",
       "      <th>3</th>\n",
       "      <td>NCT00050349_exc</td>\n",
       "      <td>NCT00050349_exc_0</td>\n",
       "      <td>CNS metastases</td>\n",
       "      <td>Condition</td>\n",
       "    </tr>\n",
       "    <tr>\n",
       "      <th>4</th>\n",
       "      <td>NCT00050349_exc</td>\n",
       "      <td>NCT00050349_exc_0</td>\n",
       "      <td>or</td>\n",
       "      <td>O</td>\n",
       "    </tr>\n",
       "  </tbody>\n",
       "</table>\n",
       "</div>"
      ],
      "text/plain": [
       "                Id        Sequence_id         Mention   Category\n",
       "0  NCT00050349_exc  NCT00050349_exc_0  Patients with           O\n",
       "1  NCT00050349_exc  NCT00050349_exc_0     symptomatic  Qualifier\n",
       "2  NCT00050349_exc  NCT00050349_exc_0                          O\n",
       "3  NCT00050349_exc  NCT00050349_exc_0  CNS metastases  Condition\n",
       "4  NCT00050349_exc  NCT00050349_exc_0             or           O"
      ]
     },
     "execution_count": 22,
     "metadata": {},
     "output_type": "execute_result"
    }
   ],
   "source": [
    "df_spans.head()"
   ]
  },
  {
   "cell_type": "code",
   "execution_count": 23,
   "metadata": {},
   "outputs": [],
   "source": [
    "df_spans.to_csv(os.path.join(path_to_data, final_dataset_name, 'chia_spans.tsv'), sep = \"\\t\", index = False)"
   ]
  },
  {
   "cell_type": "code",
   "execution_count": 24,
   "metadata": {},
   "outputs": [
    {
     "data": {
      "text/plain": [
       "(211076, 4)"
      ]
     },
     "execution_count": 24,
     "metadata": {},
     "output_type": "execute_result"
    }
   ],
   "source": [
    "tokenizer = English()\n",
    "df_bio = convert_to_bio(df_texts, df_ents, tokenizer = lambda s: [t.text for t in tokenizer(s)])\n",
    "\n",
    "df_bio.shape"
   ]
  },
  {
   "cell_type": "code",
   "execution_count": 25,
   "metadata": {},
   "outputs": [
    {
     "data": {
      "text/html": [
       "<div>\n",
       "<style scoped>\n",
       "    .dataframe tbody tr th:only-of-type {\n",
       "        vertical-align: middle;\n",
       "    }\n",
       "\n",
       "    .dataframe tbody tr th {\n",
       "        vertical-align: top;\n",
       "    }\n",
       "\n",
       "    .dataframe thead th {\n",
       "        text-align: right;\n",
       "    }\n",
       "</style>\n",
       "<table border=\"1\" class=\"dataframe\">\n",
       "  <thead>\n",
       "    <tr style=\"text-align: right;\">\n",
       "      <th></th>\n",
       "      <th>Id</th>\n",
       "      <th>Sequence_id</th>\n",
       "      <th>Mention</th>\n",
       "      <th>Category</th>\n",
       "    </tr>\n",
       "  </thead>\n",
       "  <tbody>\n",
       "    <tr>\n",
       "      <th>0</th>\n",
       "      <td>NCT00050349_exc</td>\n",
       "      <td>NCT00050349_exc_0</td>\n",
       "      <td>Patients</td>\n",
       "      <td>O</td>\n",
       "    </tr>\n",
       "    <tr>\n",
       "      <th>1</th>\n",
       "      <td>NCT00050349_exc</td>\n",
       "      <td>NCT00050349_exc_0</td>\n",
       "      <td>with</td>\n",
       "      <td>O</td>\n",
       "    </tr>\n",
       "    <tr>\n",
       "      <th>2</th>\n",
       "      <td>NCT00050349_exc</td>\n",
       "      <td>NCT00050349_exc_0</td>\n",
       "      <td>symptomatic</td>\n",
       "      <td>B-Qualifier</td>\n",
       "    </tr>\n",
       "    <tr>\n",
       "      <th>3</th>\n",
       "      <td>NCT00050349_exc</td>\n",
       "      <td>NCT00050349_exc_0</td>\n",
       "      <td></td>\n",
       "      <td>O</td>\n",
       "    </tr>\n",
       "    <tr>\n",
       "      <th>4</th>\n",
       "      <td>NCT00050349_exc</td>\n",
       "      <td>NCT00050349_exc_0</td>\n",
       "      <td>CNS</td>\n",
       "      <td>B-Condition</td>\n",
       "    </tr>\n",
       "    <tr>\n",
       "      <th>5</th>\n",
       "      <td>NCT00050349_exc</td>\n",
       "      <td>NCT00050349_exc_0</td>\n",
       "      <td>metastases</td>\n",
       "      <td>I-Condition</td>\n",
       "    </tr>\n",
       "    <tr>\n",
       "      <th>6</th>\n",
       "      <td>NCT00050349_exc</td>\n",
       "      <td>NCT00050349_exc_0</td>\n",
       "      <td></td>\n",
       "      <td>O</td>\n",
       "    </tr>\n",
       "    <tr>\n",
       "      <th>7</th>\n",
       "      <td>NCT00050349_exc</td>\n",
       "      <td>NCT00050349_exc_0</td>\n",
       "      <td>or</td>\n",
       "      <td>O</td>\n",
       "    </tr>\n",
       "    <tr>\n",
       "      <th>8</th>\n",
       "      <td>NCT00050349_exc</td>\n",
       "      <td>NCT00050349_exc_0</td>\n",
       "      <td>leptomeningeal</td>\n",
       "      <td>B-Condition</td>\n",
       "    </tr>\n",
       "    <tr>\n",
       "      <th>9</th>\n",
       "      <td>NCT00050349_exc</td>\n",
       "      <td>NCT00050349_exc_0</td>\n",
       "      <td>involvement</td>\n",
       "      <td>I-Condition</td>\n",
       "    </tr>\n",
       "  </tbody>\n",
       "</table>\n",
       "</div>"
      ],
      "text/plain": [
       "                Id        Sequence_id         Mention     Category\n",
       "0  NCT00050349_exc  NCT00050349_exc_0        Patients            O\n",
       "1  NCT00050349_exc  NCT00050349_exc_0            with            O\n",
       "2  NCT00050349_exc  NCT00050349_exc_0     symptomatic  B-Qualifier\n",
       "3  NCT00050349_exc  NCT00050349_exc_0                            O\n",
       "4  NCT00050349_exc  NCT00050349_exc_0             CNS  B-Condition\n",
       "5  NCT00050349_exc  NCT00050349_exc_0      metastases  I-Condition\n",
       "6  NCT00050349_exc  NCT00050349_exc_0                            O\n",
       "7  NCT00050349_exc  NCT00050349_exc_0              or            O\n",
       "8  NCT00050349_exc  NCT00050349_exc_0  leptomeningeal  B-Condition\n",
       "9  NCT00050349_exc  NCT00050349_exc_0     involvement  I-Condition"
      ]
     },
     "execution_count": 25,
     "metadata": {},
     "output_type": "execute_result"
    }
   ],
   "source": [
    "df_bio.head(10)"
   ]
  },
  {
   "cell_type": "code",
   "execution_count": 26,
   "metadata": {},
   "outputs": [],
   "source": [
    "df_bio.to_csv(os.path.join(path_to_data, final_dataset_name, 'chia_bio.tsv'), sep = \"\\t\", index = False)"
   ]
  },
  {
   "cell_type": "markdown",
   "metadata": {},
   "source": [
    "[Table of content](#TOC)"
   ]
  }
 ],
 "metadata": {
  "kernelspec": {
   "display_name": "Python 3 (ipykernel)",
   "language": "python",
   "name": "python3"
  },
  "language_info": {
   "codemirror_mode": {
    "name": "ipython",
    "version": 3
   },
   "file_extension": ".py",
   "mimetype": "text/x-python",
   "name": "python",
   "nbconvert_exporter": "python",
   "pygments_lexer": "ipython3",
   "version": "3.8.13"
  }
 },
 "nbformat": 4,
 "nbformat_minor": 2
}
