{
 "cells": [
  {
   "cell_type": "markdown",
   "metadata": {},
   "source": [
    "<div style=\"font-variant: small-caps; \n",
    "      font-weight: normal; \n",
    "      font-size: 35px; \n",
    "      text-align: center; \n",
    "      padding: 15px; \n",
    "      margin: 10px;\">\n",
    "      Dataset processing\n",
    "  </div> \n",
    "  \n",
    "<div style=\"\n",
    "      font-weight: normal; \n",
    "      font-size: 25px; \n",
    "      text-align: center; \n",
    "      padding: 15px; \n",
    "      margin: 10px;\">\n",
    "      Leaf Clinical Trials\n",
    "  </div>\n",
    "\n",
    "\n",
    "  <div style=\" float:left; \n",
    "      font-size: 12px; \n",
    "      line-height: 12px; \n",
    "  padding: 10px 15px 8px;\">\n",
    "  Jean-baptiste AUJOGUE -  Hybrid Intelligence\n",
    "  </div> \n"
   ]
  },
  {
   "cell_type": "markdown",
   "metadata": {},
   "source": [
    "<a id=\"TOC\"></a>"
   ]
  },
  {
   "cell_type": "markdown",
   "metadata": {},
   "source": [
    "##### Table Of Content\n",
    "\n",
    "1. [LCT Texts](#texts) <br>\n",
    "2. [LCT Graph](#graph) <br>\n",
    "3. [LCT Entities](#ents) <br>\n",
    "\n",
    "\n",
    "#### Useful links\n",
    "\n",
    "- The Leaf Clinical Trials Corpus: a new resource for query generation from clinical trial eligibility criteria, [paper](https://www.nature.com/articles/s41597-022-01521-0), [dataset](https://figshare.com/articles/dataset/lct_corpus_tar_gz/17209610), [github](https://github.com/uw-bionlp/clinical-trials-gov-data)"
   ]
  },
  {
   "cell_type": "code",
   "execution_count": 1,
   "metadata": {},
   "outputs": [],
   "source": [
    "%load_ext autoreload\n",
    "%autoreload 2"
   ]
  },
  {
   "cell_type": "code",
   "execution_count": 2,
   "metadata": {},
   "outputs": [
    {
     "name": "stderr",
     "output_type": "stream",
     "text": [
      "C:\\Users\\jb\\miniconda3\\envs\\transformers_nlp\\lib\\site-packages\\tqdm\\auto.py:22: TqdmWarning: IProgress not found. Please update jupyter and ipywidgets. See https://ipywidgets.readthedocs.io/en/stable/user_install.html\n",
      "  from .autonotebook import tqdm as notebook_tqdm\n"
     ]
    }
   ],
   "source": [
    "import os\n",
    "import sys\n",
    "import re\n",
    "import copy\n",
    "import json\n",
    "import tarfile\n",
    "\n",
    "# data\n",
    "import numpy as np\n",
    "import pandas as pd\n",
    "import networkx as nx\n",
    "\n",
    "# text\n",
    "from spacy.lang.en import English\n",
    "\n",
    "# viz\n",
    "import pyvis.network as nt"
   ]
  },
  {
   "cell_type": "markdown",
   "metadata": {},
   "source": [
    "#### Custom variables"
   ]
  },
  {
   "cell_type": "code",
   "execution_count": 3,
   "metadata": {},
   "outputs": [
    {
     "data": {
      "text/plain": [
       "'C:\\\\Users\\\\jb\\\\Desktop\\\\NLP\\\\perso - Transformers for NLP\\\\src'"
      ]
     },
     "execution_count": 3,
     "metadata": {},
     "output_type": "execute_result"
    }
   ],
   "source": [
    "path_to_repo = os.path.dirname(os.getcwd())\n",
    "path_to_data = os.path.join(path_to_repo, 'datasets', 'lct')\n",
    "path_to_src  = os.path.join(path_to_repo, 'src')\n",
    "path_to_src"
   ]
  },
  {
   "cell_type": "code",
   "execution_count": 4,
   "metadata": {},
   "outputs": [],
   "source": [
    "base_dataset_name  = 'lct_corpus.tar.gz'\n",
    "final_dataset_name = 'lct-ner'"
   ]
  },
  {
   "cell_type": "markdown",
   "metadata": {},
   "source": [
    "#### Custom imports"
   ]
  },
  {
   "cell_type": "code",
   "execution_count": 5,
   "metadata": {},
   "outputs": [],
   "source": [
    "sys.path.insert(0, path_to_src)"
   ]
  },
  {
   "cell_type": "code",
   "execution_count": 6,
   "metadata": {},
   "outputs": [],
   "source": [
    "from nlptools.dataset.chia.preprocessing import get_ner_entities, convert_to_bio"
   ]
  },
  {
   "cell_type": "markdown",
   "metadata": {},
   "source": [
    "<a id=\"texts\"></a>"
   ]
  },
  {
   "cell_type": "markdown",
   "metadata": {},
   "source": [
    "# 1. LCT Texts\n",
    "\n",
    "[Table of content](#TOC)"
   ]
  },
  {
   "cell_type": "code",
   "execution_count": 7,
   "metadata": {},
   "outputs": [],
   "source": [
    "def load_texts_from_targzfile(targz_file):\n",
    "    with tarfile.open(targz_file, \"r:gz\") as archive:\n",
    "        text_files = [(f.name, f) for f in archive.getmembers() if f.name.endswith('.txt')]\n",
    "        texts = []\n",
    "        for name, member in text_files:\n",
    "            f = archive.extractfile(member)\n",
    "            if f is not None:\n",
    "                _id = name.split('/')[-1][:-4]\n",
    "                text = f.read().decode('utf-8').replace('⁄', '/')\n",
    "                texts.append([_id, text])\n",
    "            \n",
    "    df_texts = pd.DataFrame(texts, columns = ['Id', 'Text'])\n",
    "    return df_texts"
   ]
  },
  {
   "cell_type": "code",
   "execution_count": 8,
   "metadata": {},
   "outputs": [],
   "source": [
    "folder = os.path.join(path_to_data, final_dataset_name)\n",
    "if not os.path.isdir(folder):\n",
    "    os.makedirs(folder)"
   ]
  },
  {
   "cell_type": "code",
   "execution_count": 9,
   "metadata": {},
   "outputs": [],
   "source": [
    "df_texts = load_texts_from_targzfile(os.path.join(path_to_data, base_dataset_name))"
   ]
  },
  {
   "cell_type": "code",
   "execution_count": 10,
   "metadata": {},
   "outputs": [
    {
     "data": {
      "text/html": [
       "<div>\n",
       "<style scoped>\n",
       "    .dataframe tbody tr th:only-of-type {\n",
       "        vertical-align: middle;\n",
       "    }\n",
       "\n",
       "    .dataframe tbody tr th {\n",
       "        vertical-align: top;\n",
       "    }\n",
       "\n",
       "    .dataframe thead th {\n",
       "        text-align: right;\n",
       "    }\n",
       "</style>\n",
       "<table border=\"1\" class=\"dataframe\">\n",
       "  <thead>\n",
       "    <tr style=\"text-align: right;\">\n",
       "      <th></th>\n",
       "      <th>Id</th>\n",
       "      <th>Text</th>\n",
       "    </tr>\n",
       "  </thead>\n",
       "  <tbody>\n",
       "    <tr>\n",
       "      <th>0</th>\n",
       "      <td>NCT03862404</td>\n",
       "      <td>Inclusion Criteria:\\n  -  Male and Female, bet...</td>\n",
       "    </tr>\n",
       "    <tr>\n",
       "      <th>1</th>\n",
       "      <td>NCT03861858</td>\n",
       "      <td>Inclusion Criteria:\\n  -  Age 13-17 years or 1...</td>\n",
       "    </tr>\n",
       "    <tr>\n",
       "      <th>2</th>\n",
       "      <td>NCT03869021</td>\n",
       "      <td>Inclusion Criteria:\\n  1. Patients free from a...</td>\n",
       "    </tr>\n",
       "    <tr>\n",
       "      <th>3</th>\n",
       "      <td>NCT03864263</td>\n",
       "      <td>Inclusion Criteria:\\n  -  The father or (and) ...</td>\n",
       "    </tr>\n",
       "    <tr>\n",
       "      <th>4</th>\n",
       "      <td>NCT03862612</td>\n",
       "      <td>Inclusion Criteria:\\n  -  Male and Female part...</td>\n",
       "    </tr>\n",
       "  </tbody>\n",
       "</table>\n",
       "</div>"
      ],
      "text/plain": [
       "            Id                                               Text\n",
       "0  NCT03862404  Inclusion Criteria:\\n  -  Male and Female, bet...\n",
       "1  NCT03861858  Inclusion Criteria:\\n  -  Age 13-17 years or 1...\n",
       "2  NCT03869021  Inclusion Criteria:\\n  1. Patients free from a...\n",
       "3  NCT03864263  Inclusion Criteria:\\n  -  The father or (and) ...\n",
       "4  NCT03862612  Inclusion Criteria:\\n  -  Male and Female part..."
      ]
     },
     "execution_count": 10,
     "metadata": {},
     "output_type": "execute_result"
    }
   ],
   "source": [
    "df_texts.head()"
   ]
  },
  {
   "cell_type": "code",
   "execution_count": 11,
   "metadata": {},
   "outputs": [
    {
     "data": {
      "text/plain": [
       "(1006, 2)"
      ]
     },
     "execution_count": 11,
     "metadata": {},
     "output_type": "execute_result"
    }
   ],
   "source": [
    "df_texts.shape"
   ]
  },
  {
   "cell_type": "code",
   "execution_count": 12,
   "metadata": {},
   "outputs": [],
   "source": [
    "df_texts.to_csv(os.path.join(path_to_data, final_dataset_name, 'lct_texts.tsv'), sep = \"\\t\", index = False)"
   ]
  },
  {
   "cell_type": "code",
   "execution_count": 13,
   "metadata": {},
   "outputs": [
    {
     "name": "stdout",
     "output_type": "stream",
     "text": [
      "0 1006 1000\n"
     ]
    }
   ],
   "source": [
    "# sanity check : no overlap with chia\n",
    "df_chia = pd.read_csv(os.path.join(path_to_repo, 'datasets', 'chia', 'chia-ner', 'chia_texts.tsv'), sep = \"\\t\")\n",
    "\n",
    "chia_ids = set([t.split('_')[0] for t in df_chia.Id.tolist()])\n",
    "lct_ids  = set(df_texts.Id.tolist())\n",
    "print(\n",
    "    len(chia_ids & lct_ids),\n",
    "    len(lct_ids - chia_ids),\n",
    "    len(chia_ids - lct_ids),\n",
    ")"
   ]
  },
  {
   "cell_type": "markdown",
   "metadata": {},
   "source": [
    "<a id=\"graph\"></a>"
   ]
  },
  {
   "cell_type": "markdown",
   "metadata": {},
   "source": [
    "# 2. LCT Graph\n",
    "\n",
    "[Table of content](#TOC)"
   ]
  },
  {
   "cell_type": "markdown",
   "metadata": {},
   "source": [
    "## 2.1 Load LCT dataset into graph\n",
    "\n",
    "[Table of content](#TOC)\n",
    "\n",
    "#### Remark\n",
    "\n",
    "Entities are multi-spanned, and are here replaced by their full spans"
   ]
  },
  {
   "cell_type": "code",
   "execution_count": 100,
   "metadata": {},
   "outputs": [],
   "source": [
    "def load_entity_line(l):\n",
    "    ent = l.split('\\t')\n",
    "    ent_id = ent[0]\n",
    "    ent_txt = ent[2]\n",
    "    ent_cat = ent[1].replace(';', ' ').split(' ')[0]\n",
    "    spans = tuple([int(v) for v in ent[1].replace(';', ' ').split(' ')[1:]])\n",
    "    return [ent_id, ent_txt, ent_cat, min(spans), max(spans), spans]\n",
    "\n",
    "\n",
    "\n",
    "def load_graph_from_targzfile(targz_file):\n",
    "    with tarfile.open(targz_file, \"r:gz\") as archive:\n",
    "        ann_files = [(f.name, f) for f in archive.getmembers() if f.name.endswith('.ann')]\n",
    "        all_nodes = []\n",
    "        all_edges = []\n",
    "        for name, member in ann_files:\n",
    "            f = archive.extractfile(member)\n",
    "            if f is not None:\n",
    "                _id = name.split('/')[-1][:-4]\n",
    "                lines = [l.decode('utf-8').replace('⁄', '/').strip() for l in f.readlines()]\n",
    "\n",
    "                # load node attributes as attr-name / target-id / attr-value\n",
    "                a_attrs = [l.replace('\\t', ' ').split(' ')[-3:] for l in lines if l.startswith('A')]\n",
    "\n",
    "                # load nodes corresponding to textual entities\n",
    "                t_nodes = [load_entity_line(l) for l in lines if l.startswith('T')]\n",
    "                t_nodes = [{\n",
    "                    'Node_id': '-'.join((_id, n[0])),\n",
    "                    'Study_id': _id,\n",
    "                    'Entity_id': n[0],\n",
    "                    'Mention': n[1],\n",
    "                    'Category': n[2],\n",
    "                    'Start_char': n[3],\n",
    "                    'End_char': n[4],\n",
    "                    'Char_spans': n[5],\n",
    "                    'Normalization': [(a[0], a[-1]) for a in a_attrs if a[-2] == n[0]], # (a_attrs['-'.join((_id, n[0]))] if '-'.join((_id, n[0])) in a_attrs else ''),\n",
    "                    } \n",
    "                    for n in t_nodes\n",
    "                ]\n",
    "\n",
    "                # load nodes corresponding to metadata \n",
    "                e_nodes = [l.replace('\\t', ' ').split(' ') for l in lines if l.startswith('E')]\n",
    "                e_nodes = [{\n",
    "                    'Node_id': '-'.join((_id, n[0])),\n",
    "                    'Study_id': _id,\n",
    "                    'Entity_id': n[0],\n",
    "                    'Mention': '',\n",
    "                    'Category': '',\n",
    "                    'Start_char': '',\n",
    "                    'End_char': '',\n",
    "                    'Char_spans': tuple(),\n",
    "                    'Normalization': [(a[0], a[-1]) for a in a_attrs if a[-2] == n[0]], # (a_attrs['-'.join((_id, n[0]))] if '-'.join((_id, n[0])) in a_attrs else ''),\n",
    "                    } \n",
    "                    for n in e_nodes\n",
    "                ]\n",
    "                nodes = t_nodes + e_nodes\n",
    "                nodes = [(n['Node_id'], n) for n in nodes]\n",
    "                \n",
    "                # load edges carrying relationships\n",
    "                e_edges = [l.replace('\\t', ' ').split(' ') for l in lines if l.startswith('E')]\n",
    "                e_edges = [{\n",
    "                    's': '-'.join((_id, es[0])),\n",
    "                    't': '-'.join((_id, e.split(':')[1])),\n",
    "                    'Edge_id': es[0],\n",
    "                    'label': e.split(':')[0],\n",
    "                    } \n",
    "                    for es in e_edges for e in es[1:] if (':' in e)\n",
    "                ]\n",
    "                \n",
    "                # load edges carrying meta-relations\n",
    "                r_edges = [l.replace('\\t', ' ').split(' ')[:4] for l in lines if l.startswith('R')]\n",
    "                r_edges = [{\n",
    "                    's': '-'.join((_id, s.split(':')[1])),\n",
    "                    't': '-'.join((_id, t.split(':')[1])),\n",
    "                    'Edge_id': e_id,\n",
    "                    'label': label,\n",
    "                    } \n",
    "                    for e_id, label, s, t in r_edges\n",
    "                ]\n",
    "                edges = e_edges + r_edges\n",
    "                edges = [(e['s'], e['t'], e) for e in edges]\n",
    "                \n",
    "                all_nodes += nodes\n",
    "                all_edges += edges\n",
    "            \n",
    "    nx_graph = nx.MultiDiGraph()\n",
    "    nx_graph.add_nodes_from(all_nodes)\n",
    "    nx_graph.add_edges_from(all_edges)\n",
    "    return nx_graph"
   ]
  },
  {
   "cell_type": "code",
   "execution_count": 101,
   "metadata": {},
   "outputs": [],
   "source": [
    "nx_graph = load_graph_from_targzfile(os.path.join(path_to_data, base_dataset_name))"
   ]
  },
  {
   "cell_type": "markdown",
   "metadata": {},
   "source": [
    "## 2.2 Visualize graph\n",
    "\n",
    "[Table of content](#TOC)\n"
   ]
  },
  {
   "cell_type": "code",
   "execution_count": 91,
   "metadata": {},
   "outputs": [],
   "source": [
    "def filter_by_study(nx_graph, study):\n",
    "    nodes = [n for n in nx_graph.nodes() if nx_graph.nodes[n]['Study_id'] == study]\n",
    "    return nx_graph.subgraph(nodes)\n",
    "\n",
    "\n",
    "def convert_nx_to_nt_graph(nx_graph, node_colors = {}, edge_weights = {}, height = 1200, width = 1980, notebook = False):\n",
    "    nodes = list(nx_graph.nodes(data = True))\n",
    "    edges = [(s, t, 1 + (edge_weights[e['label']] if e['label'] in edge_weights else 0)) for s, t, e in nx_graph.edges(data = True)]\n",
    "    color = [(node_colors[k] if k in node_colors else '#edc939') for k, n in nodes]\n",
    "    \n",
    "    nt_graph = nt.Network(directed = True, height = height, width = width, notebook = notebook)\n",
    "    nt_graph.add_nodes(\n",
    "        nodes = [k for k, n in nodes],\n",
    "        size  = [10]*len(nodes),\n",
    "        label = [n['Mention'] for k, n in nodes],\n",
    "        title = [n['Category'] for k, n in nodes],\n",
    "        color = color,\n",
    "    )\n",
    "    nt_graph.add_edges(edges)\n",
    "    return nt_graph"
   ]
  },
  {
   "cell_type": "code",
   "execution_count": 92,
   "metadata": {},
   "outputs": [],
   "source": [
    "study = 'NCT03931941'\n",
    "study = 'NCT03860038'"
   ]
  },
  {
   "cell_type": "code",
   "execution_count": 93,
   "metadata": {},
   "outputs": [
    {
     "name": "stdout",
     "output_type": "stream",
     "text": [
      "Inclusion criteria:\n",
      "  1. Age ≥ 18, male or female;\n",
      "  2. Subject must have had documented MM;\n",
      "  3. At screening phase, subject must have measurable disease;\n",
      "  4. Subject is in a state of progressive disease (PD);\n",
      "  5. Subject must have life expectancy of no less than 6 months;\n",
      "  6. Subject must have an ECOG (Eastern Cooperative Oncology Group) performance status score of 0~2;\n",
      "Exclusion criteria:\n",
      "  1. Subject has received anti-CD38 monoclonal antibody treatment previously;\n",
      "  2. Subject has received CAR-T cell therapy previously;\n",
      "  3. Subject has previously received allogenic stem cell transplant, or subject has received autologous stem cell transplant within 3 months before administration of the study agent;\n",
      "  4. Primary refractory multiple myeloma (subject failed to generate any minimal response or any degree of response to any therapy);\n",
      "  5. Subject has received anti-myeloma treatment (radiotherapy is excluded) within 4 weeks or 5 PK half-lives of the treatment, whichever longer, before the first study agent administration.\n"
     ]
    }
   ],
   "source": [
    "print(df_texts[df_texts.Id == study].Text.tolist()[0])"
   ]
  },
  {
   "cell_type": "code",
   "execution_count": 94,
   "metadata": {},
   "outputs": [
    {
     "data": {
      "text/html": [
       "\n",
       "        <iframe\n",
       "            width=\"900\"\n",
       "            height=\"600\"\n",
       "            src=\"lct\\misc\\lct.html\"\n",
       "            frameborder=\"0\"\n",
       "            allowfullscreen\n",
       "            \n",
       "        ></iframe>\n",
       "        "
      ],
      "text/plain": [
       "<IPython.lib.display.IFrame at 0x1c743afd070>"
      ]
     },
     "execution_count": 94,
     "metadata": {},
     "output_type": "execute_result"
    }
   ],
   "source": [
    "nx_subgraph = filter_by_study(nx_graph, study = study)\n",
    "nt_subgraph = convert_nx_to_nt_graph(\n",
    "    nx_subgraph, \n",
    "    node_colors = {}, \n",
    "    edge_weights = {'Temporality': 5, },\n",
    "    height = 600, \n",
    "    width = 900, \n",
    "    notebook = True,\n",
    ")\n",
    "nt_subgraph.save_graph(os.path.join('lct', 'misc', 'lct.html'))\n",
    "\n",
    "nt_subgraph.show(os.path.join('lct', 'misc', 'lct.html'))"
   ]
  },
  {
   "cell_type": "code",
   "execution_count": 81,
   "metadata": {},
   "outputs": [
    {
     "data": {
      "text/plain": [
       "[{'s': 'NCT03860038-E21',\n",
       "  't': 'NCT03860038-T36',\n",
       "  'Edge_id': 'E21',\n",
       "  'label': 'Eq-Comparison'},\n",
       " {'s': 'NCT03860038-E21',\n",
       "  't': 'NCT03860038-T21',\n",
       "  'Edge_id': 'E21',\n",
       "  'label': 'Operator'},\n",
       " {'s': 'NCT03860038-E21',\n",
       "  't': 'NCT03860038-T24',\n",
       "  'Edge_id': 'E21',\n",
       "  'label': 'Temporal-Unit'},\n",
       " {'s': 'NCT03860038-E21',\n",
       "  't': 'NCT03860038-T31',\n",
       "  'Edge_id': 'E21',\n",
       "  'label': 'Value'},\n",
       " {'s': 'NCT03860038-E21',\n",
       "  't': 'NCT03860038-E27',\n",
       "  'Edge_id': 'R6',\n",
       "  'label': 'Before'}]"
      ]
     },
     "execution_count": 81,
     "metadata": {},
     "output_type": "execute_result"
    }
   ],
   "source": [
    "[e for s, t, e in nx_subgraph.edges(data = True) if e['s'] == 'NCT03860038-E21']"
   ]
  },
  {
   "cell_type": "markdown",
   "metadata": {},
   "source": [
    "<a id=\"ents\"></a>"
   ]
  },
  {
   "cell_type": "markdown",
   "metadata": {},
   "source": [
    "# 3. LCT Entities\n",
    "\n",
    "[Table of content](#TOC)"
   ]
  },
  {
   "cell_type": "markdown",
   "metadata": {},
   "source": [
    "## 3.1 Load entities as single spans\n",
    "\n",
    "[Table of content](#TOC)\n",
    "\n",
    "\n",
    "#### Remark\n",
    "\n",
    "Entities are multi-spanned, and are here replaced by their full spans"
   ]
  },
  {
   "cell_type": "code",
   "execution_count": 178,
   "metadata": {},
   "outputs": [],
   "source": [
    "def load_entities_from_targzfile(targz_file):\n",
    "    with tarfile.open(targz_file, \"r:gz\") as archive:\n",
    "        ann_files = [(f.name, f) for f in archive.getmembers() if f.name.endswith('.ann')]\n",
    "        ent_list = []\n",
    "        for name, member in ann_files:\n",
    "            f = archive.extractfile(member)\n",
    "            if f is not None:\n",
    "                _id = name.split('/')[-1][:-4]\n",
    "                lines = [l.decode('utf-8').replace('⁄', '/').strip() for l in f.readlines()]\n",
    "                ents = [[_id] + load_entity_line(l) for l in lines if l.startswith('T')]\n",
    "                ent_list += ents\n",
    "            \n",
    "    df_ents = pd.DataFrame(ent_list, columns = [\n",
    "        'Id', 'Entity_id', 'Mention', 'Category_original', 'Start_char', 'End_char', 'Char_spans',\n",
    "    ])\n",
    "    df_ents.loc[:, 'Category'] = df_ents.Category_original\n",
    "    return df_ents\n",
    "\n",
    "\n",
    "\n",
    "def get_parent_type(nx_graph, node_id):\n",
    "    '''\n",
    "    This function rely on the fact that each node has a single parent,\n",
    "    and its normalization is unique, if it exists.\n",
    "    '''\n",
    "    p_type = ''\n",
    "    parent = list(nx_graph.predecessors(node_id))\n",
    "    if parent:\n",
    "        p_type = nx_graph.nodes[parent[0]]['Normalization']\n",
    "        p_type = (p_type[0][-1] if p_type else '')\n",
    "    return p_type"
   ]
  },
  {
   "cell_type": "code",
   "execution_count": 179,
   "metadata": {},
   "outputs": [
    {
     "data": {
      "text/plain": [
       "(56093, 8)"
      ]
     },
     "execution_count": 179,
     "metadata": {},
     "output_type": "execute_result"
    }
   ],
   "source": [
    "df_ents = load_entities_from_targzfile(os.path.join(path_to_data, base_dataset_name))\n",
    "df_ents.shape"
   ]
  },
  {
   "cell_type": "code",
   "execution_count": 180,
   "metadata": {},
   "outputs": [],
   "source": [
    "df_ents.loc[:, 'Type'] = df_ents.apply(\n",
    "    func = lambda r: get_parent_type(nx_graph, '-'.join([r.Id, r.Entity_id])),\n",
    "    axis = 1,\n",
    ").tolist()"
   ]
  },
  {
   "cell_type": "code",
   "execution_count": 181,
   "metadata": {},
   "outputs": [
    {
     "data": {
      "text/html": [
       "<div>\n",
       "<style scoped>\n",
       "    .dataframe tbody tr th:only-of-type {\n",
       "        vertical-align: middle;\n",
       "    }\n",
       "\n",
       "    .dataframe tbody tr th {\n",
       "        vertical-align: top;\n",
       "    }\n",
       "\n",
       "    .dataframe thead th {\n",
       "        text-align: right;\n",
       "    }\n",
       "</style>\n",
       "<table border=\"1\" class=\"dataframe\">\n",
       "  <thead>\n",
       "    <tr style=\"text-align: right;\">\n",
       "      <th></th>\n",
       "      <th>Id</th>\n",
       "      <th>Entity_id</th>\n",
       "      <th>Mention</th>\n",
       "      <th>Category_original</th>\n",
       "      <th>Start_char</th>\n",
       "      <th>End_char</th>\n",
       "      <th>Char_spans</th>\n",
       "      <th>Category</th>\n",
       "      <th>Type</th>\n",
       "    </tr>\n",
       "  </thead>\n",
       "  <tbody>\n",
       "    <tr>\n",
       "      <th>0</th>\n",
       "      <td>NCT03865342</td>\n",
       "      <td>T1</td>\n",
       "      <td>diabetes</td>\n",
       "      <td>Condition</td>\n",
       "      <td>387</td>\n",
       "      <td>395</td>\n",
       "      <td>(387, 395)</td>\n",
       "      <td>Condition</td>\n",
       "      <td></td>\n",
       "    </tr>\n",
       "    <tr>\n",
       "      <th>1</th>\n",
       "      <td>NCT03865342</td>\n",
       "      <td>T2</td>\n",
       "      <td>diabetes</td>\n",
       "      <td>Condition-Name</td>\n",
       "      <td>387</td>\n",
       "      <td>395</td>\n",
       "      <td>(387, 395)</td>\n",
       "      <td>Condition-Name</td>\n",
       "      <td></td>\n",
       "    </tr>\n",
       "    <tr>\n",
       "      <th>2</th>\n",
       "      <td>NCT03865342</td>\n",
       "      <td>T3</td>\n",
       "      <td>English</td>\n",
       "      <td>Language</td>\n",
       "      <td>25</td>\n",
       "      <td>32</td>\n",
       "      <td>(25, 32)</td>\n",
       "      <td>Language</td>\n",
       "      <td></td>\n",
       "    </tr>\n",
       "    <tr>\n",
       "      <th>3</th>\n",
       "      <td>NCT03865342</td>\n",
       "      <td>T4</td>\n",
       "      <td>given birth</td>\n",
       "      <td>Condition</td>\n",
       "      <td>661</td>\n",
       "      <td>672</td>\n",
       "      <td>(661, 672)</td>\n",
       "      <td>Condition</td>\n",
       "      <td></td>\n",
       "    </tr>\n",
       "    <tr>\n",
       "      <th>4</th>\n",
       "      <td>NCT03865342</td>\n",
       "      <td>T5</td>\n",
       "      <td>given birth</td>\n",
       "      <td>Condition-Name</td>\n",
       "      <td>661</td>\n",
       "      <td>672</td>\n",
       "      <td>(661, 672)</td>\n",
       "      <td>Condition-Name</td>\n",
       "      <td></td>\n",
       "    </tr>\n",
       "  </tbody>\n",
       "</table>\n",
       "</div>"
      ],
      "text/plain": [
       "            Id Entity_id      Mention Category_original  Start_char  End_char  \\\n",
       "0  NCT03865342        T1     diabetes         Condition         387       395   \n",
       "1  NCT03865342        T2     diabetes    Condition-Name         387       395   \n",
       "2  NCT03865342        T3      English          Language          25        32   \n",
       "3  NCT03865342        T4  given birth         Condition         661       672   \n",
       "4  NCT03865342        T5  given birth    Condition-Name         661       672   \n",
       "\n",
       "   Char_spans        Category Type  \n",
       "0  (387, 395)       Condition       \n",
       "1  (387, 395)  Condition-Name       \n",
       "2    (25, 32)        Language       \n",
       "3  (661, 672)       Condition       \n",
       "4  (661, 672)  Condition-Name       "
      ]
     },
     "execution_count": 181,
     "metadata": {},
     "output_type": "execute_result"
    }
   ],
   "source": [
    "df_ents.head()"
   ]
  },
  {
   "cell_type": "code",
   "execution_count": 182,
   "metadata": {},
   "outputs": [
    {
     "data": {
      "text/html": [
       "<div>\n",
       "<style scoped>\n",
       "    .dataframe tbody tr th:only-of-type {\n",
       "        vertical-align: middle;\n",
       "    }\n",
       "\n",
       "    .dataframe tbody tr th {\n",
       "        vertical-align: top;\n",
       "    }\n",
       "\n",
       "    .dataframe thead th {\n",
       "        text-align: right;\n",
       "    }\n",
       "</style>\n",
       "<table border=\"1\" class=\"dataframe\">\n",
       "  <thead>\n",
       "    <tr style=\"text-align: right;\">\n",
       "      <th></th>\n",
       "      <th>Id</th>\n",
       "      <th>Entity_id</th>\n",
       "      <th>Mention</th>\n",
       "      <th>Category_original</th>\n",
       "      <th>Start_char</th>\n",
       "      <th>End_char</th>\n",
       "      <th>Char_spans</th>\n",
       "      <th>Category</th>\n",
       "      <th>Type</th>\n",
       "    </tr>\n",
       "  </thead>\n",
       "  <tbody>\n",
       "    <tr>\n",
       "      <th>30</th>\n",
       "      <td>NCT03865342</td>\n",
       "      <td>T33</td>\n",
       "      <td>Referral</td>\n",
       "      <td>Encounter</td>\n",
       "      <td>78</td>\n",
       "      <td>86</td>\n",
       "      <td>(78, 86)</td>\n",
       "      <td>Encounter</td>\n",
       "      <td>referral</td>\n",
       "    </tr>\n",
       "    <tr>\n",
       "      <th>32</th>\n",
       "      <td>NCT03865342</td>\n",
       "      <td>T38</td>\n",
       "      <td>Hemoglobin A1C</td>\n",
       "      <td>Observation</td>\n",
       "      <td>121</td>\n",
       "      <td>135</td>\n",
       "      <td>(121, 135)</td>\n",
       "      <td>Observation</td>\n",
       "      <td>lab</td>\n",
       "    </tr>\n",
       "    <tr>\n",
       "      <th>33</th>\n",
       "      <td>NCT03865342</td>\n",
       "      <td>T39</td>\n",
       "      <td>Hemoglobin A1C</td>\n",
       "      <td>Observation-Name</td>\n",
       "      <td>121</td>\n",
       "      <td>135</td>\n",
       "      <td>(121, 135)</td>\n",
       "      <td>Observation-Name</td>\n",
       "      <td>lab</td>\n",
       "    </tr>\n",
       "    <tr>\n",
       "      <th>38</th>\n",
       "      <td>NCT03865342</td>\n",
       "      <td>T46</td>\n",
       "      <td>weight loss</td>\n",
       "      <td>Observation-Name</td>\n",
       "      <td>260</td>\n",
       "      <td>271</td>\n",
       "      <td>(260, 271)</td>\n",
       "      <td>Observation-Name</td>\n",
       "      <td>vital</td>\n",
       "    </tr>\n",
       "    <tr>\n",
       "      <th>50</th>\n",
       "      <td>NCT03865342</td>\n",
       "      <td>T63</td>\n",
       "      <td>hospitalization</td>\n",
       "      <td>Encounter</td>\n",
       "      <td>467</td>\n",
       "      <td>482</td>\n",
       "      <td>(467, 482)</td>\n",
       "      <td>Encounter</td>\n",
       "      <td>inpatient</td>\n",
       "    </tr>\n",
       "    <tr>\n",
       "      <th>...</th>\n",
       "      <td>...</td>\n",
       "      <td>...</td>\n",
       "      <td>...</td>\n",
       "      <td>...</td>\n",
       "      <td>...</td>\n",
       "      <td>...</td>\n",
       "      <td>...</td>\n",
       "      <td>...</td>\n",
       "      <td>...</td>\n",
       "    </tr>\n",
       "    <tr>\n",
       "      <th>56059</th>\n",
       "      <td>NCT03931772</td>\n",
       "      <td>T67</td>\n",
       "      <td>inpatient hospitalization</td>\n",
       "      <td>Encounter</td>\n",
       "      <td>746</td>\n",
       "      <td>771</td>\n",
       "      <td>(746, 771)</td>\n",
       "      <td>Encounter</td>\n",
       "      <td>inpatient</td>\n",
       "    </tr>\n",
       "    <tr>\n",
       "      <th>56068</th>\n",
       "      <td>NCT03931772</td>\n",
       "      <td>T60</td>\n",
       "      <td>Desire to</td>\n",
       "      <td>Assertion</td>\n",
       "      <td>89</td>\n",
       "      <td>98</td>\n",
       "      <td>(89, 98)</td>\n",
       "      <td>Assertion</td>\n",
       "      <td>intention</td>\n",
       "    </tr>\n",
       "    <tr>\n",
       "      <th>56075</th>\n",
       "      <td>NCT03931772</td>\n",
       "      <td>T85</td>\n",
       "      <td>could</td>\n",
       "      <td>Assertion</td>\n",
       "      <td>1003</td>\n",
       "      <td>1008</td>\n",
       "      <td>(1003, 1008)</td>\n",
       "      <td>Assertion</td>\n",
       "      <td>hypothetical</td>\n",
       "    </tr>\n",
       "    <tr>\n",
       "      <th>56083</th>\n",
       "      <td>NCT03931772</td>\n",
       "      <td>T91</td>\n",
       "      <td>would</td>\n",
       "      <td>Assertion</td>\n",
       "      <td>801</td>\n",
       "      <td>806</td>\n",
       "      <td>(801, 806)</td>\n",
       "      <td>Assertion</td>\n",
       "      <td>hypothetical</td>\n",
       "    </tr>\n",
       "    <tr>\n",
       "      <th>56088</th>\n",
       "      <td>NCT03931772</td>\n",
       "      <td>T98</td>\n",
       "      <td>motivation</td>\n",
       "      <td>Assertion</td>\n",
       "      <td>136</td>\n",
       "      <td>146</td>\n",
       "      <td>(136, 146)</td>\n",
       "      <td>Assertion</td>\n",
       "      <td>intention</td>\n",
       "    </tr>\n",
       "  </tbody>\n",
       "</table>\n",
       "<p>4686 rows × 9 columns</p>\n",
       "</div>"
      ],
      "text/plain": [
       "                Id Entity_id                    Mention Category_original  \\\n",
       "30     NCT03865342       T33                   Referral         Encounter   \n",
       "32     NCT03865342       T38             Hemoglobin A1C       Observation   \n",
       "33     NCT03865342       T39             Hemoglobin A1C  Observation-Name   \n",
       "38     NCT03865342       T46                weight loss  Observation-Name   \n",
       "50     NCT03865342       T63            hospitalization         Encounter   \n",
       "...            ...       ...                        ...               ...   \n",
       "56059  NCT03931772       T67  inpatient hospitalization         Encounter   \n",
       "56068  NCT03931772       T60                  Desire to         Assertion   \n",
       "56075  NCT03931772       T85                      could         Assertion   \n",
       "56083  NCT03931772       T91                      would         Assertion   \n",
       "56088  NCT03931772       T98                 motivation         Assertion   \n",
       "\n",
       "       Start_char  End_char    Char_spans          Category          Type  \n",
       "30             78        86      (78, 86)         Encounter      referral  \n",
       "32            121       135    (121, 135)       Observation           lab  \n",
       "33            121       135    (121, 135)  Observation-Name           lab  \n",
       "38            260       271    (260, 271)  Observation-Name         vital  \n",
       "50            467       482    (467, 482)         Encounter     inpatient  \n",
       "...           ...       ...           ...               ...           ...  \n",
       "56059         746       771    (746, 771)         Encounter     inpatient  \n",
       "56068          89        98      (89, 98)         Assertion     intention  \n",
       "56075        1003      1008  (1003, 1008)         Assertion  hypothetical  \n",
       "56083         801       806    (801, 806)         Assertion  hypothetical  \n",
       "56088         136       146    (136, 146)         Assertion     intention  \n",
       "\n",
       "[4686 rows x 9 columns]"
      ]
     },
     "execution_count": 182,
     "metadata": {},
     "output_type": "execute_result"
    }
   ],
   "source": [
    "df_ents[df_ents.Type.apply(len) > 0]"
   ]
  },
  {
   "cell_type": "code",
   "execution_count": 183,
   "metadata": {},
   "outputs": [
    {
     "data": {
      "text/html": [
       "<div>\n",
       "<style scoped>\n",
       "    .dataframe tbody tr th:only-of-type {\n",
       "        vertical-align: middle;\n",
       "    }\n",
       "\n",
       "    .dataframe tbody tr th {\n",
       "        vertical-align: top;\n",
       "    }\n",
       "\n",
       "    .dataframe thead th {\n",
       "        text-align: right;\n",
       "    }\n",
       "</style>\n",
       "<table border=\"1\" class=\"dataframe\">\n",
       "  <thead>\n",
       "    <tr style=\"text-align: right;\">\n",
       "      <th></th>\n",
       "      <th>Id</th>\n",
       "      <th>Mention</th>\n",
       "      <th>Span</th>\n",
       "    </tr>\n",
       "  </thead>\n",
       "  <tbody>\n",
       "  </tbody>\n",
       "</table>\n",
       "</div>"
      ],
      "text/plain": [
       "Empty DataFrame\n",
       "Columns: [Id, Mention, Span]\n",
       "Index: []"
      ]
     },
     "execution_count": 183,
     "metadata": {},
     "output_type": "execute_result"
    }
   ],
   "source": [
    "# A sanity check:\n",
    "check = []\n",
    "for _id, text in df_texts.values.tolist():\n",
    "    df_tmp = df_ents[df_ents.Id == _id]\n",
    "    check_tmp = df_tmp.apply(\n",
    "        func = lambda r: [_id, r.Mention, text[r.Start_char: r.End_char]],\n",
    "        axis = 1,\n",
    "    ).tolist()\n",
    "    check += check_tmp\n",
    "    \n",
    "df_check = pd.DataFrame(check, columns = ['Id', 'Mention', 'Span'])\n",
    "\n",
    "# Mention and Span are indeed the same for all entities:\n",
    "df_check[df_check.Mention != df_check.Span]"
   ]
  },
  {
   "cell_type": "markdown",
   "metadata": {},
   "source": [
    "## 3.2 Map \"Observation\" to Observation / Laboratory\n",
    "\n",
    "[Table of content](#TOC)\n",
    "\n",
    "\n",
    "Observations are organized into 6 types, plus an additional unspecified type, which we map differently to either _Measurement_ or _Observation_ OMOP-compatible category:\n",
    "\n",
    "| Type | Target category |\n",
    "|-----|-----|\n",
    "| measurement | Measurement | \n",
    "| lab | Measurement | \n",
    "| vital | Measurement | \n",
    "| clinical-score | Measurement | \n",
    "| social-habit | Observation |\n",
    "| survey-or-questionnaire | Observation |\n",
    "|  | Observation |\n",
    "\n",
    "\n",
    "See the Leaf Clinical Trial Corpus wiki on [Observation](https://github.com/uw-bionlp/clinical-trials-gov-annotation/wiki/observation) and its decomposition into types."
   ]
  },
  {
   "cell_type": "code",
   "execution_count": 184,
   "metadata": {},
   "outputs": [
    {
     "data": {
      "text/plain": [
       "(2562, 9)"
      ]
     },
     "execution_count": 184,
     "metadata": {},
     "output_type": "execute_result"
    }
   ],
   "source": [
    "df_obs = df_ents[df_ents.Category == 'Observation'].copy()\n",
    "df_obs.shape"
   ]
  },
  {
   "cell_type": "code",
   "execution_count": 185,
   "metadata": {},
   "outputs": [
    {
     "data": {
      "text/html": [
       "<div>\n",
       "<style scoped>\n",
       "    .dataframe tbody tr th:only-of-type {\n",
       "        vertical-align: middle;\n",
       "    }\n",
       "\n",
       "    .dataframe tbody tr th {\n",
       "        vertical-align: top;\n",
       "    }\n",
       "\n",
       "    .dataframe thead th {\n",
       "        text-align: right;\n",
       "    }\n",
       "</style>\n",
       "<table border=\"1\" class=\"dataframe\">\n",
       "  <thead>\n",
       "    <tr style=\"text-align: right;\">\n",
       "      <th></th>\n",
       "      <th>Id</th>\n",
       "      <th>Entity_id</th>\n",
       "      <th>Mention</th>\n",
       "      <th>Category_original</th>\n",
       "      <th>Start_char</th>\n",
       "      <th>End_char</th>\n",
       "      <th>Char_spans</th>\n",
       "      <th>Category</th>\n",
       "      <th>Type</th>\n",
       "    </tr>\n",
       "  </thead>\n",
       "  <tbody>\n",
       "    <tr>\n",
       "      <th>32</th>\n",
       "      <td>NCT03865342</td>\n",
       "      <td>T38</td>\n",
       "      <td>Hemoglobin A1C</td>\n",
       "      <td>Observation</td>\n",
       "      <td>121</td>\n",
       "      <td>135</td>\n",
       "      <td>(121, 135)</td>\n",
       "      <td>Observation</td>\n",
       "      <td>lab</td>\n",
       "    </tr>\n",
       "    <tr>\n",
       "      <th>68</th>\n",
       "      <td>NCT03865342</td>\n",
       "      <td>T48</td>\n",
       "      <td>weight loss</td>\n",
       "      <td>Observation</td>\n",
       "      <td>260</td>\n",
       "      <td>271</td>\n",
       "      <td>(260, 271)</td>\n",
       "      <td>Observation</td>\n",
       "      <td>vital</td>\n",
       "    </tr>\n",
       "    <tr>\n",
       "      <th>112</th>\n",
       "      <td>NCT03861130</td>\n",
       "      <td>T44</td>\n",
       "      <td>fever</td>\n",
       "      <td>Observation</td>\n",
       "      <td>337</td>\n",
       "      <td>342</td>\n",
       "      <td>(337, 342)</td>\n",
       "      <td>Observation</td>\n",
       "      <td></td>\n",
       "    </tr>\n",
       "    <tr>\n",
       "      <th>129</th>\n",
       "      <td>NCT03861130</td>\n",
       "      <td>T62</td>\n",
       "      <td>fever</td>\n",
       "      <td>Observation</td>\n",
       "      <td>959</td>\n",
       "      <td>964</td>\n",
       "      <td>(959, 964)</td>\n",
       "      <td>Observation</td>\n",
       "      <td></td>\n",
       "    </tr>\n",
       "    <tr>\n",
       "      <th>133</th>\n",
       "      <td>NCT03861130</td>\n",
       "      <td>T66</td>\n",
       "      <td>echocardiographic evidence</td>\n",
       "      <td>Observation</td>\n",
       "      <td>1028</td>\n",
       "      <td>1054</td>\n",
       "      <td>(1028, 1054)</td>\n",
       "      <td>Observation</td>\n",
       "      <td>lab</td>\n",
       "    </tr>\n",
       "  </tbody>\n",
       "</table>\n",
       "</div>"
      ],
      "text/plain": [
       "              Id Entity_id                     Mention Category_original  \\\n",
       "32   NCT03865342       T38              Hemoglobin A1C       Observation   \n",
       "68   NCT03865342       T48                 weight loss       Observation   \n",
       "112  NCT03861130       T44                       fever       Observation   \n",
       "129  NCT03861130       T62                       fever       Observation   \n",
       "133  NCT03861130       T66  echocardiographic evidence       Observation   \n",
       "\n",
       "     Start_char  End_char    Char_spans     Category   Type  \n",
       "32          121       135    (121, 135)  Observation    lab  \n",
       "68          260       271    (260, 271)  Observation  vital  \n",
       "112         337       342    (337, 342)  Observation         \n",
       "129         959       964    (959, 964)  Observation         \n",
       "133        1028      1054  (1028, 1054)  Observation    lab  "
      ]
     },
     "execution_count": 185,
     "metadata": {},
     "output_type": "execute_result"
    }
   ],
   "source": [
    "df_obs.head()"
   ]
  },
  {
   "cell_type": "code",
   "execution_count": 186,
   "metadata": {},
   "outputs": [
    {
     "data": {
      "text/plain": [
       "1379"
      ]
     },
     "execution_count": 186,
     "metadata": {},
     "output_type": "execute_result"
    }
   ],
   "source": [
    "len(df_obs[df_obs.Type != ''])"
   ]
  },
  {
   "cell_type": "code",
   "execution_count": 173,
   "metadata": {},
   "outputs": [
    {
     "data": {
      "text/plain": [
       "<AxesSubplot: >"
      ]
     },
     "execution_count": 173,
     "metadata": {},
     "output_type": "execute_result"
    },
    {
     "data": {
      "image/png": "[encoded data removed]",
      "text/plain": [
       "<Figure size 640x480 with 1 Axes>"
      ]
     },
     "metadata": {},
     "output_type": "display_data"
    }
   ],
   "source": [
    "df_obs.Type.value_counts().sort_values().plot(kind = 'barh')"
   ]
  },
  {
   "cell_type": "code",
   "execution_count": 174,
   "metadata": {},
   "outputs": [
    {
     "data": {
      "text/plain": [
       "['',\n",
       " 'measurement',\n",
       " 'social-habit',\n",
       " 'survey-or-questionnaire',\n",
       " 'lab',\n",
       " 'vital',\n",
       " 'clinical-score']"
      ]
     },
     "execution_count": 174,
     "metadata": {},
     "output_type": "execute_result"
    }
   ],
   "source": [
    "list(set(df_obs.Type.tolist()))"
   ]
  },
  {
   "cell_type": "code",
   "execution_count": 189,
   "metadata": {},
   "outputs": [],
   "source": [
    "measurement_types = [\n",
    "    'measurement',\n",
    "    'lab',\n",
    "    'vital',\n",
    "    'clinical-score',\n",
    "]"
   ]
  },
  {
   "cell_type": "code",
   "execution_count": 187,
   "metadata": {},
   "outputs": [
    {
     "data": {
      "text/html": [
       "<div>\n",
       "<style scoped>\n",
       "    .dataframe tbody tr th:only-of-type {\n",
       "        vertical-align: middle;\n",
       "    }\n",
       "\n",
       "    .dataframe tbody tr th {\n",
       "        vertical-align: top;\n",
       "    }\n",
       "\n",
       "    .dataframe thead th {\n",
       "        text-align: right;\n",
       "    }\n",
       "</style>\n",
       "<table border=\"1\" class=\"dataframe\">\n",
       "  <thead>\n",
       "    <tr style=\"text-align: right;\">\n",
       "      <th></th>\n",
       "      <th>Id</th>\n",
       "      <th>Entity_id</th>\n",
       "      <th>Mention</th>\n",
       "      <th>Category_original</th>\n",
       "      <th>Start_char</th>\n",
       "      <th>End_char</th>\n",
       "      <th>Char_spans</th>\n",
       "      <th>Category</th>\n",
       "      <th>Type</th>\n",
       "    </tr>\n",
       "  </thead>\n",
       "  <tbody>\n",
       "    <tr>\n",
       "      <th>247</th>\n",
       "      <td>NCT03869593</td>\n",
       "      <td>T64</td>\n",
       "      <td>blood</td>\n",
       "      <td>Specimen</td>\n",
       "      <td>118</td>\n",
       "      <td>123</td>\n",
       "      <td>(118, 123)</td>\n",
       "      <td>Specimen</td>\n",
       "      <td>lab</td>\n",
       "    </tr>\n",
       "    <tr>\n",
       "      <th>251</th>\n",
       "      <td>NCT03869593</td>\n",
       "      <td>T68</td>\n",
       "      <td>positive</td>\n",
       "      <td>Polarity</td>\n",
       "      <td>109</td>\n",
       "      <td>117</td>\n",
       "      <td>(109, 117)</td>\n",
       "      <td>Polarity</td>\n",
       "      <td>lab</td>\n",
       "    </tr>\n",
       "    <tr>\n",
       "      <th>506</th>\n",
       "      <td>NCT03867019</td>\n",
       "      <td>T90</td>\n",
       "      <td>Positive</td>\n",
       "      <td>Polarity</td>\n",
       "      <td>304</td>\n",
       "      <td>312</td>\n",
       "      <td>(304, 312)</td>\n",
       "      <td>Polarity</td>\n",
       "      <td>clinical-score</td>\n",
       "    </tr>\n",
       "    <tr>\n",
       "      <th>2613</th>\n",
       "      <td>NCT03867422</td>\n",
       "      <td>T29</td>\n",
       "      <td>impact</td>\n",
       "      <td>Stability</td>\n",
       "      <td>249</td>\n",
       "      <td>255</td>\n",
       "      <td>(249, 255)</td>\n",
       "      <td>Stability</td>\n",
       "      <td>measurement</td>\n",
       "    </tr>\n",
       "    <tr>\n",
       "      <th>2912</th>\n",
       "      <td>NCT03867214</td>\n",
       "      <td>T51</td>\n",
       "      <td>normal</td>\n",
       "      <td>Polarity</td>\n",
       "      <td>250</td>\n",
       "      <td>256</td>\n",
       "      <td>(250, 256)</td>\n",
       "      <td>Polarity</td>\n",
       "      <td>lab</td>\n",
       "    </tr>\n",
       "    <tr>\n",
       "      <th>...</th>\n",
       "      <td>...</td>\n",
       "      <td>...</td>\n",
       "      <td>...</td>\n",
       "      <td>...</td>\n",
       "      <td>...</td>\n",
       "      <td>...</td>\n",
       "      <td>...</td>\n",
       "      <td>...</td>\n",
       "      <td>...</td>\n",
       "    </tr>\n",
       "    <tr>\n",
       "      <th>54013</th>\n",
       "      <td>NCT03860350</td>\n",
       "      <td>T190</td>\n",
       "      <td>significant</td>\n",
       "      <td>Severity</td>\n",
       "      <td>1510</td>\n",
       "      <td>1521</td>\n",
       "      <td>(1510, 1521)</td>\n",
       "      <td>Severity</td>\n",
       "      <td>lab</td>\n",
       "    </tr>\n",
       "    <tr>\n",
       "      <th>54411</th>\n",
       "      <td>NCT03866720</td>\n",
       "      <td>T79</td>\n",
       "      <td>change</td>\n",
       "      <td>Stability</td>\n",
       "      <td>915</td>\n",
       "      <td>921</td>\n",
       "      <td>(915, 921)</td>\n",
       "      <td>Stability</td>\n",
       "      <td>vital</td>\n",
       "    </tr>\n",
       "    <tr>\n",
       "      <th>54979</th>\n",
       "      <td>NCT03865407</td>\n",
       "      <td>T38</td>\n",
       "      <td>Elevated</td>\n",
       "      <td>Polarity</td>\n",
       "      <td>157</td>\n",
       "      <td>165</td>\n",
       "      <td>(157, 165)</td>\n",
       "      <td>Polarity</td>\n",
       "      <td>lab</td>\n",
       "    </tr>\n",
       "    <tr>\n",
       "      <th>55944</th>\n",
       "      <td>NCT03931941</td>\n",
       "      <td>T86</td>\n",
       "      <td>positive</td>\n",
       "      <td>Polarity</td>\n",
       "      <td>360</td>\n",
       "      <td>368</td>\n",
       "      <td>(360, 368)</td>\n",
       "      <td>Polarity</td>\n",
       "      <td>lab</td>\n",
       "    </tr>\n",
       "    <tr>\n",
       "      <th>55946</th>\n",
       "      <td>NCT03931941</td>\n",
       "      <td>T85</td>\n",
       "      <td>stool</td>\n",
       "      <td>Specimen</td>\n",
       "      <td>369</td>\n",
       "      <td>374</td>\n",
       "      <td>(369, 374)</td>\n",
       "      <td>Specimen</td>\n",
       "      <td>lab</td>\n",
       "    </tr>\n",
       "  </tbody>\n",
       "</table>\n",
       "<p>140 rows × 9 columns</p>\n",
       "</div>"
      ],
      "text/plain": [
       "                Id Entity_id      Mention Category_original  Start_char  \\\n",
       "247    NCT03869593       T64        blood          Specimen         118   \n",
       "251    NCT03869593       T68     positive          Polarity         109   \n",
       "506    NCT03867019       T90     Positive          Polarity         304   \n",
       "2613   NCT03867422       T29       impact         Stability         249   \n",
       "2912   NCT03867214       T51       normal          Polarity         250   \n",
       "...            ...       ...          ...               ...         ...   \n",
       "54013  NCT03860350      T190  significant          Severity        1510   \n",
       "54411  NCT03866720       T79       change         Stability         915   \n",
       "54979  NCT03865407       T38     Elevated          Polarity         157   \n",
       "55944  NCT03931941       T86     positive          Polarity         360   \n",
       "55946  NCT03931941       T85        stool          Specimen         369   \n",
       "\n",
       "       End_char    Char_spans   Category            Type  \n",
       "247         123    (118, 123)   Specimen             lab  \n",
       "251         117    (109, 117)   Polarity             lab  \n",
       "506         312    (304, 312)   Polarity  clinical-score  \n",
       "2613        255    (249, 255)  Stability     measurement  \n",
       "2912        256    (250, 256)   Polarity             lab  \n",
       "...         ...           ...        ...             ...  \n",
       "54013      1521  (1510, 1521)   Severity             lab  \n",
       "54411       921    (915, 921)  Stability           vital  \n",
       "54979       165    (157, 165)   Polarity             lab  \n",
       "55944       368    (360, 368)   Polarity             lab  \n",
       "55946       374    (369, 374)   Specimen             lab  \n",
       "\n",
       "[140 rows x 9 columns]"
      ]
     },
     "execution_count": 187,
     "metadata": {},
     "output_type": "execute_result"
    }
   ],
   "source": [
    "df_ents[(~df_ents.Category.isin(['Observation-Name', 'Observation'])) & df_ents.Type.isin(measurement_types)]"
   ]
  },
  {
   "cell_type": "code",
   "execution_count": 192,
   "metadata": {},
   "outputs": [],
   "source": [
    "measurement_idx = ((df_ents.Category == 'Observation') & df_ents.Type.isin(measurement_types))"
   ]
  },
  {
   "cell_type": "code",
   "execution_count": 194,
   "metadata": {},
   "outputs": [
    {
     "data": {
      "text/plain": [
       "1195"
      ]
     },
     "execution_count": 194,
     "metadata": {},
     "output_type": "execute_result"
    }
   ],
   "source": [
    "sum(measurement_idx)"
   ]
  },
  {
   "cell_type": "code",
   "execution_count": null,
   "metadata": {},
   "outputs": [],
   "source": [
    "df_ents.loc[measurement_idx, 'Category'] = 'Measurement'"
   ]
  },
  {
   "cell_type": "code",
   "execution_count": 193,
   "metadata": {},
   "outputs": [
    {
     "data": {
      "text/html": [
       "<div>\n",
       "<style scoped>\n",
       "    .dataframe tbody tr th:only-of-type {\n",
       "        vertical-align: middle;\n",
       "    }\n",
       "\n",
       "    .dataframe tbody tr th {\n",
       "        vertical-align: top;\n",
       "    }\n",
       "\n",
       "    .dataframe thead th {\n",
       "        text-align: right;\n",
       "    }\n",
       "</style>\n",
       "<table border=\"1\" class=\"dataframe\">\n",
       "  <thead>\n",
       "    <tr style=\"text-align: right;\">\n",
       "      <th></th>\n",
       "      <th>Id</th>\n",
       "      <th>Entity_id</th>\n",
       "      <th>Mention</th>\n",
       "      <th>Category_original</th>\n",
       "      <th>Start_char</th>\n",
       "      <th>End_char</th>\n",
       "      <th>Char_spans</th>\n",
       "      <th>Category</th>\n",
       "      <th>Type</th>\n",
       "    </tr>\n",
       "  </thead>\n",
       "  <tbody>\n",
       "    <tr>\n",
       "      <th>0</th>\n",
       "      <td>NCT03865342</td>\n",
       "      <td>T1</td>\n",
       "      <td>diabetes</td>\n",
       "      <td>Condition</td>\n",
       "      <td>387</td>\n",
       "      <td>395</td>\n",
       "      <td>(387, 395)</td>\n",
       "      <td>Condition</td>\n",
       "      <td></td>\n",
       "    </tr>\n",
       "    <tr>\n",
       "      <th>1</th>\n",
       "      <td>NCT03865342</td>\n",
       "      <td>T2</td>\n",
       "      <td>diabetes</td>\n",
       "      <td>Condition-Name</td>\n",
       "      <td>387</td>\n",
       "      <td>395</td>\n",
       "      <td>(387, 395)</td>\n",
       "      <td>Condition-Name</td>\n",
       "      <td></td>\n",
       "    </tr>\n",
       "    <tr>\n",
       "      <th>2</th>\n",
       "      <td>NCT03865342</td>\n",
       "      <td>T3</td>\n",
       "      <td>English</td>\n",
       "      <td>Language</td>\n",
       "      <td>25</td>\n",
       "      <td>32</td>\n",
       "      <td>(25, 32)</td>\n",
       "      <td>Language</td>\n",
       "      <td></td>\n",
       "    </tr>\n",
       "    <tr>\n",
       "      <th>3</th>\n",
       "      <td>NCT03865342</td>\n",
       "      <td>T4</td>\n",
       "      <td>given birth</td>\n",
       "      <td>Condition</td>\n",
       "      <td>661</td>\n",
       "      <td>672</td>\n",
       "      <td>(661, 672)</td>\n",
       "      <td>Condition</td>\n",
       "      <td></td>\n",
       "    </tr>\n",
       "    <tr>\n",
       "      <th>4</th>\n",
       "      <td>NCT03865342</td>\n",
       "      <td>T5</td>\n",
       "      <td>given birth</td>\n",
       "      <td>Condition-Name</td>\n",
       "      <td>661</td>\n",
       "      <td>672</td>\n",
       "      <td>(661, 672)</td>\n",
       "      <td>Condition-Name</td>\n",
       "      <td></td>\n",
       "    </tr>\n",
       "    <tr>\n",
       "      <th>...</th>\n",
       "      <td>...</td>\n",
       "      <td>...</td>\n",
       "      <td>...</td>\n",
       "      <td>...</td>\n",
       "      <td>...</td>\n",
       "      <td>...</td>\n",
       "      <td>...</td>\n",
       "      <td>...</td>\n",
       "      <td>...</td>\n",
       "    </tr>\n",
       "    <tr>\n",
       "      <th>56088</th>\n",
       "      <td>NCT03931772</td>\n",
       "      <td>T98</td>\n",
       "      <td>motivation</td>\n",
       "      <td>Assertion</td>\n",
       "      <td>136</td>\n",
       "      <td>146</td>\n",
       "      <td>(136, 146)</td>\n",
       "      <td>Assertion</td>\n",
       "      <td>intention</td>\n",
       "    </tr>\n",
       "    <tr>\n",
       "      <th>56089</th>\n",
       "      <td>NCT03931772</td>\n",
       "      <td>T100</td>\n",
       "      <td>or older</td>\n",
       "      <td>Eq-Operator</td>\n",
       "      <td>34</td>\n",
       "      <td>42</td>\n",
       "      <td>(34, 42)</td>\n",
       "      <td>Eq-Operator</td>\n",
       "      <td></td>\n",
       "    </tr>\n",
       "    <tr>\n",
       "      <th>56090</th>\n",
       "      <td>NCT03931772</td>\n",
       "      <td>T65</td>\n",
       "      <td>quit smoking</td>\n",
       "      <td>Observation</td>\n",
       "      <td>167</td>\n",
       "      <td>179</td>\n",
       "      <td>(167, 179)</td>\n",
       "      <td>Observation</td>\n",
       "      <td></td>\n",
       "    </tr>\n",
       "    <tr>\n",
       "      <th>56091</th>\n",
       "      <td>NCT03931772</td>\n",
       "      <td>T97</td>\n",
       "      <td>10-point Likert-type scale</td>\n",
       "      <td>Modifier</td>\n",
       "      <td>185</td>\n",
       "      <td>211</td>\n",
       "      <td>(185, 211)</td>\n",
       "      <td>Modifier</td>\n",
       "      <td></td>\n",
       "    </tr>\n",
       "    <tr>\n",
       "      <th>56092</th>\n",
       "      <td>NCT03931772</td>\n",
       "      <td>T26</td>\n",
       "      <td>smoking</td>\n",
       "      <td>Observation-Name</td>\n",
       "      <td>338</td>\n",
       "      <td>345</td>\n",
       "      <td>(338, 345)</td>\n",
       "      <td>Observation-Name</td>\n",
       "      <td></td>\n",
       "    </tr>\n",
       "  </tbody>\n",
       "</table>\n",
       "<p>56093 rows × 9 columns</p>\n",
       "</div>"
      ],
      "text/plain": [
       "                Id Entity_id                     Mention Category_original  \\\n",
       "0      NCT03865342        T1                    diabetes         Condition   \n",
       "1      NCT03865342        T2                    diabetes    Condition-Name   \n",
       "2      NCT03865342        T3                     English          Language   \n",
       "3      NCT03865342        T4                 given birth         Condition   \n",
       "4      NCT03865342        T5                 given birth    Condition-Name   \n",
       "...            ...       ...                         ...               ...   \n",
       "56088  NCT03931772       T98                  motivation         Assertion   \n",
       "56089  NCT03931772      T100                    or older       Eq-Operator   \n",
       "56090  NCT03931772       T65                quit smoking       Observation   \n",
       "56091  NCT03931772       T97  10-point Likert-type scale          Modifier   \n",
       "56092  NCT03931772       T26                     smoking  Observation-Name   \n",
       "\n",
       "       Start_char  End_char  Char_spans          Category       Type  \n",
       "0             387       395  (387, 395)         Condition             \n",
       "1             387       395  (387, 395)    Condition-Name             \n",
       "2              25        32    (25, 32)          Language             \n",
       "3             661       672  (661, 672)         Condition             \n",
       "4             661       672  (661, 672)    Condition-Name             \n",
       "...           ...       ...         ...               ...        ...  \n",
       "56088         136       146  (136, 146)         Assertion  intention  \n",
       "56089          34        42    (34, 42)       Eq-Operator             \n",
       "56090         167       179  (167, 179)       Observation             \n",
       "56091         185       211  (185, 211)          Modifier             \n",
       "56092         338       345  (338, 345)  Observation-Name             \n",
       "\n",
       "[56093 rows x 9 columns]"
      ]
     },
     "execution_count": 193,
     "metadata": {},
     "output_type": "execute_result"
    }
   ],
   "source": [
    "df_ents"
   ]
  },
  {
   "cell_type": "markdown",
   "metadata": {},
   "source": [
    "## 3.3 Map \"Eq-Comparison\" to  Value / Temporal\n",
    "\n",
    "[Table of content](#TOC)"
   ]
  },
  {
   "cell_type": "code",
   "execution_count": 101,
   "metadata": {},
   "outputs": [],
   "source": [
    "def get_ancestor_path(nx_graph, node, return_ancestor_level = 2):\n",
    "    ancestors = nx.ancestors(nx_graph, node)\n",
    "    if ancestors:\n",
    "        paths = [nx.shortest_path(nx_graph, source = a, target = node) for a in ancestors]\n",
    "        path = tuple(sorted(paths, key = len)[-1])\n",
    "        root = path[-return_ancestor_level:][0]\n",
    "        path = [\n",
    "            nx_graph.get_edge_data(m, n)[0]['label']\n",
    "            for m, n in zip(path[:-1], path[1:])\n",
    "        ]\n",
    "        path = [root, path]\n",
    "    else:\n",
    "        path = [node, tuple([])]\n",
    "    return path\n",
    "\n",
    "\n",
    "\n",
    "def get_descendant_paths(nx_graph, node, from_ancestor_level = 1):\n",
    "    if from_ancestor_level == 0:\n",
    "        root = node\n",
    "    else:\n",
    "        ancestors = nx.ancestors(nx_graph, node)\n",
    "        if ancestors:\n",
    "            paths = [nx.shortest_path(nx_graph, source = a, target = node) for a in ancestors]\n",
    "            path = tuple(sorted(paths, key = len)[-1])\n",
    "            root = path[-from_ancestor_level:][0]\n",
    "        else:\n",
    "            root = node\n",
    "    return list(set([nx_graph.nodes[n]['Category'] for n in nx.descendants(nx_graph, root)]))\n",
    "\n",
    "\n",
    "\n",
    "def get_children_edges(nx_graph, node):\n",
    "    return [e['label'] for s, t, e in nx_graph.out_edges(node, data = True)]\n",
    "    \n",
    "\n",
    "\n",
    "def get_overlaping_entities(row, df, output_column = 'index'):\n",
    "    # get entities on same Id\n",
    "    df = df[df.Id == row.Id]\n",
    "    df = df[df.Entity_id != row.Entity_id]\n",
    "    \n",
    "    lengths = df.End_char - df.Start_char\n",
    "    length = row.End_char - row.Start_char\n",
    "    \n",
    "    idx_short = []\n",
    "    idx_equal = []\n",
    "    idx_large = []\n",
    "\n",
    "    # get shorter overlaping entities\n",
    "    df_short = df[lengths <= length]\n",
    "    if not df_short.empty:\n",
    "        short = df_short.apply(\n",
    "            func = lambda r: len(set(range(r.Start_char, r.End_char)) & set(range(row.Start_char, row.End_char)))>0, \n",
    "            axis = 1,\n",
    "        )\n",
    "        idx_short = df_short[short][output_column].tolist()\n",
    "    \n",
    "    # get identical overlaping entities\n",
    "    df_equal = df[lengths == length]\n",
    "    if not df_equal.empty:\n",
    "        equal = df_equal.apply(\n",
    "            func = lambda r: (r.Start_char == row.Start_char) & (r.End_char == row.End_char), \n",
    "            axis = 1,\n",
    "        )\n",
    "        idx_equal = df_equal[equal][output_column].tolist()\n",
    "\n",
    "    # get larger overlaping entities\n",
    "    df_large = df[lengths > length]\n",
    "    if not df_large.empty:\n",
    "        large = df_large.apply(\n",
    "            func = lambda r: len(set(range(r.Start_char, r.End_char)) & set(range(row.Start_char, row.End_char)))>0, \n",
    "            axis = 1,\n",
    "        )\n",
    "        idx_large = df_large[large][output_column].tolist()\n",
    "    return (idx_short, idx_equal, idx_large)"
   ]
  },
  {
   "cell_type": "code",
   "execution_count": 142,
   "metadata": {},
   "outputs": [
    {
     "data": {
      "text/html": [
       "<div>\n",
       "<style scoped>\n",
       "    .dataframe tbody tr th:only-of-type {\n",
       "        vertical-align: middle;\n",
       "    }\n",
       "\n",
       "    .dataframe tbody tr th {\n",
       "        vertical-align: top;\n",
       "    }\n",
       "\n",
       "    .dataframe thead th {\n",
       "        text-align: right;\n",
       "    }\n",
       "</style>\n",
       "<table border=\"1\" class=\"dataframe\">\n",
       "  <thead>\n",
       "    <tr style=\"text-align: right;\">\n",
       "      <th></th>\n",
       "      <th>Id</th>\n",
       "      <th>Entity_id</th>\n",
       "      <th>Mention</th>\n",
       "      <th>Category</th>\n",
       "      <th>Start_char</th>\n",
       "      <th>End_char</th>\n",
       "      <th>Char_spans</th>\n",
       "      <th>Type</th>\n",
       "    </tr>\n",
       "  </thead>\n",
       "  <tbody>\n",
       "    <tr>\n",
       "      <th>26</th>\n",
       "      <td>NCT03865342</td>\n",
       "      <td>T29</td>\n",
       "      <td>&gt;5 lbs</td>\n",
       "      <td>Eq-Comparison</td>\n",
       "      <td>292</td>\n",
       "      <td>298</td>\n",
       "      <td>(292, 298)</td>\n",
       "      <td></td>\n",
       "    </tr>\n",
       "    <tr>\n",
       "      <th>27</th>\n",
       "      <td>NCT03865342</td>\n",
       "      <td>T30</td>\n",
       "      <td>within the past 3 months</td>\n",
       "      <td>Eq-Comparison</td>\n",
       "      <td>673</td>\n",
       "      <td>697</td>\n",
       "      <td>(673, 697)</td>\n",
       "      <td></td>\n",
       "    </tr>\n",
       "    <tr>\n",
       "      <th>29</th>\n",
       "      <td>NCT03865342</td>\n",
       "      <td>T32</td>\n",
       "      <td>18 years of age and older</td>\n",
       "      <td>Eq-Comparison</td>\n",
       "      <td>47</td>\n",
       "      <td>72</td>\n",
       "      <td>(47, 72)</td>\n",
       "      <td></td>\n",
       "    </tr>\n",
       "    <tr>\n",
       "      <th>35</th>\n",
       "      <td>NCT03865342</td>\n",
       "      <td>T41</td>\n",
       "      <td>5.7 - 6.4</td>\n",
       "      <td>Eq-Comparison</td>\n",
       "      <td>137</td>\n",
       "      <td>146</td>\n",
       "      <td>(137, 146)</td>\n",
       "      <td></td>\n",
       "    </tr>\n",
       "    <tr>\n",
       "      <th>36</th>\n",
       "      <td>NCT03865342</td>\n",
       "      <td>T42</td>\n",
       "      <td>within the 3 months</td>\n",
       "      <td>Eq-Comparison</td>\n",
       "      <td>147</td>\n",
       "      <td>166</td>\n",
       "      <td>(147, 166)</td>\n",
       "      <td></td>\n",
       "    </tr>\n",
       "    <tr>\n",
       "      <th>...</th>\n",
       "      <td>...</td>\n",
       "      <td>...</td>\n",
       "      <td>...</td>\n",
       "      <td>...</td>\n",
       "      <td>...</td>\n",
       "      <td>...</td>\n",
       "      <td>...</td>\n",
       "      <td>...</td>\n",
       "    </tr>\n",
       "    <tr>\n",
       "      <th>56058</th>\n",
       "      <td>NCT03931772</td>\n",
       "      <td>T29</td>\n",
       "      <td>≥ 5 out of 10</td>\n",
       "      <td>Eq-Comparison</td>\n",
       "      <td>150</td>\n",
       "      <td>163</td>\n",
       "      <td>(150, 163)</td>\n",
       "      <td></td>\n",
       "    </tr>\n",
       "    <tr>\n",
       "      <th>56062</th>\n",
       "      <td>NCT03931772</td>\n",
       "      <td>T73</td>\n",
       "      <td>current</td>\n",
       "      <td>Eq-Comparison</td>\n",
       "      <td>671</td>\n",
       "      <td>678</td>\n",
       "      <td>(671, 678)</td>\n",
       "      <td></td>\n",
       "    </tr>\n",
       "    <tr>\n",
       "      <th>56066</th>\n",
       "      <td>NCT03931772</td>\n",
       "      <td>T77</td>\n",
       "      <td>Currently taking</td>\n",
       "      <td>Eq-Comparison</td>\n",
       "      <td>912</td>\n",
       "      <td>928</td>\n",
       "      <td>(912, 928)</td>\n",
       "      <td></td>\n",
       "    </tr>\n",
       "    <tr>\n",
       "      <th>56079</th>\n",
       "      <td>NCT03931772</td>\n",
       "      <td>T87</td>\n",
       "      <td>daily</td>\n",
       "      <td>Eq-Comparison</td>\n",
       "      <td>302</td>\n",
       "      <td>307</td>\n",
       "      <td>(302, 307)</td>\n",
       "      <td></td>\n",
       "    </tr>\n",
       "    <tr>\n",
       "      <th>56085</th>\n",
       "      <td>NCT03931772</td>\n",
       "      <td>T94</td>\n",
       "      <td>recent</td>\n",
       "      <td>Eq-Comparison</td>\n",
       "      <td>679</td>\n",
       "      <td>685</td>\n",
       "      <td>(679, 685)</td>\n",
       "      <td></td>\n",
       "    </tr>\n",
       "  </tbody>\n",
       "</table>\n",
       "<p>5297 rows × 8 columns</p>\n",
       "</div>"
      ],
      "text/plain": [
       "                Id Entity_id                    Mention       Category  \\\n",
       "26     NCT03865342       T29                     >5 lbs  Eq-Comparison   \n",
       "27     NCT03865342       T30   within the past 3 months  Eq-Comparison   \n",
       "29     NCT03865342       T32  18 years of age and older  Eq-Comparison   \n",
       "35     NCT03865342       T41                  5.7 - 6.4  Eq-Comparison   \n",
       "36     NCT03865342       T42        within the 3 months  Eq-Comparison   \n",
       "...            ...       ...                        ...            ...   \n",
       "56058  NCT03931772       T29              ≥ 5 out of 10  Eq-Comparison   \n",
       "56062  NCT03931772       T73                    current  Eq-Comparison   \n",
       "56066  NCT03931772       T77           Currently taking  Eq-Comparison   \n",
       "56079  NCT03931772       T87                      daily  Eq-Comparison   \n",
       "56085  NCT03931772       T94                     recent  Eq-Comparison   \n",
       "\n",
       "       Start_char  End_char  Char_spans Type  \n",
       "26            292       298  (292, 298)       \n",
       "27            673       697  (673, 697)       \n",
       "29             47        72    (47, 72)       \n",
       "35            137       146  (137, 146)       \n",
       "36            147       166  (147, 166)       \n",
       "...           ...       ...         ...  ...  \n",
       "56058         150       163  (150, 163)       \n",
       "56062         671       678  (671, 678)       \n",
       "56066         912       928  (912, 928)       \n",
       "56079         302       307  (302, 307)       \n",
       "56085         679       685  (679, 685)       \n",
       "\n",
       "[5297 rows x 8 columns]"
      ]
     },
     "execution_count": 142,
     "metadata": {},
     "output_type": "execute_result"
    }
   ],
   "source": [
    "df_comps = df_ents[df_ents.Category == 'Eq-Comparison'].copy()\n",
    "df_comps"
   ]
  },
  {
   "cell_type": "code",
   "execution_count": 25,
   "metadata": {},
   "outputs": [
    {
     "name": "stderr",
     "output_type": "stream",
     "text": [
      "C:\\Users\\jb\\AppData\\Local\\Temp\\ipykernel_15976\\636866674.py:6: SettingWithCopyWarning: \n",
      "A value is trying to be set on a copy of a slice from a DataFrame.\n",
      "Try using .loc[row_indexer,col_indexer] = value instead\n",
      "\n",
      "See the caveats in the documentation: https://pandas.pydata.org/pandas-docs/stable/user_guide/indexing.html#returning-a-view-versus-a-copy\n",
      "  df_comps['Root'] = [r for r, a in root_ancestor]\n",
      "C:\\Users\\jb\\AppData\\Local\\Temp\\ipykernel_15976\\636866674.py:7: SettingWithCopyWarning: \n",
      "A value is trying to be set on a copy of a slice from a DataFrame.\n",
      "Try using .loc[row_indexer,col_indexer] = value instead\n",
      "\n",
      "See the caveats in the documentation: https://pandas.pydata.org/pandas-docs/stable/user_guide/indexing.html#returning-a-view-versus-a-copy\n",
      "  df_comps['Ancestors'] = [a for r, a in root_ancestor]\n",
      "C:\\Users\\jb\\AppData\\Local\\Temp\\ipykernel_15976\\636866674.py:8: SettingWithCopyWarning: \n",
      "A value is trying to be set on a copy of a slice from a DataFrame.\n",
      "Try using .loc[row_indexer,col_indexer] = value instead\n",
      "\n",
      "See the caveats in the documentation: https://pandas.pydata.org/pandas-docs/stable/user_guide/indexing.html#returning-a-view-versus-a-copy\n",
      "  df_comps['Root_edges'] = df_comps.Root.apply(lambda r: get_children_edges(nx_graph, r))\n",
      "C:\\Users\\jb\\AppData\\Local\\Temp\\ipykernel_15976\\636866674.py:9: SettingWithCopyWarning: \n",
      "A value is trying to be set on a copy of a slice from a DataFrame.\n",
      "Try using .loc[row_indexer,col_indexer] = value instead\n",
      "\n",
      "See the caveats in the documentation: https://pandas.pydata.org/pandas-docs/stable/user_guide/indexing.html#returning-a-view-versus-a-copy\n",
      "  df_comps['Overlaping'] = df_comps.apply(\n"
     ]
    }
   ],
   "source": [
    "root_ancestor = df_comps.apply(\n",
    "    func = lambda r: get_ancestor_path(nx_graph, '-'.join([r.Id, r.Entity_id])),\n",
    "    axis = 1,\n",
    ").tolist()\n",
    "\n",
    "df_comps['Root'] = [r for r, a in root_ancestor]\n",
    "df_comps['Ancestors'] = [a for r, a in root_ancestor]\n",
    "df_comps['Root_edges'] = df_comps.Root.apply(lambda r: get_children_edges(nx_graph, r))\n",
    "df_comps['Overlaping'] = df_comps.apply(\n",
    "    func = lambda r: get_overlaping_entities(r, df_ents, output_column = 'Category'),\n",
    "    axis = 1,\n",
    ")"
   ]
  },
  {
   "cell_type": "code",
   "execution_count": 26,
   "metadata": {},
   "outputs": [
    {
     "data": {
      "text/html": [
       "<div>\n",
       "<style scoped>\n",
       "    .dataframe tbody tr th:only-of-type {\n",
       "        vertical-align: middle;\n",
       "    }\n",
       "\n",
       "    .dataframe tbody tr th {\n",
       "        vertical-align: top;\n",
       "    }\n",
       "\n",
       "    .dataframe thead th {\n",
       "        text-align: right;\n",
       "    }\n",
       "</style>\n",
       "<table border=\"1\" class=\"dataframe\">\n",
       "  <thead>\n",
       "    <tr style=\"text-align: right;\">\n",
       "      <th></th>\n",
       "      <th>Id</th>\n",
       "      <th>Entity_id</th>\n",
       "      <th>Mention</th>\n",
       "      <th>Category</th>\n",
       "      <th>Start_char</th>\n",
       "      <th>End_char</th>\n",
       "      <th>Char_spans</th>\n",
       "      <th>Root</th>\n",
       "      <th>Ancestors</th>\n",
       "      <th>Root_edges</th>\n",
       "      <th>Overlaping</th>\n",
       "    </tr>\n",
       "  </thead>\n",
       "  <tbody>\n",
       "    <tr>\n",
       "      <th>26</th>\n",
       "      <td>NCT03865342</td>\n",
       "      <td>T29</td>\n",
       "      <td>&gt;5 lbs</td>\n",
       "      <td>Eq-Comparison</td>\n",
       "      <td>292</td>\n",
       "      <td>298</td>\n",
       "      <td>(292, 298)</td>\n",
       "      <td>NCT03865342-E6</td>\n",
       "      <td>[Numeric-Filter, Eq-Comparison]</td>\n",
       "      <td>[Eq-Comparison, Operator, Unit, Value]</td>\n",
       "      <td>([Eq-Operator, Eq-Unit, Eq-Value], [], [])</td>\n",
       "    </tr>\n",
       "    <tr>\n",
       "      <th>27</th>\n",
       "      <td>NCT03865342</td>\n",
       "      <td>T30</td>\n",
       "      <td>within the past 3 months</td>\n",
       "      <td>Eq-Comparison</td>\n",
       "      <td>673</td>\n",
       "      <td>697</td>\n",
       "      <td>(673, 697)</td>\n",
       "      <td>NCT03865342-E7</td>\n",
       "      <td>[Temporality, Eq-Comparison]</td>\n",
       "      <td>[Eq-Comparison, Operator, Temporal-Unit, Value...</td>\n",
       "      <td>([Eq-Operator, Eq-Temporal-Unit, Eq-Value, Eq-...</td>\n",
       "    </tr>\n",
       "  </tbody>\n",
       "</table>\n",
       "</div>"
      ],
      "text/plain": [
       "             Id Entity_id                   Mention       Category  \\\n",
       "26  NCT03865342       T29                    >5 lbs  Eq-Comparison   \n",
       "27  NCT03865342       T30  within the past 3 months  Eq-Comparison   \n",
       "\n",
       "    Start_char  End_char  Char_spans            Root  \\\n",
       "26         292       298  (292, 298)  NCT03865342-E6   \n",
       "27         673       697  (673, 697)  NCT03865342-E7   \n",
       "\n",
       "                          Ancestors  \\\n",
       "26  [Numeric-Filter, Eq-Comparison]   \n",
       "27     [Temporality, Eq-Comparison]   \n",
       "\n",
       "                                           Root_edges  \\\n",
       "26             [Eq-Comparison, Operator, Unit, Value]   \n",
       "27  [Eq-Comparison, Operator, Temporal-Unit, Value...   \n",
       "\n",
       "                                           Overlaping  \n",
       "26         ([Eq-Operator, Eq-Unit, Eq-Value], [], [])  \n",
       "27  ([Eq-Operator, Eq-Temporal-Unit, Eq-Value, Eq-...  "
      ]
     },
     "execution_count": 26,
     "metadata": {},
     "output_type": "execute_result"
    }
   ],
   "source": [
    "df_comps.head(2)"
   ]
  },
  {
   "cell_type": "code",
   "execution_count": 31,
   "metadata": {},
   "outputs": [
    {
     "name": "stdout",
     "output_type": "stream",
     "text": [
      "179\n",
      "2627\n",
      "2001\n",
      "142\n",
      "310\n",
      "38\n"
     ]
    }
   ],
   "source": [
    "other_filter = df_comps.Overlaping.apply(lambda os: len(set(os[1]) & set([\n",
    "    'Eq-Temporal-Recency', 'Eq-Temporal-Unit', 'Severity', 'Eq-Operator',\n",
    "])) > 0)\n",
    "\n",
    "print(sum(other_filter))\n",
    "\n",
    "\n",
    "temporal_cats = ['Temporality', 'Temporality2', 'Temporality3', 'During', 'Duration', 'Duration2'] # Before, After\n",
    "\n",
    "temporal_filter = ~other_filter & (\n",
    "    df_comps.Overlaping.apply(lambda os: (os[1] == ['Eq-Temporal-Period'])) |\n",
    "    df_comps.Ancestors.apply(lambda a: (len(a)>1 and a[-2] in temporal_cats)) \n",
    ")\n",
    "\n",
    "print(sum(temporal_filter))\n",
    "\n",
    "value_cats = ['Numeric-Filter', 'Stage', 'Dose', 'Dose2']\n",
    "\n",
    "value_filter = ~(other_filter | temporal_filter) & (\n",
    "    df_comps.Ancestors.apply(lambda a: (len(a)>1 and a[-2] in value_cats))\n",
    ")\n",
    "\n",
    "print(sum(value_filter))\n",
    "\n",
    "\n",
    "temporal_filter_2 = ~(other_filter | temporal_filter | value_filter) & (\n",
    "    df_comps.Overlaping.apply(lambda os: ('Eq-Temporal-Unit' in os[0]))\n",
    ")\n",
    "\n",
    "print(sum(temporal_filter_2))\n",
    "\n",
    "\n",
    "value_filter_2 = ~(other_filter | temporal_filter | value_filter | temporal_filter_2) & (\n",
    "    df_comps.Overlaping.apply(lambda os: ('Eq-Value' in os[0]))\n",
    ")\n",
    "\n",
    "print(sum(value_filter_2))\n",
    "\n",
    "other_filter_2 = ~(other_filter | temporal_filter | value_filter | temporal_filter_2 | value_filter_2)\n",
    "\n",
    "print(sum(other_filter_2))"
   ]
  },
  {
   "cell_type": "code",
   "execution_count": 33,
   "metadata": {},
   "outputs": [
    {
     "data": {
      "text/plain": [
       "2769"
      ]
     },
     "execution_count": 33,
     "metadata": {},
     "output_type": "execute_result"
    }
   ],
   "source": [
    "temporal_idx = df_comps[temporal_filter | temporal_filter_2].index.tolist()\n",
    "len(temporal_idx)"
   ]
  },
  {
   "cell_type": "code",
   "execution_count": 34,
   "metadata": {},
   "outputs": [
    {
     "data": {
      "text/plain": [
       "2311"
      ]
     },
     "execution_count": 34,
     "metadata": {},
     "output_type": "execute_result"
    }
   ],
   "source": [
    "value_idx = df_comps[value_filter | value_filter_2].index.tolist()\n",
    "len(value_idx)"
   ]
  },
  {
   "cell_type": "code",
   "execution_count": 35,
   "metadata": {},
   "outputs": [
    {
     "data": {
      "text/plain": [
       "0"
      ]
     },
     "execution_count": 35,
     "metadata": {},
     "output_type": "execute_result"
    }
   ],
   "source": [
    "# sanity check: these sets of indices are disjoint\n",
    "len(set(value_idx) & set(temporal_idx))"
   ]
  },
  {
   "cell_type": "code",
   "execution_count": 108,
   "metadata": {},
   "outputs": [],
   "source": [
    "df_ents.loc[temporal_idx, 'Category'] = 'Temporal'\n",
    "df_ents.loc[value_idx, 'Category'] = 'Value'"
   ]
  },
  {
   "cell_type": "markdown",
   "metadata": {},
   "source": [
    "## 3.4 Other mappings\n",
    "\n",
    "[Table of content](#TOC)"
   ]
  },
  {
   "cell_type": "code",
   "execution_count": null,
   "metadata": {},
   "outputs": [],
   "source": [
    "# Person : Ethnicity, Family-member, Language ignored\n",
    "person_idx = df_ents.Category.isin([\n",
    "    'Life-Stage-And-Gender', \n",
    "    'Age',\n",
    "]) \n",
    "df_ents.loc[person_idx, 'Category'] = 'Person'"
   ]
  },
  {
   "cell_type": "code",
   "execution_count": 40,
   "metadata": {},
   "outputs": [],
   "source": [
    "qualifier_idx = df_ents.Category.isin([\n",
    "    'Modifier', \n",
    "    'Severity', \n",
    "    'Assertion', \n",
    "    'Stability', \n",
    "    'Acuteness', \n",
    "    'Polarity',\n",
    "])    \n",
    "df_ents.loc[qualifier_idx, 'Category'] = 'Qualifier'"
   ]
  },
  {
   "cell_type": "markdown",
   "metadata": {},
   "source": [
    "## 3.5 Get flattened non-overlapping entities\n",
    "\n",
    "[Table of content](#TOC)"
   ]
  },
  {
   "cell_type": "code",
   "execution_count": 50,
   "metadata": {},
   "outputs": [],
   "source": []
  },
  {
   "cell_type": "code",
   "execution_count": 36,
   "metadata": {},
   "outputs": [],
   "source": [
    "# df_ents.Category.unique().tolist()\n",
    "\n",
    "categories = [\n",
    "    # domain\n",
    "    'Condition',\n",
    "    'Procedure',\n",
    "    'Drug',\n",
    "    'Person', # replaces 'Life-Stage-And-Gender' and 'Age'\n",
    "    'Laboratory',\n",
    "    'Observation', # TODO - split into: lab, vital, clinical-score, survey, social-habit\n",
    "    # 'Device' missing\n",
    "    \n",
    "    # field\n",
    "    'Value',     # replaces part of 'Eq-Comparison'\n",
    "    'Temporal',  # replaces part of 'Eq-Comparison'\n",
    "    'Qualifier', # replaces 'Modifier', 'Severity', 'Assertion', 'Stability', 'Acuteness', 'Polarity'\n",
    "    \n",
    "\n",
    "    \n",
    "    # unnecessary duplicate\n",
    "    # 'Condition-Name',\n",
    "    # 'Observation-Name',\n",
    "    # 'Procedure-Name',\n",
    "    # 'Organism-Name',\n",
    "    # 'Allergy-Name',\n",
    "    # 'Immunization-Name',\n",
    "    # 'Condition-Type',\n",
    "    # 'Drug-Name',\n",
    "    \n",
    "    # fine-grained over 'Eq-Comparison'\n",
    "    # 'Eq-Value',\n",
    "    # 'Eq-Operator',\n",
    "    # 'Eq-Unit',\n",
    "    # 'Eq-Temporal-Unit',\n",
    "    # 'Eq-Temporal-Period',\n",
    "    # 'Eq-Temporal-Recency',\n",
    "    \n",
    "    # useless\n",
    "    # 'Language',\n",
    "    # 'Provider',\n",
    "    # 'Study',\n",
    "    # 'Family-Member',\n",
    "    # 'Location',\n",
    "    # 'Birth',\n",
    "    # 'Death',\n",
    "    # 'Insurance',\n",
    "    # 'Ethnicity',\n",
    "    # 'Risk',\n",
    "    \n",
    "    \n",
    "    # TODO\n",
    "    # 'Contraindication',\n",
    "    # 'Criteria-Count',\n",
    "    \n",
    "    # other\n",
    "    # 'Immunization'\n",
    "    # 'Indication',\n",
    "    # 'Encounter',\n",
    "    # 'Negation',\n",
    "    # 'Exception',\n",
    "    # 'Coreference',\n",
    "    # 'Organism',\n",
    "    # 'Specimen',\n",
    "    # 'Allergy',\n",
    "    # 'Other',\n",
    "    # 'Code',\n",
    "\n",
    "]"
   ]
  },
  {
   "cell_type": "code",
   "execution_count": 38,
   "metadata": {},
   "outputs": [],
   "source": [
    "df_ents = get_ner_entities(df_texts, df_ents, categories)"
   ]
  },
  {
   "cell_type": "code",
   "execution_count": 40,
   "metadata": {},
   "outputs": [
    {
     "data": {
      "text/plain": [
       "(30691, 6)"
      ]
     },
     "execution_count": 40,
     "metadata": {},
     "output_type": "execute_result"
    }
   ],
   "source": [
    "df_ents.shape"
   ]
  },
  {
   "cell_type": "code",
   "execution_count": 41,
   "metadata": {
    "scrolled": true
   },
   "outputs": [
    {
     "data": {
      "text/html": [
       "<div>\n",
       "<style scoped>\n",
       "    .dataframe tbody tr th:only-of-type {\n",
       "        vertical-align: middle;\n",
       "    }\n",
       "\n",
       "    .dataframe tbody tr th {\n",
       "        vertical-align: top;\n",
       "    }\n",
       "\n",
       "    .dataframe thead th {\n",
       "        text-align: right;\n",
       "    }\n",
       "</style>\n",
       "<table border=\"1\" class=\"dataframe\">\n",
       "  <thead>\n",
       "    <tr style=\"text-align: right;\">\n",
       "      <th></th>\n",
       "      <th>Id</th>\n",
       "      <th>Mention</th>\n",
       "      <th>Start_char</th>\n",
       "      <th>End_char</th>\n",
       "      <th>Entity_id</th>\n",
       "      <th>Category</th>\n",
       "    </tr>\n",
       "  </thead>\n",
       "  <tbody>\n",
       "    <tr>\n",
       "      <th>0</th>\n",
       "      <td>NCT03860012</td>\n",
       "      <td>flammatory bowel disease\\n2</td>\n",
       "      <td>25</td>\n",
       "      <td>51</td>\n",
       "      <td>(T13, T14)</td>\n",
       "      <td>Condition</td>\n",
       "    </tr>\n",
       "    <tr>\n",
       "      <th>1</th>\n",
       "      <td>NCT03860012</td>\n",
       "      <td>et</td>\n",
       "      <td>57</td>\n",
       "      <td>59</td>\n",
       "      <td>(T31, T32)</td>\n",
       "      <td>Eq-Comparison</td>\n",
       "    </tr>\n",
       "    <tr>\n",
       "      <th>2</th>\n",
       "      <td>NCT03860012</td>\n",
       "      <td>otrexate at</td>\n",
       "      <td>60</td>\n",
       "      <td>72</td>\n",
       "      <td>(T15, T16)</td>\n",
       "      <td>Drug</td>\n",
       "    </tr>\n",
       "    <tr>\n",
       "      <th>3</th>\n",
       "      <td>NCT03860012</td>\n",
       "      <td>folat</td>\n",
       "      <td>100</td>\n",
       "      <td>106</td>\n",
       "      <td>(T19,)</td>\n",
       "      <td>Polarity</td>\n",
       "    </tr>\n",
       "    <tr>\n",
       "      <th>4</th>\n",
       "      <td>NCT03860012</td>\n",
       "      <td>levels at on</td>\n",
       "      <td>107</td>\n",
       "      <td>120</td>\n",
       "      <td>(T17, T18)</td>\n",
       "      <td>Observation</td>\n",
       "    </tr>\n",
       "  </tbody>\n",
       "</table>\n",
       "</div>"
      ],
      "text/plain": [
       "            Id                      Mention  Start_char  End_char   Entity_id  \\\n",
       "0  NCT03860012  flammatory bowel disease\\n2          25        51  (T13, T14)   \n",
       "1  NCT03860012                           et          57        59  (T31, T32)   \n",
       "2  NCT03860012                 otrexate at           60        72  (T15, T16)   \n",
       "3  NCT03860012                        folat         100       106      (T19,)   \n",
       "4  NCT03860012                 levels at on         107       120  (T17, T18)   \n",
       "\n",
       "        Category  \n",
       "0      Condition  \n",
       "1  Eq-Comparison  \n",
       "2           Drug  \n",
       "3       Polarity  \n",
       "4    Observation  "
      ]
     },
     "execution_count": 41,
     "metadata": {},
     "output_type": "execute_result"
    }
   ],
   "source": [
    "df_ents.head()"
   ]
  },
  {
   "cell_type": "code",
   "execution_count": 32,
   "metadata": {},
   "outputs": [],
   "source": [
    "df_ents.to_csv(os.path.join(path_to_data, final_dataset_name, 'lct_ents.tsv'), sep = \"\\t\", index = False)"
   ]
  },
  {
   "cell_type": "markdown",
   "metadata": {},
   "source": [
    "<a id=\"bio\"></a>"
   ]
  },
  {
   "cell_type": "markdown",
   "metadata": {},
   "source": [
    "## 2.4 Convert entities to BIO format\n",
    "\n",
    "[Table of content](#TOC)\n"
   ]
  },
  {
   "cell_type": "code",
   "execution_count": 33,
   "metadata": {},
   "outputs": [
    {
     "data": {
      "text/plain": [
       "(77302, 4)"
      ]
     },
     "execution_count": 33,
     "metadata": {},
     "output_type": "execute_result"
    }
   ],
   "source": [
    "df_spans = convert_to_bio(df_texts, df_ents)\n",
    "df_spans.shape"
   ]
  },
  {
   "cell_type": "code",
   "execution_count": 34,
   "metadata": {},
   "outputs": [
    {
     "data": {
      "text/html": [
       "<div>\n",
       "<style scoped>\n",
       "    .dataframe tbody tr th:only-of-type {\n",
       "        vertical-align: middle;\n",
       "    }\n",
       "\n",
       "    .dataframe tbody tr th {\n",
       "        vertical-align: top;\n",
       "    }\n",
       "\n",
       "    .dataframe thead th {\n",
       "        text-align: right;\n",
       "    }\n",
       "</style>\n",
       "<table border=\"1\" class=\"dataframe\">\n",
       "  <thead>\n",
       "    <tr style=\"text-align: right;\">\n",
       "      <th></th>\n",
       "      <th>Id</th>\n",
       "      <th>Sequence_id</th>\n",
       "      <th>Mention</th>\n",
       "      <th>Category</th>\n",
       "    </tr>\n",
       "  </thead>\n",
       "  <tbody>\n",
       "    <tr>\n",
       "      <th>0</th>\n",
       "      <td>NCT00050349_exc</td>\n",
       "      <td>NCT00050349_exc_0</td>\n",
       "      <td>Patients with</td>\n",
       "      <td>O</td>\n",
       "    </tr>\n",
       "    <tr>\n",
       "      <th>1</th>\n",
       "      <td>NCT00050349_exc</td>\n",
       "      <td>NCT00050349_exc_0</td>\n",
       "      <td>symptomatic</td>\n",
       "      <td>Qualifier</td>\n",
       "    </tr>\n",
       "    <tr>\n",
       "      <th>2</th>\n",
       "      <td>NCT00050349_exc</td>\n",
       "      <td>NCT00050349_exc_0</td>\n",
       "      <td></td>\n",
       "      <td>O</td>\n",
       "    </tr>\n",
       "    <tr>\n",
       "      <th>3</th>\n",
       "      <td>NCT00050349_exc</td>\n",
       "      <td>NCT00050349_exc_0</td>\n",
       "      <td>CNS metastases</td>\n",
       "      <td>Condition</td>\n",
       "    </tr>\n",
       "    <tr>\n",
       "      <th>4</th>\n",
       "      <td>NCT00050349_exc</td>\n",
       "      <td>NCT00050349_exc_0</td>\n",
       "      <td>or</td>\n",
       "      <td>O</td>\n",
       "    </tr>\n",
       "  </tbody>\n",
       "</table>\n",
       "</div>"
      ],
      "text/plain": [
       "                Id        Sequence_id         Mention   Category\n",
       "0  NCT00050349_exc  NCT00050349_exc_0  Patients with           O\n",
       "1  NCT00050349_exc  NCT00050349_exc_0     symptomatic  Qualifier\n",
       "2  NCT00050349_exc  NCT00050349_exc_0                          O\n",
       "3  NCT00050349_exc  NCT00050349_exc_0  CNS metastases  Condition\n",
       "4  NCT00050349_exc  NCT00050349_exc_0             or           O"
      ]
     },
     "execution_count": 34,
     "metadata": {},
     "output_type": "execute_result"
    }
   ],
   "source": [
    "df_spans.head()"
   ]
  },
  {
   "cell_type": "code",
   "execution_count": 35,
   "metadata": {},
   "outputs": [],
   "source": [
    "df_spans.to_csv(os.path.join(path_to_data, final_dataset_name, 'lct_spans.tsv'), sep = \"\\t\", index = False)"
   ]
  },
  {
   "cell_type": "code",
   "execution_count": 36,
   "metadata": {},
   "outputs": [
    {
     "data": {
      "text/plain": [
       "(205982, 4)"
      ]
     },
     "execution_count": 36,
     "metadata": {},
     "output_type": "execute_result"
    }
   ],
   "source": [
    "tokenizer = English()\n",
    "df_bio = convert_to_bio(df_texts, df_ents, tokenizer = lambda s: [t.text for t in tokenizer(s)])\n",
    "\n",
    "df_bio.shape"
   ]
  },
  {
   "cell_type": "code",
   "execution_count": 37,
   "metadata": {},
   "outputs": [
    {
     "data": {
      "text/html": [
       "<div>\n",
       "<style scoped>\n",
       "    .dataframe tbody tr th:only-of-type {\n",
       "        vertical-align: middle;\n",
       "    }\n",
       "\n",
       "    .dataframe tbody tr th {\n",
       "        vertical-align: top;\n",
       "    }\n",
       "\n",
       "    .dataframe thead th {\n",
       "        text-align: right;\n",
       "    }\n",
       "</style>\n",
       "<table border=\"1\" class=\"dataframe\">\n",
       "  <thead>\n",
       "    <tr style=\"text-align: right;\">\n",
       "      <th></th>\n",
       "      <th>Id</th>\n",
       "      <th>Sequence_id</th>\n",
       "      <th>Mention</th>\n",
       "      <th>Category</th>\n",
       "    </tr>\n",
       "  </thead>\n",
       "  <tbody>\n",
       "    <tr>\n",
       "      <th>0</th>\n",
       "      <td>NCT00050349_exc</td>\n",
       "      <td>NCT00050349_exc_0</td>\n",
       "      <td>Patients</td>\n",
       "      <td>O</td>\n",
       "    </tr>\n",
       "    <tr>\n",
       "      <th>1</th>\n",
       "      <td>NCT00050349_exc</td>\n",
       "      <td>NCT00050349_exc_0</td>\n",
       "      <td>with</td>\n",
       "      <td>O</td>\n",
       "    </tr>\n",
       "    <tr>\n",
       "      <th>2</th>\n",
       "      <td>NCT00050349_exc</td>\n",
       "      <td>NCT00050349_exc_0</td>\n",
       "      <td>symptomatic</td>\n",
       "      <td>B-Qualifier</td>\n",
       "    </tr>\n",
       "    <tr>\n",
       "      <th>3</th>\n",
       "      <td>NCT00050349_exc</td>\n",
       "      <td>NCT00050349_exc_0</td>\n",
       "      <td></td>\n",
       "      <td>O</td>\n",
       "    </tr>\n",
       "    <tr>\n",
       "      <th>4</th>\n",
       "      <td>NCT00050349_exc</td>\n",
       "      <td>NCT00050349_exc_0</td>\n",
       "      <td>CNS</td>\n",
       "      <td>B-Condition</td>\n",
       "    </tr>\n",
       "    <tr>\n",
       "      <th>5</th>\n",
       "      <td>NCT00050349_exc</td>\n",
       "      <td>NCT00050349_exc_0</td>\n",
       "      <td>metastases</td>\n",
       "      <td>I-Condition</td>\n",
       "    </tr>\n",
       "    <tr>\n",
       "      <th>6</th>\n",
       "      <td>NCT00050349_exc</td>\n",
       "      <td>NCT00050349_exc_0</td>\n",
       "      <td></td>\n",
       "      <td>O</td>\n",
       "    </tr>\n",
       "    <tr>\n",
       "      <th>7</th>\n",
       "      <td>NCT00050349_exc</td>\n",
       "      <td>NCT00050349_exc_0</td>\n",
       "      <td>or</td>\n",
       "      <td>O</td>\n",
       "    </tr>\n",
       "    <tr>\n",
       "      <th>8</th>\n",
       "      <td>NCT00050349_exc</td>\n",
       "      <td>NCT00050349_exc_0</td>\n",
       "      <td>leptomeningeal</td>\n",
       "      <td>B-Condition</td>\n",
       "    </tr>\n",
       "    <tr>\n",
       "      <th>9</th>\n",
       "      <td>NCT00050349_exc</td>\n",
       "      <td>NCT00050349_exc_0</td>\n",
       "      <td>involvement</td>\n",
       "      <td>I-Condition</td>\n",
       "    </tr>\n",
       "  </tbody>\n",
       "</table>\n",
       "</div>"
      ],
      "text/plain": [
       "                Id        Sequence_id         Mention     Category\n",
       "0  NCT00050349_exc  NCT00050349_exc_0        Patients            O\n",
       "1  NCT00050349_exc  NCT00050349_exc_0            with            O\n",
       "2  NCT00050349_exc  NCT00050349_exc_0     symptomatic  B-Qualifier\n",
       "3  NCT00050349_exc  NCT00050349_exc_0                            O\n",
       "4  NCT00050349_exc  NCT00050349_exc_0             CNS  B-Condition\n",
       "5  NCT00050349_exc  NCT00050349_exc_0      metastases  I-Condition\n",
       "6  NCT00050349_exc  NCT00050349_exc_0                            O\n",
       "7  NCT00050349_exc  NCT00050349_exc_0              or            O\n",
       "8  NCT00050349_exc  NCT00050349_exc_0  leptomeningeal  B-Condition\n",
       "9  NCT00050349_exc  NCT00050349_exc_0     involvement  I-Condition"
      ]
     },
     "execution_count": 37,
     "metadata": {},
     "output_type": "execute_result"
    }
   ],
   "source": [
    "df_bio.head(10)"
   ]
  },
  {
   "cell_type": "code",
   "execution_count": 38,
   "metadata": {},
   "outputs": [],
   "source": [
    "df_bio.to_csv(os.path.join(path_to_data, final_dataset_name, 'lct_bio.tsv'), sep = \"\\t\", index = False)"
   ]
  },
  {
   "cell_type": "markdown",
   "metadata": {},
   "source": [
    "[Table of content](#TOC)"
   ]
  }
 ],
 "metadata": {
  "kernelspec": {
   "display_name": "Python 3 (ipykernel)",
   "language": "python",
   "name": "python3"
  },
  "language_info": {
   "codemirror_mode": {
    "name": "ipython",
    "version": 3
   },
   "file_extension": ".py",
   "mimetype": "text/x-python",
   "name": "python",
   "nbconvert_exporter": "python",
   "pygments_lexer": "ipython3",
   "version": "3.8.13"
  }
 },
 "nbformat": 4,
 "nbformat_minor": 2
}
