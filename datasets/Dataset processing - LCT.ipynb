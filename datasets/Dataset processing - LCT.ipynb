{
 "cells": [
  {
   "cell_type": "markdown",
   "metadata": {},
   "source": [
    "<div style=\"font-variant: small-caps; \n",
    "      font-weight: normal; \n",
    "      font-size: 35px; \n",
    "      text-align: center; \n",
    "      padding: 15px; \n",
    "      margin: 10px;\">\n",
    "      Dataset processing\n",
    "  </div> \n",
    "  \n",
    "<div style=\"\n",
    "      font-weight: normal; \n",
    "      font-size: 25px; \n",
    "      text-align: center; \n",
    "      padding: 15px; \n",
    "      margin: 10px;\">\n",
    "      Leaf Clinical Trials\n",
    "  </div>\n",
    "\n",
    "\n",
    "  <div style=\" float:left; \n",
    "      font-size: 12px; \n",
    "      line-height: 12px; \n",
    "  padding: 10px 15px 8px;\">\n",
    "  Jean-baptiste AUJOGUE -  Hybrid Intelligence\n",
    "  </div> \n"
   ]
  },
  {
   "cell_type": "markdown",
   "metadata": {},
   "source": [
    "<a id=\"TOC\"></a>"
   ]
  },
  {
   "cell_type": "markdown",
   "metadata": {},
   "source": [
    "##### Table Of Content\n",
    "\n",
    "1. [LCT Texts](#texts) <br>\n",
    "2. [LCT Entities](#ents) <br>\n",
    "3. [LCT Graph](#graph) <br>\n",
    "4. [LCT Entities mapped to CHIA format](#ents_chia) <br>\n",
    "\n",
    "\n",
    "#### Useful links\n",
    "\n",
    "- The Leaf Clinical Trials Corpus: a new resource for query generation from clinical trial eligibility criteria, [paper](https://www.nature.com/articles/s41597-022-01521-0), [dataset](https://figshare.com/articles/dataset/lct_corpus_tar_gz/17209610), [github](https://github.com/uw-bionlp/clinical-trials-gov-data)"
   ]
  },
  {
   "cell_type": "code",
   "execution_count": 239,
   "metadata": {},
   "outputs": [
    {
     "name": "stdout",
     "output_type": "stream",
     "text": [
      "The autoreload extension is already loaded. To reload it, use:\n",
      "  %reload_ext autoreload\n"
     ]
    }
   ],
   "source": [
    "%load_ext autoreload\n",
    "%autoreload 2"
   ]
  },
  {
   "cell_type": "code",
   "execution_count": 240,
   "metadata": {},
   "outputs": [],
   "source": [
    "import os\n",
    "import sys\n",
    "import re\n",
    "import copy\n",
    "import json\n",
    "import tarfile\n",
    "\n",
    "# data\n",
    "import numpy as np\n",
    "import pandas as pd\n",
    "import networkx as nx\n",
    "\n",
    "# text\n",
    "from spacy.lang.en import English\n",
    "\n",
    "# viz\n",
    "import pyvis.network as nt"
   ]
  },
  {
   "cell_type": "markdown",
   "metadata": {},
   "source": [
    "#### Custom variables"
   ]
  },
  {
   "cell_type": "code",
   "execution_count": 241,
   "metadata": {},
   "outputs": [
    {
     "data": {
      "text/plain": [
       "'C:\\\\Users\\\\jb\\\\Desktop\\\\NLP\\\\perso - Transformers for NLP\\\\src'"
      ]
     },
     "execution_count": 241,
     "metadata": {},
     "output_type": "execute_result"
    }
   ],
   "source": [
    "path_to_repo = os.path.dirname(os.getcwd())\n",
    "path_to_data = os.path.join(path_to_repo, 'datasets', 'lct')\n",
    "path_to_src  = os.path.join(path_to_repo, 'src')\n",
    "path_to_src"
   ]
  },
  {
   "cell_type": "code",
   "execution_count": 242,
   "metadata": {},
   "outputs": [],
   "source": [
    "base_dataset_name  = 'lct_corpus.tar.gz'\n",
    "final_dataset_name = 'lct-ner'"
   ]
  },
  {
   "cell_type": "markdown",
   "metadata": {},
   "source": [
    "#### Custom imports"
   ]
  },
  {
   "cell_type": "code",
   "execution_count": 243,
   "metadata": {},
   "outputs": [],
   "source": [
    "sys.path.insert(0, path_to_src)"
   ]
  },
  {
   "cell_type": "code",
   "execution_count": 244,
   "metadata": {},
   "outputs": [],
   "source": [
    "from nlptools.dataset.chia.preprocessing import get_ner_entities, convert_to_bio"
   ]
  },
  {
   "cell_type": "markdown",
   "metadata": {},
   "source": [
    "<a id=\"texts\"></a>"
   ]
  },
  {
   "cell_type": "markdown",
   "metadata": {},
   "source": [
    "# 1. LCT Texts\n",
    "\n",
    "[Table of content](#TOC)"
   ]
  },
  {
   "cell_type": "code",
   "execution_count": 245,
   "metadata": {},
   "outputs": [],
   "source": [
    "def load_texts_from_targzfile(targz_file):\n",
    "    with tarfile.open(targz_file, \"r:gz\") as archive:\n",
    "        text_files = [(f.name, f) for f in archive.getmembers() if f.name.endswith('.txt')]\n",
    "        texts = []\n",
    "        for name, member in text_files:\n",
    "            f = archive.extractfile(member)\n",
    "            if f is not None:\n",
    "                _id = name.split('/')[-1][:-4]\n",
    "                text = f.read().decode('utf-8').replace('⁄', '/')\n",
    "                texts.append([_id, text])\n",
    "            \n",
    "    df_texts = pd.DataFrame(texts, columns = ['Id', 'Text'])\n",
    "    return df_texts"
   ]
  },
  {
   "cell_type": "code",
   "execution_count": 246,
   "metadata": {},
   "outputs": [],
   "source": [
    "folder = os.path.join(path_to_data, final_dataset_name)\n",
    "if not os.path.isdir(folder):\n",
    "    os.makedirs(folder)"
   ]
  },
  {
   "cell_type": "code",
   "execution_count": 247,
   "metadata": {},
   "outputs": [],
   "source": [
    "df_texts = load_texts_from_targzfile(os.path.join(path_to_data, base_dataset_name))"
   ]
  },
  {
   "cell_type": "code",
   "execution_count": 248,
   "metadata": {},
   "outputs": [
    {
     "data": {
      "text/html": [
       "<div>\n",
       "<style scoped>\n",
       "    .dataframe tbody tr th:only-of-type {\n",
       "        vertical-align: middle;\n",
       "    }\n",
       "\n",
       "    .dataframe tbody tr th {\n",
       "        vertical-align: top;\n",
       "    }\n",
       "\n",
       "    .dataframe thead th {\n",
       "        text-align: right;\n",
       "    }\n",
       "</style>\n",
       "<table border=\"1\" class=\"dataframe\">\n",
       "  <thead>\n",
       "    <tr style=\"text-align: right;\">\n",
       "      <th></th>\n",
       "      <th>Id</th>\n",
       "      <th>Text</th>\n",
       "    </tr>\n",
       "  </thead>\n",
       "  <tbody>\n",
       "    <tr>\n",
       "      <th>0</th>\n",
       "      <td>NCT03862404</td>\n",
       "      <td>Inclusion Criteria:\\n  -  Male and Female, bet...</td>\n",
       "    </tr>\n",
       "    <tr>\n",
       "      <th>1</th>\n",
       "      <td>NCT03861858</td>\n",
       "      <td>Inclusion Criteria:\\n  -  Age 13-17 years or 1...</td>\n",
       "    </tr>\n",
       "    <tr>\n",
       "      <th>2</th>\n",
       "      <td>NCT03869021</td>\n",
       "      <td>Inclusion Criteria:\\n  1. Patients free from a...</td>\n",
       "    </tr>\n",
       "    <tr>\n",
       "      <th>3</th>\n",
       "      <td>NCT03864263</td>\n",
       "      <td>Inclusion Criteria:\\n  -  The father or (and) ...</td>\n",
       "    </tr>\n",
       "    <tr>\n",
       "      <th>4</th>\n",
       "      <td>NCT03862612</td>\n",
       "      <td>Inclusion Criteria:\\n  -  Male and Female part...</td>\n",
       "    </tr>\n",
       "  </tbody>\n",
       "</table>\n",
       "</div>"
      ],
      "text/plain": [
       "            Id                                               Text\n",
       "0  NCT03862404  Inclusion Criteria:\\n  -  Male and Female, bet...\n",
       "1  NCT03861858  Inclusion Criteria:\\n  -  Age 13-17 years or 1...\n",
       "2  NCT03869021  Inclusion Criteria:\\n  1. Patients free from a...\n",
       "3  NCT03864263  Inclusion Criteria:\\n  -  The father or (and) ...\n",
       "4  NCT03862612  Inclusion Criteria:\\n  -  Male and Female part..."
      ]
     },
     "execution_count": 248,
     "metadata": {},
     "output_type": "execute_result"
    }
   ],
   "source": [
    "df_texts.head()"
   ]
  },
  {
   "cell_type": "code",
   "execution_count": 249,
   "metadata": {},
   "outputs": [
    {
     "data": {
      "text/plain": [
       "(1006, 2)"
      ]
     },
     "execution_count": 249,
     "metadata": {},
     "output_type": "execute_result"
    }
   ],
   "source": [
    "df_texts.shape"
   ]
  },
  {
   "cell_type": "code",
   "execution_count": 250,
   "metadata": {},
   "outputs": [],
   "source": [
    "df_texts.to_csv(os.path.join(path_to_data, final_dataset_name, 'lct_texts.tsv'), sep = \"\\t\", index = False)"
   ]
  },
  {
   "cell_type": "code",
   "execution_count": 251,
   "metadata": {},
   "outputs": [
    {
     "name": "stdout",
     "output_type": "stream",
     "text": [
      "0 1006 1000\n"
     ]
    }
   ],
   "source": [
    "# sanity check : no overlap with chia\n",
    "df_chia = pd.read_csv(os.path.join(path_to_repo, 'datasets', 'chia', 'chia-ner', 'chia_texts.tsv'), sep = \"\\t\")\n",
    "\n",
    "chia_ids = set([t.split('_')[0] for t in df_chia.Id.tolist()])\n",
    "lct_ids  = set(df_texts.Id.tolist())\n",
    "print(\n",
    "    len(chia_ids & lct_ids),\n",
    "    len(lct_ids - chia_ids),\n",
    "    len(chia_ids - lct_ids),\n",
    ")"
   ]
  },
  {
   "cell_type": "markdown",
   "metadata": {},
   "source": [
    "<a id=\"ents\"></a>"
   ]
  },
  {
   "cell_type": "markdown",
   "metadata": {},
   "source": [
    "# 2. LCT Entities\n",
    "\n",
    "[Table of content](#TOC)"
   ]
  },
  {
   "cell_type": "markdown",
   "metadata": {},
   "source": [
    "## 2.1 Load entities as single spans\n",
    "\n",
    "[Table of content](#TOC)\n",
    "\n",
    "\n",
    "#### Remark\n",
    "\n",
    "Entities are multi-spanned, and are here replaced by their full spans"
   ]
  },
  {
   "cell_type": "code",
   "execution_count": 252,
   "metadata": {},
   "outputs": [],
   "source": [
    "def load_entities_from_targzfile(targz_file):\n",
    "    with tarfile.open(targz_file, \"r:gz\") as archive:\n",
    "        ann_files = [(f.name, f) for f in archive.getmembers() if f.name.endswith('.ann')]\n",
    "        ent_list = []\n",
    "        for name, member in ann_files:\n",
    "            f = archive.extractfile(member)\n",
    "            if f is not None:\n",
    "                _id = name.split('/')[-1][:-4]\n",
    "                lines = [l.decode('utf-8').replace('⁄', '/').strip() for l in f.readlines()]\n",
    "                ents = [[_id] + load_entity_line(l) for l in lines if l.startswith('T')]\n",
    "                ent_list += ents\n",
    "            \n",
    "    df_ents = pd.DataFrame(ent_list, columns = [\n",
    "        'Id', 'Entity_id', 'Mention', 'Category', 'Start_char', 'End_char', 'Char_spans',\n",
    "    ])\n",
    "    return df_ents"
   ]
  },
  {
   "cell_type": "code",
   "execution_count": 317,
   "metadata": {},
   "outputs": [
    {
     "data": {
      "text/plain": [
       "(56093, 7)"
      ]
     },
     "execution_count": 317,
     "metadata": {},
     "output_type": "execute_result"
    }
   ],
   "source": [
    "df_ents = load_entities_from_targzfile(os.path.join(path_to_data, base_dataset_name))\n",
    "df_ents.shape"
   ]
  },
  {
   "cell_type": "code",
   "execution_count": 318,
   "metadata": {},
   "outputs": [
    {
     "data": {
      "text/html": [
       "<div>\n",
       "<style scoped>\n",
       "    .dataframe tbody tr th:only-of-type {\n",
       "        vertical-align: middle;\n",
       "    }\n",
       "\n",
       "    .dataframe tbody tr th {\n",
       "        vertical-align: top;\n",
       "    }\n",
       "\n",
       "    .dataframe thead th {\n",
       "        text-align: right;\n",
       "    }\n",
       "</style>\n",
       "<table border=\"1\" class=\"dataframe\">\n",
       "  <thead>\n",
       "    <tr style=\"text-align: right;\">\n",
       "      <th></th>\n",
       "      <th>Id</th>\n",
       "      <th>Mention</th>\n",
       "      <th>Span</th>\n",
       "    </tr>\n",
       "  </thead>\n",
       "  <tbody>\n",
       "  </tbody>\n",
       "</table>\n",
       "</div>"
      ],
      "text/plain": [
       "Empty DataFrame\n",
       "Columns: [Id, Mention, Span]\n",
       "Index: []"
      ]
     },
     "execution_count": 318,
     "metadata": {},
     "output_type": "execute_result"
    }
   ],
   "source": [
    "# A sanity check:\n",
    "check = []\n",
    "for _id, text in df_texts.values.tolist():\n",
    "    df_tmp = df_ents[df_ents.Id == _id]\n",
    "    check_tmp = df_tmp.apply(\n",
    "        func = lambda r: [_id, r.Mention, text[r.Start_char: r.End_char]],\n",
    "        axis = 1,\n",
    "    ).tolist()\n",
    "    check += check_tmp\n",
    "    \n",
    "df_check = pd.DataFrame(check, columns = ['Id', 'Mention', 'Span'])\n",
    "\n",
    "# Mention and Span are indeed the same for all entities:\n",
    "df_check[df_check.Mention != df_check.Span]"
   ]
  },
  {
   "cell_type": "code",
   "execution_count": 319,
   "metadata": {},
   "outputs": [
    {
     "data": {
      "text/html": [
       "<div>\n",
       "<style scoped>\n",
       "    .dataframe tbody tr th:only-of-type {\n",
       "        vertical-align: middle;\n",
       "    }\n",
       "\n",
       "    .dataframe tbody tr th {\n",
       "        vertical-align: top;\n",
       "    }\n",
       "\n",
       "    .dataframe thead th {\n",
       "        text-align: right;\n",
       "    }\n",
       "</style>\n",
       "<table border=\"1\" class=\"dataframe\">\n",
       "  <thead>\n",
       "    <tr style=\"text-align: right;\">\n",
       "      <th></th>\n",
       "      <th>Id</th>\n",
       "      <th>Entity_id</th>\n",
       "      <th>Mention</th>\n",
       "      <th>Category</th>\n",
       "      <th>Start_char</th>\n",
       "      <th>End_char</th>\n",
       "      <th>Char_spans</th>\n",
       "    </tr>\n",
       "  </thead>\n",
       "  <tbody>\n",
       "    <tr>\n",
       "      <th>0</th>\n",
       "      <td>NCT03865342</td>\n",
       "      <td>T1</td>\n",
       "      <td>diabetes</td>\n",
       "      <td>Condition</td>\n",
       "      <td>387</td>\n",
       "      <td>395</td>\n",
       "      <td>(387, 395)</td>\n",
       "    </tr>\n",
       "    <tr>\n",
       "      <th>1</th>\n",
       "      <td>NCT03865342</td>\n",
       "      <td>T2</td>\n",
       "      <td>diabetes</td>\n",
       "      <td>Condition-Name</td>\n",
       "      <td>387</td>\n",
       "      <td>395</td>\n",
       "      <td>(387, 395)</td>\n",
       "    </tr>\n",
       "    <tr>\n",
       "      <th>2</th>\n",
       "      <td>NCT03865342</td>\n",
       "      <td>T3</td>\n",
       "      <td>English</td>\n",
       "      <td>Language</td>\n",
       "      <td>25</td>\n",
       "      <td>32</td>\n",
       "      <td>(25, 32)</td>\n",
       "    </tr>\n",
       "    <tr>\n",
       "      <th>3</th>\n",
       "      <td>NCT03865342</td>\n",
       "      <td>T4</td>\n",
       "      <td>given birth</td>\n",
       "      <td>Condition</td>\n",
       "      <td>661</td>\n",
       "      <td>672</td>\n",
       "      <td>(661, 672)</td>\n",
       "    </tr>\n",
       "    <tr>\n",
       "      <th>4</th>\n",
       "      <td>NCT03865342</td>\n",
       "      <td>T5</td>\n",
       "      <td>given birth</td>\n",
       "      <td>Condition-Name</td>\n",
       "      <td>661</td>\n",
       "      <td>672</td>\n",
       "      <td>(661, 672)</td>\n",
       "    </tr>\n",
       "  </tbody>\n",
       "</table>\n",
       "</div>"
      ],
      "text/plain": [
       "            Id Entity_id      Mention        Category  Start_char  End_char  \\\n",
       "0  NCT03865342        T1     diabetes       Condition         387       395   \n",
       "1  NCT03865342        T2     diabetes  Condition-Name         387       395   \n",
       "2  NCT03865342        T3      English        Language          25        32   \n",
       "3  NCT03865342        T4  given birth       Condition         661       672   \n",
       "4  NCT03865342        T5  given birth  Condition-Name         661       672   \n",
       "\n",
       "   Char_spans  \n",
       "0  (387, 395)  \n",
       "1  (387, 395)  \n",
       "2    (25, 32)  \n",
       "3  (661, 672)  \n",
       "4  (661, 672)  "
      ]
     },
     "execution_count": 319,
     "metadata": {},
     "output_type": "execute_result"
    }
   ],
   "source": [
    "df_ents.head()"
   ]
  },
  {
   "cell_type": "markdown",
   "metadata": {},
   "source": [
    "## 2.2 Get flattened non-overlapping entities\n",
    "\n",
    "[Table of content](#TOC)\n",
    "\n",
    "See the list of categories at [Leaf CT Wiki](https://github.com/uw-bionlp/clinical-trials-gov-annotation/wiki)"
   ]
  },
  {
   "cell_type": "code",
   "execution_count": 258,
   "metadata": {},
   "outputs": [],
   "source": [
    "categories = [\n",
    "    # Demographics & Family\n",
    "    # ---------------------\n",
    "    'Age',\n",
    "    # 'Ethnicity',\n",
    "    # 'Family-Member',\n",
    "    # 'Language',\n",
    "    'Life-Stage-And-Gender',\n",
    "    \n",
    "    \n",
    "    # Biomedical\n",
    "    # ----------\n",
    "    'Allergy',\n",
    "    # 'Birth',\n",
    "    'Condition',\n",
    "    # 'Death',\n",
    "    'Drug',\n",
    "     # 'Encounter',\n",
    "    'Immunization',\n",
    "    'Observation',\n",
    "    'Organism',\n",
    "    'Procedure',\n",
    "    # 'Provider',\n",
    "    \n",
    "    \n",
    "    # Boolean, Negations, & Conjunctives\n",
    "    # ----------------------------------\n",
    "    'And',\n",
    "    'Assertion',\n",
    "    'Exception',\n",
    "    'Negation',\n",
    "    'Or',\n",
    "    \n",
    "    \n",
    "    # Temporal & Numerical\n",
    "    # --------------------\n",
    "    'Equality-Comparison',\n",
    "    'Temporal-Connection',\n",
    "    # 'Other',\n",
    "    'Acuteness',\n",
    "    'Contraindication',\n",
    "    # 'Coreference',\n",
    "    'Criteria-Count',\n",
    "    'Indication',\n",
    "    # 'Location',\n",
    "    'Modifier',\n",
    "    # 'Other',\n",
    "    'Polarity',\n",
    "    # 'Risk',\n",
    "    'Severity',\n",
    "    'Stability',\n",
    "    # 'Study',\n",
    "]"
   ]
  },
  {
   "cell_type": "code",
   "execution_count": 259,
   "metadata": {},
   "outputs": [
    {
     "data": {
      "text/plain": [
       "(23017, 6)"
      ]
     },
     "execution_count": 259,
     "metadata": {},
     "output_type": "execute_result"
    }
   ],
   "source": [
    "df_flat = get_ner_entities(df_texts, df_ents, categories)\n",
    "df_flat.shape"
   ]
  },
  {
   "cell_type": "code",
   "execution_count": 260,
   "metadata": {},
   "outputs": [
    {
     "data": {
      "text/html": [
       "<div>\n",
       "<style scoped>\n",
       "    .dataframe tbody tr th:only-of-type {\n",
       "        vertical-align: middle;\n",
       "    }\n",
       "\n",
       "    .dataframe tbody tr th {\n",
       "        vertical-align: top;\n",
       "    }\n",
       "\n",
       "    .dataframe thead th {\n",
       "        text-align: right;\n",
       "    }\n",
       "</style>\n",
       "<table border=\"1\" class=\"dataframe\">\n",
       "  <thead>\n",
       "    <tr style=\"text-align: right;\">\n",
       "      <th></th>\n",
       "      <th>Id</th>\n",
       "      <th>Mention</th>\n",
       "      <th>Start_char</th>\n",
       "      <th>End_char</th>\n",
       "      <th>Entity_id</th>\n",
       "      <th>Category</th>\n",
       "    </tr>\n",
       "  </thead>\n",
       "  <tbody>\n",
       "    <tr>\n",
       "      <th>0</th>\n",
       "      <td>NCT03860012</td>\n",
       "      <td>inflammatory bowel disease</td>\n",
       "      <td>25</td>\n",
       "      <td>51</td>\n",
       "      <td>(T13,)</td>\n",
       "      <td>Condition</td>\n",
       "    </tr>\n",
       "    <tr>\n",
       "      <th>1</th>\n",
       "      <td>NCT03860012</td>\n",
       "      <td>methotrexate</td>\n",
       "      <td>60</td>\n",
       "      <td>72</td>\n",
       "      <td>(T15,)</td>\n",
       "      <td>Drug</td>\n",
       "    </tr>\n",
       "    <tr>\n",
       "      <th>2</th>\n",
       "      <td>NCT03860012</td>\n",
       "      <td>normal</td>\n",
       "      <td>100</td>\n",
       "      <td>106</td>\n",
       "      <td>(T19,)</td>\n",
       "      <td>Polarity</td>\n",
       "    </tr>\n",
       "    <tr>\n",
       "      <th>3</th>\n",
       "      <td>NCT03860012</td>\n",
       "      <td>folate levels</td>\n",
       "      <td>107</td>\n",
       "      <td>120</td>\n",
       "      <td>(T17,)</td>\n",
       "      <td>Observation</td>\n",
       "    </tr>\n",
       "    <tr>\n",
       "      <th>4</th>\n",
       "      <td>NCT03860012</td>\n",
       "      <td>treatment</td>\n",
       "      <td>144</td>\n",
       "      <td>153</td>\n",
       "      <td>(T26,)</td>\n",
       "      <td>Procedure</td>\n",
       "    </tr>\n",
       "  </tbody>\n",
       "</table>\n",
       "</div>"
      ],
      "text/plain": [
       "            Id                     Mention  Start_char  End_char Entity_id  \\\n",
       "0  NCT03860012  inflammatory bowel disease          25        51    (T13,)   \n",
       "1  NCT03860012                methotrexate          60        72    (T15,)   \n",
       "2  NCT03860012                      normal         100       106    (T19,)   \n",
       "3  NCT03860012               folate levels         107       120    (T17,)   \n",
       "4  NCT03860012                   treatment         144       153    (T26,)   \n",
       "\n",
       "      Category  \n",
       "0    Condition  \n",
       "1         Drug  \n",
       "2     Polarity  \n",
       "3  Observation  \n",
       "4    Procedure  "
      ]
     },
     "execution_count": 260,
     "metadata": {},
     "output_type": "execute_result"
    }
   ],
   "source": [
    "df_flat.head()"
   ]
  },
  {
   "cell_type": "code",
   "execution_count": 359,
   "metadata": {},
   "outputs": [],
   "source": [
    "df_flat.to_csv(os.path.join(path_to_data, final_dataset_name, 'lct_ents_dummy.tsv'), sep = \"\\t\", index = False)"
   ]
  },
  {
   "cell_type": "markdown",
   "metadata": {},
   "source": [
    "## 2.3 Convert entities to BIO format\n",
    "\n",
    "[Table of content](#TOC)\n"
   ]
  },
  {
   "cell_type": "code",
   "execution_count": 262,
   "metadata": {},
   "outputs": [
    {
     "data": {
      "text/plain": [
       "(53897, 4)"
      ]
     },
     "execution_count": 262,
     "metadata": {},
     "output_type": "execute_result"
    }
   ],
   "source": [
    "df_spans = convert_to_bio(df_texts, df_flat)\n",
    "df_spans.shape"
   ]
  },
  {
   "cell_type": "code",
   "execution_count": 263,
   "metadata": {},
   "outputs": [
    {
     "data": {
      "text/html": [
       "<div>\n",
       "<style scoped>\n",
       "    .dataframe tbody tr th:only-of-type {\n",
       "        vertical-align: middle;\n",
       "    }\n",
       "\n",
       "    .dataframe tbody tr th {\n",
       "        vertical-align: top;\n",
       "    }\n",
       "\n",
       "    .dataframe thead th {\n",
       "        text-align: right;\n",
       "    }\n",
       "</style>\n",
       "<table border=\"1\" class=\"dataframe\">\n",
       "  <thead>\n",
       "    <tr style=\"text-align: right;\">\n",
       "      <th></th>\n",
       "      <th>Id</th>\n",
       "      <th>Sequence_id</th>\n",
       "      <th>Mention</th>\n",
       "      <th>Category</th>\n",
       "    </tr>\n",
       "  </thead>\n",
       "  <tbody>\n",
       "    <tr>\n",
       "      <th>0</th>\n",
       "      <td>NCT03862404</td>\n",
       "      <td>NCT03862404_0</td>\n",
       "      <td>Inclusion Criteria:</td>\n",
       "      <td>O</td>\n",
       "    </tr>\n",
       "    <tr>\n",
       "      <th>1</th>\n",
       "      <td>NCT03862404</td>\n",
       "      <td>NCT03862404_1</td>\n",
       "      <td>-</td>\n",
       "      <td>O</td>\n",
       "    </tr>\n",
       "    <tr>\n",
       "      <th>2</th>\n",
       "      <td>NCT03862404</td>\n",
       "      <td>NCT03862404_1</td>\n",
       "      <td>Male</td>\n",
       "      <td>Life-Stage-And-Gender</td>\n",
       "    </tr>\n",
       "    <tr>\n",
       "      <th>3</th>\n",
       "      <td>NCT03862404</td>\n",
       "      <td>NCT03862404_1</td>\n",
       "      <td>and</td>\n",
       "      <td>O</td>\n",
       "    </tr>\n",
       "    <tr>\n",
       "      <th>4</th>\n",
       "      <td>NCT03862404</td>\n",
       "      <td>NCT03862404_1</td>\n",
       "      <td>Female</td>\n",
       "      <td>Life-Stage-And-Gender</td>\n",
       "    </tr>\n",
       "  </tbody>\n",
       "</table>\n",
       "</div>"
      ],
      "text/plain": [
       "            Id    Sequence_id              Mention               Category\n",
       "0  NCT03862404  NCT03862404_0  Inclusion Criteria:                      O\n",
       "1  NCT03862404  NCT03862404_1                  -                        O\n",
       "2  NCT03862404  NCT03862404_1                 Male  Life-Stage-And-Gender\n",
       "3  NCT03862404  NCT03862404_1                 and                       O\n",
       "4  NCT03862404  NCT03862404_1               Female  Life-Stage-And-Gender"
      ]
     },
     "execution_count": 263,
     "metadata": {},
     "output_type": "execute_result"
    }
   ],
   "source": [
    "df_spans.head()"
   ]
  },
  {
   "cell_type": "code",
   "execution_count": 360,
   "metadata": {},
   "outputs": [],
   "source": [
    "df_spans.to_csv(os.path.join(path_to_data, final_dataset_name, 'lct_spans_dummy.tsv'), sep = \"\\t\", index = False)"
   ]
  },
  {
   "cell_type": "code",
   "execution_count": 265,
   "metadata": {},
   "outputs": [
    {
     "data": {
      "text/plain": [
       "(147901, 4)"
      ]
     },
     "execution_count": 265,
     "metadata": {},
     "output_type": "execute_result"
    }
   ],
   "source": [
    "tokenizer = English()\n",
    "\n",
    "df_bio = convert_to_bio(df_texts, df_flat, tokenizer = lambda s: [t.text for t in tokenizer(s)])\n",
    "df_bio.shape"
   ]
  },
  {
   "cell_type": "code",
   "execution_count": 266,
   "metadata": {},
   "outputs": [
    {
     "data": {
      "text/html": [
       "<div>\n",
       "<style scoped>\n",
       "    .dataframe tbody tr th:only-of-type {\n",
       "        vertical-align: middle;\n",
       "    }\n",
       "\n",
       "    .dataframe tbody tr th {\n",
       "        vertical-align: top;\n",
       "    }\n",
       "\n",
       "    .dataframe thead th {\n",
       "        text-align: right;\n",
       "    }\n",
       "</style>\n",
       "<table border=\"1\" class=\"dataframe\">\n",
       "  <thead>\n",
       "    <tr style=\"text-align: right;\">\n",
       "      <th></th>\n",
       "      <th>Id</th>\n",
       "      <th>Sequence_id</th>\n",
       "      <th>Mention</th>\n",
       "      <th>Category</th>\n",
       "    </tr>\n",
       "  </thead>\n",
       "  <tbody>\n",
       "    <tr>\n",
       "      <th>0</th>\n",
       "      <td>NCT03862404</td>\n",
       "      <td>NCT03862404_0</td>\n",
       "      <td>Inclusion</td>\n",
       "      <td>O</td>\n",
       "    </tr>\n",
       "    <tr>\n",
       "      <th>1</th>\n",
       "      <td>NCT03862404</td>\n",
       "      <td>NCT03862404_0</td>\n",
       "      <td>Criteria</td>\n",
       "      <td>O</td>\n",
       "    </tr>\n",
       "    <tr>\n",
       "      <th>2</th>\n",
       "      <td>NCT03862404</td>\n",
       "      <td>NCT03862404_0</td>\n",
       "      <td>:</td>\n",
       "      <td>O</td>\n",
       "    </tr>\n",
       "    <tr>\n",
       "      <th>3</th>\n",
       "      <td>NCT03862404</td>\n",
       "      <td>NCT03862404_1</td>\n",
       "      <td></td>\n",
       "      <td>O</td>\n",
       "    </tr>\n",
       "    <tr>\n",
       "      <th>4</th>\n",
       "      <td>NCT03862404</td>\n",
       "      <td>NCT03862404_1</td>\n",
       "      <td>-</td>\n",
       "      <td>O</td>\n",
       "    </tr>\n",
       "    <tr>\n",
       "      <th>5</th>\n",
       "      <td>NCT03862404</td>\n",
       "      <td>NCT03862404_1</td>\n",
       "      <td></td>\n",
       "      <td>O</td>\n",
       "    </tr>\n",
       "    <tr>\n",
       "      <th>6</th>\n",
       "      <td>NCT03862404</td>\n",
       "      <td>NCT03862404_1</td>\n",
       "      <td>Male</td>\n",
       "      <td>B-Life-Stage-And-Gender</td>\n",
       "    </tr>\n",
       "    <tr>\n",
       "      <th>7</th>\n",
       "      <td>NCT03862404</td>\n",
       "      <td>NCT03862404_1</td>\n",
       "      <td></td>\n",
       "      <td>O</td>\n",
       "    </tr>\n",
       "    <tr>\n",
       "      <th>8</th>\n",
       "      <td>NCT03862404</td>\n",
       "      <td>NCT03862404_1</td>\n",
       "      <td>and</td>\n",
       "      <td>O</td>\n",
       "    </tr>\n",
       "    <tr>\n",
       "      <th>9</th>\n",
       "      <td>NCT03862404</td>\n",
       "      <td>NCT03862404_1</td>\n",
       "      <td>Female</td>\n",
       "      <td>B-Life-Stage-And-Gender</td>\n",
       "    </tr>\n",
       "  </tbody>\n",
       "</table>\n",
       "</div>"
      ],
      "text/plain": [
       "            Id    Sequence_id    Mention                 Category\n",
       "0  NCT03862404  NCT03862404_0  Inclusion                        O\n",
       "1  NCT03862404  NCT03862404_0   Criteria                        O\n",
       "2  NCT03862404  NCT03862404_0          :                        O\n",
       "3  NCT03862404  NCT03862404_1                                   O\n",
       "4  NCT03862404  NCT03862404_1          -                        O\n",
       "5  NCT03862404  NCT03862404_1                                   O\n",
       "6  NCT03862404  NCT03862404_1       Male  B-Life-Stage-And-Gender\n",
       "7  NCT03862404  NCT03862404_1                                   O\n",
       "8  NCT03862404  NCT03862404_1        and                        O\n",
       "9  NCT03862404  NCT03862404_1     Female  B-Life-Stage-And-Gender"
      ]
     },
     "execution_count": 266,
     "metadata": {},
     "output_type": "execute_result"
    }
   ],
   "source": [
    "df_bio.head(10)"
   ]
  },
  {
   "cell_type": "code",
   "execution_count": 361,
   "metadata": {},
   "outputs": [],
   "source": [
    "df_bio.to_csv(os.path.join(path_to_data, final_dataset_name, 'lct_bio_dummy.tsv'), sep = \"\\t\", index = False)"
   ]
  },
  {
   "cell_type": "markdown",
   "metadata": {},
   "source": [
    "<a id=\"graph\"></a>"
   ]
  },
  {
   "cell_type": "markdown",
   "metadata": {},
   "source": [
    "# 3. LCT Graph\n",
    "\n",
    "[Table of content](#TOC)"
   ]
  },
  {
   "cell_type": "markdown",
   "metadata": {},
   "source": [
    "## 3.1 Load LCT dataset into graph\n",
    "\n",
    "[Table of content](#TOC)\n",
    "\n",
    "#### Remark\n",
    "\n",
    "Entities are multi-spanned, and are here replaced by their full spans"
   ]
  },
  {
   "cell_type": "code",
   "execution_count": 268,
   "metadata": {},
   "outputs": [],
   "source": [
    "def load_entity_line(l):\n",
    "    ent = l.split('\\t')\n",
    "    ent_id = ent[0]\n",
    "    ent_txt = ent[2]\n",
    "    ent_cat = ent[1].replace(';', ' ').split(' ')[0]\n",
    "    spans = tuple([int(v) for v in ent[1].replace(';', ' ').split(' ')[1:]])\n",
    "    return [ent_id, ent_txt, ent_cat, min(spans), max(spans), spans]\n",
    "\n",
    "\n",
    "\n",
    "def load_graph_from_targzfile(targz_file):\n",
    "    with tarfile.open(targz_file, \"r:gz\") as archive:\n",
    "        ann_files = [(f.name, f) for f in archive.getmembers() if f.name.endswith('.ann')]\n",
    "        all_nodes = []\n",
    "        all_edges = []\n",
    "        for name, member in ann_files:\n",
    "            f = archive.extractfile(member)\n",
    "            if f is not None:\n",
    "                _id = name.split('/')[-1][:-4]\n",
    "                lines = [l.decode('utf-8').replace('⁄', '/').strip() for l in f.readlines()]\n",
    "\n",
    "                # load node attributes as attr-name / target-id / attr-value\n",
    "                a_attrs = [l.replace('\\t', ' ').split(' ')[-3:] for l in lines if l.startswith('A')]\n",
    "\n",
    "                # load nodes corresponding to textual entities\n",
    "                t_nodes = [load_entity_line(l) for l in lines if l.startswith('T')]\n",
    "                t_nodes = [{\n",
    "                    'Node_id': '-'.join((_id, n[0])),\n",
    "                    'Study_id': _id,\n",
    "                    'Entity_id': n[0],\n",
    "                    'Mention': n[1],\n",
    "                    'Category': n[2],\n",
    "                    'Start_char': n[3],\n",
    "                    'End_char': n[4],\n",
    "                    'Char_spans': n[5],\n",
    "                    'Normalization': [(a[0], a[-1]) for a in a_attrs if a[-2] == n[0]], # (a_attrs['-'.join((_id, n[0]))] if '-'.join((_id, n[0])) in a_attrs else ''),\n",
    "                    } \n",
    "                    for n in t_nodes\n",
    "                ]\n",
    "\n",
    "                # load nodes corresponding to metadata \n",
    "                e_nodes = [l.replace('\\t', ' ').split(' ') for l in lines if l.startswith('E')]\n",
    "                e_nodes = [{\n",
    "                    'Node_id': '-'.join((_id, n[0])),\n",
    "                    'Study_id': _id,\n",
    "                    'Entity_id': n[0],\n",
    "                    'Mention': '',\n",
    "                    'Category': '',\n",
    "                    'Start_char': '',\n",
    "                    'End_char': '',\n",
    "                    'Char_spans': tuple(),\n",
    "                    'Normalization': [(a[0], a[-1]) for a in a_attrs if a[-2] == n[0]], # (a_attrs['-'.join((_id, n[0]))] if '-'.join((_id, n[0])) in a_attrs else ''),\n",
    "                    } \n",
    "                    for n in e_nodes\n",
    "                ]\n",
    "                nodes = t_nodes + e_nodes\n",
    "                nodes = [(n['Node_id'], n) for n in nodes]\n",
    "                \n",
    "                # load edges carrying relationships\n",
    "                e_edges = [l.replace('\\t', ' ').split(' ') for l in lines if l.startswith('E')]\n",
    "                e_edges = [{\n",
    "                    's': '-'.join((_id, es[0])),\n",
    "                    't': '-'.join((_id, e.split(':')[1])),\n",
    "                    'Edge_id': es[0],\n",
    "                    'label': e.split(':')[0],\n",
    "                    } \n",
    "                    for es in e_edges for e in es[1:] if (':' in e)\n",
    "                ]\n",
    "                \n",
    "                # load edges carrying meta-relations\n",
    "                r_edges = [l.replace('\\t', ' ').split(' ')[:4] for l in lines if l.startswith('R')]\n",
    "                r_edges = [{\n",
    "                    's': '-'.join((_id, s.split(':')[1])),\n",
    "                    't': '-'.join((_id, t.split(':')[1])),\n",
    "                    'Edge_id': e_id,\n",
    "                    'label': label,\n",
    "                    } \n",
    "                    for e_id, label, s, t in r_edges\n",
    "                ]\n",
    "                edges = e_edges + r_edges\n",
    "                edges = [(e['s'], e['t'], e) for e in edges]\n",
    "                \n",
    "                all_nodes += nodes\n",
    "                all_edges += edges\n",
    "            \n",
    "    nx_graph = nx.MultiDiGraph()\n",
    "    nx_graph.add_nodes_from(all_nodes)\n",
    "    nx_graph.add_edges_from(all_edges)\n",
    "    return nx_graph"
   ]
  },
  {
   "cell_type": "code",
   "execution_count": 269,
   "metadata": {},
   "outputs": [],
   "source": [
    "nx_graph = load_graph_from_targzfile(os.path.join(path_to_data, base_dataset_name))"
   ]
  },
  {
   "cell_type": "markdown",
   "metadata": {},
   "source": [
    "## 3.2 Visualize graph\n",
    "\n",
    "[Table of content](#TOC)\n"
   ]
  },
  {
   "cell_type": "code",
   "execution_count": 270,
   "metadata": {},
   "outputs": [],
   "source": [
    "def filter_by_study(nx_graph, study):\n",
    "    nodes = [n for n in nx_graph.nodes() if nx_graph.nodes[n]['Study_id'] == study]\n",
    "    return nx_graph.subgraph(nodes)\n",
    "\n",
    "\n",
    "def convert_nx_to_nt_graph(nx_graph, node_colors = {}, edge_weights = {}, height = 1200, width = 1980, notebook = False):\n",
    "    nodes = list(nx_graph.nodes(data = True))\n",
    "    edges = [(s, t, 1 + (edge_weights[e['label']] if e['label'] in edge_weights else 0)) for s, t, e in nx_graph.edges(data = True)]\n",
    "    color = [(node_colors[k] if k in node_colors else '#edc939') for k, n in nodes]\n",
    "    \n",
    "    nt_graph = nt.Network(directed = True, height = height, width = width, notebook = notebook)\n",
    "    nt_graph.add_nodes(\n",
    "        nodes = [k for k, n in nodes],\n",
    "        size  = [10]*len(nodes),\n",
    "        label = [n['Mention'] for k, n in nodes],\n",
    "        title = [n['Category'] for k, n in nodes],\n",
    "        color = color,\n",
    "    )\n",
    "    nt_graph.add_edges(edges)\n",
    "    return nt_graph"
   ]
  },
  {
   "cell_type": "code",
   "execution_count": 271,
   "metadata": {},
   "outputs": [],
   "source": [
    "study = 'NCT03931941'\n",
    "study = 'NCT03860038'"
   ]
  },
  {
   "cell_type": "code",
   "execution_count": 272,
   "metadata": {},
   "outputs": [
    {
     "name": "stdout",
     "output_type": "stream",
     "text": [
      "Inclusion criteria:\n",
      "  1. Age ≥ 18, male or female;\n",
      "  2. Subject must have had documented MM;\n",
      "  3. At screening phase, subject must have measurable disease;\n",
      "  4. Subject is in a state of progressive disease (PD);\n",
      "  5. Subject must have life expectancy of no less than 6 months;\n",
      "  6. Subject must have an ECOG (Eastern Cooperative Oncology Group) performance status score of 0~2;\n",
      "Exclusion criteria:\n",
      "  1. Subject has received anti-CD38 monoclonal antibody treatment previously;\n",
      "  2. Subject has received CAR-T cell therapy previously;\n",
      "  3. Subject has previously received allogenic stem cell transplant, or subject has received autologous stem cell transplant within 3 months before administration of the study agent;\n",
      "  4. Primary refractory multiple myeloma (subject failed to generate any minimal response or any degree of response to any therapy);\n",
      "  5. Subject has received anti-myeloma treatment (radiotherapy is excluded) within 4 weeks or 5 PK half-lives of the treatment, whichever longer, before the first study agent administration.\n"
     ]
    }
   ],
   "source": [
    "print(df_texts[df_texts.Id == study].Text.tolist()[0])"
   ]
  },
  {
   "cell_type": "code",
   "execution_count": 273,
   "metadata": {},
   "outputs": [
    {
     "data": {
      "text/html": [
       "\n",
       "        <iframe\n",
       "            width=\"900\"\n",
       "            height=\"600\"\n",
       "            src=\"lct\\misc\\lct.html\"\n",
       "            frameborder=\"0\"\n",
       "            allowfullscreen\n",
       "            \n",
       "        ></iframe>\n",
       "        "
      ],
      "text/plain": [
       "<IPython.lib.display.IFrame at 0x1c768db2b80>"
      ]
     },
     "execution_count": 273,
     "metadata": {},
     "output_type": "execute_result"
    }
   ],
   "source": [
    "nx_subgraph = filter_by_study(nx_graph, study = study)\n",
    "nt_subgraph = convert_nx_to_nt_graph(\n",
    "    nx_subgraph, \n",
    "    node_colors = {}, \n",
    "    edge_weights = {'Temporality': 5, },\n",
    "    height = 600, \n",
    "    width = 900, \n",
    "    notebook = True,\n",
    ")\n",
    "nt_subgraph.save_graph(os.path.join('lct', 'misc', 'lct.html'))\n",
    "\n",
    "nt_subgraph.show(os.path.join('lct', 'misc', 'lct.html'))"
   ]
  },
  {
   "cell_type": "code",
   "execution_count": 274,
   "metadata": {},
   "outputs": [
    {
     "data": {
      "text/plain": [
       "[{'s': 'NCT03860038-E21',\n",
       "  't': 'NCT03860038-T36',\n",
       "  'Edge_id': 'E21',\n",
       "  'label': 'Eq-Comparison'},\n",
       " {'s': 'NCT03860038-E21',\n",
       "  't': 'NCT03860038-T21',\n",
       "  'Edge_id': 'E21',\n",
       "  'label': 'Operator'},\n",
       " {'s': 'NCT03860038-E21',\n",
       "  't': 'NCT03860038-T24',\n",
       "  'Edge_id': 'E21',\n",
       "  'label': 'Temporal-Unit'},\n",
       " {'s': 'NCT03860038-E21',\n",
       "  't': 'NCT03860038-T31',\n",
       "  'Edge_id': 'E21',\n",
       "  'label': 'Value'},\n",
       " {'s': 'NCT03860038-E21',\n",
       "  't': 'NCT03860038-E27',\n",
       "  'Edge_id': 'R6',\n",
       "  'label': 'Before'}]"
      ]
     },
     "execution_count": 274,
     "metadata": {},
     "output_type": "execute_result"
    }
   ],
   "source": [
    "[e for s, t, e in nx_subgraph.edges(data = True) if e['s'] == 'NCT03860038-E21']"
   ]
  },
  {
   "cell_type": "markdown",
   "metadata": {},
   "source": [
    "<a id=\"ents_chia\"></a>"
   ]
  },
  {
   "cell_type": "markdown",
   "metadata": {},
   "source": [
    "# 4. LCT Entities mapped to CHIA format\n",
    "\n",
    "[Table of content](#TOC)"
   ]
  },
  {
   "cell_type": "markdown",
   "metadata": {},
   "source": [
    "## 4.1 Create new category column\n",
    "\n",
    "[Table of content](#TOC)\n"
   ]
  },
  {
   "cell_type": "code",
   "execution_count": 338,
   "metadata": {},
   "outputs": [],
   "source": [
    "def get_parent_type(nx_graph, node_id):\n",
    "    '''\n",
    "    This function rely on the fact that each node has a single parent,\n",
    "    and its normalization is unique, if it exists.\n",
    "    '''\n",
    "    p_type = ''\n",
    "    parent = list(nx_graph.predecessors(node_id))\n",
    "    if parent:\n",
    "        p_type = nx_graph.nodes[parent[0]]['Normalization']\n",
    "        p_type = (p_type[0][-1] if p_type else '')\n",
    "    return p_type"
   ]
  },
  {
   "cell_type": "code",
   "execution_count": 321,
   "metadata": {},
   "outputs": [],
   "source": [
    "df_ents.loc[:, 'Category_chia'] = df_ents.Category"
   ]
  },
  {
   "cell_type": "code",
   "execution_count": 322,
   "metadata": {},
   "outputs": [],
   "source": [
    "df_ents.loc[:, 'Type'] = df_ents.apply(\n",
    "    func = lambda r: get_parent_type(nx_graph, '-'.join([r.Id, r.Entity_id])),\n",
    "    axis = 1,\n",
    ").tolist()"
   ]
  },
  {
   "cell_type": "code",
   "execution_count": 323,
   "metadata": {},
   "outputs": [
    {
     "data": {
      "text/plain": [
       "(56093, 9)"
      ]
     },
     "execution_count": 323,
     "metadata": {},
     "output_type": "execute_result"
    }
   ],
   "source": [
    "df_ents.shape"
   ]
  },
  {
   "cell_type": "code",
   "execution_count": 324,
   "metadata": {},
   "outputs": [
    {
     "data": {
      "text/html": [
       "<div>\n",
       "<style scoped>\n",
       "    .dataframe tbody tr th:only-of-type {\n",
       "        vertical-align: middle;\n",
       "    }\n",
       "\n",
       "    .dataframe tbody tr th {\n",
       "        vertical-align: top;\n",
       "    }\n",
       "\n",
       "    .dataframe thead th {\n",
       "        text-align: right;\n",
       "    }\n",
       "</style>\n",
       "<table border=\"1\" class=\"dataframe\">\n",
       "  <thead>\n",
       "    <tr style=\"text-align: right;\">\n",
       "      <th></th>\n",
       "      <th>Id</th>\n",
       "      <th>Entity_id</th>\n",
       "      <th>Mention</th>\n",
       "      <th>Category</th>\n",
       "      <th>Start_char</th>\n",
       "      <th>End_char</th>\n",
       "      <th>Char_spans</th>\n",
       "      <th>Category_chia</th>\n",
       "      <th>Type</th>\n",
       "    </tr>\n",
       "  </thead>\n",
       "  <tbody>\n",
       "    <tr>\n",
       "      <th>0</th>\n",
       "      <td>NCT03865342</td>\n",
       "      <td>T1</td>\n",
       "      <td>diabetes</td>\n",
       "      <td>Condition</td>\n",
       "      <td>387</td>\n",
       "      <td>395</td>\n",
       "      <td>(387, 395)</td>\n",
       "      <td>Condition</td>\n",
       "      <td></td>\n",
       "    </tr>\n",
       "    <tr>\n",
       "      <th>1</th>\n",
       "      <td>NCT03865342</td>\n",
       "      <td>T2</td>\n",
       "      <td>diabetes</td>\n",
       "      <td>Condition-Name</td>\n",
       "      <td>387</td>\n",
       "      <td>395</td>\n",
       "      <td>(387, 395)</td>\n",
       "      <td>Condition-Name</td>\n",
       "      <td></td>\n",
       "    </tr>\n",
       "    <tr>\n",
       "      <th>2</th>\n",
       "      <td>NCT03865342</td>\n",
       "      <td>T3</td>\n",
       "      <td>English</td>\n",
       "      <td>Language</td>\n",
       "      <td>25</td>\n",
       "      <td>32</td>\n",
       "      <td>(25, 32)</td>\n",
       "      <td>Language</td>\n",
       "      <td></td>\n",
       "    </tr>\n",
       "    <tr>\n",
       "      <th>3</th>\n",
       "      <td>NCT03865342</td>\n",
       "      <td>T4</td>\n",
       "      <td>given birth</td>\n",
       "      <td>Condition</td>\n",
       "      <td>661</td>\n",
       "      <td>672</td>\n",
       "      <td>(661, 672)</td>\n",
       "      <td>Condition</td>\n",
       "      <td></td>\n",
       "    </tr>\n",
       "    <tr>\n",
       "      <th>4</th>\n",
       "      <td>NCT03865342</td>\n",
       "      <td>T5</td>\n",
       "      <td>given birth</td>\n",
       "      <td>Condition-Name</td>\n",
       "      <td>661</td>\n",
       "      <td>672</td>\n",
       "      <td>(661, 672)</td>\n",
       "      <td>Condition-Name</td>\n",
       "      <td></td>\n",
       "    </tr>\n",
       "    <tr>\n",
       "      <th>...</th>\n",
       "      <td>...</td>\n",
       "      <td>...</td>\n",
       "      <td>...</td>\n",
       "      <td>...</td>\n",
       "      <td>...</td>\n",
       "      <td>...</td>\n",
       "      <td>...</td>\n",
       "      <td>...</td>\n",
       "      <td>...</td>\n",
       "    </tr>\n",
       "    <tr>\n",
       "      <th>56088</th>\n",
       "      <td>NCT03931772</td>\n",
       "      <td>T98</td>\n",
       "      <td>motivation</td>\n",
       "      <td>Assertion</td>\n",
       "      <td>136</td>\n",
       "      <td>146</td>\n",
       "      <td>(136, 146)</td>\n",
       "      <td>Assertion</td>\n",
       "      <td>intention</td>\n",
       "    </tr>\n",
       "    <tr>\n",
       "      <th>56089</th>\n",
       "      <td>NCT03931772</td>\n",
       "      <td>T100</td>\n",
       "      <td>or older</td>\n",
       "      <td>Eq-Operator</td>\n",
       "      <td>34</td>\n",
       "      <td>42</td>\n",
       "      <td>(34, 42)</td>\n",
       "      <td>Eq-Operator</td>\n",
       "      <td></td>\n",
       "    </tr>\n",
       "    <tr>\n",
       "      <th>56090</th>\n",
       "      <td>NCT03931772</td>\n",
       "      <td>T65</td>\n",
       "      <td>quit smoking</td>\n",
       "      <td>Observation</td>\n",
       "      <td>167</td>\n",
       "      <td>179</td>\n",
       "      <td>(167, 179)</td>\n",
       "      <td>Observation</td>\n",
       "      <td></td>\n",
       "    </tr>\n",
       "    <tr>\n",
       "      <th>56091</th>\n",
       "      <td>NCT03931772</td>\n",
       "      <td>T97</td>\n",
       "      <td>10-point Likert-type scale</td>\n",
       "      <td>Modifier</td>\n",
       "      <td>185</td>\n",
       "      <td>211</td>\n",
       "      <td>(185, 211)</td>\n",
       "      <td>Modifier</td>\n",
       "      <td></td>\n",
       "    </tr>\n",
       "    <tr>\n",
       "      <th>56092</th>\n",
       "      <td>NCT03931772</td>\n",
       "      <td>T26</td>\n",
       "      <td>smoking</td>\n",
       "      <td>Observation-Name</td>\n",
       "      <td>338</td>\n",
       "      <td>345</td>\n",
       "      <td>(338, 345)</td>\n",
       "      <td>Observation-Name</td>\n",
       "      <td></td>\n",
       "    </tr>\n",
       "  </tbody>\n",
       "</table>\n",
       "<p>56093 rows × 9 columns</p>\n",
       "</div>"
      ],
      "text/plain": [
       "                Id Entity_id                     Mention          Category  \\\n",
       "0      NCT03865342        T1                    diabetes         Condition   \n",
       "1      NCT03865342        T2                    diabetes    Condition-Name   \n",
       "2      NCT03865342        T3                     English          Language   \n",
       "3      NCT03865342        T4                 given birth         Condition   \n",
       "4      NCT03865342        T5                 given birth    Condition-Name   \n",
       "...            ...       ...                         ...               ...   \n",
       "56088  NCT03931772       T98                  motivation         Assertion   \n",
       "56089  NCT03931772      T100                    or older       Eq-Operator   \n",
       "56090  NCT03931772       T65                quit smoking       Observation   \n",
       "56091  NCT03931772       T97  10-point Likert-type scale          Modifier   \n",
       "56092  NCT03931772       T26                     smoking  Observation-Name   \n",
       "\n",
       "       Start_char  End_char  Char_spans     Category_chia       Type  \n",
       "0             387       395  (387, 395)         Condition             \n",
       "1             387       395  (387, 395)    Condition-Name             \n",
       "2              25        32    (25, 32)          Language             \n",
       "3             661       672  (661, 672)         Condition             \n",
       "4             661       672  (661, 672)    Condition-Name             \n",
       "...           ...       ...         ...               ...        ...  \n",
       "56088         136       146  (136, 146)         Assertion  intention  \n",
       "56089          34        42    (34, 42)       Eq-Operator             \n",
       "56090         167       179  (167, 179)       Observation             \n",
       "56091         185       211  (185, 211)          Modifier             \n",
       "56092         338       345  (338, 345)  Observation-Name             \n",
       "\n",
       "[56093 rows x 9 columns]"
      ]
     },
     "execution_count": 324,
     "metadata": {},
     "output_type": "execute_result"
    }
   ],
   "source": [
    "df_ents"
   ]
  },
  {
   "cell_type": "code",
   "execution_count": 325,
   "metadata": {},
   "outputs": [
    {
     "data": {
      "text/plain": [
       "<AxesSubplot: >"
      ]
     },
     "execution_count": 325,
     "metadata": {},
     "output_type": "execute_result"
    },
    {
     "data": {
      "image/png": "[encoded data removed]",
      "text/plain": [
       "<Figure size 640x480 with 1 Axes>"
      ]
     },
     "metadata": {},
     "output_type": "display_data"
    }
   ],
   "source": [
    "df_ents[(df_ents.Type != '')].Category.value_counts().sort_values().plot(kind = 'barh')"
   ]
  },
  {
   "cell_type": "markdown",
   "metadata": {},
   "source": [
    "## 4.2 Fill _Person_ category\n",
    "\n",
    "[Table of content](#TOC)\n"
   ]
  },
  {
   "cell_type": "code",
   "execution_count": 326,
   "metadata": {},
   "outputs": [],
   "source": [
    "# Person : we ignored Ethnicity, Family-member, Language\n",
    "person_idx = df_ents.Category.isin(['Life-Stage-And-Gender', 'Age']) "
   ]
  },
  {
   "cell_type": "code",
   "execution_count": 327,
   "metadata": {},
   "outputs": [
    {
     "data": {
      "text/plain": [
       "1436"
      ]
     },
     "execution_count": 327,
     "metadata": {},
     "output_type": "execute_result"
    }
   ],
   "source": [
    "sum(person_idx)"
   ]
  },
  {
   "cell_type": "code",
   "execution_count": 328,
   "metadata": {},
   "outputs": [],
   "source": [
    "df_ents.loc[person_idx, 'Category_chia'] = 'Person'"
   ]
  },
  {
   "cell_type": "markdown",
   "metadata": {},
   "source": [
    "## 4.3 Fill _Qualifier_ category\n",
    "\n",
    "[Table of content](#TOC)\n"
   ]
  },
  {
   "cell_type": "code",
   "execution_count": 330,
   "metadata": {},
   "outputs": [],
   "source": [
    "# get almost all modifiers\n",
    "# exclude Values found and irrelevant\n",
    "qualifier_idx = (df_ents.Category.isin([\n",
    "    'Modifier', \n",
    "    'Severity', \n",
    "    'Stability', \n",
    "    'Acuteness', \n",
    "    'Polarity',\n",
    "])) & (~df_ents.Type.isin([\n",
    "    'lab',            # Value\n",
    "    'clinical-score', # Value\n",
    "    'measurement',    # Value\n",
    "    'survey-or-questionnaire', # Value\n",
    "    'hypothetical',   # irrelevant\n",
    "    'possible',       # irrelevant\n",
    "    'intention',      # irrelevant\n",
    "]))"
   ]
  },
  {
   "cell_type": "code",
   "execution_count": 331,
   "metadata": {},
   "outputs": [
    {
     "data": {
      "text/plain": [
       "4882"
      ]
     },
     "execution_count": 331,
     "metadata": {},
     "output_type": "execute_result"
    }
   ],
   "source": [
    "sum(qualifier_idx)"
   ]
  },
  {
   "cell_type": "code",
   "execution_count": 332,
   "metadata": {},
   "outputs": [],
   "source": [
    "df_ents.loc[qualifier_idx, 'Category_chia'] = 'Qualifier'"
   ]
  },
  {
   "cell_type": "markdown",
   "metadata": {},
   "source": [
    "## 4.4 Fill _Measurement_ category\n",
    "\n",
    "[Table of content](#TOC)\n",
    "\n",
    "\n",
    "Observations are organized into 6 types, plus an additional unspecified type, which we map differently to either _Measurement_ or _Observation_ OMOP-compatible category:\n",
    "\n",
    "| Type | Target category |\n",
    "|-----|-----|\n",
    "| measurement | Measurement | \n",
    "| lab | Measurement | \n",
    "| vital | Measurement | \n",
    "| clinical-score | Measurement | \n",
    "| social-habit | Observation |\n",
    "| survey-or-questionnaire | Observation |\n",
    "|  | Observation |\n",
    "\n",
    "\n",
    "See the Leaf Clinical Trial Corpus wiki on [Observation](https://github.com/uw-bionlp/clinical-trials-gov-annotation/wiki/observation) and its decomposition into types."
   ]
  },
  {
   "cell_type": "code",
   "execution_count": 333,
   "metadata": {},
   "outputs": [
    {
     "data": {
      "text/plain": [
       "<AxesSubplot: >"
      ]
     },
     "execution_count": 333,
     "metadata": {},
     "output_type": "execute_result"
    },
    {
     "data": {
      "image/png": "[encoded data removed]",
      "text/plain": [
       "<Figure size 640x480 with 1 Axes>"
      ]
     },
     "metadata": {},
     "output_type": "display_data"
    }
   ],
   "source": [
    "df_ents[(df_ents.Category == 'Observation')].Type.value_counts().sort_values().plot(kind = 'barh')"
   ]
  },
  {
   "cell_type": "code",
   "execution_count": 334,
   "metadata": {},
   "outputs": [],
   "source": [
    "measurement_idx = (\n",
    "    (df_ents.Category == 'Observation')\n",
    ") & df_ents.Type.isin([\n",
    "    'measurement',\n",
    "    'lab',\n",
    "    'vital',\n",
    "    'clinical-score',\n",
    "])"
   ]
  },
  {
   "cell_type": "code",
   "execution_count": 335,
   "metadata": {},
   "outputs": [
    {
     "data": {
      "text/plain": [
       "1195"
      ]
     },
     "execution_count": 335,
     "metadata": {},
     "output_type": "execute_result"
    }
   ],
   "source": [
    "sum(measurement_idx)"
   ]
  },
  {
   "cell_type": "code",
   "execution_count": 336,
   "metadata": {},
   "outputs": [],
   "source": [
    "df_ents.loc[measurement_idx, 'Category_chia'] = 'Measurement'"
   ]
  },
  {
   "cell_type": "markdown",
   "metadata": {},
   "source": [
    "## 4.5 Fill _Value & Temporal_ categories\n",
    "\n",
    "[Table of content](#TOC)"
   ]
  },
  {
   "cell_type": "code",
   "execution_count": 341,
   "metadata": {},
   "outputs": [],
   "source": [
    "def get_ancestor(nx_graph, node_id, level = 1):\n",
    "    '''\n",
    "    This function rely on the fact that each node has a single parent,\n",
    "    and its normalization is unique, if it exists.\n",
    "    '''\n",
    "    parents = list(nx_graph.predecessors(node_id))\n",
    "    if len(parents) >= level:\n",
    "        parent = nx_graph.nodes[parents[level-1]]\n",
    "        p_cat  = parent['Category']\n",
    "        p_type = (parent['Normalization'][0][-1] if parent['Normalization'] else '')\n",
    "        return (p_cat, p_type)\n",
    "    return ('', '')"
   ]
  },
  {
   "cell_type": "code",
   "execution_count": 350,
   "metadata": {},
   "outputs": [],
   "source": [
    "def get_ancestor_path(nx_graph, node, return_ancestor_level = 2):\n",
    "    ancestors = nx.ancestors(nx_graph, node)\n",
    "    if ancestors:\n",
    "        paths = [nx.shortest_path(nx_graph, source = a, target = node) for a in ancestors]\n",
    "        path = tuple(sorted(paths, key = len)[-1])\n",
    "        root = path[-return_ancestor_level:][0]\n",
    "        path = [\n",
    "            nx_graph.get_edge_data(m, n)[0]['label']\n",
    "            for m, n in zip(path[:-1], path[1:])\n",
    "        ]\n",
    "        path = [root, path]\n",
    "    else:\n",
    "        path = [node, tuple([])]\n",
    "    return path\n",
    "\n",
    "\n",
    "\n",
    "def get_descendant_paths(nx_graph, node, from_ancestor_level = 1):\n",
    "    if from_ancestor_level == 0:\n",
    "        root = node\n",
    "    else:\n",
    "        ancestors = nx.ancestors(nx_graph, node)\n",
    "        if ancestors:\n",
    "            paths = [nx.shortest_path(nx_graph, source = a, target = node) for a in ancestors]\n",
    "            path = tuple(sorted(paths, key = len)[-1])\n",
    "            root = path[-from_ancestor_level:][0]\n",
    "        else:\n",
    "            root = node\n",
    "    return list(set([nx_graph.nodes[n]['Category'] for n in nx.descendants(nx_graph, root)]))\n",
    "\n",
    "\n",
    "\n",
    "def get_children_edges(nx_graph, node):\n",
    "    return [e['label'] for s, t, e in nx_graph.out_edges(node, data = True)]\n",
    "    \n",
    "\n",
    "\n",
    "def get_overlaping_entities(row, df, output_column = 'index'):\n",
    "    # get entities on same Id\n",
    "    df = df[df.Id == row.Id]\n",
    "    df = df[df.Entity_id != row.Entity_id]\n",
    "    \n",
    "    lengths = df.End_char - df.Start_char\n",
    "    length = row.End_char - row.Start_char\n",
    "    \n",
    "    idx_short = []\n",
    "    idx_equal = []\n",
    "    idx_large = []\n",
    "\n",
    "    # get shorter overlaping entities\n",
    "    df_short = df[lengths <= length]\n",
    "    if not df_short.empty:\n",
    "        short = df_short.apply(\n",
    "            func = lambda r: len(set(range(r.Start_char, r.End_char)) & set(range(row.Start_char, row.End_char)))>0, \n",
    "            axis = 1,\n",
    "        )\n",
    "        idx_short = df_short[short][output_column].tolist()\n",
    "    \n",
    "    # get identical overlaping entities\n",
    "    df_equal = df[lengths == length]\n",
    "    if not df_equal.empty:\n",
    "        equal = df_equal.apply(\n",
    "            func = lambda r: (r.Start_char == row.Start_char) & (r.End_char == row.End_char), \n",
    "            axis = 1,\n",
    "        )\n",
    "        idx_equal = df_equal[equal][output_column].tolist()\n",
    "\n",
    "    # get larger overlaping entities\n",
    "    df_large = df[lengths > length]\n",
    "    if not df_large.empty:\n",
    "        large = df_large.apply(\n",
    "            func = lambda r: len(set(range(r.Start_char, r.End_char)) & set(range(row.Start_char, row.End_char)))>0, \n",
    "            axis = 1,\n",
    "        )\n",
    "        idx_large = df_large[large][output_column].tolist()\n",
    "    return (idx_short, idx_equal, idx_large)"
   ]
  },
  {
   "cell_type": "code",
   "execution_count": 351,
   "metadata": {},
   "outputs": [
    {
     "data": {
      "text/html": [
       "<div>\n",
       "<style scoped>\n",
       "    .dataframe tbody tr th:only-of-type {\n",
       "        vertical-align: middle;\n",
       "    }\n",
       "\n",
       "    .dataframe tbody tr th {\n",
       "        vertical-align: top;\n",
       "    }\n",
       "\n",
       "    .dataframe thead th {\n",
       "        text-align: right;\n",
       "    }\n",
       "</style>\n",
       "<table border=\"1\" class=\"dataframe\">\n",
       "  <thead>\n",
       "    <tr style=\"text-align: right;\">\n",
       "      <th></th>\n",
       "      <th>Id</th>\n",
       "      <th>Entity_id</th>\n",
       "      <th>Mention</th>\n",
       "      <th>Category</th>\n",
       "      <th>Start_char</th>\n",
       "      <th>End_char</th>\n",
       "      <th>Char_spans</th>\n",
       "      <th>Category_chia</th>\n",
       "      <th>Type</th>\n",
       "    </tr>\n",
       "  </thead>\n",
       "  <tbody>\n",
       "    <tr>\n",
       "      <th>26</th>\n",
       "      <td>NCT03865342</td>\n",
       "      <td>T29</td>\n",
       "      <td>&gt;5 lbs</td>\n",
       "      <td>Eq-Comparison</td>\n",
       "      <td>292</td>\n",
       "      <td>298</td>\n",
       "      <td>(292, 298)</td>\n",
       "      <td>Eq-Comparison</td>\n",
       "      <td></td>\n",
       "    </tr>\n",
       "    <tr>\n",
       "      <th>27</th>\n",
       "      <td>NCT03865342</td>\n",
       "      <td>T30</td>\n",
       "      <td>within the past 3 months</td>\n",
       "      <td>Eq-Comparison</td>\n",
       "      <td>673</td>\n",
       "      <td>697</td>\n",
       "      <td>(673, 697)</td>\n",
       "      <td>Eq-Comparison</td>\n",
       "      <td></td>\n",
       "    </tr>\n",
       "    <tr>\n",
       "      <th>29</th>\n",
       "      <td>NCT03865342</td>\n",
       "      <td>T32</td>\n",
       "      <td>18 years of age and older</td>\n",
       "      <td>Eq-Comparison</td>\n",
       "      <td>47</td>\n",
       "      <td>72</td>\n",
       "      <td>(47, 72)</td>\n",
       "      <td>Eq-Comparison</td>\n",
       "      <td></td>\n",
       "    </tr>\n",
       "    <tr>\n",
       "      <th>35</th>\n",
       "      <td>NCT03865342</td>\n",
       "      <td>T41</td>\n",
       "      <td>5.7 - 6.4</td>\n",
       "      <td>Eq-Comparison</td>\n",
       "      <td>137</td>\n",
       "      <td>146</td>\n",
       "      <td>(137, 146)</td>\n",
       "      <td>Eq-Comparison</td>\n",
       "      <td></td>\n",
       "    </tr>\n",
       "    <tr>\n",
       "      <th>36</th>\n",
       "      <td>NCT03865342</td>\n",
       "      <td>T42</td>\n",
       "      <td>within the 3 months</td>\n",
       "      <td>Eq-Comparison</td>\n",
       "      <td>147</td>\n",
       "      <td>166</td>\n",
       "      <td>(147, 166)</td>\n",
       "      <td>Eq-Comparison</td>\n",
       "      <td></td>\n",
       "    </tr>\n",
       "    <tr>\n",
       "      <th>...</th>\n",
       "      <td>...</td>\n",
       "      <td>...</td>\n",
       "      <td>...</td>\n",
       "      <td>...</td>\n",
       "      <td>...</td>\n",
       "      <td>...</td>\n",
       "      <td>...</td>\n",
       "      <td>...</td>\n",
       "      <td>...</td>\n",
       "    </tr>\n",
       "    <tr>\n",
       "      <th>56058</th>\n",
       "      <td>NCT03931772</td>\n",
       "      <td>T29</td>\n",
       "      <td>≥ 5 out of 10</td>\n",
       "      <td>Eq-Comparison</td>\n",
       "      <td>150</td>\n",
       "      <td>163</td>\n",
       "      <td>(150, 163)</td>\n",
       "      <td>Eq-Comparison</td>\n",
       "      <td></td>\n",
       "    </tr>\n",
       "    <tr>\n",
       "      <th>56062</th>\n",
       "      <td>NCT03931772</td>\n",
       "      <td>T73</td>\n",
       "      <td>current</td>\n",
       "      <td>Eq-Comparison</td>\n",
       "      <td>671</td>\n",
       "      <td>678</td>\n",
       "      <td>(671, 678)</td>\n",
       "      <td>Eq-Comparison</td>\n",
       "      <td></td>\n",
       "    </tr>\n",
       "    <tr>\n",
       "      <th>56066</th>\n",
       "      <td>NCT03931772</td>\n",
       "      <td>T77</td>\n",
       "      <td>Currently taking</td>\n",
       "      <td>Eq-Comparison</td>\n",
       "      <td>912</td>\n",
       "      <td>928</td>\n",
       "      <td>(912, 928)</td>\n",
       "      <td>Eq-Comparison</td>\n",
       "      <td></td>\n",
       "    </tr>\n",
       "    <tr>\n",
       "      <th>56079</th>\n",
       "      <td>NCT03931772</td>\n",
       "      <td>T87</td>\n",
       "      <td>daily</td>\n",
       "      <td>Eq-Comparison</td>\n",
       "      <td>302</td>\n",
       "      <td>307</td>\n",
       "      <td>(302, 307)</td>\n",
       "      <td>Eq-Comparison</td>\n",
       "      <td></td>\n",
       "    </tr>\n",
       "    <tr>\n",
       "      <th>56085</th>\n",
       "      <td>NCT03931772</td>\n",
       "      <td>T94</td>\n",
       "      <td>recent</td>\n",
       "      <td>Eq-Comparison</td>\n",
       "      <td>679</td>\n",
       "      <td>685</td>\n",
       "      <td>(679, 685)</td>\n",
       "      <td>Eq-Comparison</td>\n",
       "      <td></td>\n",
       "    </tr>\n",
       "  </tbody>\n",
       "</table>\n",
       "<p>5297 rows × 9 columns</p>\n",
       "</div>"
      ],
      "text/plain": [
       "                Id Entity_id                    Mention       Category  \\\n",
       "26     NCT03865342       T29                     >5 lbs  Eq-Comparison   \n",
       "27     NCT03865342       T30   within the past 3 months  Eq-Comparison   \n",
       "29     NCT03865342       T32  18 years of age and older  Eq-Comparison   \n",
       "35     NCT03865342       T41                  5.7 - 6.4  Eq-Comparison   \n",
       "36     NCT03865342       T42        within the 3 months  Eq-Comparison   \n",
       "...            ...       ...                        ...            ...   \n",
       "56058  NCT03931772       T29              ≥ 5 out of 10  Eq-Comparison   \n",
       "56062  NCT03931772       T73                    current  Eq-Comparison   \n",
       "56066  NCT03931772       T77           Currently taking  Eq-Comparison   \n",
       "56079  NCT03931772       T87                      daily  Eq-Comparison   \n",
       "56085  NCT03931772       T94                     recent  Eq-Comparison   \n",
       "\n",
       "       Start_char  End_char  Char_spans  Category_chia Type  \n",
       "26            292       298  (292, 298)  Eq-Comparison       \n",
       "27            673       697  (673, 697)  Eq-Comparison       \n",
       "29             47        72    (47, 72)  Eq-Comparison       \n",
       "35            137       146  (137, 146)  Eq-Comparison       \n",
       "36            147       166  (147, 166)  Eq-Comparison       \n",
       "...           ...       ...         ...            ...  ...  \n",
       "56058         150       163  (150, 163)  Eq-Comparison       \n",
       "56062         671       678  (671, 678)  Eq-Comparison       \n",
       "56066         912       928  (912, 928)  Eq-Comparison       \n",
       "56079         302       307  (302, 307)  Eq-Comparison       \n",
       "56085         679       685  (679, 685)  Eq-Comparison       \n",
       "\n",
       "[5297 rows x 9 columns]"
      ]
     },
     "execution_count": 351,
     "metadata": {},
     "output_type": "execute_result"
    }
   ],
   "source": [
    "df_comps = df_ents[df_ents.Category == 'Eq-Comparison'].copy()\n",
    "df_comps"
   ]
  },
  {
   "cell_type": "code",
   "execution_count": 352,
   "metadata": {},
   "outputs": [],
   "source": [
    "root_ancestor = df_comps.apply(\n",
    "    func = lambda r: get_ancestor_path(nx_graph, '-'.join([r.Id, r.Entity_id])),\n",
    "    axis = 1,\n",
    ").tolist()\n",
    "\n",
    "df_comps['Root'] = [r for r, a in root_ancestor]\n",
    "df_comps['Ancestors'] = [a for r, a in root_ancestor]\n",
    "df_comps['Root_edges'] = df_comps.Root.apply(lambda r: get_children_edges(nx_graph, r))\n",
    "df_comps['Overlaping'] = df_comps.apply(\n",
    "    func = lambda r: get_overlaping_entities(r, df_ents, output_column = 'Category'),\n",
    "    axis = 1,\n",
    ")"
   ]
  },
  {
   "cell_type": "code",
   "execution_count": 353,
   "metadata": {},
   "outputs": [
    {
     "data": {
      "text/html": [
       "<div>\n",
       "<style scoped>\n",
       "    .dataframe tbody tr th:only-of-type {\n",
       "        vertical-align: middle;\n",
       "    }\n",
       "\n",
       "    .dataframe tbody tr th {\n",
       "        vertical-align: top;\n",
       "    }\n",
       "\n",
       "    .dataframe thead th {\n",
       "        text-align: right;\n",
       "    }\n",
       "</style>\n",
       "<table border=\"1\" class=\"dataframe\">\n",
       "  <thead>\n",
       "    <tr style=\"text-align: right;\">\n",
       "      <th></th>\n",
       "      <th>Id</th>\n",
       "      <th>Entity_id</th>\n",
       "      <th>Mention</th>\n",
       "      <th>Category</th>\n",
       "      <th>Start_char</th>\n",
       "      <th>End_char</th>\n",
       "      <th>Char_spans</th>\n",
       "      <th>Category_chia</th>\n",
       "      <th>Type</th>\n",
       "      <th>Root</th>\n",
       "      <th>Ancestors</th>\n",
       "      <th>Root_edges</th>\n",
       "      <th>Overlaping</th>\n",
       "    </tr>\n",
       "  </thead>\n",
       "  <tbody>\n",
       "    <tr>\n",
       "      <th>26</th>\n",
       "      <td>NCT03865342</td>\n",
       "      <td>T29</td>\n",
       "      <td>&gt;5 lbs</td>\n",
       "      <td>Eq-Comparison</td>\n",
       "      <td>292</td>\n",
       "      <td>298</td>\n",
       "      <td>(292, 298)</td>\n",
       "      <td>Eq-Comparison</td>\n",
       "      <td></td>\n",
       "      <td>NCT03865342-E6</td>\n",
       "      <td>[Numeric-Filter, Eq-Comparison]</td>\n",
       "      <td>[Eq-Comparison, Operator, Unit, Value]</td>\n",
       "      <td>([Eq-Operator, Eq-Unit, Eq-Value], [], [])</td>\n",
       "    </tr>\n",
       "    <tr>\n",
       "      <th>27</th>\n",
       "      <td>NCT03865342</td>\n",
       "      <td>T30</td>\n",
       "      <td>within the past 3 months</td>\n",
       "      <td>Eq-Comparison</td>\n",
       "      <td>673</td>\n",
       "      <td>697</td>\n",
       "      <td>(673, 697)</td>\n",
       "      <td>Eq-Comparison</td>\n",
       "      <td></td>\n",
       "      <td>NCT03865342-E7</td>\n",
       "      <td>[Temporality, Eq-Comparison]</td>\n",
       "      <td>[Eq-Comparison, Operator, Temporal-Unit, Value...</td>\n",
       "      <td>([Eq-Operator, Eq-Temporal-Unit, Eq-Value, Eq-...</td>\n",
       "    </tr>\n",
       "  </tbody>\n",
       "</table>\n",
       "</div>"
      ],
      "text/plain": [
       "             Id Entity_id                   Mention       Category  \\\n",
       "26  NCT03865342       T29                    >5 lbs  Eq-Comparison   \n",
       "27  NCT03865342       T30  within the past 3 months  Eq-Comparison   \n",
       "\n",
       "    Start_char  End_char  Char_spans  Category_chia Type            Root  \\\n",
       "26         292       298  (292, 298)  Eq-Comparison       NCT03865342-E6   \n",
       "27         673       697  (673, 697)  Eq-Comparison       NCT03865342-E7   \n",
       "\n",
       "                          Ancestors  \\\n",
       "26  [Numeric-Filter, Eq-Comparison]   \n",
       "27     [Temporality, Eq-Comparison]   \n",
       "\n",
       "                                           Root_edges  \\\n",
       "26             [Eq-Comparison, Operator, Unit, Value]   \n",
       "27  [Eq-Comparison, Operator, Temporal-Unit, Value...   \n",
       "\n",
       "                                           Overlaping  \n",
       "26         ([Eq-Operator, Eq-Unit, Eq-Value], [], [])  \n",
       "27  ([Eq-Operator, Eq-Temporal-Unit, Eq-Value, Eq-...  "
      ]
     },
     "execution_count": 353,
     "metadata": {},
     "output_type": "execute_result"
    }
   ],
   "source": [
    "df_comps.head(2)"
   ]
  },
  {
   "cell_type": "code",
   "execution_count": 354,
   "metadata": {},
   "outputs": [
    {
     "name": "stdout",
     "output_type": "stream",
     "text": [
      "179\n",
      "2628\n",
      "1989\n",
      "140\n",
      "324\n",
      "37\n"
     ]
    }
   ],
   "source": [
    "other_filter = df_comps.Overlaping.apply(lambda os: len(set(os[1]) & set([\n",
    "    'Eq-Temporal-Recency', 'Eq-Temporal-Unit', 'Severity', 'Eq-Operator',\n",
    "])) > 0)\n",
    "\n",
    "print(sum(other_filter))\n",
    "\n",
    "\n",
    "temporal_cats = ['Temporality', 'Temporality2', 'Temporality3', 'During', 'Duration', 'Duration2'] # Before, After\n",
    "\n",
    "temporal_filter = ~other_filter & (\n",
    "    df_comps.Overlaping.apply(lambda os: (os[1] == ['Eq-Temporal-Period'])) |\n",
    "    df_comps.Ancestors.apply(lambda a: (len(a)>1 and a[-2] in temporal_cats)) \n",
    ")\n",
    "\n",
    "print(sum(temporal_filter))\n",
    "\n",
    "value_cats = ['Numeric-Filter', 'Stage', 'Dose', 'Dose2']\n",
    "\n",
    "value_filter = ~(other_filter | temporal_filter) & (\n",
    "    df_comps.Ancestors.apply(lambda a: (len(a)>1 and a[-2] in value_cats))\n",
    ")\n",
    "\n",
    "print(sum(value_filter))\n",
    "\n",
    "\n",
    "temporal_filter_2 = ~(other_filter | temporal_filter | value_filter) & (\n",
    "    df_comps.Overlaping.apply(lambda os: ('Eq-Temporal-Unit' in os[0]))\n",
    ")\n",
    "\n",
    "print(sum(temporal_filter_2))\n",
    "\n",
    "\n",
    "value_filter_2 = ~(other_filter | temporal_filter | value_filter | temporal_filter_2) & (\n",
    "    df_comps.Overlaping.apply(lambda os: ('Eq-Value' in os[0]))\n",
    ")\n",
    "\n",
    "print(sum(value_filter_2))\n",
    "\n",
    "other_filter_2 = ~(other_filter | temporal_filter | value_filter | temporal_filter_2 | value_filter_2)\n",
    "\n",
    "print(sum(other_filter_2))"
   ]
  },
  {
   "cell_type": "code",
   "execution_count": 355,
   "metadata": {},
   "outputs": [
    {
     "data": {
      "text/plain": [
       "2768"
      ]
     },
     "execution_count": 355,
     "metadata": {},
     "output_type": "execute_result"
    }
   ],
   "source": [
    "temporal_idx = df_comps[temporal_filter | temporal_filter_2].index.tolist()\n",
    "len(temporal_idx)"
   ]
  },
  {
   "cell_type": "code",
   "execution_count": 356,
   "metadata": {},
   "outputs": [
    {
     "data": {
      "text/plain": [
       "2313"
      ]
     },
     "execution_count": 356,
     "metadata": {},
     "output_type": "execute_result"
    }
   ],
   "source": [
    "value_idx = df_comps[value_filter | value_filter_2].index.tolist()\n",
    "len(value_idx)"
   ]
  },
  {
   "cell_type": "code",
   "execution_count": 357,
   "metadata": {},
   "outputs": [
    {
     "data": {
      "text/plain": [
       "0"
      ]
     },
     "execution_count": 357,
     "metadata": {},
     "output_type": "execute_result"
    }
   ],
   "source": [
    "# sanity check: these sets of indices are disjoint\n",
    "len(set(value_idx) & set(temporal_idx))"
   ]
  },
  {
   "cell_type": "code",
   "execution_count": 358,
   "metadata": {},
   "outputs": [],
   "source": [
    "df_ents.loc[temporal_idx, 'Category_chia'] = 'Temporal'\n",
    "df_ents.loc[value_idx, 'Category_chia'] = 'Value'"
   ]
  },
  {
   "cell_type": "markdown",
   "metadata": {},
   "source": [
    "## 4.6 Get flattened non-overlapping entities\n",
    "\n",
    "[Table of content](#TOC)\n"
   ]
  },
  {
   "cell_type": "code",
   "execution_count": 363,
   "metadata": {},
   "outputs": [],
   "source": [
    "categories_chia = [\n",
    "    # domain\n",
    "    'Condition',\n",
    "    'Procedure',\n",
    "    'Drug',\n",
    "    'Person',      # created from 'Life-Stage-And-Gender' and 'Age'\n",
    "    'Measurement', # created from subset of 'Observation'\n",
    "    'Observation', # created from subset of 'Observation'\n",
    "    # 'Device' missing\n",
    "    \n",
    "    # field\n",
    "    'Value',     # replaces part of 'Eq-Comparison'\n",
    "    'Temporal',  # replaces part of 'Eq-Comparison'\n",
    "    'Qualifier', # replaces 'Modifier', 'Severity', 'Assertion', 'Stability', 'Acuteness', 'Polarity'\n",
    "]"
   ]
  },
  {
   "cell_type": "code",
   "execution_count": 383,
   "metadata": {},
   "outputs": [
    {
     "data": {
      "text/plain": [
       "(25449, 9)"
      ]
     },
     "execution_count": 383,
     "metadata": {},
     "output_type": "execute_result"
    }
   ],
   "source": [
    "df_ents = df_ents[df_ents.Category_chia.isin(categories_chia)].reset_index(drop = True).copy()\n",
    "df_ents.loc[:, 'Category'] = df_ents.Category_chia\n",
    "df_ents.shape"
   ]
  },
  {
   "cell_type": "code",
   "execution_count": 373,
   "metadata": {},
   "outputs": [
    {
     "data": {
      "text/plain": [
       "(25321, 6)"
      ]
     },
     "execution_count": 373,
     "metadata": {},
     "output_type": "execute_result"
    }
   ],
   "source": [
    "df_flat = get_ner_entities(df_texts, df_ents, categories) \n",
    "df_flat.shape"
   ]
  },
  {
   "cell_type": "code",
   "execution_count": 379,
   "metadata": {},
   "outputs": [
    {
     "data": {
      "text/html": [
       "<div>\n",
       "<style scoped>\n",
       "    .dataframe tbody tr th:only-of-type {\n",
       "        vertical-align: middle;\n",
       "    }\n",
       "\n",
       "    .dataframe tbody tr th {\n",
       "        vertical-align: top;\n",
       "    }\n",
       "\n",
       "    .dataframe thead th {\n",
       "        text-align: right;\n",
       "    }\n",
       "</style>\n",
       "<table border=\"1\" class=\"dataframe\">\n",
       "  <thead>\n",
       "    <tr style=\"text-align: right;\">\n",
       "      <th></th>\n",
       "      <th>Id</th>\n",
       "      <th>Mention</th>\n",
       "      <th>Start_char</th>\n",
       "      <th>End_char</th>\n",
       "      <th>Entity_id</th>\n",
       "      <th>Category</th>\n",
       "    </tr>\n",
       "  </thead>\n",
       "  <tbody>\n",
       "    <tr>\n",
       "      <th>0</th>\n",
       "      <td>NCT03860012</td>\n",
       "      <td>inflammatory bowel disease</td>\n",
       "      <td>25</td>\n",
       "      <td>51</td>\n",
       "      <td>(T13,)</td>\n",
       "      <td>Condition</td>\n",
       "    </tr>\n",
       "    <tr>\n",
       "      <th>1</th>\n",
       "      <td>NCT03860012</td>\n",
       "      <td>on</td>\n",
       "      <td>57</td>\n",
       "      <td>59</td>\n",
       "      <td>(T31,)</td>\n",
       "      <td>Temporal</td>\n",
       "    </tr>\n",
       "    <tr>\n",
       "      <th>2</th>\n",
       "      <td>NCT03860012</td>\n",
       "      <td>methotrexate</td>\n",
       "      <td>60</td>\n",
       "      <td>72</td>\n",
       "      <td>(T15,)</td>\n",
       "      <td>Drug</td>\n",
       "    </tr>\n",
       "    <tr>\n",
       "      <th>3</th>\n",
       "      <td>NCT03860012</td>\n",
       "      <td>folate levels</td>\n",
       "      <td>107</td>\n",
       "      <td>120</td>\n",
       "      <td>(T17,)</td>\n",
       "      <td>Measurement</td>\n",
       "    </tr>\n",
       "    <tr>\n",
       "      <th>4</th>\n",
       "      <td>NCT03860012</td>\n",
       "      <td>treatment</td>\n",
       "      <td>144</td>\n",
       "      <td>153</td>\n",
       "      <td>(T26,)</td>\n",
       "      <td>Procedure</td>\n",
       "    </tr>\n",
       "  </tbody>\n",
       "</table>\n",
       "</div>"
      ],
      "text/plain": [
       "            Id                     Mention  Start_char  End_char Entity_id  \\\n",
       "0  NCT03860012  inflammatory bowel disease          25        51    (T13,)   \n",
       "1  NCT03860012                          on          57        59    (T31,)   \n",
       "2  NCT03860012                methotrexate          60        72    (T15,)   \n",
       "3  NCT03860012               folate levels         107       120    (T17,)   \n",
       "4  NCT03860012                   treatment         144       153    (T26,)   \n",
       "\n",
       "      Category  \n",
       "0    Condition  \n",
       "1     Temporal  \n",
       "2         Drug  \n",
       "3  Measurement  \n",
       "4    Procedure  "
      ]
     },
     "execution_count": 379,
     "metadata": {},
     "output_type": "execute_result"
    }
   ],
   "source": [
    "df_flat.head()"
   ]
  },
  {
   "cell_type": "code",
   "execution_count": 381,
   "metadata": {},
   "outputs": [
    {
     "data": {
      "text/plain": [
       "<AxesSubplot: >"
      ]
     },
     "execution_count": 381,
     "metadata": {},
     "output_type": "execute_result"
    },
    {
     "data": {
      "image/png": "[encoded data removed]",
      "text/plain": [
       "<Figure size 640x480 with 1 Axes>"
      ]
     },
     "metadata": {},
     "output_type": "display_data"
    }
   ],
   "source": [
    "df_flat.Category.value_counts().sort_values().plot(kind = 'barh')"
   ]
  },
  {
   "cell_type": "code",
   "execution_count": 374,
   "metadata": {},
   "outputs": [],
   "source": [
    "df_flat.to_csv(os.path.join(path_to_data, final_dataset_name, 'lct_ents.tsv'), sep = \"\\t\", index = False)"
   ]
  },
  {
   "cell_type": "markdown",
   "metadata": {},
   "source": [
    "## 4.7 Convert entities to BIO format\n",
    "\n",
    "[Table of content](#TOC)\n"
   ]
  },
  {
   "cell_type": "code",
   "execution_count": 375,
   "metadata": {},
   "outputs": [
    {
     "data": {
      "text/plain": [
       "(57634, 4)"
      ]
     },
     "execution_count": 375,
     "metadata": {},
     "output_type": "execute_result"
    }
   ],
   "source": [
    "df_spans = convert_to_bio(df_texts, df_flat)\n",
    "df_spans.shape"
   ]
  },
  {
   "cell_type": "code",
   "execution_count": 376,
   "metadata": {},
   "outputs": [],
   "source": [
    "df_spans.to_csv(os.path.join(path_to_data, final_dataset_name, 'lct_spans.tsv'), sep = \"\\t\", index = False)"
   ]
  },
  {
   "cell_type": "code",
   "execution_count": 377,
   "metadata": {},
   "outputs": [
    {
     "data": {
      "text/plain": [
       "(148708, 4)"
      ]
     },
     "execution_count": 377,
     "metadata": {},
     "output_type": "execute_result"
    }
   ],
   "source": [
    "tokenizer = English()\n",
    "\n",
    "df_bio = convert_to_bio(df_texts, df_flat, tokenizer = lambda s: [t.text for t in tokenizer(s)])\n",
    "df_bio.shape"
   ]
  },
  {
   "cell_type": "code",
   "execution_count": 380,
   "metadata": {},
   "outputs": [
    {
     "data": {
      "text/html": [
       "<div>\n",
       "<style scoped>\n",
       "    .dataframe tbody tr th:only-of-type {\n",
       "        vertical-align: middle;\n",
       "    }\n",
       "\n",
       "    .dataframe tbody tr th {\n",
       "        vertical-align: top;\n",
       "    }\n",
       "\n",
       "    .dataframe thead th {\n",
       "        text-align: right;\n",
       "    }\n",
       "</style>\n",
       "<table border=\"1\" class=\"dataframe\">\n",
       "  <thead>\n",
       "    <tr style=\"text-align: right;\">\n",
       "      <th></th>\n",
       "      <th>Id</th>\n",
       "      <th>Sequence_id</th>\n",
       "      <th>Mention</th>\n",
       "      <th>Category</th>\n",
       "    </tr>\n",
       "  </thead>\n",
       "  <tbody>\n",
       "    <tr>\n",
       "      <th>0</th>\n",
       "      <td>NCT03862404</td>\n",
       "      <td>NCT03862404_0</td>\n",
       "      <td>Inclusion</td>\n",
       "      <td>O</td>\n",
       "    </tr>\n",
       "    <tr>\n",
       "      <th>1</th>\n",
       "      <td>NCT03862404</td>\n",
       "      <td>NCT03862404_0</td>\n",
       "      <td>Criteria</td>\n",
       "      <td>O</td>\n",
       "    </tr>\n",
       "    <tr>\n",
       "      <th>2</th>\n",
       "      <td>NCT03862404</td>\n",
       "      <td>NCT03862404_0</td>\n",
       "      <td>:</td>\n",
       "      <td>O</td>\n",
       "    </tr>\n",
       "    <tr>\n",
       "      <th>3</th>\n",
       "      <td>NCT03862404</td>\n",
       "      <td>NCT03862404_1</td>\n",
       "      <td></td>\n",
       "      <td>O</td>\n",
       "    </tr>\n",
       "    <tr>\n",
       "      <th>4</th>\n",
       "      <td>NCT03862404</td>\n",
       "      <td>NCT03862404_1</td>\n",
       "      <td>-</td>\n",
       "      <td>O</td>\n",
       "    </tr>\n",
       "  </tbody>\n",
       "</table>\n",
       "</div>"
      ],
      "text/plain": [
       "            Id    Sequence_id    Mention Category\n",
       "0  NCT03862404  NCT03862404_0  Inclusion        O\n",
       "1  NCT03862404  NCT03862404_0   Criteria        O\n",
       "2  NCT03862404  NCT03862404_0          :        O\n",
       "3  NCT03862404  NCT03862404_1                   O\n",
       "4  NCT03862404  NCT03862404_1          -        O"
      ]
     },
     "execution_count": 380,
     "metadata": {},
     "output_type": "execute_result"
    }
   ],
   "source": [
    "df_bio.head()"
   ]
  },
  {
   "cell_type": "code",
   "execution_count": 378,
   "metadata": {},
   "outputs": [],
   "source": [
    "df_bio.to_csv(os.path.join(path_to_data, final_dataset_name, 'lct_bio.tsv'), sep = \"\\t\", index = False)"
   ]
  },
  {
   "cell_type": "markdown",
   "metadata": {},
   "source": [
    "[Table of content](#TOC)"
   ]
  }
 ],
 "metadata": {
  "kernelspec": {
   "display_name": "Python 3 (ipykernel)",
   "language": "python",
   "name": "python3"
  },
  "language_info": {
   "codemirror_mode": {
    "name": "ipython",
    "version": 3
   },
   "file_extension": ".py",
   "mimetype": "text/x-python",
   "name": "python",
   "nbconvert_exporter": "python",
   "pygments_lexer": "ipython3",
   "version": "3.8.13"
  }
 },
 "nbformat": 4,
 "nbformat_minor": 2
}
