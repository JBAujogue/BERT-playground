{
 "cells": [
  {
   "cell_type": "markdown",
   "metadata": {},
   "source": [
    "<div style=\"font-variant: small-caps; \n",
    "      font-weight: normal; \n",
    "      font-size: 35px; \n",
    "      text-align: center; \n",
    "      padding: 15px; \n",
    "      margin: 10px;\">\n",
    "      Dataset processing\n",
    "  </div> \n",
    "  \n",
    "<div style=\"\n",
    "      font-weight: normal; \n",
    "      font-size: 25px; \n",
    "      text-align: center; \n",
    "      padding: 15px; \n",
    "      margin: 10px;\">\n",
    "      Clinical trials CTTI\n",
    "  </div>\n",
    "\n",
    "\n",
    "  <div style=\" float:left; \n",
    "      font-size: 12px; \n",
    "      line-height: 12px; \n",
    "  padding: 10px 15px 8px;\">\n",
    "  Jean-baptiste AUJOGUE -  Hybrid Intelligence\n",
    "  </div> \n",
    "  \n",
    "  <div style=\" float:right; \n",
    "      font-size: 12px; \n",
    "      line-height: 12px; \n",
    "  padding: 10px 15px 8px;\">\n",
    "  December 2022\n",
    "  </div>"
   ]
  },
  {
   "cell_type": "markdown",
   "metadata": {},
   "source": [
    "<a id=\"TOC\"></a>"
   ]
  },
  {
   "cell_type": "markdown",
   "metadata": {},
   "source": [
    "#### Table Of Content\n",
    "\n",
    "1. [Clinical trials](#texts) <br>\n",
    "\n",
    "\n",
    "#### Useful links\n",
    "\n",
    "- [Clinical Trials dataset download](https://www.clinicaltrials.gov/ct2/resources/download#DownloadAllData)"
   ]
  },
  {
   "cell_type": "code",
   "execution_count": 1,
   "metadata": {},
   "outputs": [],
   "source": [
    "%load_ext autoreload\n",
    "%autoreload 2"
   ]
  },
  {
   "cell_type": "code",
   "execution_count": 9,
   "metadata": {},
   "outputs": [],
   "source": [
    "import os\n",
    "import re\n",
    "import copy\n",
    "import json\n",
    "import zipfile\n",
    "\n",
    "# data\n",
    "import xml.etree.ElementTree as ET\n",
    "import numpy as np\n",
    "import pandas as pd\n",
    "\n",
    "# viz\n",
    "# from tqdm import tnrange"
   ]
  },
  {
   "cell_type": "markdown",
   "metadata": {},
   "source": [
    "#### Custom variables"
   ]
  },
  {
   "cell_type": "code",
   "execution_count": 3,
   "metadata": {},
   "outputs": [
    {
     "data": {
      "text/plain": [
       "'C:\\\\Users\\\\jb\\\\Desktop\\\\NLP\\\\Internal - Transformers for NLP\\\\datasets\\\\clinical trials CTTI'"
      ]
     },
     "execution_count": 3,
     "metadata": {},
     "output_type": "execute_result"
    }
   ],
   "source": [
    "path_to_data = os.path.join(os.getcwd(), 'clinical trials CTTI')\n",
    "path_to_data"
   ]
  },
  {
   "cell_type": "code",
   "execution_count": 4,
   "metadata": {},
   "outputs": [],
   "source": [
    "base_dataset_name  = 'AllPublicXML.zip'\n",
    "final_dataset_name = 'clinical-trials-ctti'"
   ]
  },
  {
   "cell_type": "markdown",
   "metadata": {},
   "source": [
    "<a id=\"texts\"></a>"
   ]
  },
  {
   "cell_type": "markdown",
   "metadata": {},
   "source": [
    "# 1. Clinical trials\n",
    "\n",
    "[Table of content](#TOC)"
   ]
  },
  {
   "cell_type": "code",
   "execution_count": 10,
   "metadata": {},
   "outputs": [],
   "source": [
    "def clean_text(s):\n",
    "    s = (s if s else '')\n",
    "    return re.sub('(\\s)+', ' ', s).strip()\n",
    "\n",
    "\n",
    "def clean_criteria(s):\n",
    "    s = (s if s else '')\n",
    "    criteria = [m.group(3) for m in re.finditer(\n",
    "        '\\r\\n\\r\\n(\\s)*-(\\s)*(.*)\\r\\n\\r\\n', \n",
    "        s.replace('\\r\\n\\r\\n', '\\r\\n\\r\\n\\r\\n\\r\\n').rstrip() + '\\r\\n\\r\\n',\n",
    "    )]\n",
    "    criteria = '\\n'.join([clean_text(c) for c in criteria])\n",
    "    return criteria\n",
    "\n",
    "\n",
    "\n",
    "def process_xml(f):\n",
    "    tree = ET.parse(f)\n",
    "    root = tree.getroot()\n",
    "    \n",
    "    content_dict = {\n",
    "        'summary'     : 'brief_summary/textblock',\n",
    "        'description' : 'detailed_description/textblock',\n",
    "        'ie_criteria' : 'eligibility/criteria/textblock',\n",
    "        'condition'   : 'condition',\n",
    "        'purpose'     : 'study_design_info/primary_purpose',\n",
    "        'intervention': 'intervention/intervention_name',\n",
    "    }\n",
    "    content_dict = {k: root.findtext(v) for k, v in content_dict.items()}\n",
    "    content_dict = {k: (clean_criteria(v) if k == 'ie_criteria' else clean_text(v)) for k, v in content_dict.items()}\n",
    "    return content_dict\n",
    "\n",
    "\n",
    "\n",
    "def process_zipfile(zip_file):\n",
    "    all_content = []\n",
    "    archive = zipfile.ZipFile(zip_file, 'r')\n",
    "    files = [f for f in archive.namelist() if f.endswith('.xml')]\n",
    "    for file in files:\n",
    "        with archive.open(file, 'r') as f:\n",
    "            content = process_xml(f)\n",
    "            content = [file] + list(content.values())\n",
    "            all_content.append(content)\n",
    "    return all_content\n",
    "\n",
    "\n",
    "\n",
    "def get_character_count(texts):\n",
    "    text = ' '.join(texts)\n",
    "    return np.unique(list(text), return_counts = True)"
   ]
  },
  {
   "cell_type": "code",
   "execution_count": 138,
   "metadata": {},
   "outputs": [],
   "source": [
    "# with open(os.path.join(path_to_data, 'AllPublicXML', 'NCT0000xxxx', 'NCT00000180.xml')) as f:\n",
    "#     tree = ET.parse(f)\n",
    "#     root = tree.getroot()\n",
    "    \n",
    "# for c in root.iter():\n",
    "#     print('---')\n",
    "#     print(c.tag)\n",
    "#     print(c.text)"
   ]
  },
  {
   "cell_type": "code",
   "execution_count": 157,
   "metadata": {},
   "outputs": [],
   "source": [
    "trials = process_zipfile(os.path.join(path_to_data, base_dataset_name))"
   ]
  },
  {
   "cell_type": "code",
   "execution_count": 161,
   "metadata": {},
   "outputs": [],
   "source": [
    "df_trials = pd.DataFrame(trials, columns = ['Id', 'Summary', 'Description', 'IE_criteria', 'Condition', 'Purpose', 'Intervention'])"
   ]
  },
  {
   "cell_type": "code",
   "execution_count": 165,
   "metadata": {
    "scrolled": true
   },
   "outputs": [
    {
     "data": {
      "text/html": [
       "<div>\n",
       "<style scoped>\n",
       "    .dataframe tbody tr th:only-of-type {\n",
       "        vertical-align: middle;\n",
       "    }\n",
       "\n",
       "    .dataframe tbody tr th {\n",
       "        vertical-align: top;\n",
       "    }\n",
       "\n",
       "    .dataframe thead th {\n",
       "        text-align: right;\n",
       "    }\n",
       "</style>\n",
       "<table border=\"1\" class=\"dataframe\">\n",
       "  <thead>\n",
       "    <tr style=\"text-align: right;\">\n",
       "      <th></th>\n",
       "      <th>Id</th>\n",
       "      <th>Summary</th>\n",
       "      <th>Description</th>\n",
       "      <th>IE_criteria</th>\n",
       "      <th>Condition</th>\n",
       "      <th>Purpose</th>\n",
       "      <th>Intervention</th>\n",
       "    </tr>\n",
       "  </thead>\n",
       "  <tbody>\n",
       "    <tr>\n",
       "      <th>0</th>\n",
       "      <td>NCT0000xxxx/NCT00000102.xml</td>\n",
       "      <td>This study will test the ability of extended r...</td>\n",
       "      <td>This protocol is designed to assess both acute...</td>\n",
       "      <td>diagnosed with Congenital Adrenal Hyperplasia ...</td>\n",
       "      <td>Congenital Adrenal Hyperplasia</td>\n",
       "      <td>Treatment</td>\n",
       "      <td>Nifedipine</td>\n",
       "    </tr>\n",
       "    <tr>\n",
       "      <th>1</th>\n",
       "      <td>NCT0000xxxx/NCT00000104.xml</td>\n",
       "      <td>Inner city children are at an increased risk f...</td>\n",
       "      <td></td>\n",
       "      <td></td>\n",
       "      <td>Lead Poisoning</td>\n",
       "      <td></td>\n",
       "      <td>ERP measures of attention and memory</td>\n",
       "    </tr>\n",
       "    <tr>\n",
       "      <th>2</th>\n",
       "      <td>NCT0000xxxx/NCT00000105.xml</td>\n",
       "      <td>The purpose of this study is to learn how the ...</td>\n",
       "      <td>Patients will receive each vaccine once only c...</td>\n",
       "      <td>Patients must have a diagnosis of cancer of an...</td>\n",
       "      <td>Cancer</td>\n",
       "      <td></td>\n",
       "      <td>Intracel KLH Vaccine</td>\n",
       "    </tr>\n",
       "    <tr>\n",
       "      <th>3</th>\n",
       "      <td>NCT0000xxxx/NCT00000106.xml</td>\n",
       "      <td>Recently a non-toxic system for whole body hyp...</td>\n",
       "      <td></td>\n",
       "      <td></td>\n",
       "      <td>Rheumatic Diseases</td>\n",
       "      <td>Treatment</td>\n",
       "      <td>Whole body hyperthermia unit</td>\n",
       "    </tr>\n",
       "    <tr>\n",
       "      <th>4</th>\n",
       "      <td>NCT0000xxxx/NCT00000107.xml</td>\n",
       "      <td>Adults with cyanotic congenital heart disease ...</td>\n",
       "      <td></td>\n",
       "      <td>Resting blood pressure below 140/90</td>\n",
       "      <td>Heart Defects, Congenital</td>\n",
       "      <td></td>\n",
       "      <td></td>\n",
       "    </tr>\n",
       "    <tr>\n",
       "      <th>5</th>\n",
       "      <td>NCT0000xxxx/NCT00000108.xml</td>\n",
       "      <td>The purpose of this research is to find out wh...</td>\n",
       "      <td></td>\n",
       "      <td>Postmenopausal and preferably on hormone repla...</td>\n",
       "      <td>Cardiovascular Diseases</td>\n",
       "      <td>Prevention</td>\n",
       "      <td>Exercise</td>\n",
       "    </tr>\n",
       "    <tr>\n",
       "      <th>6</th>\n",
       "      <td>NCT0000xxxx/NCT00000110.xml</td>\n",
       "      <td>The purpose of this pilot investigation is to ...</td>\n",
       "      <td></td>\n",
       "      <td>Healthy volunteers (developmental phase)\\nHeal...</td>\n",
       "      <td>Obesity</td>\n",
       "      <td>Treatment</td>\n",
       "      <td>magnetic resonance spectroscopy</td>\n",
       "    </tr>\n",
       "    <tr>\n",
       "      <th>7</th>\n",
       "      <td>NCT0000xxxx/NCT00000111.xml</td>\n",
       "      <td>The purpose of this study is to see if we can ...</td>\n",
       "      <td></td>\n",
       "      <td>Lack sufficient attached keratinized tissue at...</td>\n",
       "      <td>Mouth Diseases</td>\n",
       "      <td>Treatment</td>\n",
       "      <td>Oral mucosal graft</td>\n",
       "    </tr>\n",
       "    <tr>\n",
       "      <th>8</th>\n",
       "      <td>NCT0000xxxx/NCT00000112.xml</td>\n",
       "      <td>The prevalence of obesity in children is reach...</td>\n",
       "      <td></td>\n",
       "      <td>Obesity: BM +/- 95% for age general good health</td>\n",
       "      <td>Obesity</td>\n",
       "      <td></td>\n",
       "      <td></td>\n",
       "    </tr>\n",
       "    <tr>\n",
       "      <th>9</th>\n",
       "      <td>NCT0000xxxx/NCT00000113.xml</td>\n",
       "      <td>To evaluate whether progressive addition lense...</td>\n",
       "      <td>Myopia (nearsightedness) is an important publi...</td>\n",
       "      <td></td>\n",
       "      <td>Myopia</td>\n",
       "      <td>Treatment</td>\n",
       "      <td>Progressive Addition Lenses</td>\n",
       "    </tr>\n",
       "    <tr>\n",
       "      <th>10</th>\n",
       "      <td>NCT0000xxxx/NCT00000114.xml</td>\n",
       "      <td>To determine whether supplements of vitamin A ...</td>\n",
       "      <td>Retinitis pigmentosa (RP) is a group of inheri...</td>\n",
       "      <td></td>\n",
       "      <td>Retinitis Pigmentosa</td>\n",
       "      <td>Treatment</td>\n",
       "      <td>Vitamin E</td>\n",
       "    </tr>\n",
       "    <tr>\n",
       "      <th>11</th>\n",
       "      <td>NCT0000xxxx/NCT00000115.xml</td>\n",
       "      <td>To test the efficacy of acetazolamide for the ...</td>\n",
       "      <td>Uveitis, an intraocular inflammatory disease, ...</td>\n",
       "      <td></td>\n",
       "      <td>Macular Edema, Cystoid</td>\n",
       "      <td>Treatment</td>\n",
       "      <td>Acetazolamide</td>\n",
       "    </tr>\n",
       "    <tr>\n",
       "      <th>12</th>\n",
       "      <td>NCT0000xxxx/NCT00000116.xml</td>\n",
       "      <td>The purpose of this trial is to determine whet...</td>\n",
       "      <td>Retinitis pigmentosa (RP) is a group of inheri...</td>\n",
       "      <td>Be between the ages of 18 and 56\\nRead newspap...</td>\n",
       "      <td>Retinitis Pigmentosa</td>\n",
       "      <td>Treatment</td>\n",
       "      <td>Vitamin A</td>\n",
       "    </tr>\n",
       "    <tr>\n",
       "      <th>13</th>\n",
       "      <td>NCT0000xxxx/NCT00000117.xml</td>\n",
       "      <td>To determine whether high-dose intravenous imm...</td>\n",
       "      <td>Optic neuritis is the leading cause of transie...</td>\n",
       "      <td></td>\n",
       "      <td>Optic Neuritis</td>\n",
       "      <td>Treatment</td>\n",
       "      <td>Immunoglobulin</td>\n",
       "    </tr>\n",
       "    <tr>\n",
       "      <th>14</th>\n",
       "      <td>NCT0000xxxx/NCT00000118.xml</td>\n",
       "      <td>To determine the therapeutic efficacy of a sus...</td>\n",
       "      <td>CMV retinitis occurs in 20 to 30 percent of pa...</td>\n",
       "      <td></td>\n",
       "      <td>HIV Infections</td>\n",
       "      <td>Treatment</td>\n",
       "      <td>Sustained-Release Intraocular Drug Delivery Sy...</td>\n",
       "    </tr>\n",
       "    <tr>\n",
       "      <th>15</th>\n",
       "      <td>NCT0000xxxx/NCT00000119.xml</td>\n",
       "      <td>To investigate the safety and efficacy of a he...</td>\n",
       "      <td>Patients with uveitis are at high risk for sig...</td>\n",
       "      <td></td>\n",
       "      <td>Cataract</td>\n",
       "      <td>Treatment</td>\n",
       "      <td>Heparin Surface-Modified Intraocular Lens</td>\n",
       "    </tr>\n",
       "    <tr>\n",
       "      <th>16</th>\n",
       "      <td>NCT0000xxxx/NCT00000120.xml</td>\n",
       "      <td>To compare the effectiveness of silver nitrate...</td>\n",
       "      <td>Sexually transmitted diseases are a major caus...</td>\n",
       "      <td></td>\n",
       "      <td>Chlamydia Infections</td>\n",
       "      <td>Treatment</td>\n",
       "      <td>Erythromycin Ointment</td>\n",
       "    </tr>\n",
       "    <tr>\n",
       "      <th>17</th>\n",
       "      <td>NCT0000xxxx/NCT00000121.xml</td>\n",
       "      <td>To determine whether the preoperative use of p...</td>\n",
       "      <td>Acquired esotropia (crossed eyes that develop ...</td>\n",
       "      <td></td>\n",
       "      <td>Esotropia</td>\n",
       "      <td>Treatment</td>\n",
       "      <td>Prisms in Eyeglasses</td>\n",
       "    </tr>\n",
       "    <tr>\n",
       "      <th>18</th>\n",
       "      <td>NCT0000xxxx/NCT00000122.xml</td>\n",
       "      <td>To determine whether postoperative subconjunct...</td>\n",
       "      <td>Filtering surgery adequately lowers intraocula...</td>\n",
       "      <td></td>\n",
       "      <td>Glaucoma</td>\n",
       "      <td>Treatment</td>\n",
       "      <td>5-Fluorouracil</td>\n",
       "    </tr>\n",
       "    <tr>\n",
       "      <th>19</th>\n",
       "      <td>NCT0000xxxx/NCT00000123.xml</td>\n",
       "      <td>To evaluate the relative efficacy of orthokera...</td>\n",
       "      <td>In the early 1960s, a group of clinicians asse...</td>\n",
       "      <td></td>\n",
       "      <td>Astigmatism</td>\n",
       "      <td>Treatment</td>\n",
       "      <td>Polymethyl Methacrylate-Silicone Contact Lenses</td>\n",
       "    </tr>\n",
       "  </tbody>\n",
       "</table>\n",
       "</div>"
      ],
      "text/plain": [
       "                             Id  \\\n",
       "0   NCT0000xxxx/NCT00000102.xml   \n",
       "1   NCT0000xxxx/NCT00000104.xml   \n",
       "2   NCT0000xxxx/NCT00000105.xml   \n",
       "3   NCT0000xxxx/NCT00000106.xml   \n",
       "4   NCT0000xxxx/NCT00000107.xml   \n",
       "5   NCT0000xxxx/NCT00000108.xml   \n",
       "6   NCT0000xxxx/NCT00000110.xml   \n",
       "7   NCT0000xxxx/NCT00000111.xml   \n",
       "8   NCT0000xxxx/NCT00000112.xml   \n",
       "9   NCT0000xxxx/NCT00000113.xml   \n",
       "10  NCT0000xxxx/NCT00000114.xml   \n",
       "11  NCT0000xxxx/NCT00000115.xml   \n",
       "12  NCT0000xxxx/NCT00000116.xml   \n",
       "13  NCT0000xxxx/NCT00000117.xml   \n",
       "14  NCT0000xxxx/NCT00000118.xml   \n",
       "15  NCT0000xxxx/NCT00000119.xml   \n",
       "16  NCT0000xxxx/NCT00000120.xml   \n",
       "17  NCT0000xxxx/NCT00000121.xml   \n",
       "18  NCT0000xxxx/NCT00000122.xml   \n",
       "19  NCT0000xxxx/NCT00000123.xml   \n",
       "\n",
       "                                              Summary  \\\n",
       "0   This study will test the ability of extended r...   \n",
       "1   Inner city children are at an increased risk f...   \n",
       "2   The purpose of this study is to learn how the ...   \n",
       "3   Recently a non-toxic system for whole body hyp...   \n",
       "4   Adults with cyanotic congenital heart disease ...   \n",
       "5   The purpose of this research is to find out wh...   \n",
       "6   The purpose of this pilot investigation is to ...   \n",
       "7   The purpose of this study is to see if we can ...   \n",
       "8   The prevalence of obesity in children is reach...   \n",
       "9   To evaluate whether progressive addition lense...   \n",
       "10  To determine whether supplements of vitamin A ...   \n",
       "11  To test the efficacy of acetazolamide for the ...   \n",
       "12  The purpose of this trial is to determine whet...   \n",
       "13  To determine whether high-dose intravenous imm...   \n",
       "14  To determine the therapeutic efficacy of a sus...   \n",
       "15  To investigate the safety and efficacy of a he...   \n",
       "16  To compare the effectiveness of silver nitrate...   \n",
       "17  To determine whether the preoperative use of p...   \n",
       "18  To determine whether postoperative subconjunct...   \n",
       "19  To evaluate the relative efficacy of orthokera...   \n",
       "\n",
       "                                          Description  \\\n",
       "0   This protocol is designed to assess both acute...   \n",
       "1                                                       \n",
       "2   Patients will receive each vaccine once only c...   \n",
       "3                                                       \n",
       "4                                                       \n",
       "5                                                       \n",
       "6                                                       \n",
       "7                                                       \n",
       "8                                                       \n",
       "9   Myopia (nearsightedness) is an important publi...   \n",
       "10  Retinitis pigmentosa (RP) is a group of inheri...   \n",
       "11  Uveitis, an intraocular inflammatory disease, ...   \n",
       "12  Retinitis pigmentosa (RP) is a group of inheri...   \n",
       "13  Optic neuritis is the leading cause of transie...   \n",
       "14  CMV retinitis occurs in 20 to 30 percent of pa...   \n",
       "15  Patients with uveitis are at high risk for sig...   \n",
       "16  Sexually transmitted diseases are a major caus...   \n",
       "17  Acquired esotropia (crossed eyes that develop ...   \n",
       "18  Filtering surgery adequately lowers intraocula...   \n",
       "19  In the early 1960s, a group of clinicians asse...   \n",
       "\n",
       "                                          IE_criteria  \\\n",
       "0   diagnosed with Congenital Adrenal Hyperplasia ...   \n",
       "1                                                       \n",
       "2   Patients must have a diagnosis of cancer of an...   \n",
       "3                                                       \n",
       "4                 Resting blood pressure below 140/90   \n",
       "5   Postmenopausal and preferably on hormone repla...   \n",
       "6   Healthy volunteers (developmental phase)\\nHeal...   \n",
       "7   Lack sufficient attached keratinized tissue at...   \n",
       "8     Obesity: BM +/- 95% for age general good health   \n",
       "9                                                       \n",
       "10                                                      \n",
       "11                                                      \n",
       "12  Be between the ages of 18 and 56\\nRead newspap...   \n",
       "13                                                      \n",
       "14                                                      \n",
       "15                                                      \n",
       "16                                                      \n",
       "17                                                      \n",
       "18                                                      \n",
       "19                                                      \n",
       "\n",
       "                         Condition     Purpose  \\\n",
       "0   Congenital Adrenal Hyperplasia   Treatment   \n",
       "1                   Lead Poisoning               \n",
       "2                           Cancer               \n",
       "3               Rheumatic Diseases   Treatment   \n",
       "4        Heart Defects, Congenital               \n",
       "5          Cardiovascular Diseases  Prevention   \n",
       "6                          Obesity   Treatment   \n",
       "7                   Mouth Diseases   Treatment   \n",
       "8                          Obesity               \n",
       "9                           Myopia   Treatment   \n",
       "10            Retinitis Pigmentosa   Treatment   \n",
       "11          Macular Edema, Cystoid   Treatment   \n",
       "12            Retinitis Pigmentosa   Treatment   \n",
       "13                  Optic Neuritis   Treatment   \n",
       "14                  HIV Infections   Treatment   \n",
       "15                        Cataract   Treatment   \n",
       "16            Chlamydia Infections   Treatment   \n",
       "17                       Esotropia   Treatment   \n",
       "18                        Glaucoma   Treatment   \n",
       "19                     Astigmatism   Treatment   \n",
       "\n",
       "                                         Intervention  \n",
       "0                                          Nifedipine  \n",
       "1                ERP measures of attention and memory  \n",
       "2                                Intracel KLH Vaccine  \n",
       "3                        Whole body hyperthermia unit  \n",
       "4                                                      \n",
       "5                                            Exercise  \n",
       "6                     magnetic resonance spectroscopy  \n",
       "7                                  Oral mucosal graft  \n",
       "8                                                      \n",
       "9                         Progressive Addition Lenses  \n",
       "10                                          Vitamin E  \n",
       "11                                      Acetazolamide  \n",
       "12                                          Vitamin A  \n",
       "13                                     Immunoglobulin  \n",
       "14  Sustained-Release Intraocular Drug Delivery Sy...  \n",
       "15          Heparin Surface-Modified Intraocular Lens  \n",
       "16                              Erythromycin Ointment  \n",
       "17                               Prisms in Eyeglasses  \n",
       "18                                     5-Fluorouracil  \n",
       "19    Polymethyl Methacrylate-Silicone Contact Lenses  "
      ]
     },
     "execution_count": 165,
     "metadata": {},
     "output_type": "execute_result"
    }
   ],
   "source": [
    "df_trials.head(20)"
   ]
  },
  {
   "cell_type": "markdown",
   "metadata": {},
   "source": [
    "#### Export to tsv"
   ]
  },
  {
   "cell_type": "code",
   "execution_count": null,
   "metadata": {},
   "outputs": [],
   "source": [
    "df_trials.to_csv(os.path.join(path_to_data, '{}.tsv'.format(final_dataset_name)), sep = \"\\t\", index = False)"
   ]
  },
  {
   "cell_type": "markdown",
   "metadata": {},
   "source": [
    "#### Export to txt"
   ]
  },
  {
   "cell_type": "code",
   "execution_count": 13,
   "metadata": {},
   "outputs": [],
   "source": [
    "df_trials = pd.read_csv(os.path.join(path_to_data, '{}.tsv'.format(final_dataset_name)), sep = \"\\t\")\n",
    "df_trials = df_trials.fillna('')\n",
    "\n",
    "# replace linebreaks with comas\n",
    "df_trials.IE_criteria = df_trials.IE_criteria.apply(lambda t: re.sub('(\\n)+', ', ', t))\n",
    "\n",
    "# remove comas placed next to punctuation\n",
    "df_trials.IE_criteria = df_trials.IE_criteria.apply(lambda t: re.sub('(?P<name>[,;:.!?]),', '\\g<name>', t))"
   ]
  },
  {
   "cell_type": "code",
   "execution_count": 14,
   "metadata": {},
   "outputs": [],
   "source": [
    "texts = df_trials[['Summary', 'Description', 'IE_criteria']].apply(func = lambda row: ' '.join(row), axis = 1)\n",
    "texts = [re.sub('(\\s)+', ' ', t).strip() for t in texts]"
   ]
  },
  {
   "cell_type": "code",
   "execution_count": 15,
   "metadata": {},
   "outputs": [],
   "source": [
    "chars, counts = get_character_count(texts)"
   ]
  },
  {
   "cell_type": "code",
   "execution_count": 16,
   "metadata": {},
   "outputs": [
    {
     "data": {
      "text/plain": [
       "668"
      ]
     },
     "execution_count": 16,
     "metadata": {},
     "output_type": "execute_result"
    }
   ],
   "source": [
    "chars_to_hide = [char for char, count in zip(chars, counts) if count < 40]\n",
    "len(chars_to_hide)"
   ]
  },
  {
   "cell_type": "code",
   "execution_count": 17,
   "metadata": {},
   "outputs": [],
   "source": [
    "# We choose to hide all characters appearing less than 40 times\n",
    "texts = [re.sub('( )+', ' ', re.sub('[{}]'.format(''.join(chars_to_hide)), ' ', t)) for t in texts]"
   ]
  },
  {
   "cell_type": "code",
   "execution_count": 18,
   "metadata": {},
   "outputs": [
    {
     "data": {
      "text/plain": [
       "430108"
      ]
     },
     "execution_count": 18,
     "metadata": {},
     "output_type": "execute_result"
    }
   ],
   "source": [
    "len(texts)"
   ]
  },
  {
   "cell_type": "code",
   "execution_count": 19,
   "metadata": {},
   "outputs": [
    {
     "data": {
      "text/plain": [
       "\"The study is a prospective, adaptive, multicenter, randomized, double-blind, Sham-controlled pilot study, to evaluate the efficacy and safety of the Vibrant Capsule in relieving constipation in subjects with functional constipation. Three arms will be assessed: - Vibrant Capsule with vibrating mode 1 administered 5 times per week - Vibrant Capsule with vibrating mode 2 administered 5 times per week - Sham Capsule administered 5 times per week Subjects will be followed continuously for at least a 2 weeks run-in period and then be randomized to either Vibrant or Sham capsules for a treatment period of 8 weeks. The first 2 weeks of treatment will be considered as a subjects' training period. Data reporting will be done on an electronic Case Report Form and an eDiary. Subjects will be asked to refrain from taking any medication or supplement to relieve their constipation, during the entire study period. After the run-in period, the subjects will return and eligibility will be re-assessed. Subjects will be trained on how to use the base unit and will swallow the first capsule on site the day of baseline visit. They will activate and ingest the rest of the capsules at home by themselves, using the base unit. Subjects will be instructed to complete a simple subject eDiary each day throughout the duration of the study. A final visit will take place at the end of the 8 week treatment period. Subjects will receive phone calls at least once a week and subject compliance will be monitored during the 8 weeks of the study. Subjects aged 22 years and older, Subject signed the Informed Consent Form, Female subjects must have a negative pregnancy test, History of complicated/obstructive diverticular disease, History of intestinal or colonic obstruction, or suspected intestinal obstruction. History of gastroparesis, Use of any of the following medications: Presence of cardiac pacemaker or gastric electrical stimulator. Chronic use of non-steroidal anti-inflammatory drugs (NSAIDs), Subjects with pelvic floor dysfunction/defecatory disorder, Participation in another clinical study within one month prior to screening. Women who are pregnant or lactating\""
      ]
     },
     "execution_count": 19,
     "metadata": {},
     "output_type": "execute_result"
    }
   ],
   "source": [
    "texts[257836]"
   ]
  },
  {
   "cell_type": "code",
   "execution_count": 20,
   "metadata": {},
   "outputs": [],
   "source": [
    "# with open(os.path.join(path_to_data, '{}.txt'.format(final_dataset_name)), 'w', encoding = 'utf-8') as f:\n",
    "#     f.write('\\n'.join(texts))"
   ]
  },
  {
   "cell_type": "code",
   "execution_count": 7,
   "metadata": {},
   "outputs": [],
   "source": [
    "# with open(os.path.join(path_to_data, '{}.txt'.format(final_dataset_name)), 'r', encoding = 'utf-8') as f:\n",
    "#     texts = f.readlines()"
   ]
  },
  {
   "cell_type": "markdown",
   "metadata": {},
   "source": [
    "[Table of content](#TOC)"
   ]
  }
 ],
 "metadata": {
  "kernelspec": {
   "display_name": "Python 3 (ipykernel)",
   "language": "python",
   "name": "python3"
  },
  "language_info": {
   "codemirror_mode": {
    "name": "ipython",
    "version": 3
   },
   "file_extension": ".py",
   "mimetype": "text/x-python",
   "name": "python",
   "nbconvert_exporter": "python",
   "pygments_lexer": "ipython3",
   "version": "3.8.13"
  }
 },
 "nbformat": 4,
 "nbformat_minor": 2
}
