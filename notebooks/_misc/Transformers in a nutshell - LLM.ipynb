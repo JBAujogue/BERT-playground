{
 "cells": [
  {
   "cell_type": "markdown",
   "metadata": {
    "id": "X4cRE8IbIrIV"
   },
   "source": [
    "<div style=\"font-variant: small-caps; \n",
    "      font-weight: normal; \n",
    "      font-size: 35px; \n",
    "      text-align: center; \n",
    "      padding: 15px; \n",
    "      margin: 10px;\">\n",
    "      Transformers in a nutshell\n",
    "  </div> \n",
    "  \n",
    "<div style=\"\n",
    "      font-weight: normal; \n",
    "      font-size: 25px; \n",
    "      text-align: center; \n",
    "      padding: 15px; \n",
    "      margin: 10px;\">\n",
    "      Large Language Model\n",
    "  </div> \n",
    "\n",
    "\n",
    "  <div style=\"\n",
    "      font-size: 15px; \n",
    "      line-height: 12px; \n",
    "      text-align: center; \n",
    "      padding: 15px; \n",
    "      margin: 10px;\">\n",
    "  Jean-baptiste AUJOGUE\n",
    "  </div> \n",
    "\n",
    "\n",
    "  <div style=\" float:right; \n",
    "      font-size: 12px; \n",
    "      line-height: 12px; \n",
    "  padding: 10px 15px 8px;\">\n",
    " July 2023\n",
    "  </div>"
   ]
  },
  {
   "cell_type": "markdown",
   "metadata": {},
   "source": [
    "<a id=\"TOC\"></a>"
   ]
  },
  {
   "cell_type": "markdown",
   "metadata": {},
   "source": [
    "#### Table Of Content\n",
    "\n",
    "1. [Dataset](#data) <br>\n",
    "2. [Albert finetuning](#albert) <br>\n",
    "3. [Inference](#inference) <br>\n",
    "\n",
    "\n",
    "\n",
    "#### Reference\n",
    "\n",
    "- Hugginface full list of [tutorial notebooks](https://github.com/huggingface/transformers/tree/main/notebooks) (see also [here](https://huggingface.co/docs/transformers/main/notebooks#pytorch-examples))\n",
    "- Huggingface [tutorial notebook](https://github.com/huggingface/notebooks/blob/main/examples/token_classification.ipynb) on token classification\n",
    "- Huggingface [course](https://huggingface.co/course/chapter7/2?fw=tf) on token classification\n",
    "- Huggingface full list of [training scripts](https://github.com/huggingface/transformers/tree/main/examples/pytorch)\n",
    "- Huggingface [training script](https://github.com/huggingface/transformers/blob/main/examples/pytorch/token-classification/run_ner.py) on token classification\n",
    "- Huggingface & Pytorch 2.0 [post](https://www.philschmid.de/getting-started-pytorch-2-0-transformers)"
   ]
  },
  {
   "cell_type": "code",
   "execution_count": 1,
   "metadata": {},
   "outputs": [],
   "source": [
    "%load_ext autoreload\n",
    "%autoreload 2"
   ]
  },
  {
   "cell_type": "code",
   "execution_count": 2,
   "metadata": {},
   "outputs": [
    {
     "name": "stderr",
     "output_type": "stream",
     "text": [
      "C:\\Users\\jb\\miniconda3\\envs\\transformers_nlp\\lib\\site-packages\\tqdm\\auto.py:21: TqdmWarning: IProgress not found. Please update jupyter and ipywidgets. See https://ipywidgets.readthedocs.io/en/stable/user_install.html\n",
      "  from .autonotebook import tqdm as notebook_tqdm\n"
     ]
    }
   ],
   "source": [
    "import os\n",
    "import sys\n",
    "\n",
    "# DL\n",
    "import torch\n",
    "import transformers\n",
    "from transformers import BitsAndBytesConfig\n",
    "from transformers import AutoModelForCausalLM, AutoTokenizer, pipeline\n",
    "\n",
    "# viz\n",
    "from IPython.display import HTML"
   ]
  },
  {
   "cell_type": "markdown",
   "metadata": {},
   "source": [
    "#### Transformers settings"
   ]
  },
  {
   "cell_type": "code",
   "execution_count": 3,
   "metadata": {},
   "outputs": [
    {
     "data": {
      "text/plain": [
       "'4.30.2'"
      ]
     },
     "execution_count": 3,
     "metadata": {},
     "output_type": "execute_result"
    }
   ],
   "source": [
    "transformers.__version__"
   ]
  },
  {
   "cell_type": "code",
   "execution_count": 4,
   "metadata": {},
   "outputs": [
    {
     "data": {
      "text/plain": [
       "'cuda'"
      ]
     },
     "execution_count": 4,
     "metadata": {},
     "output_type": "execute_result"
    }
   ],
   "source": [
    "device = 'cuda' if torch.cuda.is_available() else 'cpu'\n",
    "device"
   ]
  },
  {
   "cell_type": "markdown",
   "metadata": {},
   "source": [
    "#### Custom paths & imports"
   ]
  },
  {
   "cell_type": "code",
   "execution_count": 5,
   "metadata": {},
   "outputs": [],
   "source": [
    "path_to_repo = os.path.dirname(os.getcwd())\n",
    "path_to_src  = os.path.join(path_to_repo, 'src')\n",
    "path_to_save_llm = os.path.join(path_to_repo, 'saves', 'LLM')"
   ]
  },
  {
   "cell_type": "code",
   "execution_count": 6,
   "metadata": {},
   "outputs": [],
   "source": [
    "sys.path.insert(0, path_to_src)"
   ]
  },
  {
   "cell_type": "markdown",
   "metadata": {},
   "source": [
    "#### Constants"
   ]
  },
  {
   "cell_type": "code",
   "execution_count": null,
   "metadata": {},
   "outputs": [],
   "source": [
    "hub_model_name = 'falcon'"
   ]
  },
  {
   "cell_type": "markdown",
   "metadata": {},
   "source": [
    "<a id=\"llm\"></a>"
   ]
  },
  {
   "cell_type": "markdown",
   "metadata": {
    "id": "n9qywopnIrJH"
   },
   "source": [
    "# 1.  Model with 4-bit Quantization\n",
    "\n",
    "[Table of content](#TOC)"
   ]
  },
  {
   "cell_type": "code",
   "execution_count": null,
   "metadata": {},
   "outputs": [],
   "source": []
  },
  {
   "cell_type": "code",
   "execution_count": 8,
   "metadata": {},
   "outputs": [],
   "source": [
    "quantization_config = BitsAndBytesConfig(\n",
    "    load_in_4bit = True,\n",
    "    bnb_4bit_compute_dtype = torch.float16,\n",
    "    bnb_4bit_quant_type = 'nf4',\n",
    "    bnb_4bit_use_double_quant = True,\n",
    ")"
   ]
  },
  {
   "cell_type": "code",
   "execution_count": null,
   "metadata": {},
   "outputs": [],
   "source": [
    "tokenizer = AutoTokenizer.from_pretrained(hub_model_name)"
   ]
  },
  {
   "cell_type": "code",
   "execution_count": null,
   "metadata": {},
   "outputs": [],
   "source": [
    "model = AutoModelForCausalLM.from_pretrained(\n",
    "    hub_model_name, \n",
    "    quantization_config = quantization_config,\n",
    "    trust_remote_code = True,\n",
    ")"
   ]
  },
  {
   "cell_type": "code",
   "execution_count": null,
   "metadata": {},
   "outputs": [],
   "source": []
  },
  {
   "cell_type": "code",
   "execution_count": null,
   "metadata": {},
   "outputs": [],
   "source": []
  },
  {
   "cell_type": "markdown",
   "metadata": {
    "id": "545PP3o8IrJV"
   },
   "source": [
    "## 2.1 BERT model for Token Classification\n",
    "\n",
    "[Table of content](#TOC)\n",
    "\n",
    "Downloaded checkpoints are by default stored in HF standard cache, which is in our case `C:\\Users\\me\\.cache\\huggingface\\hub`. This directory can be changed with the `cache_dir` parameter."
   ]
  },
  {
   "cell_type": "code",
   "execution_count": 33,
   "metadata": {},
   "outputs": [],
   "source": [
    "# make model creation & training deterministic\n",
    "set_seed(42)"
   ]
  },
  {
   "cell_type": "code",
   "execution_count": 34,
   "metadata": {},
   "outputs": [
    {
     "name": "stderr",
     "output_type": "stream",
     "text": [
      "Some weights of the model checkpoint at C:\\Users\\jb\\Desktop\\NLP\\perso - Transformers for NLP\\saves\\MLM\\albert\\model were not used when initializing AlbertForTokenClassification: ['predictions.decoder.bias', 'predictions.LayerNorm.bias', 'predictions.dense.weight', 'predictions.LayerNorm.weight', 'predictions.bias', 'predictions.dense.bias', 'predictions.decoder.weight']\n",
      "- This IS expected if you are initializing AlbertForTokenClassification from the checkpoint of a model trained on another task or with another architecture (e.g. initializing a BertForSequenceClassification model from a BertForPreTraining model).\n",
      "- This IS NOT expected if you are initializing AlbertForTokenClassification from the checkpoint of a model that you expect to be exactly identical (initializing a BertForSequenceClassification model from a BertForSequenceClassification model).\n",
      "Some weights of AlbertForTokenClassification were not initialized from the model checkpoint at C:\\Users\\jb\\Desktop\\NLP\\perso - Transformers for NLP\\saves\\MLM\\albert\\model and are newly initialized: ['classifier.weight', 'classifier.bias']\n",
      "You should probably TRAIN this model on a down-stream task to be able to use it for predictions and inference.\n"
     ]
    },
    {
     "name": "stdout",
     "output_type": "stream",
     "text": [
      "Model loaded from local checkpoint.\n"
     ]
    }
   ],
   "source": [
    "base_model_path = os.path.join(path_to_save_mlm, base_model_name, 'model')\n",
    "\n",
    "try:\n",
    "    model = AutoModelForTokenClassification.from_pretrained(base_model_path, label2id = label2id, id2label = id2label)\n",
    "    print('Model loaded from local checkpoint.')\n",
    "except:\n",
    "    model = AutoModelForMaskedLM.from_pretrained(hub_model_name)\n",
    "    model.save_pretrained(base_model_path)\n",
    "    model = AutoModelForTokenClassification.from_pretrained(base_model_path, label2id = label2id, id2label = id2label)\n",
    "    print('Model downloaded from Huggingface model hub.')"
   ]
  },
  {
   "cell_type": "code",
   "execution_count": 35,
   "metadata": {},
   "outputs": [
    {
     "data": {
      "text/plain": [
       "11109141"
      ]
     },
     "execution_count": 35,
     "metadata": {},
     "output_type": "execute_result"
    }
   ],
   "source": [
    "model.num_parameters()"
   ]
  },
  {
   "cell_type": "code",
   "execution_count": 37,
   "metadata": {},
   "outputs": [],
   "source": [
    "model = model.to(device)\n",
    "model = model.train()"
   ]
  },
  {
   "cell_type": "markdown",
   "metadata": {},
   "source": [
    "## 2.2 Evaluation metric\n",
    "\n",
    "[Table of content](#TOC)\n",
    "\n",
    "During finetuning of our model, we periodically compute performance metrics for the NER task. \n",
    "\n",
    "The _loss_ function used for the NER task is a [CrossEntropyLoss](https://pytorch.org/docs/stable/generated/torch.nn.CrossEntropyLoss.html?highlight=crossentropyloss#torch.nn.CrossEntropyLoss), and directly computed by the model (see [source](https://github.com/huggingface/transformers/blob/v4.27.2/src/transformers/models/albert/modeling_albert.py#L1092)) if the expected labels are passed to the model along inputs:"
   ]
  },
  {
   "cell_type": "code",
   "execution_count": 107,
   "metadata": {},
   "outputs": [],
   "source": [
    "inputs = tokenized_datasets['trn'][0]\n",
    "input_ids, labels = torch.LongTensor([inputs['input_ids']]), torch.LongTensor([inputs['labels']])"
   ]
  },
  {
   "cell_type": "code",
   "execution_count": 117,
   "metadata": {
    "scrolled": true
   },
   "outputs": [
    {
     "data": {
      "text/plain": [
       "3.257025957107544"
      ]
     },
     "execution_count": 117,
     "metadata": {},
     "output_type": "execute_result"
    }
   ],
   "source": [
    "model(input_ids, labels = labels).loss.item()"
   ]
  },
  {
   "cell_type": "markdown",
   "metadata": {},
   "source": [
    "Metrics other than the training loss are computed using the [seqeval](https://github.com/chakki-works/seqeval) utility package, whose behavior is briefly presented below."
   ]
  },
  {
   "cell_type": "code",
   "execution_count": 31,
   "metadata": {},
   "outputs": [],
   "source": [
    "metric = evaluate.load(\"seqeval\")"
   ]
  },
  {
   "cell_type": "markdown",
   "metadata": {},
   "source": [
    "Let's see how this metric works:"
   ]
  },
  {
   "cell_type": "code",
   "execution_count": 32,
   "metadata": {},
   "outputs": [
    {
     "name": "stdout",
     "output_type": "stream",
     "text": [
      "tokens : ['▁are', '▁pregnant', '▁or', '▁lac', 't', 'ating', '▁', '.']\n",
      "labels : ['O', 'B-Condition', 'O', 'B-Condition', 'I-Condition', 'I-Condition', 'O', 'O']\n",
      "prediction:  ['O', 'B-Condition', 'O', 'B-Condition', 'B-Condition', 'I-Condition', 'O', 'O']\n"
     ]
    },
    {
     "data": {
      "text/plain": [
       "{'Condition': {'precision': 0.3333333333333333,\n",
       "  'recall': 0.5,\n",
       "  'f1': 0.4,\n",
       "  'number': 2},\n",
       " 'overall_precision': 0.3333333333333333,\n",
       " 'overall_recall': 0.5,\n",
       " 'overall_f1': 0.4,\n",
       " 'overall_accuracy': 0.875}"
      ]
     },
     "execution_count": 32,
     "metadata": {},
     "output_type": "execute_result"
    }
   ],
   "source": [
    "tokens = tokenized_datasets['tst'][0]['tokens'][1:-1]\n",
    "labels = tokenized_datasets['tst'][0]['token_categories'][1:-1]\n",
    "\n",
    "predictions = labels.copy()\n",
    "predictions[4] = \"B-Condition\"\n",
    "# predictions[6] = \"I-Condition\"\n",
    "\n",
    "print('tokens :', tokens)\n",
    "print('labels :', labels)\n",
    "print('prediction: ', predictions)\n",
    "\n",
    "metric.compute(predictions = [predictions], references = [labels])"
   ]
  },
  {
   "cell_type": "markdown",
   "metadata": {},
   "source": [
    "The accuracy, precision, recall and f1 score is computed for each category (e.g. any term appearing after a prefix of the form 'B-', 'I-', 'E-', 'S-') encountered in the batch of items to evaluate, along with overall scores.\n",
    "\n",
    "This metric takes the lists of labels as strings, not integers, so in order to compute performance scores during finetuning, we will need to fully decode the predictions and labels before passing them to the metric. All is cast into the `compute_metrics_finegrained` function, which is passed in argument to the trainer."
   ]
  },
  {
   "cell_type": "markdown",
   "metadata": {},
   "source": [
    "## 2.3 Run finetuning on train-valid-test split\n",
    "\n",
    "[Table of content](#TOC)\n",
    "\n",
    "This finetuning step is meant to compute and log quality metrics as the finetuning goes. It is run on the train-valid-test split, and consequently the fintuning doesn't benefit from all the available data. To run finetuning on all data, jump to next section"
   ]
  },
  {
   "cell_type": "code",
   "execution_count": 38,
   "metadata": {},
   "outputs": [],
   "source": [
    "batch_size = 6"
   ]
  },
  {
   "cell_type": "code",
   "execution_count": 42,
   "metadata": {},
   "outputs": [],
   "source": [
    "args = TrainingArguments(\n",
    "    # training args\n",
    "    learning_rate = 2e-5,\n",
    "    weight_decay = 1e-4,\n",
    "    num_train_epochs = 4,\n",
    "    per_device_train_batch_size = batch_size,\n",
    "    per_device_eval_batch_size = batch_size,\n",
    "    bf16 = True,\n",
    "    torch_compile = False,\n",
    "    optim = \"adamw_torch_fused\",\n",
    "    # logging args\n",
    "    output_dir = os.path.join(path_to_save_ner, '_checkpoints'),\n",
    "    logging_dir = os.path.join(path_to_logs, final_model_name, run_name),\n",
    "    evaluation_strategy = 'steps',\n",
    "    save_strategy = 'no',\n",
    "    logging_steps = 500,\n",
    "    report_to = ['tensorboard'],\n",
    "    log_level = 'warning',\n",
    ")"
   ]
  },
  {
   "cell_type": "code",
   "execution_count": 43,
   "metadata": {},
   "outputs": [],
   "source": [
    "trainer = Trainer(\n",
    "    model,\n",
    "    args,\n",
    "    data_collator = DataCollatorForTokenClassification(tokenizer),\n",
    "    train_dataset = tokenized_datasets['trn'],\n",
    "    eval_dataset  = tokenized_datasets['dev'],\n",
    "    compute_metrics = lambda p: compute_metrics_finegrained(p, metric, class_labels.names),\n",
    ")"
   ]
  },
  {
   "cell_type": "markdown",
   "metadata": {},
   "source": [
    "Remarks:\n",
    "\n",
    "- The `data_collator` is the object used to batch and pad elements of the training & evaluation datasets.\n",
    "- The learning rate scheduler is `linear` by default, see also the Huggingface documentation on [schedulers](https://huggingface.co/docs/transformers/v4.27.1/en/main_classes/optimizer_schedules#transformers.SchedulerType).\n",
    "- Tensor precision is by default `float32`, but other precision are available when using recent GPUs or CPU, see Huggingface post on [floating data types](https://huggingface.co/docs/transformers/v4.15.0/performance#floating-data-types).\n",
    "\n",
    "\n",
    "-> _inner_training_loop\n",
    "    - training_step\n",
    "         loss = model(**inputs)['loss']\n",
    "         loss.backward()\n",
    "    - self.optimizer.step()\n",
    "    - self.lr_scheduler.step()\n",
    "    - model.zero_grad()"
   ]
  },
  {
   "cell_type": "code",
   "execution_count": 44,
   "metadata": {},
   "outputs": [
    {
     "name": "stderr",
     "output_type": "stream",
     "text": [
      "You're using a AlbertTokenizerFast tokenizer. Please note that with a fast tokenizer, using the `__call__` method is faster than using a method to encode the text followed by a call to the `pad` method to get a padded encoding.\n"
     ]
    },
    {
     "data": {
      "text/html": [
       "\n",
       "    <div>\n",
       "      \n",
       "      <progress value='6732' max='6732' style='width:300px; height:20px; vertical-align: middle;'></progress>\n",
       "      [6732/6732 08:30, Epoch 4/4]\n",
       "    </div>\n",
       "    <table border=\"1\" class=\"dataframe\">\n",
       "  <thead>\n",
       " <tr style=\"text-align: left;\">\n",
       "      <th>Step</th>\n",
       "      <th>Training Loss</th>\n",
       "      <th>Validation Loss</th>\n",
       "      <th>Precision</th>\n",
       "      <th>Recall</th>\n",
       "      <th>F1</th>\n",
       "      <th>Accuracy</th>\n",
       "      <th>Condition precision</th>\n",
       "      <th>Condition recall</th>\n",
       "      <th>Condition f1</th>\n",
       "      <th>Device precision</th>\n",
       "      <th>Device recall</th>\n",
       "      <th>Device f1</th>\n",
       "      <th>Drug precision</th>\n",
       "      <th>Drug recall</th>\n",
       "      <th>Drug f1</th>\n",
       "      <th>Measurement precision</th>\n",
       "      <th>Measurement recall</th>\n",
       "      <th>Measurement f1</th>\n",
       "      <th>Observation precision</th>\n",
       "      <th>Observation recall</th>\n",
       "      <th>Observation f1</th>\n",
       "      <th>Person precision</th>\n",
       "      <th>Person recall</th>\n",
       "      <th>Person f1</th>\n",
       "      <th>Procedure precision</th>\n",
       "      <th>Procedure recall</th>\n",
       "      <th>Procedure f1</th>\n",
       "      <th>Qualifier precision</th>\n",
       "      <th>Qualifier recall</th>\n",
       "      <th>Qualifier f1</th>\n",
       "      <th>Temporal precision</th>\n",
       "      <th>Temporal recall</th>\n",
       "      <th>Temporal f1</th>\n",
       "      <th>Value precision</th>\n",
       "      <th>Value recall</th>\n",
       "      <th>Value f1</th>\n",
       "    </tr>\n",
       "  </thead>\n",
       "  <tbody>\n",
       "    <tr>\n",
       "      <td>500</td>\n",
       "      <td>1.042400</td>\n",
       "      <td>0.828838</td>\n",
       "      <td>0.482200</td>\n",
       "      <td>0.526216</td>\n",
       "      <td>0.503247</td>\n",
       "      <td>0.767393</td>\n",
       "      <td>0.547292</td>\n",
       "      <td>0.724665</td>\n",
       "      <td>0.623612</td>\n",
       "      <td>0.000000</td>\n",
       "      <td>0.000000</td>\n",
       "      <td>0.000000</td>\n",
       "      <td>0.558081</td>\n",
       "      <td>0.677914</td>\n",
       "      <td>0.612188</td>\n",
       "      <td>0.530806</td>\n",
       "      <td>0.486957</td>\n",
       "      <td>0.507937</td>\n",
       "      <td>0.833333</td>\n",
       "      <td>0.039370</td>\n",
       "      <td>0.075188</td>\n",
       "      <td>0.911392</td>\n",
       "      <td>0.486486</td>\n",
       "      <td>0.634361</td>\n",
       "      <td>0.342803</td>\n",
       "      <td>0.615646</td>\n",
       "      <td>0.440389</td>\n",
       "      <td>0.319392</td>\n",
       "      <td>0.227642</td>\n",
       "      <td>0.265823</td>\n",
       "      <td>0.260223</td>\n",
       "      <td>0.255474</td>\n",
       "      <td>0.257827</td>\n",
       "      <td>0.515823</td>\n",
       "      <td>0.515823</td>\n",
       "      <td>0.515823</td>\n",
       "    </tr>\n",
       "    <tr>\n",
       "      <td>1000</td>\n",
       "      <td>0.743700</td>\n",
       "      <td>0.720225</td>\n",
       "      <td>0.558992</td>\n",
       "      <td>0.553696</td>\n",
       "      <td>0.556331</td>\n",
       "      <td>0.785523</td>\n",
       "      <td>0.630952</td>\n",
       "      <td>0.709369</td>\n",
       "      <td>0.667867</td>\n",
       "      <td>0.071429</td>\n",
       "      <td>0.083333</td>\n",
       "      <td>0.076923</td>\n",
       "      <td>0.638655</td>\n",
       "      <td>0.699387</td>\n",
       "      <td>0.667643</td>\n",
       "      <td>0.568889</td>\n",
       "      <td>0.556522</td>\n",
       "      <td>0.562637</td>\n",
       "      <td>0.500000</td>\n",
       "      <td>0.031496</td>\n",
       "      <td>0.059259</td>\n",
       "      <td>0.730496</td>\n",
       "      <td>0.695946</td>\n",
       "      <td>0.712803</td>\n",
       "      <td>0.431319</td>\n",
       "      <td>0.534014</td>\n",
       "      <td>0.477204</td>\n",
       "      <td>0.390805</td>\n",
       "      <td>0.276423</td>\n",
       "      <td>0.323810</td>\n",
       "      <td>0.307692</td>\n",
       "      <td>0.277372</td>\n",
       "      <td>0.291747</td>\n",
       "      <td>0.666667</td>\n",
       "      <td>0.664557</td>\n",
       "      <td>0.665610</td>\n",
       "    </tr>\n",
       "    <tr>\n",
       "      <td>1500</td>\n",
       "      <td>0.679500</td>\n",
       "      <td>0.683127</td>\n",
       "      <td>0.535560</td>\n",
       "      <td>0.627922</td>\n",
       "      <td>0.578075</td>\n",
       "      <td>0.792519</td>\n",
       "      <td>0.609968</td>\n",
       "      <td>0.737094</td>\n",
       "      <td>0.667532</td>\n",
       "      <td>0.062500</td>\n",
       "      <td>0.027778</td>\n",
       "      <td>0.038462</td>\n",
       "      <td>0.592771</td>\n",
       "      <td>0.754601</td>\n",
       "      <td>0.663968</td>\n",
       "      <td>0.516667</td>\n",
       "      <td>0.673913</td>\n",
       "      <td>0.584906</td>\n",
       "      <td>0.347826</td>\n",
       "      <td>0.062992</td>\n",
       "      <td>0.106667</td>\n",
       "      <td>0.785714</td>\n",
       "      <td>0.743243</td>\n",
       "      <td>0.763889</td>\n",
       "      <td>0.507289</td>\n",
       "      <td>0.591837</td>\n",
       "      <td>0.546311</td>\n",
       "      <td>0.328244</td>\n",
       "      <td>0.466125</td>\n",
       "      <td>0.385218</td>\n",
       "      <td>0.387500</td>\n",
       "      <td>0.452555</td>\n",
       "      <td>0.417508</td>\n",
       "      <td>0.618529</td>\n",
       "      <td>0.718354</td>\n",
       "      <td>0.664714</td>\n",
       "    </tr>\n",
       "    <tr>\n",
       "      <td>2000</td>\n",
       "      <td>0.622700</td>\n",
       "      <td>0.671939</td>\n",
       "      <td>0.553627</td>\n",
       "      <td>0.614656</td>\n",
       "      <td>0.582548</td>\n",
       "      <td>0.800748</td>\n",
       "      <td>0.575545</td>\n",
       "      <td>0.782983</td>\n",
       "      <td>0.663426</td>\n",
       "      <td>0.230769</td>\n",
       "      <td>0.250000</td>\n",
       "      <td>0.240000</td>\n",
       "      <td>0.604878</td>\n",
       "      <td>0.760736</td>\n",
       "      <td>0.673913</td>\n",
       "      <td>0.603448</td>\n",
       "      <td>0.608696</td>\n",
       "      <td>0.606061</td>\n",
       "      <td>0.458333</td>\n",
       "      <td>0.086614</td>\n",
       "      <td>0.145695</td>\n",
       "      <td>0.718750</td>\n",
       "      <td>0.777027</td>\n",
       "      <td>0.746753</td>\n",
       "      <td>0.487730</td>\n",
       "      <td>0.540816</td>\n",
       "      <td>0.512903</td>\n",
       "      <td>0.356401</td>\n",
       "      <td>0.279133</td>\n",
       "      <td>0.313070</td>\n",
       "      <td>0.435252</td>\n",
       "      <td>0.441606</td>\n",
       "      <td>0.438406</td>\n",
       "      <td>0.661677</td>\n",
       "      <td>0.699367</td>\n",
       "      <td>0.680000</td>\n",
       "    </tr>\n",
       "    <tr>\n",
       "      <td>2500</td>\n",
       "      <td>0.558300</td>\n",
       "      <td>0.631771</td>\n",
       "      <td>0.559226</td>\n",
       "      <td>0.620341</td>\n",
       "      <td>0.588200</td>\n",
       "      <td>0.796788</td>\n",
       "      <td>0.618789</td>\n",
       "      <td>0.761950</td>\n",
       "      <td>0.682948</td>\n",
       "      <td>0.282609</td>\n",
       "      <td>0.361111</td>\n",
       "      <td>0.317073</td>\n",
       "      <td>0.605042</td>\n",
       "      <td>0.662577</td>\n",
       "      <td>0.632504</td>\n",
       "      <td>0.584000</td>\n",
       "      <td>0.634783</td>\n",
       "      <td>0.608333</td>\n",
       "      <td>0.294118</td>\n",
       "      <td>0.039370</td>\n",
       "      <td>0.069444</td>\n",
       "      <td>0.755102</td>\n",
       "      <td>0.750000</td>\n",
       "      <td>0.752542</td>\n",
       "      <td>0.465608</td>\n",
       "      <td>0.598639</td>\n",
       "      <td>0.523810</td>\n",
       "      <td>0.368700</td>\n",
       "      <td>0.376694</td>\n",
       "      <td>0.372654</td>\n",
       "      <td>0.434211</td>\n",
       "      <td>0.481752</td>\n",
       "      <td>0.456747</td>\n",
       "      <td>0.658046</td>\n",
       "      <td>0.724684</td>\n",
       "      <td>0.689759</td>\n",
       "    </tr>\n",
       "    <tr>\n",
       "      <td>3000</td>\n",
       "      <td>0.571900</td>\n",
       "      <td>0.625501</td>\n",
       "      <td>0.568016</td>\n",
       "      <td>0.638345</td>\n",
       "      <td>0.601130</td>\n",
       "      <td>0.803960</td>\n",
       "      <td>0.679034</td>\n",
       "      <td>0.752390</td>\n",
       "      <td>0.713832</td>\n",
       "      <td>0.333333</td>\n",
       "      <td>0.388889</td>\n",
       "      <td>0.358974</td>\n",
       "      <td>0.663818</td>\n",
       "      <td>0.714724</td>\n",
       "      <td>0.688331</td>\n",
       "      <td>0.592308</td>\n",
       "      <td>0.669565</td>\n",
       "      <td>0.628571</td>\n",
       "      <td>0.250000</td>\n",
       "      <td>0.062992</td>\n",
       "      <td>0.100629</td>\n",
       "      <td>0.741722</td>\n",
       "      <td>0.756757</td>\n",
       "      <td>0.749164</td>\n",
       "      <td>0.447689</td>\n",
       "      <td>0.625850</td>\n",
       "      <td>0.521986</td>\n",
       "      <td>0.348387</td>\n",
       "      <td>0.439024</td>\n",
       "      <td>0.388489</td>\n",
       "      <td>0.449848</td>\n",
       "      <td>0.540146</td>\n",
       "      <td>0.490879</td>\n",
       "      <td>0.611732</td>\n",
       "      <td>0.693038</td>\n",
       "      <td>0.649852</td>\n",
       "    </tr>\n",
       "    <tr>\n",
       "      <td>3500</td>\n",
       "      <td>0.520300</td>\n",
       "      <td>0.654235</td>\n",
       "      <td>0.555556</td>\n",
       "      <td>0.649084</td>\n",
       "      <td>0.598689</td>\n",
       "      <td>0.799560</td>\n",
       "      <td>0.613166</td>\n",
       "      <td>0.792543</td>\n",
       "      <td>0.691410</td>\n",
       "      <td>0.388889</td>\n",
       "      <td>0.388889</td>\n",
       "      <td>0.388889</td>\n",
       "      <td>0.678571</td>\n",
       "      <td>0.757669</td>\n",
       "      <td>0.715942</td>\n",
       "      <td>0.537367</td>\n",
       "      <td>0.656522</td>\n",
       "      <td>0.590998</td>\n",
       "      <td>0.297872</td>\n",
       "      <td>0.110236</td>\n",
       "      <td>0.160920</td>\n",
       "      <td>0.763158</td>\n",
       "      <td>0.783784</td>\n",
       "      <td>0.773333</td>\n",
       "      <td>0.489971</td>\n",
       "      <td>0.581633</td>\n",
       "      <td>0.531882</td>\n",
       "      <td>0.319290</td>\n",
       "      <td>0.390244</td>\n",
       "      <td>0.351220</td>\n",
       "      <td>0.464968</td>\n",
       "      <td>0.532847</td>\n",
       "      <td>0.496599</td>\n",
       "      <td>0.631728</td>\n",
       "      <td>0.705696</td>\n",
       "      <td>0.666667</td>\n",
       "    </tr>\n",
       "    <tr>\n",
       "      <td>4000</td>\n",
       "      <td>0.447600</td>\n",
       "      <td>0.600694</td>\n",
       "      <td>0.583264</td>\n",
       "      <td>0.662666</td>\n",
       "      <td>0.620435</td>\n",
       "      <td>0.815314</td>\n",
       "      <td>0.657051</td>\n",
       "      <td>0.783939</td>\n",
       "      <td>0.714908</td>\n",
       "      <td>0.340909</td>\n",
       "      <td>0.416667</td>\n",
       "      <td>0.375000</td>\n",
       "      <td>0.663158</td>\n",
       "      <td>0.773006</td>\n",
       "      <td>0.713881</td>\n",
       "      <td>0.564885</td>\n",
       "      <td>0.643478</td>\n",
       "      <td>0.601626</td>\n",
       "      <td>0.243243</td>\n",
       "      <td>0.070866</td>\n",
       "      <td>0.109756</td>\n",
       "      <td>0.801471</td>\n",
       "      <td>0.736486</td>\n",
       "      <td>0.767606</td>\n",
       "      <td>0.493573</td>\n",
       "      <td>0.653061</td>\n",
       "      <td>0.562225</td>\n",
       "      <td>0.385542</td>\n",
       "      <td>0.433604</td>\n",
       "      <td>0.408163</td>\n",
       "      <td>0.480114</td>\n",
       "      <td>0.616788</td>\n",
       "      <td>0.539936</td>\n",
       "      <td>0.670659</td>\n",
       "      <td>0.708861</td>\n",
       "      <td>0.689231</td>\n",
       "    </tr>\n",
       "    <tr>\n",
       "      <td>4500</td>\n",
       "      <td>0.443900</td>\n",
       "      <td>0.624476</td>\n",
       "      <td>0.579545</td>\n",
       "      <td>0.676563</td>\n",
       "      <td>0.624308</td>\n",
       "      <td>0.811925</td>\n",
       "      <td>0.676710</td>\n",
       "      <td>0.794455</td>\n",
       "      <td>0.730871</td>\n",
       "      <td>0.300000</td>\n",
       "      <td>0.416667</td>\n",
       "      <td>0.348837</td>\n",
       "      <td>0.596330</td>\n",
       "      <td>0.797546</td>\n",
       "      <td>0.682415</td>\n",
       "      <td>0.635193</td>\n",
       "      <td>0.643478</td>\n",
       "      <td>0.639309</td>\n",
       "      <td>0.271605</td>\n",
       "      <td>0.173228</td>\n",
       "      <td>0.211538</td>\n",
       "      <td>0.761006</td>\n",
       "      <td>0.817568</td>\n",
       "      <td>0.788274</td>\n",
       "      <td>0.477401</td>\n",
       "      <td>0.574830</td>\n",
       "      <td>0.521605</td>\n",
       "      <td>0.363436</td>\n",
       "      <td>0.447154</td>\n",
       "      <td>0.400972</td>\n",
       "      <td>0.482940</td>\n",
       "      <td>0.671533</td>\n",
       "      <td>0.561832</td>\n",
       "      <td>0.709375</td>\n",
       "      <td>0.718354</td>\n",
       "      <td>0.713836</td>\n",
       "    </tr>\n",
       "    <tr>\n",
       "      <td>5000</td>\n",
       "      <td>0.436300</td>\n",
       "      <td>0.604508</td>\n",
       "      <td>0.571072</td>\n",
       "      <td>0.650979</td>\n",
       "      <td>0.608413</td>\n",
       "      <td>0.812673</td>\n",
       "      <td>0.667502</td>\n",
       "      <td>0.763862</td>\n",
       "      <td>0.712439</td>\n",
       "      <td>0.377778</td>\n",
       "      <td>0.472222</td>\n",
       "      <td>0.419753</td>\n",
       "      <td>0.644836</td>\n",
       "      <td>0.785276</td>\n",
       "      <td>0.708160</td>\n",
       "      <td>0.590551</td>\n",
       "      <td>0.652174</td>\n",
       "      <td>0.619835</td>\n",
       "      <td>0.202532</td>\n",
       "      <td>0.125984</td>\n",
       "      <td>0.155340</td>\n",
       "      <td>0.775510</td>\n",
       "      <td>0.770270</td>\n",
       "      <td>0.772881</td>\n",
       "      <td>0.454039</td>\n",
       "      <td>0.554422</td>\n",
       "      <td>0.499234</td>\n",
       "      <td>0.354839</td>\n",
       "      <td>0.447154</td>\n",
       "      <td>0.395683</td>\n",
       "      <td>0.462963</td>\n",
       "      <td>0.547445</td>\n",
       "      <td>0.501672</td>\n",
       "      <td>0.675439</td>\n",
       "      <td>0.731013</td>\n",
       "      <td>0.702128</td>\n",
       "    </tr>\n",
       "    <tr>\n",
       "      <td>5500</td>\n",
       "      <td>0.375600</td>\n",
       "      <td>0.619322</td>\n",
       "      <td>0.584853</td>\n",
       "      <td>0.658560</td>\n",
       "      <td>0.619522</td>\n",
       "      <td>0.809373</td>\n",
       "      <td>0.678961</td>\n",
       "      <td>0.774379</td>\n",
       "      <td>0.723537</td>\n",
       "      <td>0.394737</td>\n",
       "      <td>0.416667</td>\n",
       "      <td>0.405405</td>\n",
       "      <td>0.677871</td>\n",
       "      <td>0.742331</td>\n",
       "      <td>0.708638</td>\n",
       "      <td>0.583969</td>\n",
       "      <td>0.665217</td>\n",
       "      <td>0.621951</td>\n",
       "      <td>0.205357</td>\n",
       "      <td>0.181102</td>\n",
       "      <td>0.192469</td>\n",
       "      <td>0.786667</td>\n",
       "      <td>0.797297</td>\n",
       "      <td>0.791946</td>\n",
       "      <td>0.501348</td>\n",
       "      <td>0.632653</td>\n",
       "      <td>0.559398</td>\n",
       "      <td>0.369515</td>\n",
       "      <td>0.433604</td>\n",
       "      <td>0.399002</td>\n",
       "      <td>0.463492</td>\n",
       "      <td>0.532847</td>\n",
       "      <td>0.495756</td>\n",
       "      <td>0.694611</td>\n",
       "      <td>0.734177</td>\n",
       "      <td>0.713846</td>\n",
       "    </tr>\n",
       "    <tr>\n",
       "      <td>6000</td>\n",
       "      <td>0.341800</td>\n",
       "      <td>0.622235</td>\n",
       "      <td>0.582578</td>\n",
       "      <td>0.669615</td>\n",
       "      <td>0.623071</td>\n",
       "      <td>0.813069</td>\n",
       "      <td>0.660241</td>\n",
       "      <td>0.785851</td>\n",
       "      <td>0.717591</td>\n",
       "      <td>0.333333</td>\n",
       "      <td>0.444444</td>\n",
       "      <td>0.380952</td>\n",
       "      <td>0.673797</td>\n",
       "      <td>0.773006</td>\n",
       "      <td>0.720000</td>\n",
       "      <td>0.626506</td>\n",
       "      <td>0.678261</td>\n",
       "      <td>0.651357</td>\n",
       "      <td>0.246575</td>\n",
       "      <td>0.141732</td>\n",
       "      <td>0.180000</td>\n",
       "      <td>0.745562</td>\n",
       "      <td>0.851351</td>\n",
       "      <td>0.794953</td>\n",
       "      <td>0.473118</td>\n",
       "      <td>0.598639</td>\n",
       "      <td>0.528529</td>\n",
       "      <td>0.366972</td>\n",
       "      <td>0.433604</td>\n",
       "      <td>0.397516</td>\n",
       "      <td>0.461756</td>\n",
       "      <td>0.594891</td>\n",
       "      <td>0.519936</td>\n",
       "      <td>0.721875</td>\n",
       "      <td>0.731013</td>\n",
       "      <td>0.726415</td>\n",
       "    </tr>\n",
       "    <tr>\n",
       "      <td>6500</td>\n",
       "      <td>0.320300</td>\n",
       "      <td>0.624269</td>\n",
       "      <td>0.592131</td>\n",
       "      <td>0.660771</td>\n",
       "      <td>0.624571</td>\n",
       "      <td>0.813157</td>\n",
       "      <td>0.667758</td>\n",
       "      <td>0.780115</td>\n",
       "      <td>0.719577</td>\n",
       "      <td>0.357143</td>\n",
       "      <td>0.416667</td>\n",
       "      <td>0.384615</td>\n",
       "      <td>0.684507</td>\n",
       "      <td>0.745399</td>\n",
       "      <td>0.713656</td>\n",
       "      <td>0.622490</td>\n",
       "      <td>0.673913</td>\n",
       "      <td>0.647182</td>\n",
       "      <td>0.273973</td>\n",
       "      <td>0.157480</td>\n",
       "      <td>0.200000</td>\n",
       "      <td>0.743902</td>\n",
       "      <td>0.824324</td>\n",
       "      <td>0.782051</td>\n",
       "      <td>0.509859</td>\n",
       "      <td>0.615646</td>\n",
       "      <td>0.557781</td>\n",
       "      <td>0.365967</td>\n",
       "      <td>0.425474</td>\n",
       "      <td>0.393484</td>\n",
       "      <td>0.480769</td>\n",
       "      <td>0.547445</td>\n",
       "      <td>0.511945</td>\n",
       "      <td>0.701807</td>\n",
       "      <td>0.737342</td>\n",
       "      <td>0.719136</td>\n",
       "    </tr>\n",
       "  </tbody>\n",
       "</table><p>"
      ],
      "text/plain": [
       "<IPython.core.display.HTML object>"
      ]
     },
     "metadata": {},
     "output_type": "display_data"
    },
    {
     "data": {
      "text/plain": [
       "TrainOutput(global_step=6732, training_loss=0.5380558233776761, metrics={'train_runtime': 512.1331, 'train_samples_per_second': 78.847, 'train_steps_per_second': 13.145, 'total_flos': 93310281261864.0, 'train_loss': 0.5380558233776761, 'epoch': 4.0})"
      ]
     },
     "execution_count": 44,
     "metadata": {},
     "output_type": "execute_result"
    }
   ],
   "source": [
    "trainer.train()"
   ]
  },
  {
   "cell_type": "code",
   "execution_count": 45,
   "metadata": {},
   "outputs": [
    {
     "data": {
      "text/html": [
       "\n",
       "    <div>\n",
       "      \n",
       "      <progress value='221' max='221' style='width:300px; height:20px; vertical-align: middle;'></progress>\n",
       "      [221/221 00:04]\n",
       "    </div>\n",
       "    "
      ],
      "text/plain": [
       "<IPython.core.display.HTML object>"
      ]
     },
     "metadata": {},
     "output_type": "display_data"
    }
   ],
   "source": [
    "test_results = trainer.evaluate(eval_dataset = tokenized_datasets['tst'], metric_key_prefix = 'test')"
   ]
  },
  {
   "cell_type": "code",
   "execution_count": 46,
   "metadata": {
    "scrolled": true
   },
   "outputs": [
    {
     "name": "stdout",
     "output_type": "stream",
     "text": [
      "test_loss --------------------- 62.725490\n",
      "test_precision ---------------- 60.949612\n",
      "test_recall ------------------- 65.299766\n",
      "test_f1 ----------------------- 63.049743\n",
      "test_accuracy ----------------- 82.283105\n",
      "test_Condition precision ------ 69.387755\n",
      "test_Condition recall --------- 76.527331\n",
      "test_Condition f1 ------------- 72.782875\n",
      "test_Device precision --------- 42.222222\n",
      "test_Device recall ------------ 52.777778\n",
      "test_Device f1 ---------------- 46.913580\n",
      "test_Drug precision ----------- 70.637119\n",
      "test_Drug recall -------------- 73.275862\n",
      "test_Drug f1 ------------------ 71.932299\n",
      "test_Measurement precision ---- 58.997050\n",
      "test_Measurement recall ------- 64.308682\n",
      "test_Measurement f1 ----------- 61.538462\n",
      "test_Observation precision ---- 23.684211\n",
      "test_Observation recall ------- 17.647059\n",
      "test_Observation f1 ----------- 20.224719\n",
      "test_Person precision --------- 84.768212\n",
      "test_Person recall ------------ 80.503145\n",
      "test_Person f1 ---------------- 82.580645\n",
      "test_Procedure precision ------ 52.272727\n",
      "test_Procedure recall --------- 57.182320\n",
      "test_Procedure f1 ------------- 54.617414\n",
      "test_Qualifier precision ------ 40.307102\n",
      "test_Qualifier recall --------- 43.841336\n",
      "test_Qualifier f1 ------------- 42.000000\n",
      "test_Temporal precision ------- 53.302961\n",
      "test_Temporal recall ---------- 57.920792\n",
      "test_Temporal f1 -------------- 55.516014\n",
      "test_Value precision ---------- 68.457944\n",
      "test_Value recall ------------- 71.813725\n",
      "test_Value f1 ----------------- 70.095694\n",
      "test_runtime ------------------ 487.380000\n",
      "test_samples_per_second ------- 27165.400000\n",
      "test_steps_per_second --------- 4534.400000\n",
      "epoch ------------------------- 400.000000\n"
     ]
    }
   ],
   "source": [
    "for k, v in test_results.items():\n",
    "    print(str(k) + ' ' + '-'*(30 - len(k)) + ' {:2f}'.format(100*v))"
   ]
  },
  {
   "cell_type": "code",
   "execution_count": 47,
   "metadata": {},
   "outputs": [],
   "source": [
    "del model\n",
    "\n",
    "torch.cuda.empty_cache()"
   ]
  },
  {
   "cell_type": "markdown",
   "metadata": {},
   "source": [
    "## 2.4 Run finetuning on all data\n",
    "\n",
    "[Table of content](#TOC)"
   ]
  },
  {
   "cell_type": "code",
   "execution_count": 48,
   "metadata": {},
   "outputs": [],
   "source": [
    "# make model creation & training deterministic\n",
    "set_seed(42)"
   ]
  },
  {
   "cell_type": "code",
   "execution_count": 49,
   "metadata": {},
   "outputs": [
    {
     "name": "stderr",
     "output_type": "stream",
     "text": [
      "Some weights of the model checkpoint at C:\\Users\\jb\\Desktop\\NLP\\perso - Transformers for NLP\\saves\\MLM\\albert\\model were not used when initializing AlbertForTokenClassification: ['predictions.decoder.weight', 'predictions.LayerNorm.bias', 'predictions.dense.weight', 'predictions.decoder.bias', 'predictions.bias', 'predictions.dense.bias', 'predictions.LayerNorm.weight']\n",
      "- This IS expected if you are initializing AlbertForTokenClassification from the checkpoint of a model trained on another task or with another architecture (e.g. initializing a BertForSequenceClassification model from a BertForPreTraining model).\n",
      "- This IS NOT expected if you are initializing AlbertForTokenClassification from the checkpoint of a model that you expect to be exactly identical (initializing a BertForSequenceClassification model from a BertForSequenceClassification model).\n",
      "Some weights of AlbertForTokenClassification were not initialized from the model checkpoint at C:\\Users\\jb\\Desktop\\NLP\\perso - Transformers for NLP\\saves\\MLM\\albert\\model and are newly initialized: ['classifier.weight', 'classifier.bias']\n",
      "You should probably TRAIN this model on a down-stream task to be able to use it for predictions and inference.\n"
     ]
    }
   ],
   "source": [
    "base_model_path = os.path.join(path_to_save_mlm, base_model_name, 'model')\n",
    "\n",
    "model = AutoModelForTokenClassification.from_pretrained(base_model_path, label2id = label2id, id2label = id2label)"
   ]
  },
  {
   "cell_type": "code",
   "execution_count": 50,
   "metadata": {},
   "outputs": [],
   "source": [
    "model = model.to(device)\n",
    "model = model.train()"
   ]
  },
  {
   "cell_type": "code",
   "execution_count": 51,
   "metadata": {},
   "outputs": [],
   "source": [
    "batch_size = 6"
   ]
  },
  {
   "cell_type": "code",
   "execution_count": 52,
   "metadata": {},
   "outputs": [],
   "source": [
    "args = TrainingArguments(\n",
    "    # training args\n",
    "    learning_rate = 2e-5,\n",
    "    weight_decay = 1e-4,\n",
    "    num_train_epochs = 4,\n",
    "    per_device_train_batch_size = batch_size,\n",
    "    per_device_eval_batch_size = batch_size,\n",
    "    bf16 = True,\n",
    "    torch_compile = False,\n",
    "    optim = \"adamw_torch_fused\",\n",
    "    # logging args\n",
    "    output_dir = os.path.join(path_to_save_ner, '_checkpoints'),\n",
    "    evaluation_strategy = 'no',\n",
    "    save_strategy = 'no',\n",
    ")"
   ]
  },
  {
   "cell_type": "code",
   "execution_count": 53,
   "metadata": {},
   "outputs": [],
   "source": [
    "metric = evaluate.load(\"seqeval\")"
   ]
  },
  {
   "cell_type": "code",
   "execution_count": 54,
   "metadata": {},
   "outputs": [],
   "source": [
    "trainer = Trainer(\n",
    "    model,\n",
    "    args,\n",
    "    data_collator = DataCollatorForTokenClassification(tokenizer),\n",
    "    train_dataset = tokenized_datasets['all'],\n",
    ")"
   ]
  },
  {
   "cell_type": "code",
   "execution_count": 55,
   "metadata": {
    "scrolled": true
   },
   "outputs": [
    {
     "data": {
      "text/html": [
       "\n",
       "    <div>\n",
       "      \n",
       "      <progress value='8424' max='8424' style='width:300px; height:20px; vertical-align: middle;'></progress>\n",
       "      [8424/8424 09:19, Epoch 4/4]\n",
       "    </div>\n",
       "    <table border=\"1\" class=\"dataframe\">\n",
       "  <thead>\n",
       " <tr style=\"text-align: left;\">\n",
       "      <th>Step</th>\n",
       "      <th>Training Loss</th>\n",
       "    </tr>\n",
       "  </thead>\n",
       "  <tbody>\n",
       "    <tr>\n",
       "      <td>500</td>\n",
       "      <td>1.037500</td>\n",
       "    </tr>\n",
       "    <tr>\n",
       "      <td>1000</td>\n",
       "      <td>0.748900</td>\n",
       "    </tr>\n",
       "    <tr>\n",
       "      <td>1500</td>\n",
       "      <td>0.677200</td>\n",
       "    </tr>\n",
       "    <tr>\n",
       "      <td>2000</td>\n",
       "      <td>0.676600</td>\n",
       "    </tr>\n",
       "    <tr>\n",
       "      <td>2500</td>\n",
       "      <td>0.609400</td>\n",
       "    </tr>\n",
       "    <tr>\n",
       "      <td>3000</td>\n",
       "      <td>0.540400</td>\n",
       "    </tr>\n",
       "    <tr>\n",
       "      <td>3500</td>\n",
       "      <td>0.520700</td>\n",
       "    </tr>\n",
       "    <tr>\n",
       "      <td>4000</td>\n",
       "      <td>0.533400</td>\n",
       "    </tr>\n",
       "    <tr>\n",
       "      <td>4500</td>\n",
       "      <td>0.477900</td>\n",
       "    </tr>\n",
       "    <tr>\n",
       "      <td>5000</td>\n",
       "      <td>0.441100</td>\n",
       "    </tr>\n",
       "    <tr>\n",
       "      <td>5500</td>\n",
       "      <td>0.424200</td>\n",
       "    </tr>\n",
       "    <tr>\n",
       "      <td>6000</td>\n",
       "      <td>0.426900</td>\n",
       "    </tr>\n",
       "    <tr>\n",
       "      <td>6500</td>\n",
       "      <td>0.404200</td>\n",
       "    </tr>\n",
       "    <tr>\n",
       "      <td>7000</td>\n",
       "      <td>0.349700</td>\n",
       "    </tr>\n",
       "    <tr>\n",
       "      <td>7500</td>\n",
       "      <td>0.317000</td>\n",
       "    </tr>\n",
       "    <tr>\n",
       "      <td>8000</td>\n",
       "      <td>0.328900</td>\n",
       "    </tr>\n",
       "  </tbody>\n",
       "</table><p>"
      ],
      "text/plain": [
       "<IPython.core.display.HTML object>"
      ]
     },
     "metadata": {},
     "output_type": "display_data"
    },
    {
     "data": {
      "text/plain": [
       "TrainOutput(global_step=8424, training_loss=0.5213984827257176, metrics={'train_runtime': 559.7286, 'train_samples_per_second': 90.279, 'train_steps_per_second': 15.05, 'total_flos': 115325300542644.0, 'train_loss': 0.5213984827257176, 'epoch': 4.0})"
      ]
     },
     "execution_count": 55,
     "metadata": {},
     "output_type": "execute_result"
    }
   ],
   "source": [
    "trainer.train()"
   ]
  },
  {
   "cell_type": "code",
   "execution_count": 56,
   "metadata": {},
   "outputs": [],
   "source": [
    "model = model.to('cpu')"
   ]
  },
  {
   "cell_type": "code",
   "execution_count": 57,
   "metadata": {},
   "outputs": [],
   "source": [
    "tokenizer.save_pretrained(os.path.join(path_to_save_ner, final_model_name, run_name, 'tokenizer'))\n",
    "model.save_pretrained(os.path.join(path_to_save_ner, final_model_name, run_name, 'model'))"
   ]
  },
  {
   "cell_type": "markdown",
   "metadata": {},
   "source": [
    "<a id=\"inference\"></a>"
   ]
  },
  {
   "cell_type": "markdown",
   "metadata": {},
   "source": [
    "# 3. Inference\n",
    "\n",
    "[Table of content](#TOC)"
   ]
  },
  {
   "cell_type": "code",
   "execution_count": 58,
   "metadata": {
    "scrolled": true
   },
   "outputs": [],
   "source": [
    "tokenizer = AutoTokenizer.from_pretrained(os.path.join(path_to_save_ner, final_model_name, run_name, 'tokenizer'))\n",
    "model = AutoModelForTokenClassification.from_pretrained(os.path.join(path_to_save_ner, final_model_name, run_name, 'model'))"
   ]
  },
  {
   "cell_type": "code",
   "execution_count": 59,
   "metadata": {},
   "outputs": [],
   "source": [
    "ner = pipeline(\n",
    "    task = 'ner', \n",
    "    model = model, \n",
    "    tokenizer = tokenizer,\n",
    "    framework = 'pt',\n",
    "    aggregation_strategy = 'simple',\n",
    ")"
   ]
  },
  {
   "cell_type": "code",
   "execution_count": 60,
   "metadata": {},
   "outputs": [
    {
     "data": {
      "text/html": [
       "<div class=\"entities\" style=\"line-height: 2.5; direction: ltr\">\n",
       "<mark class=\"entity\" style=\"background: #84bee8; padding: 0.45em 0.6em; margin: 0 0.25em; line-height: 1; border-radius: 0.35em;\">\n",
       "    Radiologic examination\n",
       "    <span style=\"font-size: 0.8em; font-weight: bold; line-height: 1; border-radius: 0.35em; vertical-align: middle; margin-left: 0.5rem\">Procedure</span>\n",
       "</mark>\n",
       " of \n",
       "<mark class=\"entity\" style=\"background: #de97f7; padding: 0.45em 0.6em; margin: 0 0.25em; line-height: 1; border-radius: 0.35em;\">\n",
       "    chest\n",
       "    <span style=\"font-size: 0.8em; font-weight: bold; line-height: 1; border-radius: 0.35em; vertical-align: middle; margin-left: 0.5rem\">Qualifier</span>\n",
       "</mark>\n",
       "</div>"
      ],
      "text/plain": [
       "<IPython.core.display.HTML object>"
      ]
     },
     "execution_count": 60,
     "metadata": {},
     "output_type": "execute_result"
    }
   ],
   "source": [
    "sent = 'Radiologic examination of chest'\n",
    "\n",
    "\n",
    "df_ents = parse_trf_ner_output(ner(sent))\n",
    "df_ents = correct_entity_boundaries(sent, df_ents)\n",
    "df_ents = remove_entity_overlaps(df_ents)\n",
    "HTML(render_ner_as_html(sent, df_ents))"
   ]
  },
  {
   "cell_type": "code",
   "execution_count": 61,
   "metadata": {},
   "outputs": [
    {
     "data": {
      "text/html": [
       "<div class=\"entities\" style=\"line-height: 2.5; direction: ltr\">Participants with at least two of the following: \n",
       "<mark class=\"entity\" style=\"background: #fffad4; padding: 0.45em 0.6em; margin: 0 0.25em; line-height: 1; border-radius: 0.35em;\">\n",
       "    serum M-protein\n",
       "    <span style=\"font-size: 0.8em; font-weight: bold; line-height: 1; border-radius: 0.35em; vertical-align: middle; margin-left: 0.5rem\">Measurement</span>\n",
       "</mark>\n",
       " \n",
       "<mark class=\"entity\" style=\"background: #de97f7; padding: 0.45em 0.6em; margin: 0 0.25em; line-height: 1; border-radius: 0.35em;\">\n",
       "    &gt;= 0.5 g/dL\n",
       "    <span style=\"font-size: 0.8em; font-weight: bold; line-height: 1; border-radius: 0.35em; vertical-align: middle; margin-left: 0.5rem\">Value</span>\n",
       "</mark>\n",
       ", \n",
       "<mark class=\"entity\" style=\"background: #fffad4; padding: 0.45em 0.6em; margin: 0 0.25em; line-height: 1; border-radius: 0.35em;\">\n",
       "    urine M-protein\n",
       "    <span style=\"font-size: 0.8em; font-weight: bold; line-height: 1; border-radius: 0.35em; vertical-align: middle; margin-left: 0.5rem\">Measurement</span>\n",
       "</mark>\n",
       " \n",
       "<mark class=\"entity\" style=\"background: #de97f7; padding: 0.45em 0.6em; margin: 0 0.25em; line-height: 1; border-radius: 0.35em;\">\n",
       "    &gt;=200 mg/24 hours\n",
       "    <span style=\"font-size: 0.8em; font-weight: bold; line-height: 1; border-radius: 0.35em; vertical-align: middle; margin-left: 0.5rem\">Value</span>\n",
       "</mark>\n",
       ", an \n",
       "<mark class=\"entity\" style=\"background: #fffad4; padding: 0.45em 0.6em; margin: 0 0.25em; line-height: 1; border-radius: 0.35em;\">\n",
       "    involved FLC assay\n",
       "    <span style=\"font-size: 0.8em; font-weight: bold; line-height: 1; border-radius: 0.35em; vertical-align: middle; margin-left: 0.5rem\">Measurement</span>\n",
       "</mark>\n",
       " \n",
       "<mark class=\"entity\" style=\"background: #de97f7; padding: 0.45em 0.6em; margin: 0 0.25em; line-height: 1; border-radius: 0.35em;\">\n",
       "    &gt;=100 mg/L\n",
       "    <span style=\"font-size: 0.8em; font-weight: bold; line-height: 1; border-radius: 0.35em; vertical-align: middle; margin-left: 0.5rem\">Value</span>\n",
       "</mark>\n",
       ", and a \n",
       "<mark class=\"entity\" style=\"background: #fffad4; padding: 0.45em 0.6em; margin: 0 0.25em; line-height: 1; border-radius: 0.35em;\">\n",
       "    serum FLC ratio\n",
       "    <span style=\"font-size: 0.8em; font-weight: bold; line-height: 1; border-radius: 0.35em; vertical-align: middle; margin-left: 0.5rem\">Measurement</span>\n",
       "</mark>\n",
       " \n",
       "<mark class=\"entity\" style=\"background: #de97f7; padding: 0.45em 0.6em; margin: 0 0.25em; line-height: 1; border-radius: 0.35em;\">\n",
       "    &lt;0.26\n",
       "    <span style=\"font-size: 0.8em; font-weight: bold; line-height: 1; border-radius: 0.35em; vertical-align: middle; margin-left: 0.5rem\">Value</span>\n",
       "</mark>\n",
       " or a \n",
       "<mark class=\"entity\" style=\"background: #fffad4; padding: 0.45em 0.6em; margin: 0 0.25em; line-height: 1; border-radius: 0.35em;\">\n",
       "    serum FLC ratio\n",
       "    <span style=\"font-size: 0.8em; font-weight: bold; line-height: 1; border-radius: 0.35em; vertical-align: middle; margin-left: 0.5rem\">Measurement</span>\n",
       "</mark>\n",
       "  \n",
       "<mark class=\"entity\" style=\"background: #de97f7; padding: 0.45em 0.6em; margin: 0 0.25em; line-height: 1; border-radius: 0.35em;\">\n",
       "    &gt;1.65\n",
       "    <span style=\"font-size: 0.8em; font-weight: bold; line-height: 1; border-radius: 0.35em; vertical-align: middle; margin-left: 0.5rem\">Value</span>\n",
       "</mark>\n",
       "</div>"
      ],
      "text/plain": [
       "<IPython.core.display.HTML object>"
      ]
     },
     "execution_count": 61,
     "metadata": {},
     "output_type": "execute_result"
    }
   ],
   "source": [
    "sent = 'Participants with at least two of the following: serum M-protein >= 0.5 g/dL, urine M-protein >=200 mg/24 hours, an involved FLC assay >=100 mg/L, and a serum FLC ratio <0.26 or a serum FLC ratio  >1.65'\n",
    "\n",
    "\n",
    "df_ents = parse_trf_ner_output(ner(sent))\n",
    "df_ents = correct_entity_boundaries(sent, df_ents)\n",
    "df_ents = remove_entity_overlaps(df_ents)\n",
    "HTML(render_ner_as_html(sent, df_ents))"
   ]
  },
  {
   "cell_type": "code",
   "execution_count": 62,
   "metadata": {},
   "outputs": [
    {
     "data": {
      "text/html": [
       "<div class=\"entities\" style=\"line-height: 2.5; direction: ltr\">Participants with at least two of the following: \n",
       "<mark class=\"entity\" style=\"background: #fffad4; padding: 0.45em 0.6em; margin: 0 0.25em; line-height: 1; border-radius: 0.35em;\">\n",
       "    Serum M-protein\n",
       "    <span style=\"font-size: 0.8em; font-weight: bold; line-height: 1; border-radius: 0.35em; vertical-align: middle; margin-left: 0.5rem\">Measurement</span>\n",
       "</mark>\n",
       " \n",
       "<mark class=\"entity\" style=\"background: #de97f7; padding: 0.45em 0.6em; margin: 0 0.25em; line-height: 1; border-radius: 0.35em;\">\n",
       "    &gt;= 0.5 g/dL\n",
       "    <span style=\"font-size: 0.8em; font-weight: bold; line-height: 1; border-radius: 0.35em; vertical-align: middle; margin-left: 0.5rem\">Value</span>\n",
       "</mark>\n",
       " measured using \n",
       "<mark class=\"entity\" style=\"background: #84bee8; padding: 0.45em 0.6em; margin: 0 0.25em; line-height: 1; border-radius: 0.35em;\">\n",
       "    serum protein immunoelectrophoresis\n",
       "    <span style=\"font-size: 0.8em; font-weight: bold; line-height: 1; border-radius: 0.35em; vertical-align: middle; margin-left: 0.5rem\">Procedure</span>\n",
       "</mark>\n",
       ", \n",
       "<mark class=\"entity\" style=\"background: #fffad4; padding: 0.45em 0.6em; margin: 0 0.25em; line-height: 1; border-radius: 0.35em;\">\n",
       "    Urine M-protein\n",
       "    <span style=\"font-size: 0.8em; font-weight: bold; line-height: 1; border-radius: 0.35em; vertical-align: middle; margin-left: 0.5rem\">Measurement</span>\n",
       "</mark>\n",
       " \n",
       "<mark class=\"entity\" style=\"background: #de97f7; padding: 0.45em 0.6em; margin: 0 0.25em; line-height: 1; border-radius: 0.35em;\">\n",
       "    &gt;=200 mg/24 hours\n",
       "    <span style=\"font-size: 0.8em; font-weight: bold; line-height: 1; border-radius: 0.35em; vertical-align: middle; margin-left: 0.5rem\">Value</span>\n",
       "</mark>\n",
       " measured using \n",
       "<mark class=\"entity\" style=\"background: #84bee8; padding: 0.45em 0.6em; margin: 0 0.25em; line-height: 1; border-radius: 0.35em;\">\n",
       "    urine protein immunoelectrophoresis\n",
       "    <span style=\"font-size: 0.8em; font-weight: bold; line-height: 1; border-radius: 0.35em; vertical-align: middle; margin-left: 0.5rem\">Procedure</span>\n",
       "</mark>\n",
       ", \n",
       "<mark class=\"entity\" style=\"background: #84bee8; padding: 0.45em 0.6em; margin: 0 0.25em; line-height: 1; border-radius: 0.35em;\">\n",
       "    Serum free light chain (FLC) assay\n",
       "    <span style=\"font-size: 0.8em; font-weight: bold; line-height: 1; border-radius: 0.35em; vertical-align: middle; margin-left: 0.5rem\">Procedure</span>\n",
       "</mark>\n",
       " with an involved \n",
       "<mark class=\"entity\" style=\"background: #fffad4; padding: 0.45em 0.6em; margin: 0 0.25em; line-height: 1; border-radius: 0.35em;\">\n",
       "    FLC assay\n",
       "    <span style=\"font-size: 0.8em; font-weight: bold; line-height: 1; border-radius: 0.35em; vertical-align: middle; margin-left: 0.5rem\">Measurement</span>\n",
       "</mark>\n",
       " \n",
       "<mark class=\"entity\" style=\"background: #de97f7; padding: 0.45em 0.6em; margin: 0 0.25em; line-height: 1; border-radius: 0.35em;\">\n",
       "    &gt;=100 mg/L\n",
       "    <span style=\"font-size: 0.8em; font-weight: bold; line-height: 1; border-radius: 0.35em; vertical-align: middle; margin-left: 0.5rem\">Value</span>\n",
       "</mark>\n",
       ", and a \n",
       "<mark class=\"entity\" style=\"background: #fffad4; padding: 0.45em 0.6em; margin: 0 0.25em; line-height: 1; border-radius: 0.35em;\">\n",
       "    serum FLC ratio\n",
       "    <span style=\"font-size: 0.8em; font-weight: bold; line-height: 1; border-radius: 0.35em; vertical-align: middle; margin-left: 0.5rem\">Measurement</span>\n",
       "</mark>\n",
       " \n",
       "<mark class=\"entity\" style=\"background: #de97f7; padding: 0.45em 0.6em; margin: 0 0.25em; line-height: 1; border-radius: 0.35em;\">\n",
       "    &lt; 0.26\n",
       "    <span style=\"font-size: 0.8em; font-weight: bold; line-height: 1; border-radius: 0.35em; vertical-align: middle; margin-left: 0.5rem\">Value</span>\n",
       "</mark>\n",
       " or a \n",
       "<mark class=\"entity\" style=\"background: #fffad4; padding: 0.45em 0.6em; margin: 0 0.25em; line-height: 1; border-radius: 0.35em;\">\n",
       "    serum FLC ratio\n",
       "    <span style=\"font-size: 0.8em; font-weight: bold; line-height: 1; border-radius: 0.35em; vertical-align: middle; margin-left: 0.5rem\">Measurement</span>\n",
       "</mark>\n",
       "  \n",
       "<mark class=\"entity\" style=\"background: #de97f7; padding: 0.45em 0.6em; margin: 0 0.25em; line-height: 1; border-radius: 0.35em;\">\n",
       "    &gt; 1.65\n",
       "    <span style=\"font-size: 0.8em; font-weight: bold; line-height: 1; border-radius: 0.35em; vertical-align: middle; margin-left: 0.5rem\">Value</span>\n",
       "</mark>\n",
       "</div>"
      ],
      "text/plain": [
       "<IPython.core.display.HTML object>"
      ]
     },
     "execution_count": 62,
     "metadata": {},
     "output_type": "execute_result"
    }
   ],
   "source": [
    "sent = 'Participants with at least two of the following: Serum M-protein >= 0.5 g/dL measured using serum protein immunoelectrophoresis, Urine M-protein >=200 mg/24 hours measured using urine protein immunoelectrophoresis, Serum free light chain (FLC) assay with an involved FLC assay >=100 mg/L, and a serum FLC ratio < 0.26 or a serum FLC ratio  > 1.65'\n",
    "\n",
    "\n",
    "df_ents = parse_trf_ner_output(ner(sent))\n",
    "df_ents = correct_entity_boundaries(sent, df_ents)\n",
    "df_ents = remove_entity_overlaps(df_ents)\n",
    "HTML(render_ner_as_html(sent, df_ents))"
   ]
  },
  {
   "cell_type": "code",
   "execution_count": 63,
   "metadata": {},
   "outputs": [
    {
     "data": {
      "text/html": [
       "<div class=\"entities\" style=\"line-height: 2.5; direction: ltr\">\n",
       "<mark class=\"entity\" style=\"background: #ff6e70; padding: 0.45em 0.6em; margin: 0 0.25em; line-height: 1; border-radius: 0.35em;\">\n",
       "    Polyneuropathy\n",
       "    <span style=\"font-size: 0.8em; font-weight: bold; line-height: 1; border-radius: 0.35em; vertical-align: middle; margin-left: 0.5rem\">Condition</span>\n",
       "</mark>\n",
       " of \n",
       "<mark class=\"entity\" style=\"background: #de97f7; padding: 0.45em 0.6em; margin: 0 0.25em; line-height: 1; border-radius: 0.35em;\">\n",
       "    other\n",
       "    <span style=\"font-size: 0.8em; font-weight: bold; line-height: 1; border-radius: 0.35em; vertical-align: middle; margin-left: 0.5rem\">Qualifier</span>\n",
       "</mark>\n",
       " causes, including but not limited to \n",
       "<mark class=\"entity\" style=\"background: #ff6e70; padding: 0.45em 0.6em; margin: 0 0.25em; line-height: 1; border-radius: 0.35em;\">\n",
       "    hereditary demyelinating neuropathies\n",
       "    <span style=\"font-size: 0.8em; font-weight: bold; line-height: 1; border-radius: 0.35em; vertical-align: middle; margin-left: 0.5rem\">Condition</span>\n",
       "</mark>\n",
       ", \n",
       "<mark class=\"entity\" style=\"background: #ff6e70; padding: 0.45em 0.6em; margin: 0 0.25em; line-height: 1; border-radius: 0.35em;\">\n",
       "    neuropathies\n",
       "    <span style=\"font-size: 0.8em; font-weight: bold; line-height: 1; border-radius: 0.35em; vertical-align: middle; margin-left: 0.5rem\">Condition</span>\n",
       "</mark>\n",
       " \n",
       "<mark class=\"entity\" style=\"background: #de97f7; padding: 0.45em 0.6em; margin: 0 0.25em; line-height: 1; border-radius: 0.35em;\">\n",
       "    secondary to infection\n",
       "    <span style=\"font-size: 0.8em; font-weight: bold; line-height: 1; border-radius: 0.35em; vertical-align: middle; margin-left: 0.5rem\">Qualifier</span>\n",
       "</mark>\n",
       " or \n",
       "<mark class=\"entity\" style=\"background: #ff6e70; padding: 0.45em 0.6em; margin: 0 0.25em; line-height: 1; border-radius: 0.35em;\">\n",
       "    systemic disease\n",
       "    <span style=\"font-size: 0.8em; font-weight: bold; line-height: 1; border-radius: 0.35em; vertical-align: middle; margin-left: 0.5rem\">Condition</span>\n",
       "</mark>\n",
       ", \n",
       "<mark class=\"entity\" style=\"background: #ff6e70; padding: 0.45em 0.6em; margin: 0 0.25em; line-height: 1; border-radius: 0.35em;\">\n",
       "    diabetic neuropathy\n",
       "    <span style=\"font-size: 0.8em; font-weight: bold; line-height: 1; border-radius: 0.35em; vertical-align: middle; margin-left: 0.5rem\">Condition</span>\n",
       "</mark>\n",
       ", \n",
       "<mark class=\"entity\" style=\"background: #ff6e70; padding: 0.45em 0.6em; margin: 0 0.25em; line-height: 1; border-radius: 0.35em;\">\n",
       "    drug- or toxin-induced neuropathies\n",
       "    <span style=\"font-size: 0.8em; font-weight: bold; line-height: 1; border-radius: 0.35em; vertical-align: middle; margin-left: 0.5rem\">Condition</span>\n",
       "</mark>\n",
       ", \n",
       "<mark class=\"entity\" style=\"background: #ff6e70; padding: 0.45em 0.6em; margin: 0 0.25em; line-height: 1; border-radius: 0.35em;\">\n",
       "    multifocal motor neuropathy\n",
       "    <span style=\"font-size: 0.8em; font-weight: bold; line-height: 1; border-radius: 0.35em; vertical-align: middle; margin-left: 0.5rem\">Condition</span>\n",
       "</mark>\n",
       ", \n",
       "<mark class=\"entity\" style=\"background: #ff6e70; padding: 0.45em 0.6em; margin: 0 0.25em; line-height: 1; border-radius: 0.35em;\">\n",
       "    monoclonal gammopathy\n",
       "    <span style=\"font-size: 0.8em; font-weight: bold; line-height: 1; border-radius: 0.35em; vertical-align: middle; margin-left: 0.5rem\">Condition</span>\n",
       "</mark>\n",
       " of \n",
       "<mark class=\"entity\" style=\"background: #de97f7; padding: 0.45em 0.6em; margin: 0 0.25em; line-height: 1; border-radius: 0.35em;\">\n",
       "    uncertain significance\n",
       "    <span style=\"font-size: 0.8em; font-weight: bold; line-height: 1; border-radius: 0.35em; vertical-align: middle; margin-left: 0.5rem\">Qualifier</span>\n",
       "</mark>\n",
       ", \n",
       "<mark class=\"entity\" style=\"background: #ff6e70; padding: 0.45em 0.6em; margin: 0 0.25em; line-height: 1; border-radius: 0.35em;\">\n",
       "    lumbosacral radiculoplexus neuropathy\n",
       "    <span style=\"font-size: 0.8em; font-weight: bold; line-height: 1; border-radius: 0.35em; vertical-align: middle; margin-left: 0.5rem\">Condition</span>\n",
       "</mark>\n",
       ", \n",
       "<mark class=\"entity\" style=\"background: #ff6e70; padding: 0.45em 0.6em; margin: 0 0.25em; line-height: 1; border-radius: 0.35em;\">\n",
       "    pure sensory CIDP\n",
       "    <span style=\"font-size: 0.8em; font-weight: bold; line-height: 1; border-radius: 0.35em; vertical-align: middle; margin-left: 0.5rem\">Condition</span>\n",
       "</mark>\n",
       " and \n",
       "<mark class=\"entity\" style=\"background: #ff6e70; padding: 0.45em 0.6em; margin: 0 0.25em; line-height: 1; border-radius: 0.35em;\">\n",
       "    acquired demyelinating symmetric (DADS) neuropathy\n",
       "    <span style=\"font-size: 0.8em; font-weight: bold; line-height: 1; border-radius: 0.35em; vertical-align: middle; margin-left: 0.5rem\">Condition</span>\n",
       "</mark>\n",
       " (also known as \n",
       "<mark class=\"entity\" style=\"background: #ff6e70; padding: 0.45em 0.6em; margin: 0 0.25em; line-height: 1; border-radius: 0.35em;\">\n",
       "    distal CIDP\n",
       "    <span style=\"font-size: 0.8em; font-weight: bold; line-height: 1; border-radius: 0.35em; vertical-align: middle; margin-left: 0.5rem\">Condition</span>\n",
       "</mark>\n",
       ").</div>"
      ],
      "text/plain": [
       "<IPython.core.display.HTML object>"
      ]
     },
     "execution_count": 63,
     "metadata": {},
     "output_type": "execute_result"
    }
   ],
   "source": [
    "sent = 'Polyneuropathy of other causes, including but not limited to hereditary demyelinating neuropathies, neuropathies secondary to infection or systemic disease, diabetic neuropathy, drug- or toxin-induced neuropathies, multifocal motor neuropathy, monoclonal gammopathy of uncertain significance, lumbosacral radiculoplexus neuropathy, pure sensory CIDP and acquired demyelinating symmetric (DADS) neuropathy (also known as distal CIDP).'\n",
    "\n",
    "df_ents = parse_trf_ner_output(ner(sent))\n",
    "df_ents = correct_entity_boundaries(sent, df_ents)\n",
    "df_ents = remove_entity_overlaps(df_ents)\n",
    "HTML(render_ner_as_html(sent, df_ents))"
   ]
  },
  {
   "cell_type": "code",
   "execution_count": 64,
   "metadata": {
    "scrolled": true
   },
   "outputs": [
    {
     "data": {
      "text/html": [
       "<div class=\"entities\" style=\"line-height: 2.5; direction: ltr\">\n",
       "<mark class=\"entity\" style=\"background: #377aab; padding: 0.45em 0.6em; margin: 0 0.25em; line-height: 1; border-radius: 0.35em;\">\n",
       "    Adults\n",
       "    <span style=\"font-size: 0.8em; font-weight: bold; line-height: 1; border-radius: 0.35em; vertical-align: middle; margin-left: 0.5rem\">Person</span>\n",
       "</mark>\n",
       " and \n",
       "<mark class=\"entity\" style=\"background: #377aab; padding: 0.45em 0.6em; margin: 0 0.25em; line-height: 1; border-radius: 0.35em;\">\n",
       "    adolescent\n",
       "    <span style=\"font-size: 0.8em; font-weight: bold; line-height: 1; border-radius: 0.35em; vertical-align: middle; margin-left: 0.5rem\">Person</span>\n",
       "</mark>\n",
       " patients with a physician diagnosis of \n",
       "<mark class=\"entity\" style=\"background: #ff6e70; padding: 0.45em 0.6em; margin: 0 0.25em; line-height: 1; border-radius: 0.35em;\">\n",
       "    asthma\n",
       "    <span style=\"font-size: 0.8em; font-weight: bold; line-height: 1; border-radius: 0.35em; vertical-align: middle; margin-left: 0.5rem\">Condition</span>\n",
       "</mark>\n",
       " \n",
       "<mark class=\"entity\" style=\"background: #de97f7; padding: 0.45em 0.6em; margin: 0 0.25em; line-height: 1; border-radius: 0.35em;\">\n",
       "    for ≥12 months\n",
       "    <span style=\"font-size: 0.8em; font-weight: bold; line-height: 1; border-radius: 0.35em; vertical-align: middle; margin-left: 0.5rem\">Temporal</span>\n",
       "</mark>\n",
       ", based on the \n",
       "<mark class=\"entity\" style=\"background: #fffad4; padding: 0.45em 0.6em; margin: 0 0.25em; line-height: 1; border-radius: 0.35em;\">\n",
       "    Global Initiative for Asthma (GINA) 2014 Guidelines\n",
       "    <span style=\"font-size: 0.8em; font-weight: bold; line-height: 1; border-radius: 0.35em; vertical-align: middle; margin-left: 0.5rem\">Measurement</span>\n",
       "</mark>\n",
       " and the followingcriteria: A) Existing treatment with \n",
       "<mark class=\"entity\" style=\"background: #de97f7; padding: 0.45em 0.6em; margin: 0 0.25em; line-height: 1; border-radius: 0.35em;\">\n",
       "    medium\n",
       "    <span style=\"font-size: 0.8em; font-weight: bold; line-height: 1; border-radius: 0.35em; vertical-align: middle; margin-left: 0.5rem\">Qualifier</span>\n",
       "</mark>\n",
       " to high dose \n",
       "<mark class=\"entity\" style=\"background: #50ebb2; padding: 0.45em 0.6em; margin: 0 0.25em; line-height: 1; border-radius: 0.35em;\">\n",
       "    ICS\n",
       "    <span style=\"font-size: 0.8em; font-weight: bold; line-height: 1; border-radius: 0.35em; vertical-align: middle; margin-left: 0.5rem\">Drug</span>\n",
       "</mark>\n",
       " (≥250 mcg of \n",
       "<mark class=\"entity\" style=\"background: #50ebb2; padding: 0.45em 0.6em; margin: 0 0.25em; line-height: 1; border-radius: 0.35em;\">\n",
       "    fluticasone\n",
       "    <span style=\"font-size: 0.8em; font-weight: bold; line-height: 1; border-radius: 0.35em; vertical-align: middle; margin-left: 0.5rem\">Drug</span>\n",
       "</mark>\n",
       " propionate twice daily or equipotent ICS daily dosage to a maximum of 2000 mcg/day of fluticasone propionate or equivalent) in combination with a second \n",
       "<mark class=\"entity\" style=\"background: #50ebb2; padding: 0.45em 0.6em; margin: 0 0.25em; line-height: 1; border-radius: 0.35em;\">\n",
       "    controller\n",
       "    <span style=\"font-size: 0.8em; font-weight: bold; line-height: 1; border-radius: 0.35em; vertical-align: middle; margin-left: 0.5rem\">Drug</span>\n",
       "</mark>\n",
       " (eg, \n",
       "<mark class=\"entity\" style=\"background: #50ebb2; padding: 0.45em 0.6em; margin: 0 0.25em; line-height: 1; border-radius: 0.35em;\">\n",
       "    LABA\n",
       "    <span style=\"font-size: 0.8em; font-weight: bold; line-height: 1; border-radius: 0.35em; vertical-align: middle; margin-left: 0.5rem\">Drug</span>\n",
       "</mark>\n",
       ", \n",
       "<mark class=\"entity\" style=\"background: #50ebb2; padding: 0.45em 0.6em; margin: 0 0.25em; line-height: 1; border-radius: 0.35em;\">\n",
       "    LTRA\n",
       "    <span style=\"font-size: 0.8em; font-weight: bold; line-height: 1; border-radius: 0.35em; vertical-align: middle; margin-left: 0.5rem\">Drug</span>\n",
       "</mark>\n",
       ") \n",
       "<mark class=\"entity\" style=\"background: #de97f7; padding: 0.45em 0.6em; margin: 0 0.25em; line-height: 1; border-radius: 0.35em;\">\n",
       "    for at least 3 months\n",
       "    <span style=\"font-size: 0.8em; font-weight: bold; line-height: 1; border-radius: 0.35em; vertical-align: middle; margin-left: 0.5rem\">Temporal</span>\n",
       "</mark>\n",
       " with a \n",
       "<mark class=\"entity\" style=\"background: #de97f7; padding: 0.45em 0.6em; margin: 0 0.25em; line-height: 1; border-radius: 0.35em;\">\n",
       "    stable\n",
       "    <span style=\"font-size: 0.8em; font-weight: bold; line-height: 1; border-radius: 0.35em; vertical-align: middle; margin-left: 0.5rem\">Qualifier</span>\n",
       "</mark>\n",
       " dose \n",
       "<mark class=\"entity\" style=\"background: #de97f7; padding: 0.45em 0.6em; margin: 0 0.25em; line-height: 1; border-radius: 0.35em;\">\n",
       "    ≥1 month prior to Visit 1\n",
       "    <span style=\"font-size: 0.8em; font-weight: bold; line-height: 1; border-radius: 0.35em; vertical-align: middle; margin-left: 0.5rem\">Temporal</span>\n",
       "</mark>\n",
       ".</div>"
      ],
      "text/plain": [
       "<IPython.core.display.HTML object>"
      ]
     },
     "execution_count": 64,
     "metadata": {},
     "output_type": "execute_result"
    }
   ],
   "source": [
    "sent = 'Adults and adolescent patients with a physician diagnosis of asthma ' +\\\n",
    "    'for ≥12 months, based on the Global Initiative for Asthma (GINA) 2014 Guidelines ' +\\\n",
    "    'and the followingcriteria: A) Existing treatment with medium to high dose ICS ' +\\\n",
    "    '(≥250 mcg of fluticasone propionate twice daily or equipotent ICS daily dosage ' +\\\n",
    "    'to a maximum of 2000 mcg/day of fluticasone propionate or equivalent) in combination ' +\\\n",
    "    'with a second controller (eg, LABA, LTRA) for at least 3 months with a stable dose ≥1 ' +\\\n",
    "    'month prior to Visit 1.'\n",
    "\n",
    "df_ents = parse_trf_ner_output(ner(sent))\n",
    "df_ents = correct_entity_boundaries(sent, df_ents)\n",
    "df_ents = remove_entity_overlaps(df_ents)\n",
    "HTML(render_ner_as_html(sent, df_ents))"
   ]
  },
  {
   "cell_type": "code",
   "execution_count": 65,
   "metadata": {},
   "outputs": [
    {
     "data": {
      "text/html": [
       "<div class=\"entities\" style=\"line-height: 2.5; direction: ltr\">Biologics treatment: \n",
       "<mark class=\"entity\" style=\"background: #50ebb2; padding: 0.45em 0.6em; margin: 0 0.25em; line-height: 1; border-radius: 0.35em;\">\n",
       "    Cell-depleting agents\n",
       "    <span style=\"font-size: 0.8em; font-weight: bold; line-height: 1; border-radius: 0.35em; vertical-align: middle; margin-left: 0.5rem\">Drug</span>\n",
       "</mark>\n",
       ", eg. \n",
       "<mark class=\"entity\" style=\"background: #50ebb2; padding: 0.45em 0.6em; margin: 0 0.25em; line-height: 1; border-radius: 0.35em;\">\n",
       "    Rituximab Drug\n",
       "    <span style=\"font-size: 0.8em; font-weight: bold; line-height: 1; border-radius: 0.35em; vertical-align: middle; margin-left: 0.5rem\">Drug</span>\n",
       "</mark>\n",
       " \n",
       "<mark class=\"entity\" style=\"background: #de97f7; padding: 0.45em 0.6em; margin: 0 0.25em; line-height: 1; border-radius: 0.35em;\">\n",
       "    within 6 months before baseline\n",
       "    <span style=\"font-size: 0.8em; font-weight: bold; line-height: 1; border-radius: 0.35em; vertical-align: middle; margin-left: 0.5rem\">Temporal</span>\n",
       "</mark>\n",
       " or until \n",
       "<mark class=\"entity\" style=\"background: #fffad4; padding: 0.45em 0.6em; margin: 0 0.25em; line-height: 1; border-radius: 0.35em;\">\n",
       "    lymphocyte count\n",
       "    <span style=\"font-size: 0.8em; font-weight: bold; line-height: 1; border-radius: 0.35em; vertical-align: middle; margin-left: 0.5rem\">Measurement</span>\n",
       "</mark>\n",
       " returns to \n",
       "<mark class=\"entity\" style=\"background: #de97f7; padding: 0.45em 0.6em; margin: 0 0.25em; line-height: 1; border-radius: 0.35em;\">\n",
       "    normal\n",
       "    <span style=\"font-size: 0.8em; font-weight: bold; line-height: 1; border-radius: 0.35em; vertical-align: middle; margin-left: 0.5rem\">Value</span>\n",
       "</mark>\n",
       ", Other biologics: \n",
       "<mark class=\"entity\" style=\"background: #de97f7; padding: 0.45em 0.6em; margin: 0 0.25em; line-height: 1; border-radius: 0.35em;\">\n",
       "    within 5 half-lives or 16 weeks prior baseline\n",
       "    <span style=\"font-size: 0.8em; font-weight: bold; line-height: 1; border-radius: 0.35em; vertical-align: middle; margin-left: 0.5rem\">Temporal</span>\n",
       "</mark>\n",
       ".</div>"
      ],
      "text/plain": [
       "<IPython.core.display.HTML object>"
      ]
     },
     "execution_count": 65,
     "metadata": {},
     "output_type": "execute_result"
    }
   ],
   "source": [
    "sent = 'Biologics treatment: Cell-depleting agents, eg. Rituximab Drug within 6 months before baseline or until lymphocyte count returns to normal, Other biologics: within 5 half-lives or 16 weeks prior baseline.'\n",
    "\n",
    "df_ents = parse_trf_ner_output(ner(sent))\n",
    "df_ents = correct_entity_boundaries(sent, df_ents)\n",
    "df_ents = remove_entity_overlaps(df_ents)\n",
    "HTML(render_ner_as_html(sent, df_ents))"
   ]
  },
  {
   "cell_type": "code",
   "execution_count": 70,
   "metadata": {
    "scrolled": false
   },
   "outputs": [
    {
     "data": {
      "text/html": [
       "<div class=\"entities\" style=\"line-height: 2.5; direction: ltr\">Active \n",
       "<mark class=\"entity\" style=\"background: #ff6e70; padding: 0.45em 0.6em; margin: 0 0.25em; line-height: 1; border-radius: 0.35em;\">\n",
       "    hepatitis\n",
       "    <span style=\"font-size: 0.8em; font-weight: bold; line-height: 1; border-radius: 0.35em; vertical-align: middle; margin-left: 0.5rem\">Condition</span>\n",
       "</mark>\n",
       " or patients with \n",
       "<mark class=\"entity\" style=\"background: #de97f7; padding: 0.45em 0.6em; margin: 0 0.25em; line-height: 1; border-radius: 0.35em;\">\n",
       "    positive\n",
       "    <span style=\"font-size: 0.8em; font-weight: bold; line-height: 1; border-radius: 0.35em; vertical-align: middle; margin-left: 0.5rem\">Value</span>\n",
       "</mark>\n",
       " \n",
       "<mark class=\"entity\" style=\"background: #fffad4; padding: 0.45em 0.6em; margin: 0 0.25em; line-height: 1; border-radius: 0.35em;\">\n",
       "    HBsAg\n",
       "    <span style=\"font-size: 0.8em; font-weight: bold; line-height: 1; border-radius: 0.35em; vertical-align: middle; margin-left: 0.5rem\">Measurement</span>\n",
       "</mark>\n",
       ", or patients with \n",
       "<mark class=\"entity\" style=\"background: #de97f7; padding: 0.45em 0.6em; margin: 0 0.25em; line-height: 1; border-radius: 0.35em;\">\n",
       "    positive\n",
       "    <span style=\"font-size: 0.8em; font-weight: bold; line-height: 1; border-radius: 0.35em; vertical-align: middle; margin-left: 0.5rem\">Value</span>\n",
       "</mark>\n",
       " \n",
       "<mark class=\"entity\" style=\"background: #fffad4; padding: 0.45em 0.6em; margin: 0 0.25em; line-height: 1; border-radius: 0.35em;\">\n",
       "    HBcAb\n",
       "    <span style=\"font-size: 0.8em; font-weight: bold; line-height: 1; border-radius: 0.35em; vertical-align: middle; margin-left: 0.5rem\">Measurement</span>\n",
       "</mark>\n",
       " plus \n",
       "<mark class=\"entity\" style=\"background: #de97f7; padding: 0.45em 0.6em; margin: 0 0.25em; line-height: 1; border-radius: 0.35em;\">\n",
       "    positive\n",
       "    <span style=\"font-size: 0.8em; font-weight: bold; line-height: 1; border-radius: 0.35em; vertical-align: middle; margin-left: 0.5rem\">Value</span>\n",
       "</mark>\n",
       " \n",
       "<mark class=\"entity\" style=\"background: #fffad4; padding: 0.45em 0.6em; margin: 0 0.25em; line-height: 1; border-radius: 0.35em;\">\n",
       "    HBV DNA\n",
       "    <span style=\"font-size: 0.8em; font-weight: bold; line-height: 1; border-radius: 0.35em; vertical-align: middle; margin-left: 0.5rem\">Measurement</span>\n",
       "</mark>\n",
       ", or \n",
       "<mark class=\"entity\" style=\"background: #de97f7; padding: 0.45em 0.6em; margin: 0 0.25em; line-height: 1; border-radius: 0.35em;\">\n",
       "    positive\n",
       "    <span style=\"font-size: 0.8em; font-weight: bold; line-height: 1; border-radius: 0.35em; vertical-align: middle; margin-left: 0.5rem\">Value</span>\n",
       "</mark>\n",
       " \n",
       "<mark class=\"entity\" style=\"background: #fffad4; padding: 0.45em 0.6em; margin: 0 0.25em; line-height: 1; border-radius: 0.35em;\">\n",
       "    HCV antibody\n",
       "    <span style=\"font-size: 0.8em; font-weight: bold; line-height: 1; border-radius: 0.35em; vertical-align: middle; margin-left: 0.5rem\">Measurement</span>\n",
       "</mark>\n",
       " (confirmed with presence of HCV RNA if needed) \n",
       "<mark class=\"entity\" style=\"background: #de97f7; padding: 0.45em 0.6em; margin: 0 0.25em; line-height: 1; border-radius: 0.35em;\">\n",
       "    at screening\n",
       "    <span style=\"font-size: 0.8em; font-weight: bold; line-height: 1; border-radius: 0.35em; vertical-align: middle; margin-left: 0.5rem\">Temporal</span>\n",
       "</mark>\n",
       ".</div><div class=\"entities\" style=\"line-height: 2.5; direction: ltr\">History of \n",
       "<mark class=\"entity\" style=\"background: #ff6e70; padding: 0.45em 0.6em; margin: 0 0.25em; line-height: 1; border-radius: 0.35em;\">\n",
       "    alcohol or drug abuse\n",
       "    <span style=\"font-size: 0.8em; font-weight: bold; line-height: 1; border-radius: 0.35em; vertical-align: middle; margin-left: 0.5rem\">Condition</span>\n",
       "</mark>\n",
       " \n",
       "<mark class=\"entity\" style=\"background: #de97f7; padding: 0.45em 0.6em; margin: 0 0.25em; line-height: 1; border-radius: 0.35em;\">\n",
       "    within 2 years of the screening visit\n",
       "    <span style=\"font-size: 0.8em; font-weight: bold; line-height: 1; border-radius: 0.35em; vertical-align: middle; margin-left: 0.5rem\">Temporal</span>\n",
       "</mark>\n",
       ".</div><div class=\"entities\" style=\"line-height: 2.5; direction: ltr\">\n",
       "<mark class=\"entity\" style=\"background: #de97f7; padding: 0.45em 0.6em; margin: 0 0.25em; line-height: 1; border-radius: 0.35em;\">\n",
       "    History\n",
       "    <span style=\"font-size: 0.8em; font-weight: bold; line-height: 1; border-radius: 0.35em; vertical-align: middle; margin-left: 0.5rem\">Temporal</span>\n",
       "</mark>\n",
       " of \n",
       "<mark class=\"entity\" style=\"background: #ff6e70; padding: 0.45em 0.6em; margin: 0 0.25em; line-height: 1; border-radius: 0.35em;\">\n",
       "    HIV infection\n",
       "    <span style=\"font-size: 0.8em; font-weight: bold; line-height: 1; border-radius: 0.35em; vertical-align: middle; margin-left: 0.5rem\">Condition</span>\n",
       "</mark>\n",
       " or \n",
       "<mark class=\"entity\" style=\"background: #de97f7; padding: 0.45em 0.6em; margin: 0 0.25em; line-height: 1; border-radius: 0.35em;\">\n",
       "    positive\n",
       "    <span style=\"font-size: 0.8em; font-weight: bold; line-height: 1; border-radius: 0.35em; vertical-align: middle; margin-left: 0.5rem\">Value</span>\n",
       "</mark>\n",
       " \n",
       "<mark class=\"entity\" style=\"background: #fffad4; padding: 0.45em 0.6em; margin: 0 0.25em; line-height: 1; border-radius: 0.35em;\">\n",
       "    HIV serology\n",
       "    <span style=\"font-size: 0.8em; font-weight: bold; line-height: 1; border-radius: 0.35em; vertical-align: middle; margin-left: 0.5rem\">Measurement</span>\n",
       "</mark>\n",
       " \n",
       "<mark class=\"entity\" style=\"background: #de97f7; padding: 0.45em 0.6em; margin: 0 0.25em; line-height: 1; border-radius: 0.35em;\">\n",
       "    at screening\n",
       "    <span style=\"font-size: 0.8em; font-weight: bold; line-height: 1; border-radius: 0.35em; vertical-align: middle; margin-left: 0.5rem\">Temporal</span>\n",
       "</mark>\n",
       ".</div><div class=\"entities\" style=\"line-height: 2.5; direction: ltr\">History of \n",
       "<mark class=\"entity\" style=\"background: #ff6e70; padding: 0.45em 0.6em; margin: 0 0.25em; line-height: 1; border-radius: 0.35em;\">\n",
       "    malignancy\n",
       "    <span style=\"font-size: 0.8em; font-weight: bold; line-height: 1; border-radius: 0.35em; vertical-align: middle; margin-left: 0.5rem\">Condition</span>\n",
       "</mark>\n",
       " \n",
       "<mark class=\"entity\" style=\"background: #de97f7; padding: 0.45em 0.6em; margin: 0 0.25em; line-height: 1; border-radius: 0.35em;\">\n",
       "    within 5 years before screening\n",
       "    <span style=\"font-size: 0.8em; font-weight: bold; line-height: 1; border-radius: 0.35em; vertical-align: middle; margin-left: 0.5rem\">Temporal</span>\n",
       "</mark>\n",
       ", except \n",
       "<mark class=\"entity\" style=\"background: #de97f7; padding: 0.45em 0.6em; margin: 0 0.25em; line-height: 1; border-radius: 0.35em;\">\n",
       "    completely treated\n",
       "    <span style=\"font-size: 0.8em; font-weight: bold; line-height: 1; border-radius: 0.35em; vertical-align: middle; margin-left: 0.5rem\">Qualifier</span>\n",
       "</mark>\n",
       " \n",
       "<mark class=\"entity\" style=\"background: #ff6e70; padding: 0.45em 0.6em; margin: 0 0.25em; line-height: 1; border-radius: 0.35em;\">\n",
       "    cervix carcinoma\n",
       "    <span style=\"font-size: 0.8em; font-weight: bold; line-height: 1; border-radius: 0.35em; vertical-align: middle; margin-left: 0.5rem\">Condition</span>\n",
       "</mark>\n",
       ", \n",
       "<mark class=\"entity\" style=\"background: #de97f7; padding: 0.45em 0.6em; margin: 0 0.25em; line-height: 1; border-radius: 0.35em;\">\n",
       "    completely treated\n",
       "    <span style=\"font-size: 0.8em; font-weight: bold; line-height: 1; border-radius: 0.35em; vertical-align: middle; margin-left: 0.5rem\">Qualifier</span>\n",
       "</mark>\n",
       " and \n",
       "<mark class=\"entity\" style=\"background: #de97f7; padding: 0.45em 0.6em; margin: 0 0.25em; line-height: 1; border-radius: 0.35em;\">\n",
       "    resolved\n",
       "    <span style=\"font-size: 0.8em; font-weight: bold; line-height: 1; border-radius: 0.35em; vertical-align: middle; margin-left: 0.5rem\">Qualifier</span>\n",
       "</mark>\n",
       " \n",
       "<mark class=\"entity\" style=\"background: #de97f7; padding: 0.45em 0.6em; margin: 0 0.25em; line-height: 1; border-radius: 0.35em;\">\n",
       "    non-metastatic\n",
       "    <span style=\"font-size: 0.8em; font-weight: bold; line-height: 1; border-radius: 0.35em; vertical-align: middle; margin-left: 0.5rem\">Qualifier</span>\n",
       "</mark>\n",
       " \n",
       "<mark class=\"entity\" style=\"background: #ff6e70; padding: 0.45em 0.6em; margin: 0 0.25em; line-height: 1; border-radius: 0.35em;\">\n",
       "    squamous or basal cell carcinoma of the skin\n",
       "    <span style=\"font-size: 0.8em; font-weight: bold; line-height: 1; border-radius: 0.35em; vertical-align: middle; margin-left: 0.5rem\">Condition</span>\n",
       "</mark>\n",
       ".</div><div class=\"entities\" style=\"line-height: 2.5; direction: ltr\">\n",
       "<mark class=\"entity\" style=\"background: #ff6e70; padding: 0.45em 0.6em; margin: 0 0.25em; line-height: 1; border-radius: 0.35em;\">\n",
       "    Infection\n",
       "    <span style=\"font-size: 0.8em; font-weight: bold; line-height: 1; border-radius: 0.35em; vertical-align: middle; margin-left: 0.5rem\">Condition</span>\n",
       "</mark>\n",
       " requires \n",
       "<mark class=\"entity\" style=\"background: #50ebb2; padding: 0.45em 0.6em; margin: 0 0.25em; line-height: 1; border-radius: 0.35em;\">\n",
       "    systemic antibiotics\n",
       "    <span style=\"font-size: 0.8em; font-weight: bold; line-height: 1; border-radius: 0.35em; vertical-align: middle; margin-left: 0.5rem\">Drug</span>\n",
       "</mark>\n",
       ", \n",
       "<mark class=\"entity\" style=\"background: #50ebb2; padding: 0.45em 0.6em; margin: 0 0.25em; line-height: 1; border-radius: 0.35em;\">\n",
       "    antivirals\n",
       "    <span style=\"font-size: 0.8em; font-weight: bold; line-height: 1; border-radius: 0.35em; vertical-align: middle; margin-left: 0.5rem\">Drug</span>\n",
       "</mark>\n",
       ", \n",
       "<mark class=\"entity\" style=\"background: #50ebb2; padding: 0.45em 0.6em; margin: 0 0.25em; line-height: 1; border-radius: 0.35em;\">\n",
       "    antiparasitics\n",
       "    <span style=\"font-size: 0.8em; font-weight: bold; line-height: 1; border-radius: 0.35em; vertical-align: middle; margin-left: 0.5rem\">Drug</span>\n",
       "</mark>\n",
       ", \n",
       "<mark class=\"entity\" style=\"background: #50ebb2; padding: 0.45em 0.6em; margin: 0 0.25em; line-height: 1; border-radius: 0.35em;\">\n",
       "    antiprotozoals\n",
       "    <span style=\"font-size: 0.8em; font-weight: bold; line-height: 1; border-radius: 0.35em; vertical-align: middle; margin-left: 0.5rem\">Drug</span>\n",
       "</mark>\n",
       ", \n",
       "<mark class=\"entity\" style=\"background: #50ebb2; padding: 0.45em 0.6em; margin: 0 0.25em; line-height: 1; border-radius: 0.35em;\">\n",
       "    antifungals\n",
       "    <span style=\"font-size: 0.8em; font-weight: bold; line-height: 1; border-radius: 0.35em; vertical-align: middle; margin-left: 0.5rem\">Drug</span>\n",
       "</mark>\n",
       " \n",
       "<mark class=\"entity\" style=\"background: #84bee8; padding: 0.45em 0.6em; margin: 0 0.25em; line-height: 1; border-radius: 0.35em;\">\n",
       "    treatment\n",
       "    <span style=\"font-size: 0.8em; font-weight: bold; line-height: 1; border-radius: 0.35em; vertical-align: middle; margin-left: 0.5rem\">Procedure</span>\n",
       "</mark>\n",
       " \n",
       "<mark class=\"entity\" style=\"background: #de97f7; padding: 0.45em 0.6em; margin: 0 0.25em; line-height: 1; border-radius: 0.35em;\">\n",
       "    within 2 weeks before baseline\n",
       "    <span style=\"font-size: 0.8em; font-weight: bold; line-height: 1; border-radius: 0.35em; vertical-align: middle; margin-left: 0.5rem\">Temporal</span>\n",
       "</mark>\n",
       ", \n",
       "<mark class=\"entity\" style=\"background: #ff6e70; padding: 0.45em 0.6em; margin: 0 0.25em; line-height: 1; border-radius: 0.35em;\">\n",
       "    superficial skin infections\n",
       "    <span style=\"font-size: 0.8em; font-weight: bold; line-height: 1; border-radius: 0.35em; vertical-align: middle; margin-left: 0.5rem\">Condition</span>\n",
       "</mark>\n",
       " \n",
       "<mark class=\"entity\" style=\"background: #de97f7; padding: 0.45em 0.6em; margin: 0 0.25em; line-height: 1; border-radius: 0.35em;\">\n",
       "    within 1 week before baseline visit\n",
       "    <span style=\"font-size: 0.8em; font-weight: bold; line-height: 1; border-radius: 0.35em; vertical-align: middle; margin-left: 0.5rem\">Temporal</span>\n",
       "</mark>\n",
       ".</div><div class=\"entities\" style=\"line-height: 2.5; direction: ltr\">Initiation \n",
       "<mark class=\"entity\" style=\"background: #84bee8; padding: 0.45em 0.6em; margin: 0 0.25em; line-height: 1; border-radius: 0.35em;\">\n",
       "    AD\n",
       "    <span style=\"font-size: 0.8em; font-weight: bold; line-height: 1; border-radius: 0.35em; vertical-align: middle; margin-left: 0.5rem\">Procedure</span>\n",
       "</mark>\n",
       " treatment with \n",
       "<mark class=\"entity\" style=\"background: #50ebb2; padding: 0.45em 0.6em; margin: 0 0.25em; line-height: 1; border-radius: 0.35em;\">\n",
       "    prescription moisturizers\n",
       "    <span style=\"font-size: 0.8em; font-weight: bold; line-height: 1; border-radius: 0.35em; vertical-align: middle; margin-left: 0.5rem\">Drug</span>\n",
       "</mark>\n",
       " or \n",
       "<mark class=\"entity\" style=\"background: #50ebb2; padding: 0.45em 0.6em; margin: 0 0.25em; line-height: 1; border-radius: 0.35em;\">\n",
       "    moisturizers\n",
       "    <span style=\"font-size: 0.8em; font-weight: bold; line-height: 1; border-radius: 0.35em; vertical-align: middle; margin-left: 0.5rem\">Drug</span>\n",
       "</mark>\n",
       " containing  \n",
       "<mark class=\"entity\" style=\"background: #50ebb2; padding: 0.45em 0.6em; margin: 0 0.25em; line-height: 1; border-radius: 0.35em;\">\n",
       "    additives\n",
       "    <span style=\"font-size: 0.8em; font-weight: bold; line-height: 1; border-radius: 0.35em; vertical-align: middle; margin-left: 0.5rem\">Drug</span>\n",
       "</mark>\n",
       " such as \n",
       "<mark class=\"entity\" style=\"background: #50ebb2; padding: 0.45em 0.6em; margin: 0 0.25em; line-height: 1; border-radius: 0.35em;\">\n",
       "    ceramide\n",
       "    <span style=\"font-size: 0.8em; font-weight: bold; line-height: 1; border-radius: 0.35em; vertical-align: middle; margin-left: 0.5rem\">Drug</span>\n",
       "</mark>\n",
       ", \n",
       "<mark class=\"entity\" style=\"background: #50ebb2; padding: 0.45em 0.6em; margin: 0 0.25em; line-height: 1; border-radius: 0.35em;\">\n",
       "    hyaluronic acid\n",
       "    <span style=\"font-size: 0.8em; font-weight: bold; line-height: 1; border-radius: 0.35em; vertical-align: middle; margin-left: 0.5rem\">Drug</span>\n",
       "</mark>\n",
       ", \n",
       "<mark class=\"entity\" style=\"background: #50ebb2; padding: 0.45em 0.6em; margin: 0 0.25em; line-height: 1; border-radius: 0.35em;\">\n",
       "    urea\n",
       "    <span style=\"font-size: 0.8em; font-weight: bold; line-height: 1; border-radius: 0.35em; vertical-align: middle; margin-left: 0.5rem\">Drug</span>\n",
       "</mark>\n",
       ", or \n",
       "<mark class=\"entity\" style=\"background: #50ebb2; padding: 0.45em 0.6em; margin: 0 0.25em; line-height: 1; border-radius: 0.35em;\">\n",
       "    filaggrin degradation products\n",
       "    <span style=\"font-size: 0.8em; font-weight: bold; line-height: 1; border-radius: 0.35em; vertical-align: middle; margin-left: 0.5rem\">Drug</span>\n",
       "</mark>\n",
       " \n",
       "<mark class=\"entity\" style=\"background: #de97f7; padding: 0.45em 0.6em; margin: 0 0.25em; line-height: 1; border-radius: 0.35em;\">\n",
       "    during the screening period\n",
       "    <span style=\"font-size: 0.8em; font-weight: bold; line-height: 1; border-radius: 0.35em; vertical-align: middle; margin-left: 0.5rem\">Temporal</span>\n",
       "</mark>\n",
       ".</div><div class=\"entities\" style=\"line-height: 2.5; direction: ltr\">Known or suspected \n",
       "<mark class=\"entity\" style=\"background: #de97f7; padding: 0.45em 0.6em; margin: 0 0.25em; line-height: 1; border-radius: 0.35em;\">\n",
       "    history\n",
       "    <span style=\"font-size: 0.8em; font-weight: bold; line-height: 1; border-radius: 0.35em; vertical-align: middle; margin-left: 0.5rem\">Temporal</span>\n",
       "</mark>\n",
       " of \n",
       "<mark class=\"entity\" style=\"background: #ff6e70; padding: 0.45em 0.6em; margin: 0 0.25em; line-height: 1; border-radius: 0.35em;\">\n",
       "    immunosuppression\n",
       "    <span style=\"font-size: 0.8em; font-weight: bold; line-height: 1; border-radius: 0.35em; vertical-align: middle; margin-left: 0.5rem\">Condition</span>\n",
       "</mark>\n",
       ", including \n",
       "<mark class=\"entity\" style=\"background: #de97f7; padding: 0.45em 0.6em; margin: 0 0.25em; line-height: 1; border-radius: 0.35em;\">\n",
       "    history\n",
       "    <span style=\"font-size: 0.8em; font-weight: bold; line-height: 1; border-radius: 0.35em; vertical-align: middle; margin-left: 0.5rem\">Temporal</span>\n",
       "</mark>\n",
       " of \n",
       "<mark class=\"entity\" style=\"background: #de97f7; padding: 0.45em 0.6em; margin: 0 0.25em; line-height: 1; border-radius: 0.35em;\">\n",
       "    invasive\n",
       "    <span style=\"font-size: 0.8em; font-weight: bold; line-height: 1; border-radius: 0.35em; vertical-align: middle; margin-left: 0.5rem\">Qualifier</span>\n",
       "</mark>\n",
       " \n",
       "<mark class=\"entity\" style=\"background: #ff6e70; padding: 0.45em 0.6em; margin: 0 0.25em; line-height: 1; border-radius: 0.35em;\">\n",
       "    opportunistic infections\n",
       "    <span style=\"font-size: 0.8em; font-weight: bold; line-height: 1; border-radius: 0.35em; vertical-align: middle; margin-left: 0.5rem\">Condition</span>\n",
       "</mark>\n",
       ", despite \n",
       "<mark class=\"entity\" style=\"background: #de97f7; padding: 0.45em 0.6em; margin: 0 0.25em; line-height: 1; border-radius: 0.35em;\">\n",
       "    infection resolution\n",
       "    <span style=\"font-size: 0.8em; font-weight: bold; line-height: 1; border-radius: 0.35em; vertical-align: middle; margin-left: 0.5rem\">Qualifier</span>\n",
       "</mark>\n",
       ", or \n",
       "<mark class=\"entity\" style=\"background: #de97f7; padding: 0.45em 0.6em; margin: 0 0.25em; line-height: 1; border-radius: 0.35em;\">\n",
       "    unusually\n",
       "    <span style=\"font-size: 0.8em; font-weight: bold; line-height: 1; border-radius: 0.35em; vertical-align: middle; margin-left: 0.5rem\">Qualifier</span>\n",
       "</mark>\n",
       " frequent, \n",
       "<mark class=\"entity\" style=\"background: #de97f7; padding: 0.45em 0.6em; margin: 0 0.25em; line-height: 1; border-radius: 0.35em;\">\n",
       "    recurrent\n",
       "    <span style=\"font-size: 0.8em; font-weight: bold; line-height: 1; border-radius: 0.35em; vertical-align: middle; margin-left: 0.5rem\">Qualifier</span>\n",
       "</mark>\n",
       ", or \n",
       "<mark class=\"entity\" style=\"background: #de97f7; padding: 0.45em 0.6em; margin: 0 0.25em; line-height: 1; border-radius: 0.35em;\">\n",
       "    prolonged\n",
       "    <span style=\"font-size: 0.8em; font-weight: bold; line-height: 1; border-radius: 0.35em; vertical-align: middle; margin-left: 0.5rem\">Qualifier</span>\n",
       "</mark>\n",
       " \n",
       "<mark class=\"entity\" style=\"background: #ff6e70; padding: 0.45em 0.6em; margin: 0 0.25em; line-height: 1; border-radius: 0.35em;\">\n",
       "    infections\n",
       "    <span style=\"font-size: 0.8em; font-weight: bold; line-height: 1; border-radius: 0.35em; vertical-align: middle; margin-left: 0.5rem\">Condition</span>\n",
       "</mark>\n",
       ".</div>"
      ],
      "text/plain": [
       "<IPython.core.display.HTML object>"
      ]
     },
     "execution_count": 70,
     "metadata": {},
     "output_type": "execute_result"
    }
   ],
   "source": [
    "sents = '''Active hepatitis or patients with positive HBsAg, or patients with positive HBcAb plus positive HBV DNA, or positive HCV antibody (confirmed with presence of HCV RNA if needed) at screening.\n",
    "\n",
    "History of alcohol or drug abuse within 2 years of the screening visit.\n",
    "\n",
    "History of HIV infection or positive HIV serology at screening.\n",
    "\n",
    "History of malignancy within 5 years before screening, except completely treated cervix carcinoma, completely treated and resolved non-metastatic squamous or basal cell carcinoma of the skin.\n",
    "\n",
    "Infection requires systemic antibiotics, antivirals, antiparasitics, antiprotozoals, antifungals treatment within 2 weeks before baseline, superficial skin infections within 1 week before baseline visit.\n",
    "\n",
    "Initiation AD treatment with prescription moisturizers or moisturizers containing  additives such as ceramide, hyaluronic acid, urea, or filaggrin degradation products during the screening period.\n",
    "\n",
    "Known or suspected history of immunosuppression, including history of invasive opportunistic infections, despite infection resolution, or unusually frequent, recurrent, or prolonged infections.\n",
    "'''\n",
    "df_list = []\n",
    "html = ''\n",
    "for sent in sents.split('\\n'):\n",
    "    if sent.strip():\n",
    "        ents = parse_trf_ner_output(ner(sent))\n",
    "        ents = correct_entity_boundaries(sent, ents)\n",
    "        ents = remove_entity_overlaps(ents)\n",
    "        df_list.append(ents)\n",
    "        html += render_ner_as_html(sent, ents)\n",
    "\n",
    "df_ents = pd.concat(df_list, ignore_index = True)\n",
    "HTML(html)"
   ]
  },
  {
   "cell_type": "markdown",
   "metadata": {},
   "source": [
    "[Table of content](#TOC)"
   ]
  }
 ],
 "metadata": {
  "colab": {
   "name": "Token Classification",
   "provenance": []
  },
  "kernelspec": {
   "display_name": "Python 3 (ipykernel)",
   "language": "python",
   "name": "python3"
  },
  "language_info": {
   "codemirror_mode": {
    "name": "ipython",
    "version": 3
   },
   "file_extension": ".py",
   "mimetype": "text/x-python",
   "name": "python",
   "nbconvert_exporter": "python",
   "pygments_lexer": "ipython3",
   "version": "3.10.9"
  }
 },
 "nbformat": 4,
 "nbformat_minor": 1
}
