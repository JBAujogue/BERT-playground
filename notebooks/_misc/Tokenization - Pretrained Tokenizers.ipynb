{
 "cells": [
  {
   "cell_type": "markdown",
   "metadata": {},
   "source": [
    "<div style=\"font-variant: small-caps; \n",
    "      font-weight: normal; \n",
    "      font-size: 35px; \n",
    "      text-align: center; \n",
    "      padding: 15px; \n",
    "      margin: 10px;\">\n",
    "      Tokenization\n",
    "  </div> \n",
    "  \n",
    "<div style=\"\n",
    "      font-weight: normal; \n",
    "      font-size: 25px; \n",
    "      text-align: center; \n",
    "      padding: 15px; \n",
    "      margin: 10px;\">\n",
    "      Pretrained Tokenizers\n",
    "  </div> \n",
    "\n",
    "\n",
    "  <div style=\"\n",
    "      font-size: 15px; \n",
    "      line-height: 12px; \n",
    "      text-align: center; \n",
    "      padding: 15px; \n",
    "      margin: 10px;\">\n",
    "  Jean-baptiste AUJOGUE\n",
    "  </div> \n",
    "\n",
    "  \n",
    "  <div style=\" float:right; \n",
    "      font-size: 12px; \n",
    "      line-height: 12px; \n",
    "  padding: 10px 15px 8px;\">\n",
    "  December 2022\n",
    "  </div>"
   ]
  },
  {
   "cell_type": "markdown",
   "metadata": {},
   "source": [
    "<a id=\"plan\"></a>"
   ]
  },
  {
   "cell_type": "markdown",
   "metadata": {},
   "source": [
    "***\n",
    "<div style=\"font-weight: normal; \n",
    "      font-size: 30px; \n",
    "      text-align: center; \n",
    "      padding: 15px; \n",
    "      margin: 10px;\">\n",
    "      Table of Content\n",
    "  </div> \n",
    "\n",
    "\n",
    "#### References\n",
    "\n",
    "- Huggingface Tokenizers [Quicktour](https://huggingface.co/docs/tokenizers/quicktour)\n",
    "- Huggingface Tokenizers [Summary of tokenizers](https://huggingface.co/docs/transformers/tokenizer_summary)\n",
    "- Huggingface Tokenizers [Tokenizer pipeline quicktour](https://huggingface.co/docs/tokenizers/pipeline)\n",
    "- Huggingface Tokenizers [Overview notebook](https://github.com/huggingface/notebooks/blob/main/examples/tokenizer_training.ipynb)\n",
    "- Huggingface Tokenizers [Course](https://huggingface.co/learn/nlp-course/chapter6/1?fw=pt) and [Course notebooks](https://github.com/huggingface/course/blob/main/chapters/en/chapter6)\n",
    "- Huggingface Tokenizers [Github repository](https://github.com/huggingface/tokenizers)"
   ]
  },
  {
   "cell_type": "markdown",
   "metadata": {},
   "source": [
    "<div style=\"font-weight: normal; \n",
    "      font-size: 30px; \n",
    "      text-align: center; \n",
    "      padding: 15px; \n",
    "      margin: 10px;\">\n",
    "      Packages\n",
    "  </div> "
   ]
  },
  {
   "cell_type": "code",
   "execution_count": 1,
   "metadata": {},
   "outputs": [
    {
     "name": "stderr",
     "output_type": "stream",
     "text": [
      "C:\\Users\\jb\\miniconda3\\envs\\bert-playground\\Lib\\site-packages\\tqdm\\auto.py:21: TqdmWarning: IProgress not found. Please update jupyter and ipywidgets. See https://ipywidgets.readthedocs.io/en/stable/user_install.html\n",
      "  from .autonotebook import tqdm as notebook_tqdm\n"
     ]
    }
   ],
   "source": [
    "import os\n",
    "import pandas as pd\n",
    "\n",
    "# auto\n",
    "from tokenizers import Tokenizer\n",
    "from transformers import AutoTokenizer\n",
    "\n",
    "# pretokenizers\n",
    "from tokenizers.pre_tokenizers import Whitespace\n",
    "\n",
    "# base tokenizers\n",
    "from tokenizers.models import (\n",
    "    BPE,\n",
    "    Unigram,\n",
    "    WordLevel,\n",
    "    WordPiece,\n",
    ") \n",
    "# base tokenizer trainers\n",
    "from tokenizers.trainers import (\n",
    "    BpeTrainer,\n",
    "    UnigramTrainer,\n",
    "    WordLevelTrainer,\n",
    "    WordPieceTrainer,\n",
    ")\n",
    "# other special tokenizers, see the list at \n",
    "# https://github.com/huggingface/tokenizers/tree/master/bindings/python/py_src/tokenizers/implementations\n",
    "from tokenizers.implementations import (\n",
    "    CharBPETokenizer,          # The original BPE\n",
    "    ByteLevelBPETokenizer,     # The byte level version of the BPE\n",
    "    SentencePieceBPETokenizer, # A BPE implementation compatible with the one used by SentencePiece\n",
    "    BertWordPieceTokenizer,    # The famous Bert tokenizer, using WordPiece\n",
    ") "
   ]
  },
  {
   "cell_type": "markdown",
   "metadata": {},
   "source": [
    "<a id=\"tokenizers\"></a>"
   ]
  },
  {
   "cell_type": "code",
   "execution_count": 89,
   "metadata": {},
   "outputs": [],
   "source": [
    "text = \"Hello, y'all! How are you 😁? I introduce a triple   and a quadruple    space 🤗.\""
   ]
  },
  {
   "cell_type": "markdown",
   "metadata": {},
   "source": [
    "### Remark on the `tokenizers.Tokenizer` vs. `transformers.AutoTokenizer` classes\n",
    "\n",
    "`tokenizers.Tokenizer` provides the base utility class for all tokenizers of huggingface models. However, many models have specific logic appart from pure tokenization, which is cast into a model-specific class. Such class does not belong to the general purpose `tokenizers` library, but rather to the broad `transformers` library which contains both model-agnostic and model-specific classes and functions. When instanciating a tokenizer from the transformer.AutoTokenizer class, we can always recover the underlying `tokenizers.Tokenizer` object as an attribute `_tokenizer`, which should be accessed using the `backend_tokenizer` property, see the `transformers`  [documentation](https://github.com/huggingface/transformers/blob/main/src/transformers/tokenization_utils_fast.py), as the following example shows:"
   ]
  },
  {
   "cell_type": "code",
   "execution_count": 93,
   "metadata": {},
   "outputs": [
    {
     "data": {
      "text/plain": [
       "(transformers.models.llama.tokenization_llama_fast.LlamaTokenizerFast,\n",
       " tokenizers.Tokenizer)"
      ]
     },
     "execution_count": 93,
     "metadata": {},
     "output_type": "execute_result"
    }
   ],
   "source": [
    "model_id = 'mistralai/Mistral-7B-Instruct-v0.2'\n",
    "tokenizer = AutoTokenizer.from_pretrained(model_id)\n",
    "\n",
    "type(tokenizer), type(tokenizer.backend_tokenizer)"
   ]
  },
  {
   "cell_type": "markdown",
   "metadata": {},
   "source": [
    "In the content below we describe the behavior of instances of `tokenizers.Tokenizer`. However, in the case the instance derives from an instance of `transformers.AutoTokenizer`, this behavior is typically not supposed to be used directly, and should instead be replaced by the direct use of the `transformers.AutoTokenizer instance.\n",
    "\n",
    "Whenever you want to train a new tokenizer based on same parameters than an existing one, the approach depends on whether the instance comes from `tokenizers.Tokenizer` or `transformers.AutoTokenizer`. We detail here the former case, while in the latter case the `train_new_from_iterator` method should be used."
   ]
  },
  {
   "cell_type": "markdown",
   "metadata": {},
   "source": [
    "# 1 Byte Pair Encoding\n",
    "\n",
    "[Back to top](#plan)\n",
    "\n",
    "\n",
    "[Byte-Pair Encoding (BPE)](https://huggingface.co/docs/transformers/tokenizer_summary#byte-pair-encoding-bpe) was introduced in [Neural Machine Translation of Rare Words with Subword Units (Sennrich et al., 2015)](https://arxiv.org/abs/1508.07909). BPE relies on a pre-tokenizer that splits the training data into words. Pretokenization can be as simple as space tokenization, e.g. GPT-2, RoBERTa. More advanced pre-tokenization include rule-based tokenization, e.g. XLM, FlauBERT which uses Moses for most languages, or GPT which uses spaCy and ftfy, to count the frequency of each word in the training corpus.\n",
    "\n",
    "After pre-tokenization, a set of unique words has been created and the frequency with which each word occurred in the training data has been determined. Next, BPE creates a base vocabulary consisting of all symbols that occur in the set of unique words and learns merge rules to form a new symbol from two symbols of the base vocabulary. It does so until the vocabulary has attained the desired vocabulary size. Note that the desired vocabulary size is a hyperparameter to define before training the tokenizer.\n",
    "\n",
    "A base vocabulary that includes all possible base characters can be quite large if e.g. all unicode characters are considered as base characters. To have a better base vocabulary, GPT-2 uses bytes as the base vocabulary, which is a clever trick to force the base vocabulary to be of size 256 while ensuring that every base character is included in the vocabulary. With some additional rules to deal with punctuation, the GPT2’s tokenizer can tokenize every text without the need for the <unk> symbol. GPT-2 has a vocabulary size of 50,257, which corresponds to the 256 bytes base tokens, a special end-of-text token and the symbols learned with 50,000 merges.\n",
    "    \n"
   ]
  },
  {
   "cell_type": "markdown",
   "metadata": {},
   "source": [
    "## 1.1 Use pretrained tokenizer\n"
   ]
  },
  {
   "cell_type": "code",
   "execution_count": 94,
   "metadata": {},
   "outputs": [
    {
     "data": {
      "text/plain": [
       "tokenizers.models.BPE"
      ]
     },
     "execution_count": 94,
     "metadata": {},
     "output_type": "execute_result"
    }
   ],
   "source": [
    "# make your choice between the 2\n",
    "# bpe_tokenizer = Tokenizer.from_pretrained('gpt2')\n",
    "bpe_tokenizer = AutoTokenizer.from_pretrained(model_id).backend_tokenizer\n",
    "\n",
    "type(bpe_tokenizer.model)"
   ]
  },
  {
   "cell_type": "code",
   "execution_count": 84,
   "metadata": {},
   "outputs": [
    {
     "data": {
      "text/plain": [
       "<Axes: ylabel='Frequency'>"
      ]
     },
     "execution_count": 84,
     "metadata": {},
     "output_type": "execute_result"
    },
    {
     "data": {
      "image/png": "[encoded data removed]",
      "text/plain": [
       "<Figure size 1200x400 with 1 Axes>"
      ]
     },
     "metadata": {},
     "output_type": "display_data"
    }
   ],
   "source": [
    "pd.DataFrame(map(len, bpe_tokenizer.get_vocab()), columns = ['Token length']).plot.hist(bins = 50, xticks = list(range(30)), figsize = (12, 4))"
   ]
  },
  {
   "cell_type": "code",
   "execution_count": 85,
   "metadata": {},
   "outputs": [
    {
     "data": {
      "text/plain": [
       "32000"
      ]
     },
     "execution_count": 85,
     "metadata": {},
     "output_type": "execute_result"
    }
   ],
   "source": [
    "bpe_tokenizer.get_vocab_size()"
   ]
  },
  {
   "cell_type": "code",
   "execution_count": 95,
   "metadata": {
    "scrolled": true
   },
   "outputs": [
    {
     "data": {
      "text/plain": [
       "[(1, '<s>', ''),\n",
       " (22557, '▁Hello', 'Hello'),\n",
       " (28725, ',', ','),\n",
       " (337, '▁y', ' y'),\n",
       " (28742, \"'\", \"'\"),\n",
       " (455, 'all', 'all'),\n",
       " (28808, '!', '!'),\n",
       " (1602, '▁How', ' How'),\n",
       " (460, '▁are', ' are'),\n",
       " (368, '▁you', ' you'),\n",
       " (28705, '▁', ' '),\n",
       " (30707, '😁', '😁'),\n",
       " (28804, '?', '?'),\n",
       " (315, '▁I', ' I'),\n",
       " (13097, '▁introduce', ' introduce'),\n",
       " (264, '▁a', ' a'),\n",
       " (22212, '▁triple', ' triple'),\n",
       " (259, '▁▁', '  '),\n",
       " (304, '▁and', ' and'),\n",
       " (264, '▁a', ' a'),\n",
       " (12618, '▁quad', ' quad'),\n",
       " (551, 'ru', 'ru'),\n",
       " (792, 'ple', 'ple'),\n",
       " (2287, '▁▁▁', '   '),\n",
       " (2764, '▁space', ' space'),\n",
       " (28705, '▁', ' '),\n",
       " (243, '<0xF0>', '🤗'),\n",
       " (162, '<0x9F>', '🤗'),\n",
       " (167, '<0xA4>', '🤗'),\n",
       " (154, '<0x97>', '🤗'),\n",
       " (28723, '.', '.')]"
      ]
     },
     "execution_count": 95,
     "metadata": {},
     "output_type": "execute_result"
    }
   ],
   "source": [
    "output = bpe_tokenizer.encode(text)\n",
    "tokens = [t for t in output.tokens]\n",
    "offsets = [output.offsets[i] for i in range(len(output))]\n",
    "spans  = [text[s:e] for s, e in offsets]\n",
    "\n",
    "# print token ids | token str | source word\n",
    "list(zip(output.ids, tokens, spans))"
   ]
  },
  {
   "cell_type": "code",
   "execution_count": 96,
   "metadata": {},
   "outputs": [
    {
     "data": {
      "text/plain": [
       "\"Hello, y'all! How are you 😁? I introduce a triple   and a quadruple    space 🤗.\""
      ]
     },
     "execution_count": 96,
     "metadata": {},
     "output_type": "execute_result"
    }
   ],
   "source": [
    "bpe_tokenizer.decode(output.ids)"
   ]
  },
  {
   "cell_type": "markdown",
   "metadata": {},
   "source": [
    "## 1.2 Create and train a tokenizer from exisiting class\n",
    "\n",
    "#### References\n",
    "- Huggingface Tokenizers [Overview notebook](https://github.com/huggingface/notebooks/blob/main/examples/tokenizer_training.ipynb)"
   ]
  },
  {
   "cell_type": "code",
   "execution_count": null,
   "metadata": {},
   "outputs": [],
   "source": []
  },
  {
   "cell_type": "markdown",
   "metadata": {},
   "source": [
    "## 1.3 Create a tokenizer from scratch\n"
   ]
  },
  {
   "cell_type": "code",
   "execution_count": null,
   "metadata": {},
   "outputs": [],
   "source": []
  },
  {
   "cell_type": "code",
   "execution_count": null,
   "metadata": {},
   "outputs": [],
   "source": []
  },
  {
   "cell_type": "code",
   "execution_count": 22,
   "metadata": {},
   "outputs": [],
   "source": [
    "# # use pre-fitted tokenizer for DeBERTa (BERT-like adaptation of GPT2 tokenizer, a particular BPE tokenizer)\n",
    "# tokenizer = DebertaV2Tokenizer.from_pretrained(\"microsoft/deberta-v2-xlarge\")"
   ]
  },
  {
   "cell_type": "code",
   "execution_count": null,
   "metadata": {},
   "outputs": [],
   "source": []
  },
  {
   "cell_type": "markdown",
   "metadata": {},
   "source": [
    "# 2 WordPiece\n",
    "\n",
    "[Back to top](#plan)\n",
    "\n",
    "\n",
    "[WordPiece](https://huggingface.co/docs/transformers/tokenizer_summary#wordpiece) is the subword tokenization algorithm outlined in [Japanese and Korean Voice Search (Schuster et al., 2012)](https://static.googleusercontent.com/media/research.google.com/ja//pubs/archive/37842.pdf) and is very similar to BPE. WordPiece first initializes the vocabulary to include every character present in the training data and progressively learns a given number of merge rules. In contrast to BPE, WordPiece does not choose the most frequent symbol pair, but the one that maximizes the likelihood of the training data once added to the vocabulary.\n",
    "\n",
    "So what does this mean exactly? Referring to the previous example, maximizing the likelihood of the training data is equivalent to finding the symbol pair, whose probability divided by the probabilities of its first symbol followed by its second symbol is the greatest among all symbol pairs. E.g. \"u\", followed by \"g\" would have only been merged if the probability of \"ug\" divided by \"u\", \"g\" would have been greater than for any other symbol pair. Intuitively, WordPiece is slightly different to BPE in that it evaluates what it loses by merging two symbols to ensure it’s worth it."
   ]
  },
  {
   "cell_type": "code",
   "execution_count": 138,
   "metadata": {},
   "outputs": [
    {
     "data": {
      "text/plain": [
       "tokenizers.models.WordPiece"
      ]
     },
     "execution_count": 138,
     "metadata": {},
     "output_type": "execute_result"
    }
   ],
   "source": [
    "wp_tokenizer = Tokenizer.from_pretrained('bert-base-cased')\n",
    "\n",
    "type(wp_tokenizer.model)"
   ]
  },
  {
   "cell_type": "code",
   "execution_count": 104,
   "metadata": {},
   "outputs": [
    {
     "data": {
      "text/plain": [
       "<Axes: ylabel='Frequency'>"
      ]
     },
     "execution_count": 104,
     "metadata": {},
     "output_type": "execute_result"
    },
    {
     "data": {
      "image/png": "[encoded data removed]",
      "text/plain": [
       "<Figure size 640x480 with 1 Axes>"
      ]
     },
     "metadata": {},
     "output_type": "display_data"
    }
   ],
   "source": [
    "pd.DataFrame(map(len, wp_tokenizer.get_vocab()), columns = ['Token length']).plot.hist(bins = 50, xticks = list(range(20)))"
   ]
  },
  {
   "cell_type": "code",
   "execution_count": 151,
   "metadata": {},
   "outputs": [
    {
     "data": {
      "text/plain": [
       "[(101, '[CLS]', ''),\n",
       " (8667, 'Hello', 'Hello'),\n",
       " (117, ',', ','),\n",
       " (194, 'y', 'y'),\n",
       " (112, \"'\", \"'\"),\n",
       " (1155, 'all', 'all'),\n",
       " (106, '!', '!'),\n",
       " (1731, 'How', 'How'),\n",
       " (1132, 'are', 'are'),\n",
       " (1128, 'you', 'you'),\n",
       " (100, '[UNK]', '😁'),\n",
       " (136, '?', '?'),\n",
       " (146, 'I', 'I'),\n",
       " (8698, 'introduce', 'introduce'),\n",
       " (170, 'a', 'a'),\n",
       " (9225, 'triple', 'triple'),\n",
       " (2000, 'space', 'space'),\n",
       " (100, '[UNK]', '🤗'),\n",
       " (119, '.', '.'),\n",
       " (102, '[SEP]', '')]"
      ]
     },
     "execution_count": 151,
     "metadata": {},
     "output_type": "execute_result"
    }
   ],
   "source": [
    "output = wp_tokenizer.encode(text)\n",
    "tokens = [t for t in output.tokens]\n",
    "offsets = [output.offsets[i] for i in range(len(output))]\n",
    "spans  = [text[s:e] for s, e in offsets]\n",
    "\n",
    "list(zip(output.ids, tokens, spans))"
   ]
  },
  {
   "cell_type": "code",
   "execution_count": 152,
   "metadata": {},
   "outputs": [
    {
     "data": {
      "text/plain": [
       "\"Hello, y ' all! How are you? I introduce a triple space.\""
      ]
     },
     "execution_count": 152,
     "metadata": {},
     "output_type": "execute_result"
    }
   ],
   "source": [
    "wp_tokenizer.decode(output.ids)"
   ]
  },
  {
   "cell_type": "markdown",
   "metadata": {},
   "source": [
    "# 3 Unigram\n",
    "\n",
    "[Back to top](#plan)\n",
    "\n",
    "\n",
    "[Unigram](https://huggingface.co/docs/transformers/tokenizer_summary#unigram) is a subword tokenization algorithm introduced in [Subword Regularization: Improving Neural Network Translation Models with Multiple Subword Candidates (Kudo, 2018)](https://arxiv.org/pdf/1804.10959.pdf). In contrast to BPE or WordPiece, Unigram initializes its base vocabulary to a large number of symbols and progressively trims down each symbol to obtain a smaller vocabulary. The base vocabulary could for instance correspond to all pre-tokenized words and the most common substrings. Unigram is not used directly for any of the models in the transformers, but it’s used in conjunction with SentencePiece.\n",
    "\n",
    "At each training step, the Unigram algorithm defines a loss (often defined as the log-likelihood) over the training data given the current vocabulary and a unigram language model. Then, for each symbol in the vocabulary, the algorithm computes how much the overall loss would increase if the symbol was to be removed from the vocabulary. Unigram then removes p (with p usually being 10% or 20%) percent of the symbols whose loss increase is the lowest, i.e. those symbols that least affect the overall loss over the training data. This process is repeated until the vocabulary has reached the desired size. The Unigram algorithm always keeps the base characters so that any word can be tokenized.\n",
    "\n",
    "Because Unigram is not based on merge rules (in contrast to BPE and WordPiece), the algorithm has several ways of tokenizing new text after training. So which one to choose? Unigram saves the probability of each token in the training corpus on top of saving the vocabulary so that the probability of each possible tokenization can be computed after training. The algorithm simply picks the most likely tokenization in practice, but also offers the possibility to sample a possible tokenization according to their probabilities."
   ]
  },
  {
   "cell_type": "code",
   "execution_count": 137,
   "metadata": {},
   "outputs": [
    {
     "data": {
      "text/plain": [
       "tokenizers.models.Unigram"
      ]
     },
     "execution_count": 137,
     "metadata": {},
     "output_type": "execute_result"
    }
   ],
   "source": [
    "uni_tokenizer = Tokenizer.from_pretrained('google-t5/t5-base')\n",
    "\n",
    "type(uni_tokenizer.model)"
   ]
  },
  {
   "cell_type": "code",
   "execution_count": 127,
   "metadata": {},
   "outputs": [
    {
     "data": {
      "text/plain": [
       "<Axes: ylabel='Frequency'>"
      ]
     },
     "execution_count": 127,
     "metadata": {},
     "output_type": "execute_result"
    },
    {
     "data": {
      "image/png": "[encoded data removed]",
      "text/plain": [
       "<Figure size 640x480 with 1 Axes>"
      ]
     },
     "metadata": {},
     "output_type": "display_data"
    }
   ],
   "source": [
    "pd.DataFrame(map(len, uni_tokenizer.get_vocab()), columns = ['Token length']).plot.hist(bins = 50, xticks = list(range(20)))"
   ]
  },
  {
   "cell_type": "code",
   "execution_count": 153,
   "metadata": {},
   "outputs": [
    {
     "data": {
      "text/plain": [
       "[(8774, '▁Hello', 'Hello'),\n",
       " (6, ',', ','),\n",
       " (3, '▁', 'y'),\n",
       " (63, 'y', 'y'),\n",
       " (31, \"'\", \"'\"),\n",
       " (1748, 'all', 'all'),\n",
       " (55, '!', '!'),\n",
       " (571, '▁How', 'How'),\n",
       " (33, '▁are', 'are'),\n",
       " (25, '▁you', 'you'),\n",
       " (3, '▁', '😁'),\n",
       " (2, '😁', '😁'),\n",
       " (58, '?', '?'),\n",
       " (27, '▁I', 'I'),\n",
       " (4277, '▁introduce', 'introduce'),\n",
       " (3, '▁', 'a'),\n",
       " (9, 'a', 'a'),\n",
       " (12063, '▁triple', 'triple'),\n",
       " (628, '▁space', 'space'),\n",
       " (3, '▁', '🤗'),\n",
       " (2, '🤗', '🤗'),\n",
       " (5, '.', '.'),\n",
       " (1, '</s>', '')]"
      ]
     },
     "execution_count": 153,
     "metadata": {},
     "output_type": "execute_result"
    }
   ],
   "source": [
    "output = uni_tokenizer.encode(text)\n",
    "tokens = [t for t in output.tokens]\n",
    "offsets = [output.offsets[i] for i in range(len(output))]\n",
    "spans  = [text[s:e] for s, e in offsets]\n",
    "\n",
    "list(zip(output.ids, tokens, spans))"
   ]
  },
  {
   "cell_type": "code",
   "execution_count": 154,
   "metadata": {},
   "outputs": [
    {
     "data": {
      "text/plain": [
       "\"Hello, y'all! How are you ? I introduce a triple space .\""
      ]
     },
     "execution_count": 154,
     "metadata": {},
     "output_type": "execute_result"
    }
   ],
   "source": [
    "uni_tokenizer.decode(output.ids)"
   ]
  },
  {
   "cell_type": "markdown",
   "metadata": {},
   "source": [
    "### $\\bullet$ GPT-2 tokenizer\n",
    "\n",
    "Tokenizer based on a byte-level BPE tokenizer. The list of special tokens is determined by the [GPT2TokenizerFast](https://huggingface.co/transformers/_modules/transformers/models/gpt2/tokenization_gpt2_fast.html#GPT2TokenizerFast) class."
   ]
  },
  {
   "cell_type": "code",
   "execution_count": null,
   "metadata": {},
   "outputs": [],
   "source": [
    "path_to_vocab_gpt2 = os.path.join(path_to_save, 'gpt2', 'vocabulary')"
   ]
  },
  {
   "cell_type": "code",
   "execution_count": 96,
   "metadata": {},
   "outputs": [
    {
     "data": {
      "text/plain": [
       "['C:\\\\Users\\\\Jb\\\\Desktop\\\\NLP\\\\BERTology\\\\saves\\\\news_auto\\\\gpt2\\\\vocabulary\\\\vocab.json',\n",
       " 'C:\\\\Users\\\\Jb\\\\Desktop\\\\NLP\\\\BERTology\\\\saves\\\\news_auto\\\\gpt2\\\\vocabulary\\\\merges.txt']"
      ]
     },
     "execution_count": 96,
     "metadata": {},
     "output_type": "execute_result"
    }
   ],
   "source": [
    "# instantiate, fit and export GPT2 tokenizer\n",
    "tokenizer_gpt2 = ByteLevelBPETokenizer()\n",
    "tokenizer_gpt2.train(\n",
    "    files = os.path.join(path_to_data, \"news_auto_texts_trn.txt\"), \n",
    "    vocab_size = 5000,\n",
    "    special_tokens = ['<|endoftext|>'],\n",
    ")\n",
    "tokenizer_gpt2.save_model(path_to_vocab_gpt2)"
   ]
  },
  {
   "cell_type": "code",
   "execution_count": 97,
   "metadata": {},
   "outputs": [],
   "source": [
    "#re-import tokenizer into a more suitable class for model training\n",
    "tokenizer_gpt2 = GPT2TokenizerFast.from_pretrained(path_to_vocab_gpt2, max_len = 512)"
   ]
  },
  {
   "cell_type": "code",
   "execution_count": 98,
   "metadata": {},
   "outputs": [
    {
     "name": "stdout",
     "output_type": "stream",
     "text": [
      "Hello, y'all! How are you ?\n",
      "<bound method BatchEncoding.tokens of {'input_ids': [40, 457, 79, 12, 569, 7, 499, 1, 2604, 419, 817, 221, 31], 'attention_mask': [1, 1, 1, 1, 1, 1, 1, 1, 1, 1, 1, 1, 1]}>\n"
     ]
    }
   ],
   "source": [
    "# \"begin of word\" is encoded by the special 'Ġ' character, see\n",
    "# https://discuss.huggingface.co/t/bpe-tokenizers-and-spaces-before-words/475\n",
    "txt = \"Hello, y'all! How are you ?\"\n",
    "output = tokenizer_gpt2(txt)\n",
    "tokens = output.tokens\n",
    "\n",
    "print(txt)\n",
    "print(tokens)"
   ]
  },
  {
   "cell_type": "markdown",
   "metadata": {},
   "source": [
    "### $\\bullet$ Roberta tokenizer\n",
    "\n",
    "Roberta tokenizer is a subclass of GPT2 tokenizer. The list of special tokens is determined by the [RobertaTokenizerFast](https://huggingface.co/transformers/_modules/transformers/models/roberta/tokenization_roberta_fast.html#RobertaTokenizerFast) class."
   ]
  },
  {
   "cell_type": "code",
   "execution_count": 12,
   "metadata": {},
   "outputs": [],
   "source": [
    "path_to_vocab_roberta = os.path.join(path_to_roberta, 'vocabulary')"
   ]
  },
  {
   "cell_type": "code",
   "execution_count": 20,
   "metadata": {},
   "outputs": [
    {
     "data": {
      "text/plain": [
       "['C:\\\\Users\\\\Jb\\\\Desktop\\\\NLP\\\\BERTology\\\\data\\\\vocab\\\\news_auto_roberta\\\\vocab.json',\n",
       " 'C:\\\\Users\\\\Jb\\\\Desktop\\\\NLP\\\\BERTology\\\\data\\\\vocab\\\\news_auto_roberta\\\\merges.txt']"
      ]
     },
     "execution_count": 20,
     "metadata": {},
     "output_type": "execute_result"
    }
   ],
   "source": [
    "# instantiate, fit and export Roberta tokenizer\n",
    "vocab_size = 5000\n",
    "special_tokens = [\"<s>\", \"<pad>\", \"</s>\", \"<unk>\", \"<mask>\"]\n",
    "\n",
    "tokenizer_roberta = ByteLevelBPETokenizer()\n",
    "tokenizer_roberta.train(\n",
    "    files = os.path.join(path_to_data, \"news_auto_texts_trn.txt\"), \n",
    "    vocab_size = vocab_size,\n",
    "    special_tokens = special_tokens,\n",
    ")\n",
    "tokenizer_roberta.save_model(path_to_vocab_roberta)"
   ]
  },
  {
   "cell_type": "code",
   "execution_count": 13,
   "metadata": {},
   "outputs": [],
   "source": [
    "#re-import tokenizer into a more suitable class for model training\n",
    "tokenizer_roberta = RobertaTokenizerFast.from_pretrained(path_to_vocab_roberta, max_len = 512)"
   ]
  },
  {
   "cell_type": "code",
   "execution_count": 89,
   "metadata": {},
   "outputs": [
    {
     "data": {
      "text/plain": [
       "('C:\\\\Users\\\\Jb\\\\Desktop\\\\NLP\\\\BERTology\\\\saves\\\\Tokenizer\\\\news_auto_roberta\\\\tokenizer_config.json',\n",
       " 'C:\\\\Users\\\\Jb\\\\Desktop\\\\NLP\\\\BERTology\\\\saves\\\\Tokenizer\\\\news_auto_roberta\\\\special_tokens_map.json',\n",
       " 'C:\\\\Users\\\\Jb\\\\Desktop\\\\NLP\\\\BERTology\\\\saves\\\\Tokenizer\\\\news_auto_roberta\\\\vocab.json',\n",
       " 'C:\\\\Users\\\\Jb\\\\Desktop\\\\NLP\\\\BERTology\\\\saves\\\\Tokenizer\\\\news_auto_roberta\\\\merges.txt',\n",
       " 'C:\\\\Users\\\\Jb\\\\Desktop\\\\NLP\\\\BERTology\\\\saves\\\\Tokenizer\\\\news_auto_roberta\\\\added_tokens.json')"
      ]
     },
     "execution_count": 89,
     "metadata": {},
     "output_type": "execute_result"
    }
   ],
   "source": [
    "tokenizer_roberta.save_pretrained(os.path.join(path_to_roberta, \"tokenizer\"))"
   ]
  },
  {
   "cell_type": "code",
   "execution_count": 14,
   "metadata": {},
   "outputs": [
    {
     "name": "stdout",
     "output_type": "stream",
     "text": [
      "Hello, y'all! How are you ?\n",
      "<bound method BatchEncoding.tokens of {'input_ids': [0, 44, 461, 83, 16, 573, 11, 503, 5, 2608, 423, 821, 225, 35, 2], 'attention_mask': [1, 1, 1, 1, 1, 1, 1, 1, 1, 1, 1, 1, 1, 1, 1]}>\n"
     ]
    }
   ],
   "source": [
    "txt = \"Hello, y'all! How are you ?\"\n",
    "output = tokenizer_roberta(txt)\n",
    "tokens = output.tokens\n",
    "\n",
    "print(txt)\n",
    "print(tokens)"
   ]
  },
  {
   "cell_type": "markdown",
   "metadata": {},
   "source": [
    "### $\\bullet$ Deberta-v2 tokenizer\n",
    "\n",
    "Tokenizer based on _SentencePiece_. The list of special tokens is determined by the [DebertaV2Tokenizer](https://huggingface.co/transformers/_modules/transformers/models/deberta_v2/tokenization_deberta_v2.html#DebertaV2Tokenizer) class."
   ]
  },
  {
   "cell_type": "code",
   "execution_count": 99,
   "metadata": {
    "scrolled": true
   },
   "outputs": [
    {
     "data": {
      "text/plain": [
       "['C:\\\\Users\\\\Jb\\\\Desktop\\\\NLP\\\\BERTology\\\\saves\\\\news_auto\\\\deberta_v2\\\\vocabulary\\\\vocab.json',\n",
       " 'C:\\\\Users\\\\Jb\\\\Desktop\\\\NLP\\\\BERTology\\\\saves\\\\news_auto\\\\deberta_v2\\\\vocabulary\\\\merges.txt']"
      ]
     },
     "execution_count": 99,
     "metadata": {},
     "output_type": "execute_result"
    }
   ],
   "source": [
    "path_to_vocab_deberta_v2 = os.path.join(path_to_save, 'deberta_v2', 'vocabulary')\n",
    "\n",
    "# instantiate, fit and export Deberta-v2 tokenizer\n",
    "vocab_size = 5000\n",
    "special_tokens = [\"[UNK]\", \"[SEP]\", \"[PAD]\", \"[CLS]\", \"[MASK]\"]\n",
    "\n",
    "tokenizer_debertav2 = SentencePieceBPETokenizer()\n",
    "tokenizer_debertav2.train(\n",
    "    files = os.path.join(path_to_data, \"news_auto_texts_trn.txt\"), \n",
    "    vocab_size = vocab_size,\n",
    "    special_tokens = special_tokens,\n",
    ")\n",
    "tokenizer_debertav2.save_model(path_to_vocab_deberta_v2)"
   ]
  },
  {
   "cell_type": "code",
   "execution_count": 14,
   "metadata": {},
   "outputs": [],
   "source": [
    "# #re-import tokenizer into a more suitable class for model training\n",
    "# not working_\n",
    "# tokenizer_debertav2 = DebertaV2Tokenizer.from_pretrained(path_to_vocab_deberta_v2, max_len = 512)\n",
    "# not working either\n",
    "# tokenizer_debertav2 = DebertaV2Tokenizer(vocab_file = os.path.join(path_to_vocab_deberta_v2, 'vocab.json'))"
   ]
  },
  {
   "cell_type": "markdown",
   "metadata": {},
   "source": [
    "### $\\bullet$ Custom tokenizers"
   ]
  },
  {
   "cell_type": "code",
   "execution_count": 288,
   "metadata": {},
   "outputs": [],
   "source": [
    "def fit_tokenizer(Model, Trainer, vocab_size, special_tokens):\n",
    "    model = (\n",
    "        Model(unk_token = \"[UNK]\")\n",
    "        if 'unk_token' in inspect.signature(Model).parameters # for Unigram model\n",
    "        else Model()\n",
    "    )\n",
    "    # instantiate tokenizer, and fit using external trainer\n",
    "    tokenizer = Tokenizer(model)\n",
    "    tokenizer.pre_tokenizer = Whitespace()\n",
    "    trainer = Trainer(vocab_size = vocab_size, special_tokens = special_tokens)\n",
    "    tokenizer.train(\n",
    "        files = [os.path.join(path_to_data, \"news_auto_texts_trn.txt\")], \n",
    "        trainer = trainer,\n",
    "    )\n",
    "    return tokenizer"
   ]
  },
  {
   "cell_type": "code",
   "execution_count": 294,
   "metadata": {},
   "outputs": [],
   "source": [
    "vocab_size = 5000\n",
    "special_tokens = [\"[UNK]\", \"[SEP]\", \"[PAD]\", \"[CLS]\", \"[MASK]\"]\n",
    "\n",
    "bpe_tokenizer = fit_tokenizer(BPE, BpeTrainer, vocab_size, special_tokens)\n",
    "wdl_tokenizer = fit_tokenizer(WordLevel, WordLevelTrainer, vocab_size, special_tokens)\n",
    "wdp_tokenizer = fit_tokenizer(WordPiece, WordPieceTrainer, vocab_size, special_tokens)\n",
    "uni_tokenizer = fit_tokenizer(Unigram, UnigramTrainer, vocab_size, special_tokens)"
   ]
  },
  {
   "cell_type": "code",
   "execution_count": 295,
   "metadata": {},
   "outputs": [],
   "source": [
    "path_to_bpe = os.path.join(path_to_data, 'vocab', 'news_auto_bpe.json')\n",
    "\n",
    "# save\n",
    "bpe_tokenizer.save(path_to_bpe, pretty = True)\n",
    "\n",
    "# load as base Tokenizer\n",
    "bpe_tokenizer = Tokenizer.from_file(path_to_bpe)\n",
    "\n",
    "# load as tokenizer suitable for model training\n",
    "tokenizer_bpe = PreTrainedTokenizerFast(tokenizer_file = path_to_bpe)"
   ]
  },
  {
   "cell_type": "code",
   "execution_count": 299,
   "metadata": {},
   "outputs": [
    {
     "name": "stdout",
     "output_type": "stream",
     "text": [
      "Hello, y'all! How are you 😁? wanna work at Toyota?\n",
      "<bound method BatchEncoding.tokens of {'input_ids': [44, 1034, 1067, 16, 93, 11, 1121, 5, 2512, 1092, 1458, 0, 35, 91, 1287, 69, 1223, 1013, 4194, 35], 'token_type_ids': [0, 0, 0, 0, 0, 0, 0, 0, 0, 0, 0, 0, 0, 0, 0, 0, 0, 0, 0, 0], 'attention_mask': [1, 1, 1, 1, 1, 1, 1, 1, 1, 1, 1, 1, 1, 1, 1, 1, 1, 1, 1, 1]}>\n"
     ]
    }
   ],
   "source": [
    "txt = \"Hello, y'all! How are you 😁? wanna work at Toyota?\"\n",
    "output = tokenizer_bpe(txt)\n",
    "tokens = output.tokens\n",
    "\n",
    "print(txt)\n",
    "print(tokens)"
   ]
  },
  {
   "cell_type": "code",
   "execution_count": null,
   "metadata": {},
   "outputs": [],
   "source": []
  }
 ],
 "metadata": {
  "kernelspec": {
   "display_name": "Python 3 (ipykernel)",
   "language": "python",
   "name": "python3"
  },
  "language_info": {
   "codemirror_mode": {
    "name": "ipython",
    "version": 3
   },
   "file_extension": ".py",
   "mimetype": "text/x-python",
   "name": "python",
   "nbconvert_exporter": "python",
   "pygments_lexer": "ipython3",
   "version": "3.11.5"
  }
 },
 "nbformat": 4,
 "nbformat_minor": 4
}
