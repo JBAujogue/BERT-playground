{
 "cells": [
  {
   "cell_type": "markdown",
   "metadata": {
    "id": "X4cRE8IbIrIV"
   },
   "source": [
    "<div style=\"font-variant: small-caps; \n",
    "      font-weight: normal; \n",
    "      font-size: 35px; \n",
    "      text-align: center; \n",
    "      padding: 15px; \n",
    "      margin: 10px;\">\n",
    "      Named Entity Recognition\n",
    "  </div> \n",
    "  \n",
    "<div style=\"\n",
    "      font-weight: normal; \n",
    "      font-size: 25px; \n",
    "      text-align: center; \n",
    "      padding: 15px; \n",
    "      margin: 10px;\">\n",
    "     Finetuning on CHIA (BioLinkBert)\n",
    "  </div> \n",
    "\n",
    "\n",
    "  <div style=\"\n",
    "      font-size: 15px; \n",
    "      line-height: 12px; \n",
    "      text-align: center; \n",
    "      padding: 15px; \n",
    "      margin: 10px;\">\n",
    "  Jean-baptiste AUJOGUE - Hybrid Intelligence\n",
    "  </div> \n",
    "\n",
    "\n",
    "  <div style=\" float:right; \n",
    "      font-size: 12px; \n",
    "      line-height: 12px; \n",
    "  padding: 10px 15px 8px;\">\n",
    "  December 2022\n",
    "  </div>"
   ]
  },
  {
   "cell_type": "markdown",
   "metadata": {},
   "source": [
    "<a id=\"TOC\"></a>"
   ]
  },
  {
   "cell_type": "markdown",
   "metadata": {},
   "source": [
    "#### Table Of Content\n",
    "\n",
    "1. [Dataset](#data) <br>\n",
    "2. [Albert finetuning](#albert) <br>\n",
    "3. [Inference](#inference) <br>\n",
    "\n",
    "\n",
    "\n",
    "#### Reference\n",
    "\n",
    "- Hugginface full list of [tutorial notebooks](https://github.com/huggingface/transformers/tree/main/notebooks) (see also [here](https://huggingface.co/docs/transformers/main/notebooks#pytorch-examples))\n",
    "- Huggingface full list of [training scripts](https://github.com/huggingface/transformers/tree/main/examples/pytorch)\n",
    "- Huggingface [tutorial notebook](https://github.com/huggingface/notebooks/blob/main/examples/token_classification.ipynb) on token classification\n",
    "- Huggingface [course](https://huggingface.co/course/chapter7/2?fw=tf) on token classification\n",
    "- Huggingface [training script](https://github.com/huggingface/transformers/blob/main/examples/pytorch/token-classification/run_ner.py) on token classification"
   ]
  },
  {
   "cell_type": "code",
   "execution_count": 1,
   "metadata": {},
   "outputs": [],
   "source": [
    "%load_ext autoreload\n",
    "%autoreload 2"
   ]
  },
  {
   "cell_type": "code",
   "execution_count": 2,
   "metadata": {},
   "outputs": [
    {
     "name": "stderr",
     "output_type": "stream",
     "text": [
      "C:\\Users\\jb\\miniconda3\\envs\\transformers_nlp\\lib\\site-packages\\tqdm\\auto.py:22: TqdmWarning: IProgress not found. Please update jupyter and ipywidgets. See https://ipywidgets.readthedocs.io/en/stable/user_install.html\n",
      "  from .autonotebook import tqdm as notebook_tqdm\n"
     ]
    }
   ],
   "source": [
    "import os\n",
    "import sys\n",
    "import re\n",
    "import random\n",
    "import copy\n",
    "import string\n",
    "\n",
    "# data\n",
    "import pandas as pd\n",
    "import numpy as np\n",
    "from sklearn.model_selection import train_test_split\n",
    "from datasets import (\n",
    "    Dataset, \n",
    "    DatasetDict,\n",
    "    ClassLabel, \n",
    "    Features, \n",
    "    Sequence, \n",
    "    Value,\n",
    ")\n",
    "from transformers import DataCollatorForTokenClassification\n",
    "\n",
    "# DL\n",
    "import torch\n",
    "import transformers\n",
    "from transformers import (\n",
    "    AutoTokenizer,\n",
    "    AutoModelForMaskedLM,\n",
    "    AutoModelForTokenClassification, \n",
    "    TrainingArguments, \n",
    "    Trainer,\n",
    "    pipeline,\n",
    "    set_seed,\n",
    ")\n",
    "import evaluate\n",
    "\n",
    "# viz\n",
    "from IPython.display import HTML"
   ]
  },
  {
   "cell_type": "markdown",
   "metadata": {},
   "source": [
    "#### Transformers settings"
   ]
  },
  {
   "cell_type": "code",
   "execution_count": 3,
   "metadata": {},
   "outputs": [
    {
     "data": {
      "text/plain": [
       "'4.22.2'"
      ]
     },
     "execution_count": 3,
     "metadata": {},
     "output_type": "execute_result"
    }
   ],
   "source": [
    "transformers.__version__"
   ]
  },
  {
   "cell_type": "code",
   "execution_count": 4,
   "metadata": {},
   "outputs": [
    {
     "data": {
      "text/plain": [
       "'cuda'"
      ]
     },
     "execution_count": 4,
     "metadata": {},
     "output_type": "execute_result"
    }
   ],
   "source": [
    "device = 'cuda' if torch.cuda.is_available() else 'cpu'\n",
    "device"
   ]
  },
  {
   "cell_type": "markdown",
   "metadata": {},
   "source": [
    "#### Custom paths & imports"
   ]
  },
  {
   "cell_type": "code",
   "execution_count": 5,
   "metadata": {},
   "outputs": [],
   "source": [
    "path_to_repo = os.path.dirname(os.getcwd())\n",
    "path_to_data = os.path.join(path_to_repo, 'datasets', 'chia', 'chia-ner')\n",
    "path_to_logs = os.path.join(path_to_repo, 'logs', 'NER')\n",
    "path_to_save_mlm = os.path.join(path_to_repo, 'saves', 'MLM')\n",
    "path_to_save_ner = os.path.join(path_to_repo, 'saves', 'NER')\n",
    "path_to_src  = os.path.join(path_to_repo, 'src')"
   ]
  },
  {
   "cell_type": "code",
   "execution_count": 6,
   "metadata": {},
   "outputs": [],
   "source": [
    "sys.path.insert(0, path_to_src)"
   ]
  },
  {
   "cell_type": "code",
   "execution_count": 7,
   "metadata": {},
   "outputs": [],
   "source": [
    "from nlptools.ner.preprocessing import tokenize_and_align_categories, create_labels\n",
    "from nlptools.ner.metrics import compute_metrics, compute_metrics_finegrained\n",
    "from nlptools.ner.postprocessing import parse_trf_ner_output, remove_entity_overlaps, correct_entity_boundaries\n",
    "from nlptools.ner.visualization import render_ner_as_html"
   ]
  },
  {
   "cell_type": "markdown",
   "metadata": {},
   "source": [
    "#### Constants"
   ]
  },
  {
   "cell_type": "code",
   "execution_count": 8,
   "metadata": {},
   "outputs": [],
   "source": [
    "dataset_name = 'chia'\n",
    "hub_model_name = 'michiyasunaga/BioLinkBERT-base'\n",
    "base_model_name = 'biolinkbert'\n",
    "final_model_name = 'biolinkbert-chia'"
   ]
  },
  {
   "cell_type": "markdown",
   "metadata": {},
   "source": [
    "<a id=\"data\"></a>"
   ]
  },
  {
   "cell_type": "markdown",
   "metadata": {
    "id": "whPRbBNbIrIl"
   },
   "source": [
    "# 1. Dataset\n",
    "\n",
    "[Table of content](#TOC)\n",
    "\n",
    "We generate a collection of instances of the `datasets.Dataset` class. \n",
    "\n",
    "Note that these are different from the fairly generic `torch.utils.data.Dataset` class. "
   ]
  },
  {
   "cell_type": "markdown",
   "metadata": {},
   "source": [
    "## 1.1 Load BIO corpus\n",
    "\n",
    "[Table of content](#TOC)"
   ]
  },
  {
   "cell_type": "code",
   "execution_count": 9,
   "metadata": {},
   "outputs": [
    {
     "data": {
      "text/html": [
       "<div>\n",
       "<style scoped>\n",
       "    .dataframe tbody tr th:only-of-type {\n",
       "        vertical-align: middle;\n",
       "    }\n",
       "\n",
       "    .dataframe tbody tr th {\n",
       "        vertical-align: top;\n",
       "    }\n",
       "\n",
       "    .dataframe thead th {\n",
       "        text-align: right;\n",
       "    }\n",
       "</style>\n",
       "<table border=\"1\" class=\"dataframe\">\n",
       "  <thead>\n",
       "    <tr style=\"text-align: right;\">\n",
       "      <th></th>\n",
       "      <th>Id</th>\n",
       "      <th>Sequence_id</th>\n",
       "      <th>Mention</th>\n",
       "      <th>Category</th>\n",
       "    </tr>\n",
       "  </thead>\n",
       "  <tbody>\n",
       "    <tr>\n",
       "      <th>0</th>\n",
       "      <td>NCT00050349_exc</td>\n",
       "      <td>NCT00050349_exc_0</td>\n",
       "      <td>Patients</td>\n",
       "      <td>O</td>\n",
       "    </tr>\n",
       "    <tr>\n",
       "      <th>1</th>\n",
       "      <td>NCT00050349_exc</td>\n",
       "      <td>NCT00050349_exc_0</td>\n",
       "      <td>with</td>\n",
       "      <td>O</td>\n",
       "    </tr>\n",
       "    <tr>\n",
       "      <th>2</th>\n",
       "      <td>NCT00050349_exc</td>\n",
       "      <td>NCT00050349_exc_0</td>\n",
       "      <td>symptomatic</td>\n",
       "      <td>B-Qualifier</td>\n",
       "    </tr>\n",
       "    <tr>\n",
       "      <th>3</th>\n",
       "      <td>NCT00050349_exc</td>\n",
       "      <td>NCT00050349_exc_0</td>\n",
       "      <td></td>\n",
       "      <td>O</td>\n",
       "    </tr>\n",
       "    <tr>\n",
       "      <th>4</th>\n",
       "      <td>NCT00050349_exc</td>\n",
       "      <td>NCT00050349_exc_0</td>\n",
       "      <td>CNS</td>\n",
       "      <td>B-Condition</td>\n",
       "    </tr>\n",
       "    <tr>\n",
       "      <th>5</th>\n",
       "      <td>NCT00050349_exc</td>\n",
       "      <td>NCT00050349_exc_0</td>\n",
       "      <td>metastases</td>\n",
       "      <td>I-Condition</td>\n",
       "    </tr>\n",
       "    <tr>\n",
       "      <th>6</th>\n",
       "      <td>NCT00050349_exc</td>\n",
       "      <td>NCT00050349_exc_0</td>\n",
       "      <td></td>\n",
       "      <td>O</td>\n",
       "    </tr>\n",
       "    <tr>\n",
       "      <th>7</th>\n",
       "      <td>NCT00050349_exc</td>\n",
       "      <td>NCT00050349_exc_0</td>\n",
       "      <td>or</td>\n",
       "      <td>O</td>\n",
       "    </tr>\n",
       "    <tr>\n",
       "      <th>8</th>\n",
       "      <td>NCT00050349_exc</td>\n",
       "      <td>NCT00050349_exc_0</td>\n",
       "      <td>leptomeningeal</td>\n",
       "      <td>B-Condition</td>\n",
       "    </tr>\n",
       "    <tr>\n",
       "      <th>9</th>\n",
       "      <td>NCT00050349_exc</td>\n",
       "      <td>NCT00050349_exc_0</td>\n",
       "      <td>involvement</td>\n",
       "      <td>I-Condition</td>\n",
       "    </tr>\n",
       "  </tbody>\n",
       "</table>\n",
       "</div>"
      ],
      "text/plain": [
       "                Id        Sequence_id         Mention     Category\n",
       "0  NCT00050349_exc  NCT00050349_exc_0        Patients            O\n",
       "1  NCT00050349_exc  NCT00050349_exc_0            with            O\n",
       "2  NCT00050349_exc  NCT00050349_exc_0     symptomatic  B-Qualifier\n",
       "3  NCT00050349_exc  NCT00050349_exc_0                            O\n",
       "4  NCT00050349_exc  NCT00050349_exc_0             CNS  B-Condition\n",
       "5  NCT00050349_exc  NCT00050349_exc_0      metastases  I-Condition\n",
       "6  NCT00050349_exc  NCT00050349_exc_0                            O\n",
       "7  NCT00050349_exc  NCT00050349_exc_0              or            O\n",
       "8  NCT00050349_exc  NCT00050349_exc_0  leptomeningeal  B-Condition\n",
       "9  NCT00050349_exc  NCT00050349_exc_0     involvement  I-Condition"
      ]
     },
     "execution_count": 9,
     "metadata": {},
     "output_type": "execute_result"
    }
   ],
   "source": [
    "df_bio = pd.read_csv(os.path.join(path_to_data, 'chia_bio.tsv'), sep = \"\\t\")\n",
    "\n",
    "df_bio.head(10)"
   ]
  },
  {
   "cell_type": "markdown",
   "metadata": {},
   "source": [
    "For conveniance we create an instance of `ClassLabel` that keeps the class name - class index alignment in a single object :"
   ]
  },
  {
   "cell_type": "code",
   "execution_count": 10,
   "metadata": {
    "scrolled": true
   },
   "outputs": [],
   "source": [
    "class_labels = sorted(list(set(df_bio.Category.unique())))\n",
    "class_labels = ClassLabel(names = class_labels)"
   ]
  },
  {
   "cell_type": "code",
   "execution_count": 11,
   "metadata": {},
   "outputs": [],
   "source": [
    "label2id = class_labels._str2int\n",
    "id2label = {i: l for l, i in label2id.items()}"
   ]
  },
  {
   "cell_type": "markdown",
   "metadata": {},
   "source": [
    "## 1.2 Generate train / valid / test dataset\n",
    "\n",
    "[Table of content](#TOC)"
   ]
  },
  {
   "cell_type": "code",
   "execution_count": 12,
   "metadata": {},
   "outputs": [],
   "source": [
    "def get_item_list(df, grp_col, item_col):\n",
    "    return df.groupby(grp_col).apply(lambda g: g[item_col].tolist()).tolist()\n",
    "\n",
    "\n",
    "\n",
    "def convert_dataframe_to_dataset(df_bio):\n",
    "    data = {\n",
    "        'ids': df_bio.Sequence_id.unique().tolist(),\n",
    "        'mentions': get_item_list(df_bio, 'Sequence_id', 'Mention'),\n",
    "        'categories': get_item_list(df_bio, 'Sequence_id', 'Category'),\n",
    "    }\n",
    "    return data"
   ]
  },
  {
   "cell_type": "code",
   "execution_count": 13,
   "metadata": {},
   "outputs": [
    {
     "data": {
      "text/plain": [
       "(1000, 800, 100, 100)"
      ]
     },
     "execution_count": 13,
     "metadata": {},
     "output_type": "execute_result"
    }
   ],
   "source": [
    "# dataset separation: 800 trials for training, 100 trials for validation and 100 trials for testing\n",
    "ids_bio = sorted(list(set(df_bio.Id.apply(lambda i: i.split('_')[0]))))\n",
    "\n",
    "ids_trn, ids_dev = train_test_split(ids_bio, train_size = 0.8, random_state = 13, shuffle = True)\n",
    "ids_dev, ids_tst = train_test_split(ids_dev, train_size = 0.5, random_state = 13, shuffle = True)\n",
    "\n",
    "len(ids_bio), len(ids_trn), len(ids_dev), len(ids_tst)"
   ]
  },
  {
   "cell_type": "code",
   "execution_count": 14,
   "metadata": {},
   "outputs": [],
   "source": [
    "df_trn = df_bio[df_bio.Id.apply(lambda i: i.split('_')[0]).isin(ids_trn)]\n",
    "df_dev = df_bio[df_bio.Id.apply(lambda i: i.split('_')[0]).isin(ids_dev)]\n",
    "df_tst = df_bio[df_bio.Id.apply(lambda i: i.split('_')[0]).isin(ids_tst)]"
   ]
  },
  {
   "cell_type": "code",
   "execution_count": 15,
   "metadata": {},
   "outputs": [],
   "source": [
    "dict_bio = convert_dataframe_to_dataset(df_bio)\n",
    "dict_trn = convert_dataframe_to_dataset(df_trn)\n",
    "dict_dev = convert_dataframe_to_dataset(df_dev)\n",
    "dict_tst = convert_dataframe_to_dataset(df_tst)"
   ]
  },
  {
   "cell_type": "code",
   "execution_count": 16,
   "metadata": {},
   "outputs": [],
   "source": [
    "# 'ner_tags': Sequence(class_labels),\n",
    "features = Features({\n",
    "    'ids': Value(dtype = 'string'), \n",
    "    'mentions': Sequence(Value(dtype = 'string')), \n",
    "    'categories': Sequence(Value(dtype = 'string')),\n",
    "})"
   ]
  },
  {
   "cell_type": "code",
   "execution_count": 17,
   "metadata": {},
   "outputs": [],
   "source": [
    "datasets = DatasetDict({\n",
    "    'trn': Dataset.from_dict(dict_trn, features = features),\n",
    "    'dev': Dataset.from_dict(dict_dev, features = features),\n",
    "    'tst': Dataset.from_dict(dict_tst, features = features),\n",
    "    'all': Dataset.from_dict(dict_bio, features = features),\n",
    "})"
   ]
  },
  {
   "cell_type": "markdown",
   "metadata": {
    "id": "YVx71GdAIrJH"
   },
   "source": [
    "## 1.3 Apply model-specific tokenization\n",
    "\n",
    "[Table of content](#TOC)\n"
   ]
  },
  {
   "cell_type": "code",
   "execution_count": 18,
   "metadata": {
    "id": "eXNLu_-nIrJI"
   },
   "outputs": [
    {
     "name": "stderr",
     "output_type": "stream",
     "text": [
      "Downloading: 100%|████████████████████████████████████████████████████████████████████| 379/379 [00:00<00:00, 50.8kB/s]\n",
      "C:\\Users\\jb\\miniconda3\\envs\\transformers_nlp\\lib\\site-packages\\huggingface_hub\\file_download.py:123: UserWarning: `huggingface_hub` cache-system uses symlinks by default to efficiently store duplicated files but your machine does not support them in C:\\Users\\jb\\.cache\\huggingface\\hub. Caching files will still work but in a degraded version that might require more space on your disk. This warning can be disabled by setting the `HF_HUB_DISABLE_SYMLINKS_WARNING` environment variable. For more details, see https://huggingface.co/docs/huggingface_hub/how-to-cache#limitations.\n",
      "To support symlinks on Windows, you either need to activate Developer Mode or to run Python as an administrator. In order to see activate developer mode, see this article: https://docs.microsoft.com/en-us/windows/apps/get-started/enable-your-device-for-development\n",
      "  warnings.warn(message)\n",
      "Downloading: 100%|███████████████████████████████████████████████████████████████████| 225k/225k [00:00<00:00, 839kB/s]\n",
      "Downloading: 100%|██████████████████████████████████████████████████████████████████| 447k/447k [00:00<00:00, 1.26MB/s]\n",
      "Downloading: 100%|████████████████████████████████████████████████████████████████████| 112/112 [00:00<00:00, 14.0kB/s]\n"
     ]
    },
    {
     "data": {
      "text/plain": [
       "('C:\\\\Users\\\\jb\\\\Desktop\\\\NLP\\\\perso - Transformers for NLP\\\\saves\\\\MLM\\\\biolinkbert\\\\tokenizer\\\\tokenizer_config.json',\n",
       " 'C:\\\\Users\\\\jb\\\\Desktop\\\\NLP\\\\perso - Transformers for NLP\\\\saves\\\\MLM\\\\biolinkbert\\\\tokenizer\\\\special_tokens_map.json',\n",
       " 'C:\\\\Users\\\\jb\\\\Desktop\\\\NLP\\\\perso - Transformers for NLP\\\\saves\\\\MLM\\\\biolinkbert\\\\tokenizer\\\\vocab.txt',\n",
       " 'C:\\\\Users\\\\jb\\\\Desktop\\\\NLP\\\\perso - Transformers for NLP\\\\saves\\\\MLM\\\\biolinkbert\\\\tokenizer\\\\added_tokens.json',\n",
       " 'C:\\\\Users\\\\jb\\\\Desktop\\\\NLP\\\\perso - Transformers for NLP\\\\saves\\\\MLM\\\\biolinkbert\\\\tokenizer\\\\tokenizer.json')"
      ]
     },
     "execution_count": 18,
     "metadata": {},
     "output_type": "execute_result"
    }
   ],
   "source": [
    "# tokenizer = AutoTokenizer.from_pretrained(hub_model_name)\n",
    "# tokenizer.save_pretrained(os.path.join(path_to_save_mlm, base_model_name, 'tokenizer'))"
   ]
  },
  {
   "cell_type": "code",
   "execution_count": 19,
   "metadata": {},
   "outputs": [],
   "source": [
    "tokenizer = AutoTokenizer.from_pretrained(os.path.join(path_to_save_mlm, base_model_name, 'tokenizer'))"
   ]
  },
  {
   "cell_type": "markdown",
   "metadata": {},
   "source": [
    "We then perform the following operations:\n",
    "- transform the `tokens` column of the datasets by tokenizing further each word into sub-word units\n",
    "- transform the `labels` and `ner_tags` columns of the dataset to align with newly created tokens\n"
   ]
  },
  {
   "cell_type": "code",
   "execution_count": 20,
   "metadata": {},
   "outputs": [
    {
     "data": {
      "text/plain": [
       "{'B-Condition': 'I-Condition',\n",
       " 'B-Device': 'I-Device',\n",
       " 'B-Drug': 'I-Drug',\n",
       " 'B-Measurement': 'I-Measurement',\n",
       " 'B-Observation': 'I-Observation',\n",
       " 'B-Person': 'I-Person',\n",
       " 'B-Procedure': 'I-Procedure',\n",
       " 'B-Qualifier': 'I-Qualifier',\n",
       " 'B-Temporal': 'I-Temporal',\n",
       " 'B-Value': 'I-Value'}"
      ]
     },
     "execution_count": 20,
     "metadata": {},
     "output_type": "execute_result"
    }
   ],
   "source": [
    "B_I_mapping = {l: 'I'+l[1:] for l in class_labels.names if l.startswith('B-')}\n",
    "B_I_mapping"
   ]
  },
  {
   "cell_type": "code",
   "execution_count": 21,
   "metadata": {
    "id": "DDtsaJeVIrJT",
    "outputId": "aa4734bf-4ef5-4437-9948-2c16363da719"
   },
   "outputs": [
    {
     "name": "stderr",
     "output_type": "stream",
     "text": [
      "100%|██████████████████████████████████████████████████████████████████████████████████| 11/11 [00:01<00:00,  6.58ba/s]\n",
      "100%|████████████████████████████████████████████████████████████████████████████████████| 2/2 [00:00<00:00,  7.06ba/s]\n",
      "100%|████████████████████████████████████████████████████████████████████████████████████| 2/2 [00:00<00:00,  8.90ba/s]\n",
      "100%|██████████████████████████████████████████████████████████████████████████████████| 13/13 [00:01<00:00,  6.96ba/s]\n"
     ]
    }
   ],
   "source": [
    "tokenized_datasets = datasets.map(\n",
    "    function = lambda examples: tokenize_and_align_categories(tokenizer, examples, B_I_mapping), \n",
    "    batched  = True,\n",
    ")"
   ]
  },
  {
   "cell_type": "markdown",
   "metadata": {},
   "source": [
    "By contrast to the generic BIO annotated data, this new data depends on the tokenizer, and is therefore _model-specific_."
   ]
  },
  {
   "cell_type": "code",
   "execution_count": 22,
   "metadata": {},
   "outputs": [
    {
     "data": {
      "text/plain": [
       "<AxesSubplot: ylabel='Frequency'>"
      ]
     },
     "execution_count": 22,
     "metadata": {},
     "output_type": "execute_result"
    },
    {
     "data": {
      "image/png": "[encoded data removed]",
      "text/plain": [
       "<Figure size 640x480 with 1 Axes>"
      ]
     },
     "metadata": {},
     "output_type": "display_data"
    }
   ],
   "source": [
    "# distribution of lengths\n",
    "lengths = [len(ts) for ts in tokenized_datasets['all']['input_ids']]\n",
    "lengths = [l for l in lengths if l<= 100]\n",
    "\n",
    "pd.DataFrame(lengths, columns = ['Length']).plot.hist(bins = 100)"
   ]
  },
  {
   "cell_type": "code",
   "execution_count": 23,
   "metadata": {},
   "outputs": [
    {
     "name": "stdout",
     "output_type": "stream",
     "text": [
      "ids : NCT00122070_exc_0\n",
      "mentions : ['Are', 'pregnant', ' ', 'or', 'lactating', '.']\n",
      "categories : ['O', 'B-Condition', 'O', 'O', 'B-Condition', 'O']\n",
      "tokens : ['[CLS]', 'are', 'pregnant', 'or', 'lactating', '.', '[SEP]']\n",
      "token_categories : [None, 'O', 'B-Condition', 'O', 'B-Condition', 'O', None]\n",
      "input_ids : [2, 1810, 6157, 1781, 18522, 17, 3]\n"
     ]
    }
   ],
   "source": [
    "for c in ['ids', 'mentions', 'categories', 'tokens', 'token_categories', 'input_ids']:\n",
    "    print(c, ':', tokenized_datasets['tst'][c][0])"
   ]
  },
  {
   "cell_type": "markdown",
   "metadata": {
    "id": "YVx71GdAIrJH"
   },
   "source": [
    "## 1.4 Map categories to integers\n",
    "\n",
    "[Table of content](#TOC)\n"
   ]
  },
  {
   "cell_type": "code",
   "execution_count": 24,
   "metadata": {},
   "outputs": [
    {
     "name": "stderr",
     "output_type": "stream",
     "text": [
      "100%|██████████████████████████████████████████████████████████████████████████████████| 11/11 [00:02<00:00,  4.72ba/s]\n",
      "100%|████████████████████████████████████████████████████████████████████████████████████| 2/2 [00:00<00:00,  7.82ba/s]\n",
      "100%|████████████████████████████████████████████████████████████████████████████████████| 2/2 [00:00<00:00,  7.01ba/s]\n",
      "100%|██████████████████████████████████████████████████████████████████████████████████| 13/13 [00:02<00:00,  4.55ba/s]\n"
     ]
    }
   ],
   "source": [
    "tokenized_datasets = tokenized_datasets.map(\n",
    "    function = lambda examples: create_labels(examples, class_labels), \n",
    "    batched  = True,\n",
    ")"
   ]
  },
  {
   "cell_type": "markdown",
   "metadata": {},
   "source": [
    "A new `labels` column is available in the dataset, and corresponds to the integer index, in the `class_labels` object, of the category of each token (or -100 if the category is None) :"
   ]
  },
  {
   "cell_type": "code",
   "execution_count": 25,
   "metadata": {},
   "outputs": [
    {
     "name": "stdout",
     "output_type": "stream",
     "text": [
      "ids : NCT00122070_exc_0\n",
      "mentions : ['Are', 'pregnant', ' ', 'or', 'lactating', '.']\n",
      "categories : ['O', 'B-Condition', 'O', 'O', 'B-Condition', 'O']\n",
      "tokens : ['[CLS]', 'are', 'pregnant', 'or', 'lactating', '.', '[SEP]']\n",
      "token_categories : [None, 'O', 'B-Condition', 'O', 'B-Condition', 'O', None]\n",
      "input_ids : [2, 1810, 6157, 1781, 18522, 17, 3]\n",
      "labels : [-100, 20, 0, 20, 0, 20, -100]\n"
     ]
    }
   ],
   "source": [
    "for c in ['ids', 'mentions','categories', 'tokens', 'token_categories', 'input_ids', 'labels']:\n",
    "    print(c, ':', tokenized_datasets['tst'][c][0])"
   ]
  },
  {
   "cell_type": "code",
   "execution_count": 26,
   "metadata": {},
   "outputs": [
    {
     "data": {
      "text/plain": [
       "448"
      ]
     },
     "execution_count": 26,
     "metadata": {},
     "output_type": "execute_result"
    }
   ],
   "source": [
    "max([len(c) for c in tokenized_datasets['trn']['input_ids']])"
   ]
  },
  {
   "cell_type": "markdown",
   "metadata": {},
   "source": [
    "<a id=\"albert\"></a>"
   ]
  },
  {
   "cell_type": "markdown",
   "metadata": {
    "id": "n9qywopnIrJH"
   },
   "source": [
    "# 2. ALBERT finetuning\n",
    "\n",
    "[Table of content](#TOC)"
   ]
  },
  {
   "cell_type": "markdown",
   "metadata": {
    "id": "545PP3o8IrJV"
   },
   "source": [
    "## 2.1 ALBERT model for Token Classification\n",
    "\n",
    "[Table of content](#TOC)"
   ]
  },
  {
   "cell_type": "code",
   "execution_count": 27,
   "metadata": {},
   "outputs": [
    {
     "name": "stderr",
     "output_type": "stream",
     "text": [
      "Downloading: 100%|████████████████████████████████████████████████████████████████████████████| 559/559 [00:00<?, ?B/s]\n",
      "Downloading: 100%|██████████████████████████████████████████████████████████████████| 433M/433M [00:09<00:00, 44.3MB/s]\n",
      "Some weights of BertForMaskedLM were not initialized from the model checkpoint at michiyasunaga/BioLinkBERT-base and are newly initialized: ['cls.predictions.transform.LayerNorm.bias', 'cls.predictions.bias', 'cls.predictions.decoder.weight', 'cls.predictions.transform.dense.bias', 'cls.predictions.transform.dense.weight', 'cls.predictions.transform.LayerNorm.weight']\n",
      "You should probably TRAIN this model on a down-stream task to be able to use it for predictions and inference.\n"
     ]
    }
   ],
   "source": [
    "# model = AutoModelForMaskedLM.from_pretrained(hub_model_name)\n",
    "# model.save_pretrained(os.path.join(path_to_save_mlm, base_model_name, 'model'))"
   ]
  },
  {
   "cell_type": "markdown",
   "metadata": {},
   "source": [
    "## 2.2 Compute finetuning metrics\n",
    "\n",
    "[Table of content](#TOC)"
   ]
  },
  {
   "cell_type": "code",
   "execution_count": 28,
   "metadata": {},
   "outputs": [],
   "source": [
    "# make model creation & training deterministic\n",
    "set_seed(42)"
   ]
  },
  {
   "cell_type": "code",
   "execution_count": 29,
   "metadata": {
    "scrolled": true
   },
   "outputs": [
    {
     "name": "stderr",
     "output_type": "stream",
     "text": [
      "Some weights of the model checkpoint at C:\\Users\\jb\\Desktop\\NLP\\perso - Transformers for NLP\\saves\\MLM\\biolinkbert\\model were not used when initializing BertForTokenClassification: ['cls.predictions.decoder.bias', 'cls.predictions.transform.LayerNorm.bias', 'cls.predictions.bias', 'cls.predictions.decoder.weight', 'cls.predictions.transform.dense.bias', 'cls.predictions.transform.dense.weight', 'cls.predictions.transform.LayerNorm.weight']\n",
      "- This IS expected if you are initializing BertForTokenClassification from the checkpoint of a model trained on another task or with another architecture (e.g. initializing a BertForSequenceClassification model from a BertForPreTraining model).\n",
      "- This IS NOT expected if you are initializing BertForTokenClassification from the checkpoint of a model that you expect to be exactly identical (initializing a BertForSequenceClassification model from a BertForSequenceClassification model).\n",
      "Some weights of BertForTokenClassification were not initialized from the model checkpoint at C:\\Users\\jb\\Desktop\\NLP\\perso - Transformers for NLP\\saves\\MLM\\biolinkbert\\model and are newly initialized: ['classifier.weight', 'classifier.bias']\n",
      "You should probably TRAIN this model on a down-stream task to be able to use it for predictions and inference.\n"
     ]
    }
   ],
   "source": [
    "model = AutoModelForTokenClassification.from_pretrained(\n",
    "    os.path.join(path_to_save_mlm, base_model_name, 'model'),\n",
    "    label2id = label2id,\n",
    "    id2label = id2label,\n",
    ")"
   ]
  },
  {
   "cell_type": "code",
   "execution_count": 30,
   "metadata": {},
   "outputs": [
    {
     "data": {
      "text/plain": [
       "107658261"
      ]
     },
     "execution_count": 30,
     "metadata": {},
     "output_type": "execute_result"
    }
   ],
   "source": [
    "model.num_parameters()"
   ]
  },
  {
   "cell_type": "code",
   "execution_count": 31,
   "metadata": {},
   "outputs": [],
   "source": [
    "batch_size = 6"
   ]
  },
  {
   "cell_type": "code",
   "execution_count": 32,
   "metadata": {},
   "outputs": [],
   "source": [
    "model = model.to(device)\n",
    "model = model.train()"
   ]
  },
  {
   "cell_type": "code",
   "execution_count": 33,
   "metadata": {},
   "outputs": [],
   "source": [
    "args = TrainingArguments(\n",
    "    # training args\n",
    "    learning_rate = 2e-5,\n",
    "    weight_decay = 1e-4,\n",
    "    num_train_epochs = 4,\n",
    "    per_device_train_batch_size = batch_size,\n",
    "    per_device_eval_batch_size = batch_size,\n",
    "\n",
    "    # logging args\n",
    "    output_dir = os.path.join(path_to_save_ner, '_checkpoints'),\n",
    "    logging_dir = os.path.join(path_to_logs, final_model_name),\n",
    "    evaluation_strategy = 'steps',\n",
    "    save_strategy = 'no',\n",
    "    logging_steps = 500,\n",
    "    report_to = ['tensorboard'],\n",
    "    log_level = 'warning',\n",
    ")"
   ]
  },
  {
   "cell_type": "code",
   "execution_count": 34,
   "metadata": {},
   "outputs": [],
   "source": [
    "metric = evaluate.load(\"seqeval\")"
   ]
  },
  {
   "cell_type": "code",
   "execution_count": 35,
   "metadata": {},
   "outputs": [],
   "source": [
    "trainer = Trainer(\n",
    "    model,\n",
    "    args,\n",
    "    data_collator = DataCollatorForTokenClassification(tokenizer),\n",
    "    train_dataset = tokenized_datasets['trn'],\n",
    "    eval_dataset  = tokenized_datasets['dev'],\n",
    "    compute_metrics = lambda p: compute_metrics_finegrained(p, metric, class_labels.names),\n",
    ")"
   ]
  },
  {
   "cell_type": "markdown",
   "metadata": {},
   "source": [
    "Some remarks:\n",
    "\n",
    "- The `data_collator` is the object used to batch elements of the training & evaluation datasets.\n",
    "- The `tokenizer` is provided in order to automatically pad the inputs to the maximum length when batching inputs, and to have it saved along the model, which makes it easier to rerun an interrupted training or reuse the fine-tuned model."
   ]
  },
  {
   "cell_type": "code",
   "execution_count": 36,
   "metadata": {
    "scrolled": false
   },
   "outputs": [
    {
     "name": "stderr",
     "output_type": "stream",
     "text": [
      "C:\\Users\\jb\\miniconda3\\envs\\transformers_nlp\\lib\\site-packages\\transformers\\optimization.py:306: FutureWarning: This implementation of AdamW is deprecated and will be removed in a future version. Use the PyTorch implementation torch.optim.AdamW instead, or set `no_deprecation_warning=True` to disable this warning\n",
      "  warnings.warn(\n",
      "You're using a BertTokenizerFast tokenizer. Please note that with a fast tokenizer, using the `__call__` method is faster than using a method to encode the text followed by a call to the `pad` method to get a padded encoding.\n"
     ]
    },
    {
     "data": {
      "text/html": [
       "\n",
       "    <div>\n",
       "      \n",
       "      <progress value='6732' max='6732' style='width:300px; height:20px; vertical-align: middle;'></progress>\n",
       "      [6732/6732 18:00, Epoch 4/4]\n",
       "    </div>\n",
       "    <table border=\"1\" class=\"dataframe\">\n",
       "  <thead>\n",
       " <tr style=\"text-align: left;\">\n",
       "      <th>Step</th>\n",
       "      <th>Training Loss</th>\n",
       "      <th>Validation Loss</th>\n",
       "      <th>Precision</th>\n",
       "      <th>Recall</th>\n",
       "      <th>F1</th>\n",
       "      <th>Accuracy</th>\n",
       "      <th>Condition precision</th>\n",
       "      <th>Condition recall</th>\n",
       "      <th>Condition f1</th>\n",
       "      <th>Device precision</th>\n",
       "      <th>Device recall</th>\n",
       "      <th>Device f1</th>\n",
       "      <th>Drug precision</th>\n",
       "      <th>Drug recall</th>\n",
       "      <th>Drug f1</th>\n",
       "      <th>Measurement precision</th>\n",
       "      <th>Measurement recall</th>\n",
       "      <th>Measurement f1</th>\n",
       "      <th>Observation precision</th>\n",
       "      <th>Observation recall</th>\n",
       "      <th>Observation f1</th>\n",
       "      <th>Person precision</th>\n",
       "      <th>Person recall</th>\n",
       "      <th>Person f1</th>\n",
       "      <th>Procedure precision</th>\n",
       "      <th>Procedure recall</th>\n",
       "      <th>Procedure f1</th>\n",
       "      <th>Qualifier precision</th>\n",
       "      <th>Qualifier recall</th>\n",
       "      <th>Qualifier f1</th>\n",
       "      <th>Temporal precision</th>\n",
       "      <th>Temporal recall</th>\n",
       "      <th>Temporal f1</th>\n",
       "      <th>Value precision</th>\n",
       "      <th>Value recall</th>\n",
       "      <th>Value f1</th>\n",
       "    </tr>\n",
       "  </thead>\n",
       "  <tbody>\n",
       "    <tr>\n",
       "      <td>500</td>\n",
       "      <td>1.188800</td>\n",
       "      <td>0.783178</td>\n",
       "      <td>0.578495</td>\n",
       "      <td>0.594757</td>\n",
       "      <td>0.586513</td>\n",
       "      <td>0.785086</td>\n",
       "      <td>0.614912</td>\n",
       "      <td>0.764818</td>\n",
       "      <td>0.681721</td>\n",
       "      <td>0.000000</td>\n",
       "      <td>0.000000</td>\n",
       "      <td>0.000000</td>\n",
       "      <td>0.669333</td>\n",
       "      <td>0.769939</td>\n",
       "      <td>0.716120</td>\n",
       "      <td>0.606061</td>\n",
       "      <td>0.695652</td>\n",
       "      <td>0.647773</td>\n",
       "      <td>0.000000</td>\n",
       "      <td>0.000000</td>\n",
       "      <td>0.000000</td>\n",
       "      <td>0.830357</td>\n",
       "      <td>0.628378</td>\n",
       "      <td>0.715385</td>\n",
       "      <td>0.461894</td>\n",
       "      <td>0.680272</td>\n",
       "      <td>0.550206</td>\n",
       "      <td>0.396624</td>\n",
       "      <td>0.254743</td>\n",
       "      <td>0.310231</td>\n",
       "      <td>0.358852</td>\n",
       "      <td>0.273723</td>\n",
       "      <td>0.310559</td>\n",
       "      <td>0.648148</td>\n",
       "      <td>0.664557</td>\n",
       "      <td>0.656250</td>\n",
       "    </tr>\n",
       "    <tr>\n",
       "      <td>1000</td>\n",
       "      <td>0.752900</td>\n",
       "      <td>0.684039</td>\n",
       "      <td>0.626730</td>\n",
       "      <td>0.629501</td>\n",
       "      <td>0.628112</td>\n",
       "      <td>0.795390</td>\n",
       "      <td>0.705420</td>\n",
       "      <td>0.771511</td>\n",
       "      <td>0.736986</td>\n",
       "      <td>0.250000</td>\n",
       "      <td>0.111111</td>\n",
       "      <td>0.153846</td>\n",
       "      <td>0.689840</td>\n",
       "      <td>0.791411</td>\n",
       "      <td>0.737143</td>\n",
       "      <td>0.621951</td>\n",
       "      <td>0.665217</td>\n",
       "      <td>0.642857</td>\n",
       "      <td>0.000000</td>\n",
       "      <td>0.000000</td>\n",
       "      <td>0.000000</td>\n",
       "      <td>0.760274</td>\n",
       "      <td>0.750000</td>\n",
       "      <td>0.755102</td>\n",
       "      <td>0.497525</td>\n",
       "      <td>0.683673</td>\n",
       "      <td>0.575931</td>\n",
       "      <td>0.435424</td>\n",
       "      <td>0.319783</td>\n",
       "      <td>0.368750</td>\n",
       "      <td>0.475806</td>\n",
       "      <td>0.430657</td>\n",
       "      <td>0.452107</td>\n",
       "      <td>0.673716</td>\n",
       "      <td>0.705696</td>\n",
       "      <td>0.689335</td>\n",
       "    </tr>\n",
       "    <tr>\n",
       "      <td>1500</td>\n",
       "      <td>0.681300</td>\n",
       "      <td>0.640430</td>\n",
       "      <td>0.613555</td>\n",
       "      <td>0.700569</td>\n",
       "      <td>0.654181</td>\n",
       "      <td>0.804005</td>\n",
       "      <td>0.694377</td>\n",
       "      <td>0.814532</td>\n",
       "      <td>0.749670</td>\n",
       "      <td>0.363636</td>\n",
       "      <td>0.333333</td>\n",
       "      <td>0.347826</td>\n",
       "      <td>0.689295</td>\n",
       "      <td>0.809816</td>\n",
       "      <td>0.744711</td>\n",
       "      <td>0.578571</td>\n",
       "      <td>0.704348</td>\n",
       "      <td>0.635294</td>\n",
       "      <td>0.235294</td>\n",
       "      <td>0.031496</td>\n",
       "      <td>0.055556</td>\n",
       "      <td>0.782051</td>\n",
       "      <td>0.824324</td>\n",
       "      <td>0.802632</td>\n",
       "      <td>0.510101</td>\n",
       "      <td>0.687075</td>\n",
       "      <td>0.585507</td>\n",
       "      <td>0.428230</td>\n",
       "      <td>0.485095</td>\n",
       "      <td>0.454892</td>\n",
       "      <td>0.520548</td>\n",
       "      <td>0.693431</td>\n",
       "      <td>0.594679</td>\n",
       "      <td>0.679412</td>\n",
       "      <td>0.731013</td>\n",
       "      <td>0.704268</td>\n",
       "    </tr>\n",
       "    <tr>\n",
       "      <td>2000</td>\n",
       "      <td>0.620200</td>\n",
       "      <td>0.625918</td>\n",
       "      <td>0.631007</td>\n",
       "      <td>0.696778</td>\n",
       "      <td>0.662264</td>\n",
       "      <td>0.810757</td>\n",
       "      <td>0.715503</td>\n",
       "      <td>0.803059</td>\n",
       "      <td>0.756757</td>\n",
       "      <td>0.439024</td>\n",
       "      <td>0.500000</td>\n",
       "      <td>0.467532</td>\n",
       "      <td>0.674129</td>\n",
       "      <td>0.831288</td>\n",
       "      <td>0.744505</td>\n",
       "      <td>0.669355</td>\n",
       "      <td>0.721739</td>\n",
       "      <td>0.694561</td>\n",
       "      <td>0.357143</td>\n",
       "      <td>0.078740</td>\n",
       "      <td>0.129032</td>\n",
       "      <td>0.719512</td>\n",
       "      <td>0.797297</td>\n",
       "      <td>0.756410</td>\n",
       "      <td>0.534392</td>\n",
       "      <td>0.687075</td>\n",
       "      <td>0.601190</td>\n",
       "      <td>0.466667</td>\n",
       "      <td>0.474255</td>\n",
       "      <td>0.470430</td>\n",
       "      <td>0.526471</td>\n",
       "      <td>0.653285</td>\n",
       "      <td>0.583062</td>\n",
       "      <td>0.656069</td>\n",
       "      <td>0.718354</td>\n",
       "      <td>0.685801</td>\n",
       "    </tr>\n",
       "    <tr>\n",
       "      <td>2500</td>\n",
       "      <td>0.549600</td>\n",
       "      <td>0.615841</td>\n",
       "      <td>0.630725</td>\n",
       "      <td>0.700253</td>\n",
       "      <td>0.663673</td>\n",
       "      <td>0.808545</td>\n",
       "      <td>0.725862</td>\n",
       "      <td>0.804971</td>\n",
       "      <td>0.763373</td>\n",
       "      <td>0.456522</td>\n",
       "      <td>0.583333</td>\n",
       "      <td>0.512195</td>\n",
       "      <td>0.702918</td>\n",
       "      <td>0.812883</td>\n",
       "      <td>0.753912</td>\n",
       "      <td>0.669323</td>\n",
       "      <td>0.730435</td>\n",
       "      <td>0.698545</td>\n",
       "      <td>0.264706</td>\n",
       "      <td>0.070866</td>\n",
       "      <td>0.111801</td>\n",
       "      <td>0.711765</td>\n",
       "      <td>0.817568</td>\n",
       "      <td>0.761006</td>\n",
       "      <td>0.528497</td>\n",
       "      <td>0.693878</td>\n",
       "      <td>0.600000</td>\n",
       "      <td>0.430657</td>\n",
       "      <td>0.479675</td>\n",
       "      <td>0.453846</td>\n",
       "      <td>0.514368</td>\n",
       "      <td>0.653285</td>\n",
       "      <td>0.575563</td>\n",
       "      <td>0.695783</td>\n",
       "      <td>0.731013</td>\n",
       "      <td>0.712963</td>\n",
       "    </tr>\n",
       "    <tr>\n",
       "      <td>3000</td>\n",
       "      <td>0.556500</td>\n",
       "      <td>0.609183</td>\n",
       "      <td>0.628612</td>\n",
       "      <td>0.700884</td>\n",
       "      <td>0.662784</td>\n",
       "      <td>0.810059</td>\n",
       "      <td>0.751119</td>\n",
       "      <td>0.802103</td>\n",
       "      <td>0.775774</td>\n",
       "      <td>0.486486</td>\n",
       "      <td>0.500000</td>\n",
       "      <td>0.493151</td>\n",
       "      <td>0.710227</td>\n",
       "      <td>0.766871</td>\n",
       "      <td>0.737463</td>\n",
       "      <td>0.638462</td>\n",
       "      <td>0.721739</td>\n",
       "      <td>0.677551</td>\n",
       "      <td>0.488889</td>\n",
       "      <td>0.173228</td>\n",
       "      <td>0.255814</td>\n",
       "      <td>0.732919</td>\n",
       "      <td>0.797297</td>\n",
       "      <td>0.763754</td>\n",
       "      <td>0.524548</td>\n",
       "      <td>0.690476</td>\n",
       "      <td>0.596182</td>\n",
       "      <td>0.404564</td>\n",
       "      <td>0.528455</td>\n",
       "      <td>0.458284</td>\n",
       "      <td>0.523810</td>\n",
       "      <td>0.642336</td>\n",
       "      <td>0.577049</td>\n",
       "      <td>0.657224</td>\n",
       "      <td>0.734177</td>\n",
       "      <td>0.693572</td>\n",
       "    </tr>\n",
       "    <tr>\n",
       "      <td>3500</td>\n",
       "      <td>0.513200</td>\n",
       "      <td>0.638541</td>\n",
       "      <td>0.617527</td>\n",
       "      <td>0.714466</td>\n",
       "      <td>0.662469</td>\n",
       "      <td>0.806857</td>\n",
       "      <td>0.700653</td>\n",
       "      <td>0.821224</td>\n",
       "      <td>0.756162</td>\n",
       "      <td>0.529412</td>\n",
       "      <td>0.500000</td>\n",
       "      <td>0.514286</td>\n",
       "      <td>0.692308</td>\n",
       "      <td>0.800613</td>\n",
       "      <td>0.742532</td>\n",
       "      <td>0.685039</td>\n",
       "      <td>0.756522</td>\n",
       "      <td>0.719008</td>\n",
       "      <td>0.279070</td>\n",
       "      <td>0.188976</td>\n",
       "      <td>0.225352</td>\n",
       "      <td>0.724138</td>\n",
       "      <td>0.851351</td>\n",
       "      <td>0.782609</td>\n",
       "      <td>0.532086</td>\n",
       "      <td>0.676871</td>\n",
       "      <td>0.595808</td>\n",
       "      <td>0.436585</td>\n",
       "      <td>0.485095</td>\n",
       "      <td>0.459564</td>\n",
       "      <td>0.497409</td>\n",
       "      <td>0.700730</td>\n",
       "      <td>0.581818</td>\n",
       "      <td>0.672515</td>\n",
       "      <td>0.727848</td>\n",
       "      <td>0.699088</td>\n",
       "    </tr>\n",
       "    <tr>\n",
       "      <td>4000</td>\n",
       "      <td>0.452000</td>\n",
       "      <td>0.613250</td>\n",
       "      <td>0.641283</td>\n",
       "      <td>0.707517</td>\n",
       "      <td>0.672774</td>\n",
       "      <td>0.812387</td>\n",
       "      <td>0.725151</td>\n",
       "      <td>0.802103</td>\n",
       "      <td>0.761689</td>\n",
       "      <td>0.540541</td>\n",
       "      <td>0.555556</td>\n",
       "      <td>0.547945</td>\n",
       "      <td>0.736994</td>\n",
       "      <td>0.782209</td>\n",
       "      <td>0.758929</td>\n",
       "      <td>0.700820</td>\n",
       "      <td>0.743478</td>\n",
       "      <td>0.721519</td>\n",
       "      <td>0.366667</td>\n",
       "      <td>0.173228</td>\n",
       "      <td>0.235294</td>\n",
       "      <td>0.798658</td>\n",
       "      <td>0.804054</td>\n",
       "      <td>0.801347</td>\n",
       "      <td>0.536458</td>\n",
       "      <td>0.700680</td>\n",
       "      <td>0.607670</td>\n",
       "      <td>0.451074</td>\n",
       "      <td>0.512195</td>\n",
       "      <td>0.479695</td>\n",
       "      <td>0.526027</td>\n",
       "      <td>0.700730</td>\n",
       "      <td>0.600939</td>\n",
       "      <td>0.683735</td>\n",
       "      <td>0.718354</td>\n",
       "      <td>0.700617</td>\n",
       "    </tr>\n",
       "    <tr>\n",
       "      <td>4500</td>\n",
       "      <td>0.432400</td>\n",
       "      <td>0.624112</td>\n",
       "      <td>0.632130</td>\n",
       "      <td>0.724574</td>\n",
       "      <td>0.675202</td>\n",
       "      <td>0.811630</td>\n",
       "      <td>0.746690</td>\n",
       "      <td>0.808795</td>\n",
       "      <td>0.776503</td>\n",
       "      <td>0.500000</td>\n",
       "      <td>0.527778</td>\n",
       "      <td>0.513514</td>\n",
       "      <td>0.713911</td>\n",
       "      <td>0.834356</td>\n",
       "      <td>0.769448</td>\n",
       "      <td>0.687747</td>\n",
       "      <td>0.756522</td>\n",
       "      <td>0.720497</td>\n",
       "      <td>0.253623</td>\n",
       "      <td>0.275591</td>\n",
       "      <td>0.264151</td>\n",
       "      <td>0.761628</td>\n",
       "      <td>0.885135</td>\n",
       "      <td>0.818750</td>\n",
       "      <td>0.554377</td>\n",
       "      <td>0.710884</td>\n",
       "      <td>0.622951</td>\n",
       "      <td>0.443902</td>\n",
       "      <td>0.493225</td>\n",
       "      <td>0.467266</td>\n",
       "      <td>0.509044</td>\n",
       "      <td>0.718978</td>\n",
       "      <td>0.596067</td>\n",
       "      <td>0.673529</td>\n",
       "      <td>0.724684</td>\n",
       "      <td>0.698171</td>\n",
       "    </tr>\n",
       "    <tr>\n",
       "      <td>5000</td>\n",
       "      <td>0.428400</td>\n",
       "      <td>0.608328</td>\n",
       "      <td>0.656522</td>\n",
       "      <td>0.715414</td>\n",
       "      <td>0.684704</td>\n",
       "      <td>0.817859</td>\n",
       "      <td>0.755455</td>\n",
       "      <td>0.794455</td>\n",
       "      <td>0.774464</td>\n",
       "      <td>0.487179</td>\n",
       "      <td>0.527778</td>\n",
       "      <td>0.506667</td>\n",
       "      <td>0.726287</td>\n",
       "      <td>0.822086</td>\n",
       "      <td>0.771223</td>\n",
       "      <td>0.698842</td>\n",
       "      <td>0.786957</td>\n",
       "      <td>0.740286</td>\n",
       "      <td>0.388889</td>\n",
       "      <td>0.220472</td>\n",
       "      <td>0.281407</td>\n",
       "      <td>0.788462</td>\n",
       "      <td>0.831081</td>\n",
       "      <td>0.809211</td>\n",
       "      <td>0.595808</td>\n",
       "      <td>0.676871</td>\n",
       "      <td>0.633758</td>\n",
       "      <td>0.467442</td>\n",
       "      <td>0.544715</td>\n",
       "      <td>0.503129</td>\n",
       "      <td>0.518519</td>\n",
       "      <td>0.664234</td>\n",
       "      <td>0.582400</td>\n",
       "      <td>0.685294</td>\n",
       "      <td>0.737342</td>\n",
       "      <td>0.710366</td>\n",
       "    </tr>\n",
       "    <tr>\n",
       "      <td>5500</td>\n",
       "      <td>0.387500</td>\n",
       "      <td>0.640814</td>\n",
       "      <td>0.630880</td>\n",
       "      <td>0.720152</td>\n",
       "      <td>0.672566</td>\n",
       "      <td>0.808895</td>\n",
       "      <td>0.728374</td>\n",
       "      <td>0.804971</td>\n",
       "      <td>0.764759</td>\n",
       "      <td>0.540541</td>\n",
       "      <td>0.555556</td>\n",
       "      <td>0.547945</td>\n",
       "      <td>0.750708</td>\n",
       "      <td>0.812883</td>\n",
       "      <td>0.780560</td>\n",
       "      <td>0.689922</td>\n",
       "      <td>0.773913</td>\n",
       "      <td>0.729508</td>\n",
       "      <td>0.227586</td>\n",
       "      <td>0.259843</td>\n",
       "      <td>0.242647</td>\n",
       "      <td>0.791139</td>\n",
       "      <td>0.844595</td>\n",
       "      <td>0.816993</td>\n",
       "      <td>0.542199</td>\n",
       "      <td>0.721088</td>\n",
       "      <td>0.618978</td>\n",
       "      <td>0.469136</td>\n",
       "      <td>0.514905</td>\n",
       "      <td>0.490956</td>\n",
       "      <td>0.504087</td>\n",
       "      <td>0.675182</td>\n",
       "      <td>0.577223</td>\n",
       "      <td>0.668605</td>\n",
       "      <td>0.727848</td>\n",
       "      <td>0.696970</td>\n",
       "    </tr>\n",
       "    <tr>\n",
       "      <td>6000</td>\n",
       "      <td>0.359000</td>\n",
       "      <td>0.627512</td>\n",
       "      <td>0.645042</td>\n",
       "      <td>0.719204</td>\n",
       "      <td>0.680108</td>\n",
       "      <td>0.815472</td>\n",
       "      <td>0.733857</td>\n",
       "      <td>0.804015</td>\n",
       "      <td>0.767336</td>\n",
       "      <td>0.600000</td>\n",
       "      <td>0.583333</td>\n",
       "      <td>0.591549</td>\n",
       "      <td>0.756598</td>\n",
       "      <td>0.791411</td>\n",
       "      <td>0.773613</td>\n",
       "      <td>0.700787</td>\n",
       "      <td>0.773913</td>\n",
       "      <td>0.735537</td>\n",
       "      <td>0.333333</td>\n",
       "      <td>0.228346</td>\n",
       "      <td>0.271028</td>\n",
       "      <td>0.786585</td>\n",
       "      <td>0.871622</td>\n",
       "      <td>0.826923</td>\n",
       "      <td>0.552279</td>\n",
       "      <td>0.700680</td>\n",
       "      <td>0.617691</td>\n",
       "      <td>0.446262</td>\n",
       "      <td>0.517615</td>\n",
       "      <td>0.479297</td>\n",
       "      <td>0.520548</td>\n",
       "      <td>0.693431</td>\n",
       "      <td>0.594679</td>\n",
       "      <td>0.694362</td>\n",
       "      <td>0.740506</td>\n",
       "      <td>0.716692</td>\n",
       "    </tr>\n",
       "    <tr>\n",
       "      <td>6500</td>\n",
       "      <td>0.358600</td>\n",
       "      <td>0.629333</td>\n",
       "      <td>0.642898</td>\n",
       "      <td>0.717625</td>\n",
       "      <td>0.678209</td>\n",
       "      <td>0.815123</td>\n",
       "      <td>0.732468</td>\n",
       "      <td>0.808795</td>\n",
       "      <td>0.768741</td>\n",
       "      <td>0.567568</td>\n",
       "      <td>0.583333</td>\n",
       "      <td>0.575342</td>\n",
       "      <td>0.744253</td>\n",
       "      <td>0.794479</td>\n",
       "      <td>0.768546</td>\n",
       "      <td>0.699219</td>\n",
       "      <td>0.778261</td>\n",
       "      <td>0.736626</td>\n",
       "      <td>0.325581</td>\n",
       "      <td>0.220472</td>\n",
       "      <td>0.262911</td>\n",
       "      <td>0.769231</td>\n",
       "      <td>0.878378</td>\n",
       "      <td>0.820189</td>\n",
       "      <td>0.556452</td>\n",
       "      <td>0.704082</td>\n",
       "      <td>0.621622</td>\n",
       "      <td>0.443099</td>\n",
       "      <td>0.495935</td>\n",
       "      <td>0.468031</td>\n",
       "      <td>0.522099</td>\n",
       "      <td>0.689781</td>\n",
       "      <td>0.594340</td>\n",
       "      <td>0.684524</td>\n",
       "      <td>0.727848</td>\n",
       "      <td>0.705521</td>\n",
       "    </tr>\n",
       "  </tbody>\n",
       "</table><p>"
      ],
      "text/plain": [
       "<IPython.core.display.HTML object>"
      ]
     },
     "metadata": {},
     "output_type": "display_data"
    },
    {
     "name": "stderr",
     "output_type": "stream",
     "text": [
      "C:\\Users\\jb\\miniconda3\\envs\\transformers_nlp\\lib\\site-packages\\seqeval\\metrics\\v1.py:57: UndefinedMetricWarning: Precision and F-score are ill-defined and being set to 0.0 in labels with no predicted samples. Use `zero_division` parameter to control this behavior.\n",
      "  _warn_prf(average, modifier, msg_start, len(result))\n"
     ]
    },
    {
     "data": {
      "text/plain": [
       "TrainOutput(global_step=6732, training_loss=0.5520089014045412, metrics={'train_runtime': 1083.5136, 'train_samples_per_second': 37.268, 'train_steps_per_second': 6.213, 'total_flos': 829273269938418.0, 'train_loss': 0.5520089014045412, 'epoch': 4.0})"
      ]
     },
     "execution_count": 36,
     "metadata": {},
     "output_type": "execute_result"
    }
   ],
   "source": [
    "trainer.train()"
   ]
  },
  {
   "cell_type": "code",
   "execution_count": 37,
   "metadata": {},
   "outputs": [
    {
     "data": {
      "text/html": [
       "\n",
       "    <div>\n",
       "      \n",
       "      <progress value='221' max='221' style='width:300px; height:20px; vertical-align: middle;'></progress>\n",
       "      [221/221 00:05]\n",
       "    </div>\n",
       "    "
      ],
      "text/plain": [
       "<IPython.core.display.HTML object>"
      ]
     },
     "metadata": {},
     "output_type": "display_data"
    }
   ],
   "source": [
    "test_results = trainer.evaluate(eval_dataset = tokenized_datasets['tst'], metric_key_prefix = 'test')"
   ]
  },
  {
   "cell_type": "code",
   "execution_count": 38,
   "metadata": {
    "scrolled": true
   },
   "outputs": [
    {
     "name": "stdout",
     "output_type": "stream",
     "text": [
      "test_loss --------------------- 66.546613\n",
      "test_precision ---------------- 66.474128\n",
      "test_recall ------------------- 71.684402\n",
      "test_f1 ----------------------- 68.981019\n",
      "test_accuracy ----------------- 81.924711\n",
      "test_Condition precision ------ 74.292101\n",
      "test_Condition recall --------- 80.144695\n",
      "test_Condition f1 ------------- 77.107502\n",
      "test_Device precision --------- 48.780488\n",
      "test_Device recall ------------ 55.555556\n",
      "test_Device f1 ---------------- 51.948052\n",
      "test_Drug precision ----------- 80.681818\n",
      "test_Drug recall -------------- 81.609195\n",
      "test_Drug f1 ------------------ 81.142857\n",
      "test_Measurement precision ---- 69.062500\n",
      "test_Measurement recall ------- 71.061093\n",
      "test_Measurement f1 ----------- 70.047544\n",
      "test_Observation precision ---- 26.744186\n",
      "test_Observation recall ------- 22.549020\n",
      "test_Observation f1 ----------- 24.468085\n",
      "test_Person precision --------- 80.000000\n",
      "test_Person recall ------------ 83.018868\n",
      "test_Person f1 ---------------- 81.481481\n",
      "test_Procedure precision ------ 62.094763\n",
      "test_Procedure recall --------- 68.784530\n",
      "test_Procedure f1 ------------- 65.268676\n",
      "test_Qualifier precision ------ 47.358121\n",
      "test_Qualifier recall --------- 50.521921\n",
      "test_Qualifier f1 ------------- 48.888889\n",
      "test_Temporal precision ------- 56.200000\n",
      "test_Temporal recall ---------- 69.554455\n",
      "test_Temporal f1 -------------- 62.168142\n",
      "test_Value precision ---------- 71.624714\n",
      "test_Value recall ------------- 76.715686\n",
      "test_Value f1 ----------------- 74.082840\n",
      "test_runtime ------------------ 640.970000\n",
      "test_samples_per_second ------- 20656.400000\n",
      "test_steps_per_second --------- 3447.900000\n",
      "epoch ------------------------- 400.000000\n"
     ]
    }
   ],
   "source": [
    "for k, v in test_results.items():\n",
    "    print(str(k) + ' ' + '-'*(30 - len(k)) + ' {:2f}'.format(100*v))"
   ]
  },
  {
   "cell_type": "code",
   "execution_count": 39,
   "metadata": {},
   "outputs": [],
   "source": [
    "del model\n",
    "\n",
    "torch.cuda.empty_cache()"
   ]
  },
  {
   "cell_type": "markdown",
   "metadata": {},
   "source": [
    "## 2.3 Finetune final model\n",
    "\n",
    "[Table of content](#TOC)"
   ]
  },
  {
   "cell_type": "code",
   "execution_count": 40,
   "metadata": {},
   "outputs": [],
   "source": [
    "# make model creation & training deterministic\n",
    "set_seed(42)"
   ]
  },
  {
   "cell_type": "code",
   "execution_count": 41,
   "metadata": {},
   "outputs": [
    {
     "name": "stderr",
     "output_type": "stream",
     "text": [
      "Some weights of the model checkpoint at C:\\Users\\jb\\Desktop\\NLP\\perso - Transformers for NLP\\saves\\MLM\\biolinkbert\\model were not used when initializing BertForTokenClassification: ['cls.predictions.decoder.bias', 'cls.predictions.transform.LayerNorm.bias', 'cls.predictions.bias', 'cls.predictions.decoder.weight', 'cls.predictions.transform.dense.bias', 'cls.predictions.transform.dense.weight', 'cls.predictions.transform.LayerNorm.weight']\n",
      "- This IS expected if you are initializing BertForTokenClassification from the checkpoint of a model trained on another task or with another architecture (e.g. initializing a BertForSequenceClassification model from a BertForPreTraining model).\n",
      "- This IS NOT expected if you are initializing BertForTokenClassification from the checkpoint of a model that you expect to be exactly identical (initializing a BertForSequenceClassification model from a BertForSequenceClassification model).\n",
      "Some weights of BertForTokenClassification were not initialized from the model checkpoint at C:\\Users\\jb\\Desktop\\NLP\\perso - Transformers for NLP\\saves\\MLM\\biolinkbert\\model and are newly initialized: ['classifier.weight', 'classifier.bias']\n",
      "You should probably TRAIN this model on a down-stream task to be able to use it for predictions and inference.\n"
     ]
    }
   ],
   "source": [
    "model = AutoModelForTokenClassification.from_pretrained(\n",
    "    os.path.join(path_to_save_mlm, base_model_name, 'model'),\n",
    "    num_labels = len(class_labels.names),\n",
    "    label2id = label2id,\n",
    "    id2label = id2label,\n",
    ")"
   ]
  },
  {
   "cell_type": "code",
   "execution_count": 42,
   "metadata": {},
   "outputs": [],
   "source": [
    "batch_size = 6"
   ]
  },
  {
   "cell_type": "code",
   "execution_count": 43,
   "metadata": {},
   "outputs": [],
   "source": [
    "model = model.to(device)\n",
    "model = model.train()"
   ]
  },
  {
   "cell_type": "code",
   "execution_count": 44,
   "metadata": {},
   "outputs": [],
   "source": [
    "args = TrainingArguments(\n",
    "    # training args\n",
    "    learning_rate = 2e-5,\n",
    "    num_train_epochs = 4,\n",
    "    weight_decay = 1e-4,\n",
    "    per_device_train_batch_size = batch_size,\n",
    "    per_device_eval_batch_size = batch_size,\n",
    "\n",
    "    # logging args\n",
    "    output_dir = os.path.join(path_to_save_ner, '_checkpoints'),\n",
    "    evaluation_strategy = 'no',\n",
    "    save_strategy = 'no',\n",
    ")"
   ]
  },
  {
   "cell_type": "code",
   "execution_count": 45,
   "metadata": {},
   "outputs": [],
   "source": [
    "metric = evaluate.load(\"seqeval\")"
   ]
  },
  {
   "cell_type": "code",
   "execution_count": 46,
   "metadata": {},
   "outputs": [],
   "source": [
    "trainer = Trainer(\n",
    "    model,\n",
    "    args,\n",
    "    data_collator = DataCollatorForTokenClassification(tokenizer),\n",
    "    train_dataset = tokenized_datasets['all'],\n",
    ")"
   ]
  },
  {
   "cell_type": "code",
   "execution_count": 47,
   "metadata": {
    "scrolled": true
   },
   "outputs": [
    {
     "name": "stderr",
     "output_type": "stream",
     "text": [
      "The following columns in the training set don't have a corresponding argument in `BertForTokenClassification.forward` and have been ignored: mentions, tokens, categories, ids, token_categories. If mentions, tokens, categories, ids, token_categories are not expected by `BertForTokenClassification.forward`,  you can safely ignore this message.\n",
      "***** Running training *****\n",
      "  Num examples = 12633\n",
      "  Num Epochs = 4\n",
      "  Instantaneous batch size per device = 6\n",
      "  Total train batch size (w. parallel, distributed & accumulation) = 6\n",
      "  Gradient Accumulation steps = 1\n",
      "  Total optimization steps = 8424\n"
     ]
    },
    {
     "data": {
      "text/html": [
       "\n",
       "    <div>\n",
       "      \n",
       "      <progress value='8424' max='8424' style='width:300px; height:20px; vertical-align: middle;'></progress>\n",
       "      [8424/8424 20:31, Epoch 4/4]\n",
       "    </div>\n",
       "    <table border=\"1\" class=\"dataframe\">\n",
       "  <thead>\n",
       " <tr style=\"text-align: left;\">\n",
       "      <th>Step</th>\n",
       "      <th>Training Loss</th>\n",
       "    </tr>\n",
       "  </thead>\n",
       "  <tbody>\n",
       "    <tr>\n",
       "      <td>500</td>\n",
       "      <td>1.187600</td>\n",
       "    </tr>\n",
       "    <tr>\n",
       "      <td>1000</td>\n",
       "      <td>0.765300</td>\n",
       "    </tr>\n",
       "    <tr>\n",
       "      <td>1500</td>\n",
       "      <td>0.675900</td>\n",
       "    </tr>\n",
       "    <tr>\n",
       "      <td>2000</td>\n",
       "      <td>0.666900</td>\n",
       "    </tr>\n",
       "    <tr>\n",
       "      <td>2500</td>\n",
       "      <td>0.582300</td>\n",
       "    </tr>\n",
       "    <tr>\n",
       "      <td>3000</td>\n",
       "      <td>0.537000</td>\n",
       "    </tr>\n",
       "    <tr>\n",
       "      <td>3500</td>\n",
       "      <td>0.510000</td>\n",
       "    </tr>\n",
       "    <tr>\n",
       "      <td>4000</td>\n",
       "      <td>0.526000</td>\n",
       "    </tr>\n",
       "    <tr>\n",
       "      <td>4500</td>\n",
       "      <td>0.472300</td>\n",
       "    </tr>\n",
       "    <tr>\n",
       "      <td>5000</td>\n",
       "      <td>0.435600</td>\n",
       "    </tr>\n",
       "    <tr>\n",
       "      <td>5500</td>\n",
       "      <td>0.419200</td>\n",
       "    </tr>\n",
       "    <tr>\n",
       "      <td>6000</td>\n",
       "      <td>0.420900</td>\n",
       "    </tr>\n",
       "    <tr>\n",
       "      <td>6500</td>\n",
       "      <td>0.406600</td>\n",
       "    </tr>\n",
       "    <tr>\n",
       "      <td>7000</td>\n",
       "      <td>0.363600</td>\n",
       "    </tr>\n",
       "    <tr>\n",
       "      <td>7500</td>\n",
       "      <td>0.343400</td>\n",
       "    </tr>\n",
       "    <tr>\n",
       "      <td>8000</td>\n",
       "      <td>0.344300</td>\n",
       "    </tr>\n",
       "  </tbody>\n",
       "</table><p>"
      ],
      "text/plain": [
       "<IPython.core.display.HTML object>"
      ]
     },
     "metadata": {},
     "output_type": "display_data"
    },
    {
     "name": "stderr",
     "output_type": "stream",
     "text": [
      "\n",
      "\n",
      "Training completed. Do not forget to share your model on huggingface.co/models =)\n",
      "\n",
      "\n"
     ]
    },
    {
     "data": {
      "text/plain": [
       "TrainOutput(global_step=8424, training_loss=0.5317832443222814, metrics={'train_runtime': 1231.8351, 'train_samples_per_second': 41.022, 'train_steps_per_second': 6.839, 'total_flos': 1027014462641124.0, 'train_loss': 0.5317832443222814, 'epoch': 4.0})"
      ]
     },
     "execution_count": 47,
     "metadata": {},
     "output_type": "execute_result"
    }
   ],
   "source": [
    "trainer.train()"
   ]
  },
  {
   "cell_type": "code",
   "execution_count": 48,
   "metadata": {},
   "outputs": [],
   "source": [
    "model = model.to('cpu')"
   ]
  },
  {
   "cell_type": "code",
   "execution_count": 49,
   "metadata": {},
   "outputs": [
    {
     "name": "stderr",
     "output_type": "stream",
     "text": [
      "tokenizer config file saved in C:\\Users\\jb\\Desktop\\NLP\\perso - Transformers for NLP\\saves\\NER\\biolinkbert-chia\\tokenizer\\tokenizer_config.json\n",
      "Special tokens file saved in C:\\Users\\jb\\Desktop\\NLP\\perso - Transformers for NLP\\saves\\NER\\biolinkbert-chia\\tokenizer\\special_tokens_map.json\n",
      "Configuration saved in C:\\Users\\jb\\Desktop\\NLP\\perso - Transformers for NLP\\saves\\NER\\biolinkbert-chia\\model\\config.json\n",
      "Model weights saved in C:\\Users\\jb\\Desktop\\NLP\\perso - Transformers for NLP\\saves\\NER\\biolinkbert-chia\\model\\pytorch_model.bin\n"
     ]
    }
   ],
   "source": [
    "tokenizer.save_pretrained(os.path.join(path_to_save_ner, final_model_name, 'tokenizer'))\n",
    "model.save_pretrained(os.path.join(path_to_save_ner, final_model_name, 'model'))"
   ]
  },
  {
   "cell_type": "markdown",
   "metadata": {},
   "source": [
    "<a id=\"inference\"></a>"
   ]
  },
  {
   "cell_type": "markdown",
   "metadata": {},
   "source": [
    "# 3. Inference\n",
    "\n",
    "[Table of content](#TOC)"
   ]
  },
  {
   "cell_type": "code",
   "execution_count": 50,
   "metadata": {
    "scrolled": true
   },
   "outputs": [
    {
     "name": "stderr",
     "output_type": "stream",
     "text": [
      "loading file vocab.txt\n",
      "loading file tokenizer.json\n",
      "loading file added_tokens.json\n",
      "loading file special_tokens_map.json\n",
      "loading file tokenizer_config.json\n",
      "loading configuration file C:\\Users\\jb\\Desktop\\NLP\\perso - Transformers for NLP\\saves\\NER\\biolinkbert-chia\\model\\config.json\n",
      "Model config BertConfig {\n",
      "  \"_name_or_path\": \"C:\\\\Users\\\\jb\\\\Desktop\\\\NLP\\\\perso - Transformers for NLP\\\\saves\\\\NER\\\\biolinkbert-chia\\\\model\",\n",
      "  \"architectures\": [\n",
      "    \"BertForTokenClassification\"\n",
      "  ],\n",
      "  \"attention_probs_dropout_prob\": 0.1,\n",
      "  \"classifier_dropout\": null,\n",
      "  \"gradient_checkpointing\": false,\n",
      "  \"hidden_act\": \"gelu\",\n",
      "  \"hidden_dropout_prob\": 0.1,\n",
      "  \"hidden_size\": 768,\n",
      "  \"id2label\": {\n",
      "    \"0\": \"B-Condition\",\n",
      "    \"1\": \"B-Device\",\n",
      "    \"2\": \"B-Drug\",\n",
      "    \"3\": \"B-Measurement\",\n",
      "    \"4\": \"B-Observation\",\n",
      "    \"5\": \"B-Person\",\n",
      "    \"6\": \"B-Procedure\",\n",
      "    \"7\": \"B-Qualifier\",\n",
      "    \"8\": \"B-Temporal\",\n",
      "    \"9\": \"B-Value\",\n",
      "    \"10\": \"I-Condition\",\n",
      "    \"11\": \"I-Device\",\n",
      "    \"12\": \"I-Drug\",\n",
      "    \"13\": \"I-Measurement\",\n",
      "    \"14\": \"I-Observation\",\n",
      "    \"15\": \"I-Person\",\n",
      "    \"16\": \"I-Procedure\",\n",
      "    \"17\": \"I-Qualifier\",\n",
      "    \"18\": \"I-Temporal\",\n",
      "    \"19\": \"I-Value\",\n",
      "    \"20\": \"O\"\n",
      "  },\n",
      "  \"initializer_range\": 0.02,\n",
      "  \"intermediate_size\": 3072,\n",
      "  \"label2id\": {\n",
      "    \"B-Condition\": 0,\n",
      "    \"B-Device\": 1,\n",
      "    \"B-Drug\": 2,\n",
      "    \"B-Measurement\": 3,\n",
      "    \"B-Observation\": 4,\n",
      "    \"B-Person\": 5,\n",
      "    \"B-Procedure\": 6,\n",
      "    \"B-Qualifier\": 7,\n",
      "    \"B-Temporal\": 8,\n",
      "    \"B-Value\": 9,\n",
      "    \"I-Condition\": 10,\n",
      "    \"I-Device\": 11,\n",
      "    \"I-Drug\": 12,\n",
      "    \"I-Measurement\": 13,\n",
      "    \"I-Observation\": 14,\n",
      "    \"I-Person\": 15,\n",
      "    \"I-Procedure\": 16,\n",
      "    \"I-Qualifier\": 17,\n",
      "    \"I-Temporal\": 18,\n",
      "    \"I-Value\": 19,\n",
      "    \"O\": 20\n",
      "  },\n",
      "  \"layer_norm_eps\": 1e-12,\n",
      "  \"max_position_embeddings\": 512,\n",
      "  \"model_type\": \"bert\",\n",
      "  \"num_attention_heads\": 12,\n",
      "  \"num_hidden_layers\": 12,\n",
      "  \"pad_token_id\": 0,\n",
      "  \"position_embedding_type\": \"absolute\",\n",
      "  \"torch_dtype\": \"float32\",\n",
      "  \"transformers_version\": \"4.22.2\",\n",
      "  \"type_vocab_size\": 2,\n",
      "  \"use_cache\": true,\n",
      "  \"vocab_size\": 28895\n",
      "}\n",
      "\n",
      "loading weights file C:\\Users\\jb\\Desktop\\NLP\\perso - Transformers for NLP\\saves\\NER\\biolinkbert-chia\\model\\pytorch_model.bin\n",
      "All model checkpoint weights were used when initializing BertForTokenClassification.\n",
      "\n",
      "All the weights of BertForTokenClassification were initialized from the model checkpoint at C:\\Users\\jb\\Desktop\\NLP\\perso - Transformers for NLP\\saves\\NER\\biolinkbert-chia\\model.\n",
      "If your task is similar to the task the model of the checkpoint was trained on, you can already use BertForTokenClassification for predictions without further training.\n"
     ]
    }
   ],
   "source": [
    "tokenizer = AutoTokenizer.from_pretrained(os.path.join(path_to_save_ner, final_model_name, 'tokenizer'))\n",
    "model = AutoModelForTokenClassification.from_pretrained(os.path.join(path_to_save_ner, final_model_name, 'model'))"
   ]
  },
  {
   "cell_type": "code",
   "execution_count": 51,
   "metadata": {},
   "outputs": [],
   "source": [
    "ner = pipeline(\n",
    "    task = 'ner', \n",
    "    model = model, \n",
    "    tokenizer = tokenizer,\n",
    "    framework = 'pt',\n",
    "    aggregation_strategy = 'simple',\n",
    ")"
   ]
  },
  {
   "cell_type": "code",
   "execution_count": 52,
   "metadata": {},
   "outputs": [
    {
     "name": "stderr",
     "output_type": "stream",
     "text": [
      "Asking to truncate to max_length but no maximum length is provided and the model has no predefined maximum length. Default to no truncation.\n"
     ]
    },
    {
     "data": {
      "text/html": [
       "<div class=\"entities\" style=\"line-height: 2.5; direction: ltr\">Participants with at least two of the following: \n",
       "<mark class=\"entity\" style=\"background: #fffad4; padding: 0.45em 0.6em; margin: 0 0.25em; line-height: 1; border-radius: 0.35em;\">\n",
       "    serum M-protein\n",
       "    <span style=\"font-size: 0.8em; font-weight: bold; line-height: 1; border-radius: 0.35em; vertical-align: middle; margin-left: 0.5rem\">Measurement</span>\n",
       "</mark>\n",
       " \n",
       "<mark class=\"entity\" style=\"background: #de97f7; padding: 0.45em 0.6em; margin: 0 0.25em; line-height: 1; border-radius: 0.35em;\">\n",
       "    &gt;= 0.5 g/dL\n",
       "    <span style=\"font-size: 0.8em; font-weight: bold; line-height: 1; border-radius: 0.35em; vertical-align: middle; margin-left: 0.5rem\">Value</span>\n",
       "</mark>\n",
       ", \n",
       "<mark class=\"entity\" style=\"background: #fffad4; padding: 0.45em 0.6em; margin: 0 0.25em; line-height: 1; border-radius: 0.35em;\">\n",
       "    urine M-protein\n",
       "    <span style=\"font-size: 0.8em; font-weight: bold; line-height: 1; border-radius: 0.35em; vertical-align: middle; margin-left: 0.5rem\">Measurement</span>\n",
       "</mark>\n",
       " \n",
       "<mark class=\"entity\" style=\"background: #de97f7; padding: 0.45em 0.6em; margin: 0 0.25em; line-height: 1; border-radius: 0.35em;\">\n",
       "    &gt;=200 mg/24 hours\n",
       "    <span style=\"font-size: 0.8em; font-weight: bold; line-height: 1; border-radius: 0.35em; vertical-align: middle; margin-left: 0.5rem\">Value</span>\n",
       "</mark>\n",
       ", an \n",
       "<mark class=\"entity\" style=\"background: #fffad4; padding: 0.45em 0.6em; margin: 0 0.25em; line-height: 1; border-radius: 0.35em;\">\n",
       "    involved FLC assay\n",
       "    <span style=\"font-size: 0.8em; font-weight: bold; line-height: 1; border-radius: 0.35em; vertical-align: middle; margin-left: 0.5rem\">Measurement</span>\n",
       "</mark>\n",
       " \n",
       "<mark class=\"entity\" style=\"background: #de97f7; padding: 0.45em 0.6em; margin: 0 0.25em; line-height: 1; border-radius: 0.35em;\">\n",
       "    &gt;=100 mg/L\n",
       "    <span style=\"font-size: 0.8em; font-weight: bold; line-height: 1; border-radius: 0.35em; vertical-align: middle; margin-left: 0.5rem\">Value</span>\n",
       "</mark>\n",
       ", and a \n",
       "<mark class=\"entity\" style=\"background: #fffad4; padding: 0.45em 0.6em; margin: 0 0.25em; line-height: 1; border-radius: 0.35em;\">\n",
       "    serum FLC ratio\n",
       "    <span style=\"font-size: 0.8em; font-weight: bold; line-height: 1; border-radius: 0.35em; vertical-align: middle; margin-left: 0.5rem\">Measurement</span>\n",
       "</mark>\n",
       " \n",
       "<mark class=\"entity\" style=\"background: #de97f7; padding: 0.45em 0.6em; margin: 0 0.25em; line-height: 1; border-radius: 0.35em;\">\n",
       "    &lt;0.26\n",
       "    <span style=\"font-size: 0.8em; font-weight: bold; line-height: 1; border-radius: 0.35em; vertical-align: middle; margin-left: 0.5rem\">Value</span>\n",
       "</mark>\n",
       " or a \n",
       "<mark class=\"entity\" style=\"background: #fffad4; padding: 0.45em 0.6em; margin: 0 0.25em; line-height: 1; border-radius: 0.35em;\">\n",
       "    serum FLC ratio\n",
       "    <span style=\"font-size: 0.8em; font-weight: bold; line-height: 1; border-radius: 0.35em; vertical-align: middle; margin-left: 0.5rem\">Measurement</span>\n",
       "</mark>\n",
       "  \n",
       "<mark class=\"entity\" style=\"background: #de97f7; padding: 0.45em 0.6em; margin: 0 0.25em; line-height: 1; border-radius: 0.35em;\">\n",
       "    &gt;1.65\n",
       "    <span style=\"font-size: 0.8em; font-weight: bold; line-height: 1; border-radius: 0.35em; vertical-align: middle; margin-left: 0.5rem\">Value</span>\n",
       "</mark>\n",
       "</div>"
      ],
      "text/plain": [
       "<IPython.core.display.HTML object>"
      ]
     },
     "execution_count": 52,
     "metadata": {},
     "output_type": "execute_result"
    }
   ],
   "source": [
    "sent = 'Participants with at least two of the following: serum M-protein >= 0.5 g/dL, urine M-protein >=200 mg/24 hours, an involved FLC assay >=100 mg/L, and a serum FLC ratio <0.26 or a serum FLC ratio  >1.65'\n",
    "\n",
    "\n",
    "df_ents = parse_trf_ner_output(ner(sent))\n",
    "df_ents = correct_entity_boundaries(sent, df_ents)\n",
    "df_ents = remove_entity_overlaps(df_ents)\n",
    "HTML(render_ner_as_html(sent, df_ents))"
   ]
  },
  {
   "cell_type": "code",
   "execution_count": 53,
   "metadata": {},
   "outputs": [
    {
     "data": {
      "text/html": [
       "<div class=\"entities\" style=\"line-height: 2.5; direction: ltr\">Participants with at least two of the following: \n",
       "<mark class=\"entity\" style=\"background: #fffad4; padding: 0.45em 0.6em; margin: 0 0.25em; line-height: 1; border-radius: 0.35em;\">\n",
       "    Serum M-protein\n",
       "    <span style=\"font-size: 0.8em; font-weight: bold; line-height: 1; border-radius: 0.35em; vertical-align: middle; margin-left: 0.5rem\">Measurement</span>\n",
       "</mark>\n",
       " \n",
       "<mark class=\"entity\" style=\"background: #de97f7; padding: 0.45em 0.6em; margin: 0 0.25em; line-height: 1; border-radius: 0.35em;\">\n",
       "    &gt;= 0.5 g/dL\n",
       "    <span style=\"font-size: 0.8em; font-weight: bold; line-height: 1; border-radius: 0.35em; vertical-align: middle; margin-left: 0.5rem\">Value</span>\n",
       "</mark>\n",
       " measured using \n",
       "<mark class=\"entity\" style=\"background: #84bee8; padding: 0.45em 0.6em; margin: 0 0.25em; line-height: 1; border-radius: 0.35em;\">\n",
       "    serum protein immunoelectrophoresis\n",
       "    <span style=\"font-size: 0.8em; font-weight: bold; line-height: 1; border-radius: 0.35em; vertical-align: middle; margin-left: 0.5rem\">Procedure</span>\n",
       "</mark>\n",
       ", \n",
       "<mark class=\"entity\" style=\"background: #fffad4; padding: 0.45em 0.6em; margin: 0 0.25em; line-height: 1; border-radius: 0.35em;\">\n",
       "    Urine M-protein\n",
       "    <span style=\"font-size: 0.8em; font-weight: bold; line-height: 1; border-radius: 0.35em; vertical-align: middle; margin-left: 0.5rem\">Measurement</span>\n",
       "</mark>\n",
       " \n",
       "<mark class=\"entity\" style=\"background: #de97f7; padding: 0.45em 0.6em; margin: 0 0.25em; line-height: 1; border-radius: 0.35em;\">\n",
       "    &gt;=200 mg/24 hours\n",
       "    <span style=\"font-size: 0.8em; font-weight: bold; line-height: 1; border-radius: 0.35em; vertical-align: middle; margin-left: 0.5rem\">Value</span>\n",
       "</mark>\n",
       " measured using \n",
       "<mark class=\"entity\" style=\"background: #84bee8; padding: 0.45em 0.6em; margin: 0 0.25em; line-height: 1; border-radius: 0.35em;\">\n",
       "    urine protein immunoelectrophoresis\n",
       "    <span style=\"font-size: 0.8em; font-weight: bold; line-height: 1; border-radius: 0.35em; vertical-align: middle; margin-left: 0.5rem\">Procedure</span>\n",
       "</mark>\n",
       ", \n",
       "<mark class=\"entity\" style=\"background: #fffad4; padding: 0.45em 0.6em; margin: 0 0.25em; line-height: 1; border-radius: 0.35em;\">\n",
       "    Serum free light chain (FLC)\n",
       "    <span style=\"font-size: 0.8em; font-weight: bold; line-height: 1; border-radius: 0.35em; vertical-align: middle; margin-left: 0.5rem\">Measurement</span>\n",
       "</mark>\n",
       " \n",
       "<mark class=\"entity\" style=\"background: #84bee8; padding: 0.45em 0.6em; margin: 0 0.25em; line-height: 1; border-radius: 0.35em;\">\n",
       "    assay\n",
       "    <span style=\"font-size: 0.8em; font-weight: bold; line-height: 1; border-radius: 0.35em; vertical-align: middle; margin-left: 0.5rem\">Procedure</span>\n",
       "</mark>\n",
       " with an \n",
       "<mark class=\"entity\" style=\"background: #fffad4; padding: 0.45em 0.6em; margin: 0 0.25em; line-height: 1; border-radius: 0.35em;\">\n",
       "    involved FLC assay\n",
       "    <span style=\"font-size: 0.8em; font-weight: bold; line-height: 1; border-radius: 0.35em; vertical-align: middle; margin-left: 0.5rem\">Measurement</span>\n",
       "</mark>\n",
       " \n",
       "<mark class=\"entity\" style=\"background: #de97f7; padding: 0.45em 0.6em; margin: 0 0.25em; line-height: 1; border-radius: 0.35em;\">\n",
       "    &gt;=100 mg/L\n",
       "    <span style=\"font-size: 0.8em; font-weight: bold; line-height: 1; border-radius: 0.35em; vertical-align: middle; margin-left: 0.5rem\">Value</span>\n",
       "</mark>\n",
       ", and a \n",
       "<mark class=\"entity\" style=\"background: #fffad4; padding: 0.45em 0.6em; margin: 0 0.25em; line-height: 1; border-radius: 0.35em;\">\n",
       "    serum FLC ratio\n",
       "    <span style=\"font-size: 0.8em; font-weight: bold; line-height: 1; border-radius: 0.35em; vertical-align: middle; margin-left: 0.5rem\">Measurement</span>\n",
       "</mark>\n",
       " \n",
       "<mark class=\"entity\" style=\"background: #de97f7; padding: 0.45em 0.6em; margin: 0 0.25em; line-height: 1; border-radius: 0.35em;\">\n",
       "    &lt; 0.26\n",
       "    <span style=\"font-size: 0.8em; font-weight: bold; line-height: 1; border-radius: 0.35em; vertical-align: middle; margin-left: 0.5rem\">Value</span>\n",
       "</mark>\n",
       " or a \n",
       "<mark class=\"entity\" style=\"background: #fffad4; padding: 0.45em 0.6em; margin: 0 0.25em; line-height: 1; border-radius: 0.35em;\">\n",
       "    serum FLC ratio\n",
       "    <span style=\"font-size: 0.8em; font-weight: bold; line-height: 1; border-radius: 0.35em; vertical-align: middle; margin-left: 0.5rem\">Measurement</span>\n",
       "</mark>\n",
       "  \n",
       "<mark class=\"entity\" style=\"background: #de97f7; padding: 0.45em 0.6em; margin: 0 0.25em; line-height: 1; border-radius: 0.35em;\">\n",
       "    &gt; 1.65\n",
       "    <span style=\"font-size: 0.8em; font-weight: bold; line-height: 1; border-radius: 0.35em; vertical-align: middle; margin-left: 0.5rem\">Value</span>\n",
       "</mark>\n",
       "</div>"
      ],
      "text/plain": [
       "<IPython.core.display.HTML object>"
      ]
     },
     "execution_count": 53,
     "metadata": {},
     "output_type": "execute_result"
    }
   ],
   "source": [
    "sent = 'Participants with at least two of the following: Serum M-protein >= 0.5 g/dL measured using serum protein immunoelectrophoresis, Urine M-protein >=200 mg/24 hours measured using urine protein immunoelectrophoresis, Serum free light chain (FLC) assay with an involved FLC assay >=100 mg/L, and a serum FLC ratio < 0.26 or a serum FLC ratio  > 1.65'\n",
    "\n",
    "\n",
    "df_ents = parse_trf_ner_output(ner(sent))\n",
    "df_ents = correct_entity_boundaries(sent, df_ents)\n",
    "df_ents = remove_entity_overlaps(df_ents)\n",
    "HTML(render_ner_as_html(sent, df_ents))"
   ]
  },
  {
   "cell_type": "code",
   "execution_count": 54,
   "metadata": {},
   "outputs": [
    {
     "data": {
      "text/html": [
       "<div class=\"entities\" style=\"line-height: 2.5; direction: ltr\">\n",
       "<mark class=\"entity\" style=\"background: #ff6e70; padding: 0.45em 0.6em; margin: 0 0.25em; line-height: 1; border-radius: 0.35em;\">\n",
       "    Polyneuropathy\n",
       "    <span style=\"font-size: 0.8em; font-weight: bold; line-height: 1; border-radius: 0.35em; vertical-align: middle; margin-left: 0.5rem\">Condition</span>\n",
       "</mark>\n",
       " of \n",
       "<mark class=\"entity\" style=\"background: #de97f7; padding: 0.45em 0.6em; margin: 0 0.25em; line-height: 1; border-radius: 0.35em;\">\n",
       "    other causes\n",
       "    <span style=\"font-size: 0.8em; font-weight: bold; line-height: 1; border-radius: 0.35em; vertical-align: middle; margin-left: 0.5rem\">Qualifier</span>\n",
       "</mark>\n",
       ", including but not limited to \n",
       "<mark class=\"entity\" style=\"background: #ff6e70; padding: 0.45em 0.6em; margin: 0 0.25em; line-height: 1; border-radius: 0.35em;\">\n",
       "    hereditary demyelinating neuropathies\n",
       "    <span style=\"font-size: 0.8em; font-weight: bold; line-height: 1; border-radius: 0.35em; vertical-align: middle; margin-left: 0.5rem\">Condition</span>\n",
       "</mark>\n",
       ", \n",
       "<mark class=\"entity\" style=\"background: #ff6e70; padding: 0.45em 0.6em; margin: 0 0.25em; line-height: 1; border-radius: 0.35em;\">\n",
       "    neuropathies\n",
       "    <span style=\"font-size: 0.8em; font-weight: bold; line-height: 1; border-radius: 0.35em; vertical-align: middle; margin-left: 0.5rem\">Condition</span>\n",
       "</mark>\n",
       " \n",
       "<mark class=\"entity\" style=\"background: #de97f7; padding: 0.45em 0.6em; margin: 0 0.25em; line-height: 1; border-radius: 0.35em;\">\n",
       "    secondary to infection or systemic disease\n",
       "    <span style=\"font-size: 0.8em; font-weight: bold; line-height: 1; border-radius: 0.35em; vertical-align: middle; margin-left: 0.5rem\">Qualifier</span>\n",
       "</mark>\n",
       ", \n",
       "<mark class=\"entity\" style=\"background: #ff6e70; padding: 0.45em 0.6em; margin: 0 0.25em; line-height: 1; border-radius: 0.35em;\">\n",
       "    diabetic neuropathy\n",
       "    <span style=\"font-size: 0.8em; font-weight: bold; line-height: 1; border-radius: 0.35em; vertical-align: middle; margin-left: 0.5rem\">Condition</span>\n",
       "</mark>\n",
       ", \n",
       "<mark class=\"entity\" style=\"background: #de97f7; padding: 0.45em 0.6em; margin: 0 0.25em; line-height: 1; border-radius: 0.35em;\">\n",
       "    drug- or toxin-induced\n",
       "    <span style=\"font-size: 0.8em; font-weight: bold; line-height: 1; border-radius: 0.35em; vertical-align: middle; margin-left: 0.5rem\">Qualifier</span>\n",
       "</mark>\n",
       " \n",
       "<mark class=\"entity\" style=\"background: #ff6e70; padding: 0.45em 0.6em; margin: 0 0.25em; line-height: 1; border-radius: 0.35em;\">\n",
       "    neuropathies\n",
       "    <span style=\"font-size: 0.8em; font-weight: bold; line-height: 1; border-radius: 0.35em; vertical-align: middle; margin-left: 0.5rem\">Condition</span>\n",
       "</mark>\n",
       ", \n",
       "<mark class=\"entity\" style=\"background: #ff6e70; padding: 0.45em 0.6em; margin: 0 0.25em; line-height: 1; border-radius: 0.35em;\">\n",
       "    multifocal motor neuropathy\n",
       "    <span style=\"font-size: 0.8em; font-weight: bold; line-height: 1; border-radius: 0.35em; vertical-align: middle; margin-left: 0.5rem\">Condition</span>\n",
       "</mark>\n",
       ", \n",
       "<mark class=\"entity\" style=\"background: #ff6e70; padding: 0.45em 0.6em; margin: 0 0.25em; line-height: 1; border-radius: 0.35em;\">\n",
       "    monoclonal gammopathy of uncertain significance\n",
       "    <span style=\"font-size: 0.8em; font-weight: bold; line-height: 1; border-radius: 0.35em; vertical-align: middle; margin-left: 0.5rem\">Condition</span>\n",
       "</mark>\n",
       ", \n",
       "<mark class=\"entity\" style=\"background: #ff6e70; padding: 0.45em 0.6em; margin: 0 0.25em; line-height: 1; border-radius: 0.35em;\">\n",
       "    lumbosacral radiculoplexus neuropathy\n",
       "    <span style=\"font-size: 0.8em; font-weight: bold; line-height: 1; border-radius: 0.35em; vertical-align: middle; margin-left: 0.5rem\">Condition</span>\n",
       "</mark>\n",
       ", \n",
       "<mark class=\"entity\" style=\"background: #de97f7; padding: 0.45em 0.6em; margin: 0 0.25em; line-height: 1; border-radius: 0.35em;\">\n",
       "    pure\n",
       "    <span style=\"font-size: 0.8em; font-weight: bold; line-height: 1; border-radius: 0.35em; vertical-align: middle; margin-left: 0.5rem\">Qualifier</span>\n",
       "</mark>\n",
       " \n",
       "<mark class=\"entity\" style=\"background: #ff6e70; padding: 0.45em 0.6em; margin: 0 0.25em; line-height: 1; border-radius: 0.35em;\">\n",
       "    sensory CIDP\n",
       "    <span style=\"font-size: 0.8em; font-weight: bold; line-height: 1; border-radius: 0.35em; vertical-align: middle; margin-left: 0.5rem\">Condition</span>\n",
       "</mark>\n",
       " and \n",
       "<mark class=\"entity\" style=\"background: #ff6e70; padding: 0.45em 0.6em; margin: 0 0.25em; line-height: 1; border-radius: 0.35em;\">\n",
       "    acquired demyelinating symmetric (DADS) neuropathy\n",
       "    <span style=\"font-size: 0.8em; font-weight: bold; line-height: 1; border-radius: 0.35em; vertical-align: middle; margin-left: 0.5rem\">Condition</span>\n",
       "</mark>\n",
       " (also known as \n",
       "<mark class=\"entity\" style=\"background: #ff6e70; padding: 0.45em 0.6em; margin: 0 0.25em; line-height: 1; border-radius: 0.35em;\">\n",
       "    distal CIDP\n",
       "    <span style=\"font-size: 0.8em; font-weight: bold; line-height: 1; border-radius: 0.35em; vertical-align: middle; margin-left: 0.5rem\">Condition</span>\n",
       "</mark>\n",
       ").</div>"
      ],
      "text/plain": [
       "<IPython.core.display.HTML object>"
      ]
     },
     "execution_count": 54,
     "metadata": {},
     "output_type": "execute_result"
    }
   ],
   "source": [
    "sent = 'Polyneuropathy of other causes, including but not limited to hereditary demyelinating neuropathies, neuropathies secondary to infection or systemic disease, diabetic neuropathy, drug- or toxin-induced neuropathies, multifocal motor neuropathy, monoclonal gammopathy of uncertain significance, lumbosacral radiculoplexus neuropathy, pure sensory CIDP and acquired demyelinating symmetric (DADS) neuropathy (also known as distal CIDP).'\n",
    "\n",
    "df_ents = parse_trf_ner_output(ner(sent))\n",
    "df_ents = correct_entity_boundaries(sent, df_ents)\n",
    "df_ents = remove_entity_overlaps(df_ents)\n",
    "HTML(render_ner_as_html(sent, df_ents))"
   ]
  },
  {
   "cell_type": "code",
   "execution_count": 55,
   "metadata": {
    "scrolled": true
   },
   "outputs": [
    {
     "data": {
      "text/html": [
       "<div class=\"entities\" style=\"line-height: 2.5; direction: ltr\">\n",
       "<mark class=\"entity\" style=\"background: #377aab; padding: 0.45em 0.6em; margin: 0 0.25em; line-height: 1; border-radius: 0.35em;\">\n",
       "    Adults\n",
       "    <span style=\"font-size: 0.8em; font-weight: bold; line-height: 1; border-radius: 0.35em; vertical-align: middle; margin-left: 0.5rem\">Person</span>\n",
       "</mark>\n",
       " and \n",
       "<mark class=\"entity\" style=\"background: #377aab; padding: 0.45em 0.6em; margin: 0 0.25em; line-height: 1; border-radius: 0.35em;\">\n",
       "    adolescent\n",
       "    <span style=\"font-size: 0.8em; font-weight: bold; line-height: 1; border-radius: 0.35em; vertical-align: middle; margin-left: 0.5rem\">Person</span>\n",
       "</mark>\n",
       " patients with a physician diagnosis of \n",
       "<mark class=\"entity\" style=\"background: #ff6e70; padding: 0.45em 0.6em; margin: 0 0.25em; line-height: 1; border-radius: 0.35em;\">\n",
       "    asthma\n",
       "    <span style=\"font-size: 0.8em; font-weight: bold; line-height: 1; border-radius: 0.35em; vertical-align: middle; margin-left: 0.5rem\">Condition</span>\n",
       "</mark>\n",
       " \n",
       "<mark class=\"entity\" style=\"background: #de97f7; padding: 0.45em 0.6em; margin: 0 0.25em; line-height: 1; border-radius: 0.35em;\">\n",
       "    for ≥12 months\n",
       "    <span style=\"font-size: 0.8em; font-weight: bold; line-height: 1; border-radius: 0.35em; vertical-align: middle; margin-left: 0.5rem\">Temporal</span>\n",
       "</mark>\n",
       ", based on the \n",
       "<mark class=\"entity\" style=\"background: #fffad4; padding: 0.45em 0.6em; margin: 0 0.25em; line-height: 1; border-radius: 0.35em;\">\n",
       "    Global Initiative for Asthma (GINA) 2014 Guidelines\n",
       "    <span style=\"font-size: 0.8em; font-weight: bold; line-height: 1; border-radius: 0.35em; vertical-align: middle; margin-left: 0.5rem\">Measurement</span>\n",
       "</mark>\n",
       " and the followingcriteria: A) \n",
       "<mark class=\"entity\" style=\"background: #de97f7; padding: 0.45em 0.6em; margin: 0 0.25em; line-height: 1; border-radius: 0.35em;\">\n",
       "    Existing\n",
       "    <span style=\"font-size: 0.8em; font-weight: bold; line-height: 1; border-radius: 0.35em; vertical-align: middle; margin-left: 0.5rem\">Temporal</span>\n",
       "</mark>\n",
       " treatment with \n",
       "<mark class=\"entity\" style=\"background: #de97f7; padding: 0.45em 0.6em; margin: 0 0.25em; line-height: 1; border-radius: 0.35em;\">\n",
       "    medium\n",
       "    <span style=\"font-size: 0.8em; font-weight: bold; line-height: 1; border-radius: 0.35em; vertical-align: middle; margin-left: 0.5rem\">Qualifier</span>\n",
       "</mark>\n",
       " to high dose \n",
       "<mark class=\"entity\" style=\"background: #50ebb2; padding: 0.45em 0.6em; margin: 0 0.25em; line-height: 1; border-radius: 0.35em;\">\n",
       "    ICS\n",
       "    <span style=\"font-size: 0.8em; font-weight: bold; line-height: 1; border-radius: 0.35em; vertical-align: middle; margin-left: 0.5rem\">Drug</span>\n",
       "</mark>\n",
       " (≥250 mcg of \n",
       "<mark class=\"entity\" style=\"background: #50ebb2; padding: 0.45em 0.6em; margin: 0 0.25em; line-height: 1; border-radius: 0.35em;\">\n",
       "    fluticasone propionate\n",
       "    <span style=\"font-size: 0.8em; font-weight: bold; line-height: 1; border-radius: 0.35em; vertical-align: middle; margin-left: 0.5rem\">Drug</span>\n",
       "</mark>\n",
       " twice daily or equipotent ICS daily dosage to a maximum of 2000 mcg/day of fluticasone propionate or equivalent) in combination with a \n",
       "<mark class=\"entity\" style=\"background: #50ebb2; padding: 0.45em 0.6em; margin: 0 0.25em; line-height: 1; border-radius: 0.35em;\">\n",
       "    second controller\n",
       "    <span style=\"font-size: 0.8em; font-weight: bold; line-height: 1; border-radius: 0.35em; vertical-align: middle; margin-left: 0.5rem\">Drug</span>\n",
       "</mark>\n",
       " (eg, \n",
       "<mark class=\"entity\" style=\"background: #50ebb2; padding: 0.45em 0.6em; margin: 0 0.25em; line-height: 1; border-radius: 0.35em;\">\n",
       "    LABA\n",
       "    <span style=\"font-size: 0.8em; font-weight: bold; line-height: 1; border-radius: 0.35em; vertical-align: middle; margin-left: 0.5rem\">Drug</span>\n",
       "</mark>\n",
       ", \n",
       "<mark class=\"entity\" style=\"background: #50ebb2; padding: 0.45em 0.6em; margin: 0 0.25em; line-height: 1; border-radius: 0.35em;\">\n",
       "    LTRA\n",
       "    <span style=\"font-size: 0.8em; font-weight: bold; line-height: 1; border-radius: 0.35em; vertical-align: middle; margin-left: 0.5rem\">Drug</span>\n",
       "</mark>\n",
       ") \n",
       "<mark class=\"entity\" style=\"background: #de97f7; padding: 0.45em 0.6em; margin: 0 0.25em; line-height: 1; border-radius: 0.35em;\">\n",
       "    for at least 3 months\n",
       "    <span style=\"font-size: 0.8em; font-weight: bold; line-height: 1; border-radius: 0.35em; vertical-align: middle; margin-left: 0.5rem\">Temporal</span>\n",
       "</mark>\n",
       " with a \n",
       "<mark class=\"entity\" style=\"background: #de97f7; padding: 0.45em 0.6em; margin: 0 0.25em; line-height: 1; border-radius: 0.35em;\">\n",
       "    stable dose\n",
       "    <span style=\"font-size: 0.8em; font-weight: bold; line-height: 1; border-radius: 0.35em; vertical-align: middle; margin-left: 0.5rem\">Qualifier</span>\n",
       "</mark>\n",
       " \n",
       "<mark class=\"entity\" style=\"background: #de97f7; padding: 0.45em 0.6em; margin: 0 0.25em; line-height: 1; border-radius: 0.35em;\">\n",
       "    ≥1 month prior to Visit 1\n",
       "    <span style=\"font-size: 0.8em; font-weight: bold; line-height: 1; border-radius: 0.35em; vertical-align: middle; margin-left: 0.5rem\">Temporal</span>\n",
       "</mark>\n",
       ".</div>"
      ],
      "text/plain": [
       "<IPython.core.display.HTML object>"
      ]
     },
     "execution_count": 55,
     "metadata": {},
     "output_type": "execute_result"
    }
   ],
   "source": [
    "sent = 'Adults and adolescent patients with a physician diagnosis of asthma ' +\\\n",
    "    'for ≥12 months, based on the Global Initiative for Asthma (GINA) 2014 Guidelines ' +\\\n",
    "    'and the followingcriteria: A) Existing treatment with medium to high dose ICS ' +\\\n",
    "    '(≥250 mcg of fluticasone propionate twice daily or equipotent ICS daily dosage ' +\\\n",
    "    'to a maximum of 2000 mcg/day of fluticasone propionate or equivalent) in combination ' +\\\n",
    "    'with a second controller (eg, LABA, LTRA) for at least 3 months with a stable dose ≥1 ' +\\\n",
    "    'month prior to Visit 1.'\n",
    "\n",
    "df_ents = parse_trf_ner_output(ner(sent))\n",
    "df_ents = correct_entity_boundaries(sent, df_ents)\n",
    "df_ents = remove_entity_overlaps(df_ents)\n",
    "HTML(render_ner_as_html(sent, df_ents))"
   ]
  },
  {
   "cell_type": "code",
   "execution_count": 56,
   "metadata": {},
   "outputs": [
    {
     "data": {
      "text/html": [
       "<div class=\"entities\" style=\"line-height: 2.5; direction: ltr\">Biologics treatment: \n",
       "<mark class=\"entity\" style=\"background: #50ebb2; padding: 0.45em 0.6em; margin: 0 0.25em; line-height: 1; border-radius: 0.35em;\">\n",
       "    Cell-depleting agents\n",
       "    <span style=\"font-size: 0.8em; font-weight: bold; line-height: 1; border-radius: 0.35em; vertical-align: middle; margin-left: 0.5rem\">Drug</span>\n",
       "</mark>\n",
       ", eg. \n",
       "<mark class=\"entity\" style=\"background: #50ebb2; padding: 0.45em 0.6em; margin: 0 0.25em; line-height: 1; border-radius: 0.35em;\">\n",
       "    Rituximab\n",
       "    <span style=\"font-size: 0.8em; font-weight: bold; line-height: 1; border-radius: 0.35em; vertical-align: middle; margin-left: 0.5rem\">Drug</span>\n",
       "</mark>\n",
       " Drug \n",
       "<mark class=\"entity\" style=\"background: #de97f7; padding: 0.45em 0.6em; margin: 0 0.25em; line-height: 1; border-radius: 0.35em;\">\n",
       "    within 6 months before baseline\n",
       "    <span style=\"font-size: 0.8em; font-weight: bold; line-height: 1; border-radius: 0.35em; vertical-align: middle; margin-left: 0.5rem\">Temporal</span>\n",
       "</mark>\n",
       " or \n",
       "<mark class=\"entity\" style=\"background: #de97f7; padding: 0.45em 0.6em; margin: 0 0.25em; line-height: 1; border-radius: 0.35em;\">\n",
       "    until lymphocyte\n",
       "    <span style=\"font-size: 0.8em; font-weight: bold; line-height: 1; border-radius: 0.35em; vertical-align: middle; margin-left: 0.5rem\">Temporal</span>\n",
       "</mark>\n",
       " \n",
       "<mark class=\"entity\" style=\"background: #fffad4; padding: 0.45em 0.6em; margin: 0 0.25em; line-height: 1; border-radius: 0.35em;\">\n",
       "    count\n",
       "    <span style=\"font-size: 0.8em; font-weight: bold; line-height: 1; border-radius: 0.35em; vertical-align: middle; margin-left: 0.5rem\">Measurement</span>\n",
       "</mark>\n",
       " returns to \n",
       "<mark class=\"entity\" style=\"background: #de97f7; padding: 0.45em 0.6em; margin: 0 0.25em; line-height: 1; border-radius: 0.35em;\">\n",
       "    normal\n",
       "    <span style=\"font-size: 0.8em; font-weight: bold; line-height: 1; border-radius: 0.35em; vertical-align: middle; margin-left: 0.5rem\">Value</span>\n",
       "</mark>\n",
       ", Other \n",
       "<mark class=\"entity\" style=\"background: #50ebb2; padding: 0.45em 0.6em; margin: 0 0.25em; line-height: 1; border-radius: 0.35em;\">\n",
       "    biologics\n",
       "    <span style=\"font-size: 0.8em; font-weight: bold; line-height: 1; border-radius: 0.35em; vertical-align: middle; margin-left: 0.5rem\">Drug</span>\n",
       "</mark>\n",
       ": \n",
       "<mark class=\"entity\" style=\"background: #de97f7; padding: 0.45em 0.6em; margin: 0 0.25em; line-height: 1; border-radius: 0.35em;\">\n",
       "    within 5 half-lives or 16 weeks prior baseline\n",
       "    <span style=\"font-size: 0.8em; font-weight: bold; line-height: 1; border-radius: 0.35em; vertical-align: middle; margin-left: 0.5rem\">Temporal</span>\n",
       "</mark>\n",
       ".</div>"
      ],
      "text/plain": [
       "<IPython.core.display.HTML object>"
      ]
     },
     "execution_count": 56,
     "metadata": {},
     "output_type": "execute_result"
    }
   ],
   "source": [
    "sent = 'Biologics treatment: Cell-depleting agents, eg. Rituximab Drug within 6 months before baseline or until lymphocyte count returns to normal, Other biologics: within 5 half-lives or 16 weeks prior baseline.'\n",
    "\n",
    "df_ents = parse_trf_ner_output(ner(sent))\n",
    "df_ents = correct_entity_boundaries(sent, df_ents)\n",
    "df_ents = remove_entity_overlaps(df_ents)\n",
    "HTML(render_ner_as_html(sent, df_ents))"
   ]
  },
  {
   "cell_type": "code",
   "execution_count": 57,
   "metadata": {
    "scrolled": false
   },
   "outputs": [
    {
     "data": {
      "text/html": [
       "<div class=\"entities\" style=\"line-height: 2.5; direction: ltr\">\n",
       "<mark class=\"entity\" style=\"background: #ff6e70; padding: 0.45em 0.6em; margin: 0 0.25em; line-height: 1; border-radius: 0.35em;\">\n",
       "    Active hepatitis\n",
       "    <span style=\"font-size: 0.8em; font-weight: bold; line-height: 1; border-radius: 0.35em; vertical-align: middle; margin-left: 0.5rem\">Condition</span>\n",
       "</mark>\n",
       " or patients with \n",
       "<mark class=\"entity\" style=\"background: #de97f7; padding: 0.45em 0.6em; margin: 0 0.25em; line-height: 1; border-radius: 0.35em;\">\n",
       "    positive\n",
       "    <span style=\"font-size: 0.8em; font-weight: bold; line-height: 1; border-radius: 0.35em; vertical-align: middle; margin-left: 0.5rem\">Value</span>\n",
       "</mark>\n",
       " \n",
       "<mark class=\"entity\" style=\"background: #fffad4; padding: 0.45em 0.6em; margin: 0 0.25em; line-height: 1; border-radius: 0.35em;\">\n",
       "    HBsAg\n",
       "    <span style=\"font-size: 0.8em; font-weight: bold; line-height: 1; border-radius: 0.35em; vertical-align: middle; margin-left: 0.5rem\">Measurement</span>\n",
       "</mark>\n",
       ", or patients with \n",
       "<mark class=\"entity\" style=\"background: #de97f7; padding: 0.45em 0.6em; margin: 0 0.25em; line-height: 1; border-radius: 0.35em;\">\n",
       "    positive\n",
       "    <span style=\"font-size: 0.8em; font-weight: bold; line-height: 1; border-radius: 0.35em; vertical-align: middle; margin-left: 0.5rem\">Value</span>\n",
       "</mark>\n",
       " \n",
       "<mark class=\"entity\" style=\"background: #fffad4; padding: 0.45em 0.6em; margin: 0 0.25em; line-height: 1; border-radius: 0.35em;\">\n",
       "    HBcAb\n",
       "    <span style=\"font-size: 0.8em; font-weight: bold; line-height: 1; border-radius: 0.35em; vertical-align: middle; margin-left: 0.5rem\">Measurement</span>\n",
       "</mark>\n",
       " plus \n",
       "<mark class=\"entity\" style=\"background: #de97f7; padding: 0.45em 0.6em; margin: 0 0.25em; line-height: 1; border-radius: 0.35em;\">\n",
       "    positive\n",
       "    <span style=\"font-size: 0.8em; font-weight: bold; line-height: 1; border-radius: 0.35em; vertical-align: middle; margin-left: 0.5rem\">Value</span>\n",
       "</mark>\n",
       " \n",
       "<mark class=\"entity\" style=\"background: #fffad4; padding: 0.45em 0.6em; margin: 0 0.25em; line-height: 1; border-radius: 0.35em;\">\n",
       "    HBV DNA\n",
       "    <span style=\"font-size: 0.8em; font-weight: bold; line-height: 1; border-radius: 0.35em; vertical-align: middle; margin-left: 0.5rem\">Measurement</span>\n",
       "</mark>\n",
       ", or \n",
       "<mark class=\"entity\" style=\"background: #de97f7; padding: 0.45em 0.6em; margin: 0 0.25em; line-height: 1; border-radius: 0.35em;\">\n",
       "    positive\n",
       "    <span style=\"font-size: 0.8em; font-weight: bold; line-height: 1; border-radius: 0.35em; vertical-align: middle; margin-left: 0.5rem\">Value</span>\n",
       "</mark>\n",
       " \n",
       "<mark class=\"entity\" style=\"background: #fffad4; padding: 0.45em 0.6em; margin: 0 0.25em; line-height: 1; border-radius: 0.35em;\">\n",
       "    HCV antibody\n",
       "    <span style=\"font-size: 0.8em; font-weight: bold; line-height: 1; border-radius: 0.35em; vertical-align: middle; margin-left: 0.5rem\">Measurement</span>\n",
       "</mark>\n",
       " (confirmed with presence of HCV RNA if needed) \n",
       "<mark class=\"entity\" style=\"background: #de97f7; padding: 0.45em 0.6em; margin: 0 0.25em; line-height: 1; border-radius: 0.35em;\">\n",
       "    at screening\n",
       "    <span style=\"font-size: 0.8em; font-weight: bold; line-height: 1; border-radius: 0.35em; vertical-align: middle; margin-left: 0.5rem\">Temporal</span>\n",
       "</mark>\n",
       ".</div><div class=\"entities\" style=\"line-height: 2.5; direction: ltr\">\n",
       "<mark class=\"entity\" style=\"background: #de97f7; padding: 0.45em 0.6em; margin: 0 0.25em; line-height: 1; border-radius: 0.35em;\">\n",
       "    History\n",
       "    <span style=\"font-size: 0.8em; font-weight: bold; line-height: 1; border-radius: 0.35em; vertical-align: middle; margin-left: 0.5rem\">Temporal</span>\n",
       "</mark>\n",
       " of \n",
       "<mark class=\"entity\" style=\"background: #ff6e70; padding: 0.45em 0.6em; margin: 0 0.25em; line-height: 1; border-radius: 0.35em;\">\n",
       "    alcohol or drug abuse\n",
       "    <span style=\"font-size: 0.8em; font-weight: bold; line-height: 1; border-radius: 0.35em; vertical-align: middle; margin-left: 0.5rem\">Condition</span>\n",
       "</mark>\n",
       " \n",
       "<mark class=\"entity\" style=\"background: #de97f7; padding: 0.45em 0.6em; margin: 0 0.25em; line-height: 1; border-radius: 0.35em;\">\n",
       "    within 2 years of the screening visit\n",
       "    <span style=\"font-size: 0.8em; font-weight: bold; line-height: 1; border-radius: 0.35em; vertical-align: middle; margin-left: 0.5rem\">Temporal</span>\n",
       "</mark>\n",
       ".</div><div class=\"entities\" style=\"line-height: 2.5; direction: ltr\">\n",
       "<mark class=\"entity\" style=\"background: #de97f7; padding: 0.45em 0.6em; margin: 0 0.25em; line-height: 1; border-radius: 0.35em;\">\n",
       "    History\n",
       "    <span style=\"font-size: 0.8em; font-weight: bold; line-height: 1; border-radius: 0.35em; vertical-align: middle; margin-left: 0.5rem\">Temporal</span>\n",
       "</mark>\n",
       " of \n",
       "<mark class=\"entity\" style=\"background: #ff6e70; padding: 0.45em 0.6em; margin: 0 0.25em; line-height: 1; border-radius: 0.35em;\">\n",
       "    HIV infection\n",
       "    <span style=\"font-size: 0.8em; font-weight: bold; line-height: 1; border-radius: 0.35em; vertical-align: middle; margin-left: 0.5rem\">Condition</span>\n",
       "</mark>\n",
       " or \n",
       "<mark class=\"entity\" style=\"background: #de97f7; padding: 0.45em 0.6em; margin: 0 0.25em; line-height: 1; border-radius: 0.35em;\">\n",
       "    positive\n",
       "    <span style=\"font-size: 0.8em; font-weight: bold; line-height: 1; border-radius: 0.35em; vertical-align: middle; margin-left: 0.5rem\">Value</span>\n",
       "</mark>\n",
       " \n",
       "<mark class=\"entity\" style=\"background: #fffad4; padding: 0.45em 0.6em; margin: 0 0.25em; line-height: 1; border-radius: 0.35em;\">\n",
       "    HIV serology\n",
       "    <span style=\"font-size: 0.8em; font-weight: bold; line-height: 1; border-radius: 0.35em; vertical-align: middle; margin-left: 0.5rem\">Measurement</span>\n",
       "</mark>\n",
       " \n",
       "<mark class=\"entity\" style=\"background: #de97f7; padding: 0.45em 0.6em; margin: 0 0.25em; line-height: 1; border-radius: 0.35em;\">\n",
       "    at screening\n",
       "    <span style=\"font-size: 0.8em; font-weight: bold; line-height: 1; border-radius: 0.35em; vertical-align: middle; margin-left: 0.5rem\">Temporal</span>\n",
       "</mark>\n",
       ".</div><div class=\"entities\" style=\"line-height: 2.5; direction: ltr\">\n",
       "<mark class=\"entity\" style=\"background: #de97f7; padding: 0.45em 0.6em; margin: 0 0.25em; line-height: 1; border-radius: 0.35em;\">\n",
       "    History\n",
       "    <span style=\"font-size: 0.8em; font-weight: bold; line-height: 1; border-radius: 0.35em; vertical-align: middle; margin-left: 0.5rem\">Temporal</span>\n",
       "</mark>\n",
       " of \n",
       "<mark class=\"entity\" style=\"background: #ff6e70; padding: 0.45em 0.6em; margin: 0 0.25em; line-height: 1; border-radius: 0.35em;\">\n",
       "    malignancy\n",
       "    <span style=\"font-size: 0.8em; font-weight: bold; line-height: 1; border-radius: 0.35em; vertical-align: middle; margin-left: 0.5rem\">Condition</span>\n",
       "</mark>\n",
       " \n",
       "<mark class=\"entity\" style=\"background: #de97f7; padding: 0.45em 0.6em; margin: 0 0.25em; line-height: 1; border-radius: 0.35em;\">\n",
       "    within 5 years before screening\n",
       "    <span style=\"font-size: 0.8em; font-weight: bold; line-height: 1; border-radius: 0.35em; vertical-align: middle; margin-left: 0.5rem\">Temporal</span>\n",
       "</mark>\n",
       ", except \n",
       "<mark class=\"entity\" style=\"background: #de97f7; padding: 0.45em 0.6em; margin: 0 0.25em; line-height: 1; border-radius: 0.35em;\">\n",
       "    completely treated\n",
       "    <span style=\"font-size: 0.8em; font-weight: bold; line-height: 1; border-radius: 0.35em; vertical-align: middle; margin-left: 0.5rem\">Qualifier</span>\n",
       "</mark>\n",
       " \n",
       "<mark class=\"entity\" style=\"background: #ff6e70; padding: 0.45em 0.6em; margin: 0 0.25em; line-height: 1; border-radius: 0.35em;\">\n",
       "    cervix carcinoma\n",
       "    <span style=\"font-size: 0.8em; font-weight: bold; line-height: 1; border-radius: 0.35em; vertical-align: middle; margin-left: 0.5rem\">Condition</span>\n",
       "</mark>\n",
       ", \n",
       "<mark class=\"entity\" style=\"background: #de97f7; padding: 0.45em 0.6em; margin: 0 0.25em; line-height: 1; border-radius: 0.35em;\">\n",
       "    completely treated\n",
       "    <span style=\"font-size: 0.8em; font-weight: bold; line-height: 1; border-radius: 0.35em; vertical-align: middle; margin-left: 0.5rem\">Qualifier</span>\n",
       "</mark>\n",
       " and \n",
       "<mark class=\"entity\" style=\"background: #de97f7; padding: 0.45em 0.6em; margin: 0 0.25em; line-height: 1; border-radius: 0.35em;\">\n",
       "    resolved\n",
       "    <span style=\"font-size: 0.8em; font-weight: bold; line-height: 1; border-radius: 0.35em; vertical-align: middle; margin-left: 0.5rem\">Qualifier</span>\n",
       "</mark>\n",
       " \n",
       "<mark class=\"entity\" style=\"background: #de97f7; padding: 0.45em 0.6em; margin: 0 0.25em; line-height: 1; border-radius: 0.35em;\">\n",
       "    non-metastatic\n",
       "    <span style=\"font-size: 0.8em; font-weight: bold; line-height: 1; border-radius: 0.35em; vertical-align: middle; margin-left: 0.5rem\">Qualifier</span>\n",
       "</mark>\n",
       " \n",
       "<mark class=\"entity\" style=\"background: #ff6e70; padding: 0.45em 0.6em; margin: 0 0.25em; line-height: 1; border-radius: 0.35em;\">\n",
       "    squamous or basal cell carcinoma of the skin\n",
       "    <span style=\"font-size: 0.8em; font-weight: bold; line-height: 1; border-radius: 0.35em; vertical-align: middle; margin-left: 0.5rem\">Condition</span>\n",
       "</mark>\n",
       ".</div><div class=\"entities\" style=\"line-height: 2.5; direction: ltr\">\n",
       "<mark class=\"entity\" style=\"background: #ff6e70; padding: 0.45em 0.6em; margin: 0 0.25em; line-height: 1; border-radius: 0.35em;\">\n",
       "    Infection\n",
       "    <span style=\"font-size: 0.8em; font-weight: bold; line-height: 1; border-radius: 0.35em; vertical-align: middle; margin-left: 0.5rem\">Condition</span>\n",
       "</mark>\n",
       " requires \n",
       "<mark class=\"entity\" style=\"background: #50ebb2; padding: 0.45em 0.6em; margin: 0 0.25em; line-height: 1; border-radius: 0.35em;\">\n",
       "    systemic antibiotics\n",
       "    <span style=\"font-size: 0.8em; font-weight: bold; line-height: 1; border-radius: 0.35em; vertical-align: middle; margin-left: 0.5rem\">Drug</span>\n",
       "</mark>\n",
       ", \n",
       "<mark class=\"entity\" style=\"background: #50ebb2; padding: 0.45em 0.6em; margin: 0 0.25em; line-height: 1; border-radius: 0.35em;\">\n",
       "    antivirals\n",
       "    <span style=\"font-size: 0.8em; font-weight: bold; line-height: 1; border-radius: 0.35em; vertical-align: middle; margin-left: 0.5rem\">Drug</span>\n",
       "</mark>\n",
       ", \n",
       "<mark class=\"entity\" style=\"background: #50ebb2; padding: 0.45em 0.6em; margin: 0 0.25em; line-height: 1; border-radius: 0.35em;\">\n",
       "    antiparasitics\n",
       "    <span style=\"font-size: 0.8em; font-weight: bold; line-height: 1; border-radius: 0.35em; vertical-align: middle; margin-left: 0.5rem\">Drug</span>\n",
       "</mark>\n",
       ", \n",
       "<mark class=\"entity\" style=\"background: #50ebb2; padding: 0.45em 0.6em; margin: 0 0.25em; line-height: 1; border-radius: 0.35em;\">\n",
       "    antiprotozoals\n",
       "    <span style=\"font-size: 0.8em; font-weight: bold; line-height: 1; border-radius: 0.35em; vertical-align: middle; margin-left: 0.5rem\">Drug</span>\n",
       "</mark>\n",
       ", \n",
       "<mark class=\"entity\" style=\"background: #50ebb2; padding: 0.45em 0.6em; margin: 0 0.25em; line-height: 1; border-radius: 0.35em;\">\n",
       "    antifungals\n",
       "    <span style=\"font-size: 0.8em; font-weight: bold; line-height: 1; border-radius: 0.35em; vertical-align: middle; margin-left: 0.5rem\">Drug</span>\n",
       "</mark>\n",
       " \n",
       "<mark class=\"entity\" style=\"background: #84bee8; padding: 0.45em 0.6em; margin: 0 0.25em; line-height: 1; border-radius: 0.35em;\">\n",
       "    treatment\n",
       "    <span style=\"font-size: 0.8em; font-weight: bold; line-height: 1; border-radius: 0.35em; vertical-align: middle; margin-left: 0.5rem\">Procedure</span>\n",
       "</mark>\n",
       " \n",
       "<mark class=\"entity\" style=\"background: #de97f7; padding: 0.45em 0.6em; margin: 0 0.25em; line-height: 1; border-radius: 0.35em;\">\n",
       "    within 2 weeks before baseline\n",
       "    <span style=\"font-size: 0.8em; font-weight: bold; line-height: 1; border-radius: 0.35em; vertical-align: middle; margin-left: 0.5rem\">Temporal</span>\n",
       "</mark>\n",
       ", \n",
       "<mark class=\"entity\" style=\"background: #ff6e70; padding: 0.45em 0.6em; margin: 0 0.25em; line-height: 1; border-radius: 0.35em;\">\n",
       "    superficial skin infections\n",
       "    <span style=\"font-size: 0.8em; font-weight: bold; line-height: 1; border-radius: 0.35em; vertical-align: middle; margin-left: 0.5rem\">Condition</span>\n",
       "</mark>\n",
       " \n",
       "<mark class=\"entity\" style=\"background: #de97f7; padding: 0.45em 0.6em; margin: 0 0.25em; line-height: 1; border-radius: 0.35em;\">\n",
       "    within 1 week before baseline visit\n",
       "    <span style=\"font-size: 0.8em; font-weight: bold; line-height: 1; border-radius: 0.35em; vertical-align: middle; margin-left: 0.5rem\">Temporal</span>\n",
       "</mark>\n",
       ".</div><div class=\"entities\" style=\"line-height: 2.5; direction: ltr\">Initiation \n",
       "<mark class=\"entity\" style=\"background: #ff6e70; padding: 0.45em 0.6em; margin: 0 0.25em; line-height: 1; border-radius: 0.35em;\">\n",
       "    AD\n",
       "    <span style=\"font-size: 0.8em; font-weight: bold; line-height: 1; border-radius: 0.35em; vertical-align: middle; margin-left: 0.5rem\">Condition</span>\n",
       "</mark>\n",
       " \n",
       "<mark class=\"entity\" style=\"background: #84bee8; padding: 0.45em 0.6em; margin: 0 0.25em; line-height: 1; border-radius: 0.35em;\">\n",
       "    treatment\n",
       "    <span style=\"font-size: 0.8em; font-weight: bold; line-height: 1; border-radius: 0.35em; vertical-align: middle; margin-left: 0.5rem\">Procedure</span>\n",
       "</mark>\n",
       " with \n",
       "<mark class=\"entity\" style=\"background: #50ebb2; padding: 0.45em 0.6em; margin: 0 0.25em; line-height: 1; border-radius: 0.35em;\">\n",
       "    prescription moisturizers\n",
       "    <span style=\"font-size: 0.8em; font-weight: bold; line-height: 1; border-radius: 0.35em; vertical-align: middle; margin-left: 0.5rem\">Drug</span>\n",
       "</mark>\n",
       " or \n",
       "<mark class=\"entity\" style=\"background: #50ebb2; padding: 0.45em 0.6em; margin: 0 0.25em; line-height: 1; border-radius: 0.35em;\">\n",
       "    moisturizers\n",
       "    <span style=\"font-size: 0.8em; font-weight: bold; line-height: 1; border-radius: 0.35em; vertical-align: middle; margin-left: 0.5rem\">Drug</span>\n",
       "</mark>\n",
       " containing  \n",
       "<mark class=\"entity\" style=\"background: #50ebb2; padding: 0.45em 0.6em; margin: 0 0.25em; line-height: 1; border-radius: 0.35em;\">\n",
       "    additives\n",
       "    <span style=\"font-size: 0.8em; font-weight: bold; line-height: 1; border-radius: 0.35em; vertical-align: middle; margin-left: 0.5rem\">Drug</span>\n",
       "</mark>\n",
       " such as \n",
       "<mark class=\"entity\" style=\"background: #50ebb2; padding: 0.45em 0.6em; margin: 0 0.25em; line-height: 1; border-radius: 0.35em;\">\n",
       "    ceramide\n",
       "    <span style=\"font-size: 0.8em; font-weight: bold; line-height: 1; border-radius: 0.35em; vertical-align: middle; margin-left: 0.5rem\">Drug</span>\n",
       "</mark>\n",
       ", \n",
       "<mark class=\"entity\" style=\"background: #50ebb2; padding: 0.45em 0.6em; margin: 0 0.25em; line-height: 1; border-radius: 0.35em;\">\n",
       "    hyaluronic acid\n",
       "    <span style=\"font-size: 0.8em; font-weight: bold; line-height: 1; border-radius: 0.35em; vertical-align: middle; margin-left: 0.5rem\">Drug</span>\n",
       "</mark>\n",
       ", \n",
       "<mark class=\"entity\" style=\"background: #50ebb2; padding: 0.45em 0.6em; margin: 0 0.25em; line-height: 1; border-radius: 0.35em;\">\n",
       "    urea\n",
       "    <span style=\"font-size: 0.8em; font-weight: bold; line-height: 1; border-radius: 0.35em; vertical-align: middle; margin-left: 0.5rem\">Drug</span>\n",
       "</mark>\n",
       ", or \n",
       "<mark class=\"entity\" style=\"background: #50ebb2; padding: 0.45em 0.6em; margin: 0 0.25em; line-height: 1; border-radius: 0.35em;\">\n",
       "    filaggrin degradation products\n",
       "    <span style=\"font-size: 0.8em; font-weight: bold; line-height: 1; border-radius: 0.35em; vertical-align: middle; margin-left: 0.5rem\">Drug</span>\n",
       "</mark>\n",
       " \n",
       "<mark class=\"entity\" style=\"background: #de97f7; padding: 0.45em 0.6em; margin: 0 0.25em; line-height: 1; border-radius: 0.35em;\">\n",
       "    during the screening period\n",
       "    <span style=\"font-size: 0.8em; font-weight: bold; line-height: 1; border-radius: 0.35em; vertical-align: middle; margin-left: 0.5rem\">Temporal</span>\n",
       "</mark>\n",
       ".</div><div class=\"entities\" style=\"line-height: 2.5; direction: ltr\">Known or suspected \n",
       "<mark class=\"entity\" style=\"background: #de97f7; padding: 0.45em 0.6em; margin: 0 0.25em; line-height: 1; border-radius: 0.35em;\">\n",
       "    history\n",
       "    <span style=\"font-size: 0.8em; font-weight: bold; line-height: 1; border-radius: 0.35em; vertical-align: middle; margin-left: 0.5rem\">Temporal</span>\n",
       "</mark>\n",
       " of \n",
       "<mark class=\"entity\" style=\"background: #ff6e70; padding: 0.45em 0.6em; margin: 0 0.25em; line-height: 1; border-radius: 0.35em;\">\n",
       "    immunosuppression\n",
       "    <span style=\"font-size: 0.8em; font-weight: bold; line-height: 1; border-radius: 0.35em; vertical-align: middle; margin-left: 0.5rem\">Condition</span>\n",
       "</mark>\n",
       ", including \n",
       "<mark class=\"entity\" style=\"background: #de97f7; padding: 0.45em 0.6em; margin: 0 0.25em; line-height: 1; border-radius: 0.35em;\">\n",
       "    history\n",
       "    <span style=\"font-size: 0.8em; font-weight: bold; line-height: 1; border-radius: 0.35em; vertical-align: middle; margin-left: 0.5rem\">Temporal</span>\n",
       "</mark>\n",
       " of \n",
       "<mark class=\"entity\" style=\"background: #de97f7; padding: 0.45em 0.6em; margin: 0 0.25em; line-height: 1; border-radius: 0.35em;\">\n",
       "    invasive\n",
       "    <span style=\"font-size: 0.8em; font-weight: bold; line-height: 1; border-radius: 0.35em; vertical-align: middle; margin-left: 0.5rem\">Qualifier</span>\n",
       "</mark>\n",
       " \n",
       "<mark class=\"entity\" style=\"background: #ff6e70; padding: 0.45em 0.6em; margin: 0 0.25em; line-height: 1; border-radius: 0.35em;\">\n",
       "    opportunistic infections\n",
       "    <span style=\"font-size: 0.8em; font-weight: bold; line-height: 1; border-radius: 0.35em; vertical-align: middle; margin-left: 0.5rem\">Condition</span>\n",
       "</mark>\n",
       ", despite infection \n",
       "<mark class=\"entity\" style=\"background: #de97f7; padding: 0.45em 0.6em; margin: 0 0.25em; line-height: 1; border-radius: 0.35em;\">\n",
       "    resolution\n",
       "    <span style=\"font-size: 0.8em; font-weight: bold; line-height: 1; border-radius: 0.35em; vertical-align: middle; margin-left: 0.5rem\">Qualifier</span>\n",
       "</mark>\n",
       ", or unusually frequent, \n",
       "<mark class=\"entity\" style=\"background: #de97f7; padding: 0.45em 0.6em; margin: 0 0.25em; line-height: 1; border-radius: 0.35em;\">\n",
       "    recurrent\n",
       "    <span style=\"font-size: 0.8em; font-weight: bold; line-height: 1; border-radius: 0.35em; vertical-align: middle; margin-left: 0.5rem\">Qualifier</span>\n",
       "</mark>\n",
       ", or \n",
       "<mark class=\"entity\" style=\"background: #de97f7; padding: 0.45em 0.6em; margin: 0 0.25em; line-height: 1; border-radius: 0.35em;\">\n",
       "    prolonged\n",
       "    <span style=\"font-size: 0.8em; font-weight: bold; line-height: 1; border-radius: 0.35em; vertical-align: middle; margin-left: 0.5rem\">Qualifier</span>\n",
       "</mark>\n",
       " \n",
       "<mark class=\"entity\" style=\"background: #ff6e70; padding: 0.45em 0.6em; margin: 0 0.25em; line-height: 1; border-radius: 0.35em;\">\n",
       "    infections\n",
       "    <span style=\"font-size: 0.8em; font-weight: bold; line-height: 1; border-radius: 0.35em; vertical-align: middle; margin-left: 0.5rem\">Condition</span>\n",
       "</mark>\n",
       ".</div>"
      ],
      "text/plain": [
       "<IPython.core.display.HTML object>"
      ]
     },
     "execution_count": 57,
     "metadata": {},
     "output_type": "execute_result"
    }
   ],
   "source": [
    "sents = '''Active hepatitis or patients with positive HBsAg, or patients with positive HBcAb plus positive HBV DNA, or positive HCV antibody (confirmed with presence of HCV RNA if needed) at screening.\n",
    "\n",
    "History of alcohol or drug abuse within 2 years of the screening visit.\n",
    "\n",
    "History of HIV infection or positive HIV serology at screening.\n",
    "\n",
    "History of malignancy within 5 years before screening, except completely treated cervix carcinoma, completely treated and resolved non-metastatic squamous or basal cell carcinoma of the skin.\n",
    "\n",
    "Infection requires systemic antibiotics, antivirals, antiparasitics, antiprotozoals, antifungals treatment within 2 weeks before baseline, superficial skin infections within 1 week before baseline visit.\n",
    "\n",
    "Initiation AD treatment with prescription moisturizers or moisturizers containing  additives such as ceramide, hyaluronic acid, urea, or filaggrin degradation products during the screening period.\n",
    "\n",
    "Known or suspected history of immunosuppression, including history of invasive opportunistic infections, despite infection resolution, or unusually frequent, recurrent, or prolonged infections.\n",
    "'''\n",
    "df_list = []\n",
    "html = ''\n",
    "for sent in sents.split('\\n'):\n",
    "    if sent.strip():\n",
    "        ents = parse_trf_ner_output(ner(sent))\n",
    "        ents = correct_entity_boundaries(sent, ents)\n",
    "        ents = remove_entity_overlaps(ents)\n",
    "        df_list.append(ents)\n",
    "        html += render_ner_as_html(sent, ents)\n",
    "\n",
    "df_ents = pd.concat(df_list, ignore_index = True)\n",
    "HTML(html)"
   ]
  },
  {
   "cell_type": "markdown",
   "metadata": {},
   "source": [
    "[Table of content](#TOC)"
   ]
  }
 ],
 "metadata": {
  "colab": {
   "name": "Token Classification",
   "provenance": []
  },
  "kernelspec": {
   "display_name": "Python 3 (ipykernel)",
   "language": "python",
   "name": "python3"
  },
  "language_info": {
   "codemirror_mode": {
    "name": "ipython",
    "version": 3
   },
   "file_extension": ".py",
   "mimetype": "text/x-python",
   "name": "python",
   "nbconvert_exporter": "python",
   "pygments_lexer": "ipython3",
   "version": "3.8.13"
  }
 },
 "nbformat": 4,
 "nbformat_minor": 1
}
